{
 "cells": [
  {
   "cell_type": "markdown",
   "id": "7e994e42-a853-42cd-ad15-010a9df82bc7",
   "metadata": {},
   "source": [
    "# NBA Player Career Projection #\n",
    "## _DSCI 100 Group Project_ ##"
   ]
  },
  {
   "cell_type": "markdown",
   "id": "5824c64e-ea02-43b5-9d39-bd15be1546f1",
   "metadata": {},
   "source": [
    "## Introduction ## "
   ]
  },
  {
   "cell_type": "markdown",
   "id": "3e79be31-2ed5-4dc0-a55e-3eda19393380",
   "metadata": {},
   "source": [
    "Prompts:\n",
    "- Provide some relevant background information on the topic so that someone unfamiliar with it will be prepared to understand the rest of your proposal\n",
    "- Clearly state the question you will try to answer with your project\n",
    "- Identify and describe the dataset that will be used to answer the question"
   ]
  },
  {
   "cell_type": "markdown",
   "id": "891a31bb-6501-4077-ad76-0e5176c0fd50",
   "metadata": {},
   "source": [
    "Basketball is a globally renowned sport with a massive following, and the professional leagues are the pinnacle of talent and competition. Understanding player statistics is essential for team management, player evaluation, and fan engagement. The \"all_seasons\" dataset captures data that outlines the performance of basketball players across various seasons (from 1996-1997 season to 2022-2023 season). Using this dataset, our predictive question could be, for instance, how a player's attributes and performance in their rookie seasons relate to their overall career performance. The dataset encompasses several key attributes, including:\n",
    "\n",
    "- player_name\n",
    "- team_abbreviation\n",
    "- age\n",
    "- player_height\n",
    "- player_weight\n",
    "- college\n",
    "- country\n",
    "- draft_year\n",
    "- draft_round\n",
    "- points per game (pts)\n",
    "- rebounds per game (reb)\n",
    "- assists per game (ast)\n",
    "- net_rating\n",
    "- offensive rebound percentage (oreb_pct)\n",
    "- defensive rebound percentage (dreb_pct)\n",
    "- usage percentage (usg_pct)\n",
    "- true shooting percentage (ts_pct)\n",
    "- assist percentage (ast_pct)\n",
    "- season\n",
    "\n",
    "By analyzing this dataset, we aim to draw insights and patterns from past player statistics, potentially aiding in the selection, trading, and performance prediction of rookie players in future basketball seasons by estimating their potential through statistics. "
   ]
  },
  {
   "cell_type": "markdown",
   "id": "1a6b78ab-27ba-4a68-ad54-46d1e1bb32ee",
   "metadata": {},
   "source": [
    "## Preliminary exploratory data analysis ##"
   ]
  },
  {
   "cell_type": "markdown",
   "id": "7c982a85-43a6-404d-b868-e7d2ac4361ba",
   "metadata": {},
   "source": [
    "Prompts: \n",
    "- Demonstrate that the dataset can be read from the web into R \n",
    "- Clean and wrangle your data into a tidy format\n",
    "- Using only training data, summarize the data in at least one table (this is exploratory data analysis). An example of a useful table could be one that reports the number of observations in each class, the means of the predictor variables you plan to use in your analysis and how many rows have missing data. \n",
    "- Using only training data, visualize the data with at least one plot relevant to the analysis you plan to do (this is exploratory data analysis). An example of a useful visualization could be one that compares the distributions of each of the predictor variables you plan to use in your analysis."
   ]
  },
  {
   "cell_type": "markdown",
   "id": "03c6a3a5-3b25-48ea-a01a-1143eebff77e",
   "metadata": {
    "tags": []
   },
   "source": [
    "The nba data set can be read by downloading the dataset from the website (link: https://www.kaggle.com/datasets/justinas/nba-players-data/) and read into R using read_csv from the tidyverse library. We have stored it in the \"data\" folder."
   ]
  },
  {
   "cell_type": "code",
   "execution_count": 37,
   "id": "e9160efc-ccc9-46ed-89bd-e856a7c942df",
   "metadata": {
    "tags": []
   },
   "outputs": [],
   "source": [
    "# importing the tidyverse library\n",
    "library(tidyverse)"
   ]
  },
  {
   "cell_type": "code",
   "execution_count": 39,
   "id": "c9351116-9649-435d-8081-e8c30fb22c13",
   "metadata": {
    "tags": []
   },
   "outputs": [
    {
     "name": "stderr",
     "output_type": "stream",
     "text": [
      "\u001b[1m\u001b[22mNew names:\n",
      "\u001b[36m•\u001b[39m `` -> `...1`\n",
      "\u001b[1mRows: \u001b[22m\u001b[34m12844\u001b[39m \u001b[1mColumns: \u001b[22m\u001b[34m22\u001b[39m\n",
      "\u001b[36m──\u001b[39m \u001b[1mColumn specification\u001b[22m \u001b[36m────────────────────────────────────────────────────────\u001b[39m\n",
      "\u001b[1mDelimiter:\u001b[22m \",\"\n",
      "\u001b[31mchr\u001b[39m  (8): player_name, team_abbreviation, college, country, draft_year, draf...\n",
      "\u001b[32mdbl\u001b[39m (14): ...1, age, player_height, player_weight, gp, pts, reb, ast, net_ra...\n",
      "\n",
      "\u001b[36mℹ\u001b[39m Use `spec()` to retrieve the full column specification for this data.\n",
      "\u001b[36mℹ\u001b[39m Specify the column types or set `show_col_types = FALSE` to quiet this message.\n"
     ]
    },
    {
     "data": {
      "text/html": [
       "<table class=\"dataframe\">\n",
       "<caption>A tibble: 6 × 22</caption>\n",
       "<thead>\n",
       "\t<tr><th scope=col>...1</th><th scope=col>player_name</th><th scope=col>team_abbreviation</th><th scope=col>age</th><th scope=col>player_height</th><th scope=col>player_weight</th><th scope=col>college</th><th scope=col>country</th><th scope=col>draft_year</th><th scope=col>draft_round</th><th scope=col>⋯</th><th scope=col>pts</th><th scope=col>reb</th><th scope=col>ast</th><th scope=col>net_rating</th><th scope=col>oreb_pct</th><th scope=col>dreb_pct</th><th scope=col>usg_pct</th><th scope=col>ts_pct</th><th scope=col>ast_pct</th><th scope=col>season</th></tr>\n",
       "\t<tr><th scope=col>&lt;dbl&gt;</th><th scope=col>&lt;chr&gt;</th><th scope=col>&lt;chr&gt;</th><th scope=col>&lt;dbl&gt;</th><th scope=col>&lt;dbl&gt;</th><th scope=col>&lt;dbl&gt;</th><th scope=col>&lt;chr&gt;</th><th scope=col>&lt;chr&gt;</th><th scope=col>&lt;chr&gt;</th><th scope=col>&lt;chr&gt;</th><th scope=col>⋯</th><th scope=col>&lt;dbl&gt;</th><th scope=col>&lt;dbl&gt;</th><th scope=col>&lt;dbl&gt;</th><th scope=col>&lt;dbl&gt;</th><th scope=col>&lt;dbl&gt;</th><th scope=col>&lt;dbl&gt;</th><th scope=col>&lt;dbl&gt;</th><th scope=col>&lt;dbl&gt;</th><th scope=col>&lt;dbl&gt;</th><th scope=col>&lt;chr&gt;</th></tr>\n",
       "</thead>\n",
       "<tbody>\n",
       "\t<tr><td>0</td><td>Randy Livingston</td><td>HOU</td><td>22</td><td>193.04</td><td> 94.80073</td><td>Louisiana State      </td><td>USA</td><td>1996</td><td>2</td><td>⋯</td><td> 3.9</td><td>1.5</td><td>2.4</td><td>  0.3</td><td>0.042</td><td>0.071</td><td>0.169</td><td>0.487</td><td>0.248</td><td>1996-97</td></tr>\n",
       "\t<tr><td>1</td><td>Gaylon Nickerson</td><td>WAS</td><td>28</td><td>190.50</td><td> 86.18248</td><td>Northwestern Oklahoma</td><td>USA</td><td>1994</td><td>2</td><td>⋯</td><td> 3.8</td><td>1.3</td><td>0.3</td><td>  8.9</td><td>0.030</td><td>0.111</td><td>0.174</td><td>0.497</td><td>0.043</td><td>1996-97</td></tr>\n",
       "\t<tr><td>2</td><td>George Lynch    </td><td>VAN</td><td>26</td><td>203.20</td><td>103.41898</td><td>North Carolina       </td><td>USA</td><td>1993</td><td>1</td><td>⋯</td><td> 8.3</td><td>6.4</td><td>1.9</td><td> -8.2</td><td>0.106</td><td>0.185</td><td>0.175</td><td>0.512</td><td>0.125</td><td>1996-97</td></tr>\n",
       "\t<tr><td>3</td><td>George McCloud  </td><td>LAL</td><td>30</td><td>203.20</td><td>102.05820</td><td>Florida State        </td><td>USA</td><td>1989</td><td>1</td><td>⋯</td><td>10.2</td><td>2.8</td><td>1.7</td><td> -2.7</td><td>0.027</td><td>0.111</td><td>0.206</td><td>0.527</td><td>0.125</td><td>1996-97</td></tr>\n",
       "\t<tr><td>4</td><td>George Zidek    </td><td>DEN</td><td>23</td><td>213.36</td><td>119.74829</td><td>UCLA                 </td><td>USA</td><td>1995</td><td>1</td><td>⋯</td><td> 2.8</td><td>1.7</td><td>0.3</td><td>-14.1</td><td>0.102</td><td>0.169</td><td>0.195</td><td>0.500</td><td>0.064</td><td>1996-97</td></tr>\n",
       "\t<tr><td>5</td><td>Gerald Wilkins  </td><td>ORL</td><td>33</td><td>198.12</td><td>102.05820</td><td>Tennessee-Chattanooga</td><td>USA</td><td>1985</td><td>2</td><td>⋯</td><td>10.6</td><td>2.2</td><td>2.2</td><td> -5.8</td><td>0.031</td><td>0.064</td><td>0.203</td><td>0.503</td><td>0.143</td><td>1996-97</td></tr>\n",
       "</tbody>\n",
       "</table>\n"
      ],
      "text/latex": [
       "A tibble: 6 × 22\n",
       "\\begin{tabular}{lllllllllllllllllllll}\n",
       " ...1 & player\\_name & team\\_abbreviation & age & player\\_height & player\\_weight & college & country & draft\\_year & draft\\_round & ⋯ & pts & reb & ast & net\\_rating & oreb\\_pct & dreb\\_pct & usg\\_pct & ts\\_pct & ast\\_pct & season\\\\\n",
       " <dbl> & <chr> & <chr> & <dbl> & <dbl> & <dbl> & <chr> & <chr> & <chr> & <chr> & ⋯ & <dbl> & <dbl> & <dbl> & <dbl> & <dbl> & <dbl> & <dbl> & <dbl> & <dbl> & <chr>\\\\\n",
       "\\hline\n",
       "\t 0 & Randy Livingston & HOU & 22 & 193.04 &  94.80073 & Louisiana State       & USA & 1996 & 2 & ⋯ &  3.9 & 1.5 & 2.4 &   0.3 & 0.042 & 0.071 & 0.169 & 0.487 & 0.248 & 1996-97\\\\\n",
       "\t 1 & Gaylon Nickerson & WAS & 28 & 190.50 &  86.18248 & Northwestern Oklahoma & USA & 1994 & 2 & ⋯ &  3.8 & 1.3 & 0.3 &   8.9 & 0.030 & 0.111 & 0.174 & 0.497 & 0.043 & 1996-97\\\\\n",
       "\t 2 & George Lynch     & VAN & 26 & 203.20 & 103.41898 & North Carolina        & USA & 1993 & 1 & ⋯ &  8.3 & 6.4 & 1.9 &  -8.2 & 0.106 & 0.185 & 0.175 & 0.512 & 0.125 & 1996-97\\\\\n",
       "\t 3 & George McCloud   & LAL & 30 & 203.20 & 102.05820 & Florida State         & USA & 1989 & 1 & ⋯ & 10.2 & 2.8 & 1.7 &  -2.7 & 0.027 & 0.111 & 0.206 & 0.527 & 0.125 & 1996-97\\\\\n",
       "\t 4 & George Zidek     & DEN & 23 & 213.36 & 119.74829 & UCLA                  & USA & 1995 & 1 & ⋯ &  2.8 & 1.7 & 0.3 & -14.1 & 0.102 & 0.169 & 0.195 & 0.500 & 0.064 & 1996-97\\\\\n",
       "\t 5 & Gerald Wilkins   & ORL & 33 & 198.12 & 102.05820 & Tennessee-Chattanooga & USA & 1985 & 2 & ⋯ & 10.6 & 2.2 & 2.2 &  -5.8 & 0.031 & 0.064 & 0.203 & 0.503 & 0.143 & 1996-97\\\\\n",
       "\\end{tabular}\n"
      ],
      "text/markdown": [
       "\n",
       "A tibble: 6 × 22\n",
       "\n",
       "| ...1 &lt;dbl&gt; | player_name &lt;chr&gt; | team_abbreviation &lt;chr&gt; | age &lt;dbl&gt; | player_height &lt;dbl&gt; | player_weight &lt;dbl&gt; | college &lt;chr&gt; | country &lt;chr&gt; | draft_year &lt;chr&gt; | draft_round &lt;chr&gt; | ⋯ ⋯ | pts &lt;dbl&gt; | reb &lt;dbl&gt; | ast &lt;dbl&gt; | net_rating &lt;dbl&gt; | oreb_pct &lt;dbl&gt; | dreb_pct &lt;dbl&gt; | usg_pct &lt;dbl&gt; | ts_pct &lt;dbl&gt; | ast_pct &lt;dbl&gt; | season &lt;chr&gt; |\n",
       "|---|---|---|---|---|---|---|---|---|---|---|---|---|---|---|---|---|---|---|---|---|\n",
       "| 0 | Randy Livingston | HOU | 22 | 193.04 |  94.80073 | Louisiana State       | USA | 1996 | 2 | ⋯ |  3.9 | 1.5 | 2.4 |   0.3 | 0.042 | 0.071 | 0.169 | 0.487 | 0.248 | 1996-97 |\n",
       "| 1 | Gaylon Nickerson | WAS | 28 | 190.50 |  86.18248 | Northwestern Oklahoma | USA | 1994 | 2 | ⋯ |  3.8 | 1.3 | 0.3 |   8.9 | 0.030 | 0.111 | 0.174 | 0.497 | 0.043 | 1996-97 |\n",
       "| 2 | George Lynch     | VAN | 26 | 203.20 | 103.41898 | North Carolina        | USA | 1993 | 1 | ⋯ |  8.3 | 6.4 | 1.9 |  -8.2 | 0.106 | 0.185 | 0.175 | 0.512 | 0.125 | 1996-97 |\n",
       "| 3 | George McCloud   | LAL | 30 | 203.20 | 102.05820 | Florida State         | USA | 1989 | 1 | ⋯ | 10.2 | 2.8 | 1.7 |  -2.7 | 0.027 | 0.111 | 0.206 | 0.527 | 0.125 | 1996-97 |\n",
       "| 4 | George Zidek     | DEN | 23 | 213.36 | 119.74829 | UCLA                  | USA | 1995 | 1 | ⋯ |  2.8 | 1.7 | 0.3 | -14.1 | 0.102 | 0.169 | 0.195 | 0.500 | 0.064 | 1996-97 |\n",
       "| 5 | Gerald Wilkins   | ORL | 33 | 198.12 | 102.05820 | Tennessee-Chattanooga | USA | 1985 | 2 | ⋯ | 10.6 | 2.2 | 2.2 |  -5.8 | 0.031 | 0.064 | 0.203 | 0.503 | 0.143 | 1996-97 |\n",
       "\n"
      ],
      "text/plain": [
       "  ...1 player_name      team_abbreviation age player_height player_weight\n",
       "1 0    Randy Livingston HOU               22  193.04         94.80073    \n",
       "2 1    Gaylon Nickerson WAS               28  190.50         86.18248    \n",
       "3 2    George Lynch     VAN               26  203.20        103.41898    \n",
       "4 3    George McCloud   LAL               30  203.20        102.05820    \n",
       "5 4    George Zidek     DEN               23  213.36        119.74829    \n",
       "6 5    Gerald Wilkins   ORL               33  198.12        102.05820    \n",
       "  college               country draft_year draft_round ⋯ pts  reb ast\n",
       "1 Louisiana State       USA     1996       2           ⋯  3.9 1.5 2.4\n",
       "2 Northwestern Oklahoma USA     1994       2           ⋯  3.8 1.3 0.3\n",
       "3 North Carolina        USA     1993       1           ⋯  8.3 6.4 1.9\n",
       "4 Florida State         USA     1989       1           ⋯ 10.2 2.8 1.7\n",
       "5 UCLA                  USA     1995       1           ⋯  2.8 1.7 0.3\n",
       "6 Tennessee-Chattanooga USA     1985       2           ⋯ 10.6 2.2 2.2\n",
       "  net_rating oreb_pct dreb_pct usg_pct ts_pct ast_pct season \n",
       "1   0.3      0.042    0.071    0.169   0.487  0.248   1996-97\n",
       "2   8.9      0.030    0.111    0.174   0.497  0.043   1996-97\n",
       "3  -8.2      0.106    0.185    0.175   0.512  0.125   1996-97\n",
       "4  -2.7      0.027    0.111    0.206   0.527  0.125   1996-97\n",
       "5 -14.1      0.102    0.169    0.195   0.500  0.064   1996-97\n",
       "6  -5.8      0.031    0.064    0.203   0.503  0.143   1996-97"
      ]
     },
     "metadata": {},
     "output_type": "display_data"
    }
   ],
   "source": [
    "# reading the dataset in the data folder\n",
    "nba_raw <- read_csv(\"data/all_seasons.csv\")\n",
    "\n",
    "# looking at the the first 6 rows\n",
    "head(nba_raw)"
   ]
  },
  {
   "cell_type": "code",
   "execution_count": 41,
   "id": "525d9ed2-a03e-4d80-a5d1-61c8a9a861cd",
   "metadata": {
    "tags": []
   },
   "outputs": [
    {
     "data": {
      "text/html": [
       "<table class=\"dataframe\">\n",
       "<caption>A tibble: 6 × 22</caption>\n",
       "<thead>\n",
       "\t<tr><th scope=col>...1</th><th scope=col>player_name</th><th scope=col>team_abbreviation</th><th scope=col>age</th><th scope=col>player_height</th><th scope=col>player_weight</th><th scope=col>college</th><th scope=col>country</th><th scope=col>draft_year</th><th scope=col>draft_round</th><th scope=col>⋯</th><th scope=col>pts</th><th scope=col>reb</th><th scope=col>ast</th><th scope=col>net_rating</th><th scope=col>oreb_pct</th><th scope=col>dreb_pct</th><th scope=col>usg_pct</th><th scope=col>ts_pct</th><th scope=col>ast_pct</th><th scope=col>season</th></tr>\n",
       "\t<tr><th scope=col>&lt;dbl&gt;</th><th scope=col>&lt;chr&gt;</th><th scope=col>&lt;chr&gt;</th><th scope=col>&lt;dbl&gt;</th><th scope=col>&lt;dbl&gt;</th><th scope=col>&lt;dbl&gt;</th><th scope=col>&lt;chr&gt;</th><th scope=col>&lt;chr&gt;</th><th scope=col>&lt;chr&gt;</th><th scope=col>&lt;chr&gt;</th><th scope=col>⋯</th><th scope=col>&lt;dbl&gt;</th><th scope=col>&lt;dbl&gt;</th><th scope=col>&lt;dbl&gt;</th><th scope=col>&lt;dbl&gt;</th><th scope=col>&lt;dbl&gt;</th><th scope=col>&lt;dbl&gt;</th><th scope=col>&lt;dbl&gt;</th><th scope=col>&lt;dbl&gt;</th><th scope=col>&lt;dbl&gt;</th><th scope=col>&lt;chr&gt;</th></tr>\n",
       "</thead>\n",
       "<tbody>\n",
       "\t<tr><td>29</td><td>Emanual Davis   </td><td>HOU</td><td>28</td><td>195.58</td><td> 87.99685</td><td>Delaware State      </td><td>USA</td><td>Undrafted</td><td>Undrafted</td><td>⋯</td><td> 5.0</td><td>1.7</td><td>2.0</td><td>  6.6</td><td>0.011</td><td>0.098</td><td>0.144</td><td>0.565</td><td>0.191</td><td>1996-97</td></tr>\n",
       "\t<tr><td>39</td><td>Erick Strickland</td><td>DAL</td><td>23</td><td>190.50</td><td> 95.25432</td><td>Nebraska            </td><td>USA</td><td>Undrafted</td><td>Undrafted</td><td>⋯</td><td>10.6</td><td>3.2</td><td>2.4</td><td> -6.4</td><td>0.032</td><td>0.112</td><td>0.216</td><td>0.510</td><td>0.161</td><td>1996-97</td></tr>\n",
       "\t<tr><td>41</td><td>Evric Gray      </td><td>NJN</td><td>27</td><td>200.66</td><td>106.59412</td><td>Nevada-Las Vegas    </td><td>USA</td><td>Undrafted</td><td>Undrafted</td><td>⋯</td><td> 2.6</td><td>0.6</td><td>0.4</td><td> 17.5</td><td>0.026</td><td>0.049</td><td>0.192</td><td>0.388</td><td>0.065</td><td>1996-97</td></tr>\n",
       "\t<tr><td>46</td><td>Henry James     </td><td>ATL</td><td>31</td><td>203.20</td><td> 99.79024</td><td>St. Mary's (TX)     </td><td>USA</td><td>Undrafted</td><td>Undrafted</td><td>⋯</td><td> 6.7</td><td>1.5</td><td>0.4</td><td>  1.2</td><td>0.034</td><td>0.067</td><td>0.171</td><td>0.555</td><td>0.036</td><td>1996-97</td></tr>\n",
       "\t<tr><td>54</td><td>Jimmy Carruth   </td><td>MIL</td><td>27</td><td>208.28</td><td>120.20188</td><td>Virginia Tech       </td><td>USA</td><td>Undrafted</td><td>Undrafted</td><td>⋯</td><td> 1.3</td><td>1.0</td><td>0.0</td><td>-17.7</td><td>0.000</td><td>0.211</td><td>0.103</td><td>0.727</td><td>0.000</td><td>1996-97</td></tr>\n",
       "\t<tr><td>57</td><td>Joe Courtney    </td><td>SAS</td><td>27</td><td>203.20</td><td>106.59412</td><td>Southern Mississippi</td><td>USA</td><td>Undrafted</td><td>Undrafted</td><td>⋯</td><td> 2.8</td><td>1.8</td><td>0.0</td><td> -6.1</td><td>0.097</td><td>0.095</td><td>0.151</td><td>0.388</td><td>0.000</td><td>1996-97</td></tr>\n",
       "</tbody>\n",
       "</table>\n"
      ],
      "text/latex": [
       "A tibble: 6 × 22\n",
       "\\begin{tabular}{lllllllllllllllllllll}\n",
       " ...1 & player\\_name & team\\_abbreviation & age & player\\_height & player\\_weight & college & country & draft\\_year & draft\\_round & ⋯ & pts & reb & ast & net\\_rating & oreb\\_pct & dreb\\_pct & usg\\_pct & ts\\_pct & ast\\_pct & season\\\\\n",
       " <dbl> & <chr> & <chr> & <dbl> & <dbl> & <dbl> & <chr> & <chr> & <chr> & <chr> & ⋯ & <dbl> & <dbl> & <dbl> & <dbl> & <dbl> & <dbl> & <dbl> & <dbl> & <dbl> & <chr>\\\\\n",
       "\\hline\n",
       "\t 29 & Emanual Davis    & HOU & 28 & 195.58 &  87.99685 & Delaware State       & USA & Undrafted & Undrafted & ⋯ &  5.0 & 1.7 & 2.0 &   6.6 & 0.011 & 0.098 & 0.144 & 0.565 & 0.191 & 1996-97\\\\\n",
       "\t 39 & Erick Strickland & DAL & 23 & 190.50 &  95.25432 & Nebraska             & USA & Undrafted & Undrafted & ⋯ & 10.6 & 3.2 & 2.4 &  -6.4 & 0.032 & 0.112 & 0.216 & 0.510 & 0.161 & 1996-97\\\\\n",
       "\t 41 & Evric Gray       & NJN & 27 & 200.66 & 106.59412 & Nevada-Las Vegas     & USA & Undrafted & Undrafted & ⋯ &  2.6 & 0.6 & 0.4 &  17.5 & 0.026 & 0.049 & 0.192 & 0.388 & 0.065 & 1996-97\\\\\n",
       "\t 46 & Henry James      & ATL & 31 & 203.20 &  99.79024 & St. Mary's (TX)      & USA & Undrafted & Undrafted & ⋯ &  6.7 & 1.5 & 0.4 &   1.2 & 0.034 & 0.067 & 0.171 & 0.555 & 0.036 & 1996-97\\\\\n",
       "\t 54 & Jimmy Carruth    & MIL & 27 & 208.28 & 120.20188 & Virginia Tech        & USA & Undrafted & Undrafted & ⋯ &  1.3 & 1.0 & 0.0 & -17.7 & 0.000 & 0.211 & 0.103 & 0.727 & 0.000 & 1996-97\\\\\n",
       "\t 57 & Joe Courtney     & SAS & 27 & 203.20 & 106.59412 & Southern Mississippi & USA & Undrafted & Undrafted & ⋯ &  2.8 & 1.8 & 0.0 &  -6.1 & 0.097 & 0.095 & 0.151 & 0.388 & 0.000 & 1996-97\\\\\n",
       "\\end{tabular}\n"
      ],
      "text/markdown": [
       "\n",
       "A tibble: 6 × 22\n",
       "\n",
       "| ...1 &lt;dbl&gt; | player_name &lt;chr&gt; | team_abbreviation &lt;chr&gt; | age &lt;dbl&gt; | player_height &lt;dbl&gt; | player_weight &lt;dbl&gt; | college &lt;chr&gt; | country &lt;chr&gt; | draft_year &lt;chr&gt; | draft_round &lt;chr&gt; | ⋯ ⋯ | pts &lt;dbl&gt; | reb &lt;dbl&gt; | ast &lt;dbl&gt; | net_rating &lt;dbl&gt; | oreb_pct &lt;dbl&gt; | dreb_pct &lt;dbl&gt; | usg_pct &lt;dbl&gt; | ts_pct &lt;dbl&gt; | ast_pct &lt;dbl&gt; | season &lt;chr&gt; |\n",
       "|---|---|---|---|---|---|---|---|---|---|---|---|---|---|---|---|---|---|---|---|---|\n",
       "| 29 | Emanual Davis    | HOU | 28 | 195.58 |  87.99685 | Delaware State       | USA | Undrafted | Undrafted | ⋯ |  5.0 | 1.7 | 2.0 |   6.6 | 0.011 | 0.098 | 0.144 | 0.565 | 0.191 | 1996-97 |\n",
       "| 39 | Erick Strickland | DAL | 23 | 190.50 |  95.25432 | Nebraska             | USA | Undrafted | Undrafted | ⋯ | 10.6 | 3.2 | 2.4 |  -6.4 | 0.032 | 0.112 | 0.216 | 0.510 | 0.161 | 1996-97 |\n",
       "| 41 | Evric Gray       | NJN | 27 | 200.66 | 106.59412 | Nevada-Las Vegas     | USA | Undrafted | Undrafted | ⋯ |  2.6 | 0.6 | 0.4 |  17.5 | 0.026 | 0.049 | 0.192 | 0.388 | 0.065 | 1996-97 |\n",
       "| 46 | Henry James      | ATL | 31 | 203.20 |  99.79024 | St. Mary's (TX)      | USA | Undrafted | Undrafted | ⋯ |  6.7 | 1.5 | 0.4 |   1.2 | 0.034 | 0.067 | 0.171 | 0.555 | 0.036 | 1996-97 |\n",
       "| 54 | Jimmy Carruth    | MIL | 27 | 208.28 | 120.20188 | Virginia Tech        | USA | Undrafted | Undrafted | ⋯ |  1.3 | 1.0 | 0.0 | -17.7 | 0.000 | 0.211 | 0.103 | 0.727 | 0.000 | 1996-97 |\n",
       "| 57 | Joe Courtney     | SAS | 27 | 203.20 | 106.59412 | Southern Mississippi | USA | Undrafted | Undrafted | ⋯ |  2.8 | 1.8 | 0.0 |  -6.1 | 0.097 | 0.095 | 0.151 | 0.388 | 0.000 | 1996-97 |\n",
       "\n"
      ],
      "text/plain": [
       "  ...1 player_name      team_abbreviation age player_height player_weight\n",
       "1 29   Emanual Davis    HOU               28  195.58         87.99685    \n",
       "2 39   Erick Strickland DAL               23  190.50         95.25432    \n",
       "3 41   Evric Gray       NJN               27  200.66        106.59412    \n",
       "4 46   Henry James      ATL               31  203.20         99.79024    \n",
       "5 54   Jimmy Carruth    MIL               27  208.28        120.20188    \n",
       "6 57   Joe Courtney     SAS               27  203.20        106.59412    \n",
       "  college              country draft_year draft_round ⋯ pts  reb ast net_rating\n",
       "1 Delaware State       USA     Undrafted  Undrafted   ⋯  5.0 1.7 2.0   6.6     \n",
       "2 Nebraska             USA     Undrafted  Undrafted   ⋯ 10.6 3.2 2.4  -6.4     \n",
       "3 Nevada-Las Vegas     USA     Undrafted  Undrafted   ⋯  2.6 0.6 0.4  17.5     \n",
       "4 St. Mary's (TX)      USA     Undrafted  Undrafted   ⋯  6.7 1.5 0.4   1.2     \n",
       "5 Virginia Tech        USA     Undrafted  Undrafted   ⋯  1.3 1.0 0.0 -17.7     \n",
       "6 Southern Mississippi USA     Undrafted  Undrafted   ⋯  2.8 1.8 0.0  -6.1     \n",
       "  oreb_pct dreb_pct usg_pct ts_pct ast_pct season \n",
       "1 0.011    0.098    0.144   0.565  0.191   1996-97\n",
       "2 0.032    0.112    0.216   0.510  0.161   1996-97\n",
       "3 0.026    0.049    0.192   0.388  0.065   1996-97\n",
       "4 0.034    0.067    0.171   0.555  0.036   1996-97\n",
       "5 0.000    0.211    0.103   0.727  0.000   1996-97\n",
       "6 0.097    0.095    0.151   0.388  0.000   1996-97"
      ]
     },
     "metadata": {},
     "output_type": "display_data"
    }
   ],
   "source": [
    "# some values in draft_year are \"undrafted\" hence the reason why draft_year is a character column\n",
    "nba_undrafted <- filter(nba_data, draft_year == \"Undrafted\")\n",
    "head(nba_undrafted)"
   ]
  },
  {
   "cell_type": "markdown",
   "id": "5e754212-0d03-4870-8ccb-28a5d7f1da4d",
   "metadata": {},
   "source": [
    "### Data tidying ###\n",
    "Looking at the columns, we see that \"draft_year\" and \"draft_round\" are character columns, instead of numeric. Upon investigation into the data we see that this is because some players came into the NBA league undrafted and were picked up by teams through other methods, and thus are marked as \"undrafted\" under the \"draft_year\" and \"draft_round\" columns. Since we want to select and use rookie players who have only played in the 2022 season as our test data, we must filter out players who have played in more than one season and players who have only played in 2022 season. \n",
    "\n",
    "Since college, country and the team that they played for are not important for our data analysis, we will select the rest of the columns during our data processing. Additionally, to make data manipulation easier, we will also change season into a numeric value by only keeping the year the season began (ex. \"1996-1997\" into 1996)."
   ]
  },
  {
   "cell_type": "code",
   "execution_count": 57,
   "id": "1f612545-cfd0-4fdd-82de-484cc0b19791",
   "metadata": {
    "tags": []
   },
   "outputs": [
    {
     "data": {
      "text/html": [
       "<table class=\"dataframe\">\n",
       "<caption>A tibble: 6 × 18</caption>\n",
       "<thead>\n",
       "\t<tr><th scope=col>player_name</th><th scope=col>age</th><th scope=col>player_height</th><th scope=col>player_weight</th><th scope=col>draft_year</th><th scope=col>draft_round</th><th scope=col>draft_number</th><th scope=col>gp</th><th scope=col>pts</th><th scope=col>reb</th><th scope=col>ast</th><th scope=col>net_rating</th><th scope=col>oreb_pct</th><th scope=col>dreb_pct</th><th scope=col>usg_pct</th><th scope=col>ts_pct</th><th scope=col>ast_pct</th><th scope=col>season_start</th></tr>\n",
       "\t<tr><th scope=col>&lt;chr&gt;</th><th scope=col>&lt;dbl&gt;</th><th scope=col>&lt;dbl&gt;</th><th scope=col>&lt;dbl&gt;</th><th scope=col>&lt;chr&gt;</th><th scope=col>&lt;chr&gt;</th><th scope=col>&lt;chr&gt;</th><th scope=col>&lt;dbl&gt;</th><th scope=col>&lt;dbl&gt;</th><th scope=col>&lt;dbl&gt;</th><th scope=col>&lt;dbl&gt;</th><th scope=col>&lt;dbl&gt;</th><th scope=col>&lt;dbl&gt;</th><th scope=col>&lt;dbl&gt;</th><th scope=col>&lt;dbl&gt;</th><th scope=col>&lt;dbl&gt;</th><th scope=col>&lt;dbl&gt;</th><th scope=col>&lt;dbl&gt;</th></tr>\n",
       "</thead>\n",
       "<tbody>\n",
       "\t<tr><td>Randy Livingston</td><td>22</td><td>193.04</td><td> 94.80073</td><td>1996</td><td>2</td><td>42</td><td>64</td><td> 3.9</td><td>1.5</td><td>2.4</td><td>  0.3</td><td>0.042</td><td>0.071</td><td>0.169</td><td>0.487</td><td>0.248</td><td>1996</td></tr>\n",
       "\t<tr><td>Gaylon Nickerson</td><td>28</td><td>190.50</td><td> 86.18248</td><td>1994</td><td>2</td><td>34</td><td> 4</td><td> 3.8</td><td>1.3</td><td>0.3</td><td>  8.9</td><td>0.030</td><td>0.111</td><td>0.174</td><td>0.497</td><td>0.043</td><td>1996</td></tr>\n",
       "\t<tr><td>George Lynch    </td><td>26</td><td>203.20</td><td>103.41898</td><td>1993</td><td>1</td><td>12</td><td>41</td><td> 8.3</td><td>6.4</td><td>1.9</td><td> -8.2</td><td>0.106</td><td>0.185</td><td>0.175</td><td>0.512</td><td>0.125</td><td>1996</td></tr>\n",
       "\t<tr><td>George McCloud  </td><td>30</td><td>203.20</td><td>102.05820</td><td>1989</td><td>1</td><td>7 </td><td>64</td><td>10.2</td><td>2.8</td><td>1.7</td><td> -2.7</td><td>0.027</td><td>0.111</td><td>0.206</td><td>0.527</td><td>0.125</td><td>1996</td></tr>\n",
       "\t<tr><td>George Zidek    </td><td>23</td><td>213.36</td><td>119.74829</td><td>1995</td><td>1</td><td>22</td><td>52</td><td> 2.8</td><td>1.7</td><td>0.3</td><td>-14.1</td><td>0.102</td><td>0.169</td><td>0.195</td><td>0.500</td><td>0.064</td><td>1996</td></tr>\n",
       "\t<tr><td>Gerald Wilkins  </td><td>33</td><td>198.12</td><td>102.05820</td><td>1985</td><td>2</td><td>47</td><td>80</td><td>10.6</td><td>2.2</td><td>2.2</td><td> -5.8</td><td>0.031</td><td>0.064</td><td>0.203</td><td>0.503</td><td>0.143</td><td>1996</td></tr>\n",
       "</tbody>\n",
       "</table>\n"
      ],
      "text/latex": [
       "A tibble: 6 × 18\n",
       "\\begin{tabular}{llllllllllllllllll}\n",
       " player\\_name & age & player\\_height & player\\_weight & draft\\_year & draft\\_round & draft\\_number & gp & pts & reb & ast & net\\_rating & oreb\\_pct & dreb\\_pct & usg\\_pct & ts\\_pct & ast\\_pct & season\\_start\\\\\n",
       " <chr> & <dbl> & <dbl> & <dbl> & <chr> & <chr> & <chr> & <dbl> & <dbl> & <dbl> & <dbl> & <dbl> & <dbl> & <dbl> & <dbl> & <dbl> & <dbl> & <dbl>\\\\\n",
       "\\hline\n",
       "\t Randy Livingston & 22 & 193.04 &  94.80073 & 1996 & 2 & 42 & 64 &  3.9 & 1.5 & 2.4 &   0.3 & 0.042 & 0.071 & 0.169 & 0.487 & 0.248 & 1996\\\\\n",
       "\t Gaylon Nickerson & 28 & 190.50 &  86.18248 & 1994 & 2 & 34 &  4 &  3.8 & 1.3 & 0.3 &   8.9 & 0.030 & 0.111 & 0.174 & 0.497 & 0.043 & 1996\\\\\n",
       "\t George Lynch     & 26 & 203.20 & 103.41898 & 1993 & 1 & 12 & 41 &  8.3 & 6.4 & 1.9 &  -8.2 & 0.106 & 0.185 & 0.175 & 0.512 & 0.125 & 1996\\\\\n",
       "\t George McCloud   & 30 & 203.20 & 102.05820 & 1989 & 1 & 7  & 64 & 10.2 & 2.8 & 1.7 &  -2.7 & 0.027 & 0.111 & 0.206 & 0.527 & 0.125 & 1996\\\\\n",
       "\t George Zidek     & 23 & 213.36 & 119.74829 & 1995 & 1 & 22 & 52 &  2.8 & 1.7 & 0.3 & -14.1 & 0.102 & 0.169 & 0.195 & 0.500 & 0.064 & 1996\\\\\n",
       "\t Gerald Wilkins   & 33 & 198.12 & 102.05820 & 1985 & 2 & 47 & 80 & 10.6 & 2.2 & 2.2 &  -5.8 & 0.031 & 0.064 & 0.203 & 0.503 & 0.143 & 1996\\\\\n",
       "\\end{tabular}\n"
      ],
      "text/markdown": [
       "\n",
       "A tibble: 6 × 18\n",
       "\n",
       "| player_name &lt;chr&gt; | age &lt;dbl&gt; | player_height &lt;dbl&gt; | player_weight &lt;dbl&gt; | draft_year &lt;chr&gt; | draft_round &lt;chr&gt; | draft_number &lt;chr&gt; | gp &lt;dbl&gt; | pts &lt;dbl&gt; | reb &lt;dbl&gt; | ast &lt;dbl&gt; | net_rating &lt;dbl&gt; | oreb_pct &lt;dbl&gt; | dreb_pct &lt;dbl&gt; | usg_pct &lt;dbl&gt; | ts_pct &lt;dbl&gt; | ast_pct &lt;dbl&gt; | season_start &lt;dbl&gt; |\n",
       "|---|---|---|---|---|---|---|---|---|---|---|---|---|---|---|---|---|---|\n",
       "| Randy Livingston | 22 | 193.04 |  94.80073 | 1996 | 2 | 42 | 64 |  3.9 | 1.5 | 2.4 |   0.3 | 0.042 | 0.071 | 0.169 | 0.487 | 0.248 | 1996 |\n",
       "| Gaylon Nickerson | 28 | 190.50 |  86.18248 | 1994 | 2 | 34 |  4 |  3.8 | 1.3 | 0.3 |   8.9 | 0.030 | 0.111 | 0.174 | 0.497 | 0.043 | 1996 |\n",
       "| George Lynch     | 26 | 203.20 | 103.41898 | 1993 | 1 | 12 | 41 |  8.3 | 6.4 | 1.9 |  -8.2 | 0.106 | 0.185 | 0.175 | 0.512 | 0.125 | 1996 |\n",
       "| George McCloud   | 30 | 203.20 | 102.05820 | 1989 | 1 | 7  | 64 | 10.2 | 2.8 | 1.7 |  -2.7 | 0.027 | 0.111 | 0.206 | 0.527 | 0.125 | 1996 |\n",
       "| George Zidek     | 23 | 213.36 | 119.74829 | 1995 | 1 | 22 | 52 |  2.8 | 1.7 | 0.3 | -14.1 | 0.102 | 0.169 | 0.195 | 0.500 | 0.064 | 1996 |\n",
       "| Gerald Wilkins   | 33 | 198.12 | 102.05820 | 1985 | 2 | 47 | 80 | 10.6 | 2.2 | 2.2 |  -5.8 | 0.031 | 0.064 | 0.203 | 0.503 | 0.143 | 1996 |\n",
       "\n"
      ],
      "text/plain": [
       "  player_name      age player_height player_weight draft_year draft_round\n",
       "1 Randy Livingston 22  193.04         94.80073     1996       2          \n",
       "2 Gaylon Nickerson 28  190.50         86.18248     1994       2          \n",
       "3 George Lynch     26  203.20        103.41898     1993       1          \n",
       "4 George McCloud   30  203.20        102.05820     1989       1          \n",
       "5 George Zidek     23  213.36        119.74829     1995       1          \n",
       "6 Gerald Wilkins   33  198.12        102.05820     1985       2          \n",
       "  draft_number gp pts  reb ast net_rating oreb_pct dreb_pct usg_pct ts_pct\n",
       "1 42           64  3.9 1.5 2.4   0.3      0.042    0.071    0.169   0.487 \n",
       "2 34            4  3.8 1.3 0.3   8.9      0.030    0.111    0.174   0.497 \n",
       "3 12           41  8.3 6.4 1.9  -8.2      0.106    0.185    0.175   0.512 \n",
       "4 7            64 10.2 2.8 1.7  -2.7      0.027    0.111    0.206   0.527 \n",
       "5 22           52  2.8 1.7 0.3 -14.1      0.102    0.169    0.195   0.500 \n",
       "6 47           80 10.6 2.2 2.2  -5.8      0.031    0.064    0.203   0.503 \n",
       "  ast_pct season_start\n",
       "1 0.248   1996        \n",
       "2 0.043   1996        \n",
       "3 0.125   1996        \n",
       "4 0.125   1996        \n",
       "5 0.064   1996        \n",
       "6 0.143   1996        "
      ]
     },
     "metadata": {},
     "output_type": "display_data"
    }
   ],
   "source": [
    "nba_data <- nba_raw |>\n",
    "    separate(season, into = c(\"season_start\", \"season_end\"), \"-\") |>\n",
    "    mutate(season_start = as.numeric(season_start)) |>\n",
    "    select(player_name, age:player_weight, draft_year:season_start) \n",
    "head(nba_data)"
   ]
  },
  {
   "cell_type": "code",
   "execution_count": 56,
   "id": "a66ea36e-b5d3-46f0-a3b5-54a2f234b617",
   "metadata": {
    "tags": []
   },
   "outputs": [],
   "source": [
    "# separating data into training data (excludes rookies) and test data (includes rookies)"
   ]
  },
  {
   "cell_type": "markdown",
   "id": "ec9ef939-dbce-4edc-a3aa-ac805652f343",
   "metadata": {},
   "source": [
    "## Methods ##"
   ]
  },
  {
   "cell_type": "markdown",
   "id": "260cae79-3e67-474a-b92e-7e2a9e0b6b26",
   "metadata": {},
   "source": [
    "Prompts \n",
    "- Explain how you will conduct either your data analysis and which variables/columns you will use. Note - you do not need to use all variables/columns that exist in the raw data set. In fact, that's often not a good idea. For each variable think: is this a useful variable for prediction?\n",
    "\n",
    "- Describe at least one way that you will visualize the results"
   ]
  },
  {
   "cell_type": "markdown",
   "id": "be2f7f6c-d3ef-4a58-9b9d-27f46bc7a719",
   "metadata": {},
   "source": [
    "Response\n",
    "\n",
    "- To conduct our experiment, we will use the knn regression model using the columns pts (points per game) , gp (games played), height (cm), weight (kg), usg% (usage percentage) and ts% (true shooting percentage) as predictors since these factors are likely to have a significant influence on the total number of points scored over a career. Using these, predictors, we will find the projected number of points a player will score based on the average of its K nearest neighbors where the K value will be determined through evaluation and tuning.\n",
    "\n",
    "- We will use scatter plots, with a regression line to visualize the data and results as it will give a clear view on the K nearest neighbors to the point on a line."
   ]
  },
  {
   "cell_type": "markdown",
   "id": "34d1f474-95fa-4d1b-bd43-7a81e279a7cc",
   "metadata": {},
   "source": [
    "## Expected outcomes and significance ##"
   ]
  },
  {
   "cell_type": "markdown",
   "id": "1805f221-8be3-4c55-92e2-b0b3de2992b7",
   "metadata": {
    "tags": []
   },
   "source": [
    "Prompts \n",
    "- What do you expect to find?\n",
    "\n",
    "- What impact could such findings have?\n",
    "\n",
    "- What future questions could this lead to?\n",
    "\n"
   ]
  },
  {
   "cell_type": "markdown",
   "id": "f9eabae1-f823-47b7-ba3c-35c8c0bad0bb",
   "metadata": {
    "tags": []
   },
   "source": [
    "Response\n",
    "- We are trying to find the total score that a player may get at the end of his career based on other players' previous performance including scores, rebounds, assists and their weights. \n",
    "\n",
    "- NBA teams could use this predicted score to identify a player whether the player has potential or not. Also, it is a useful index for teams to adjust their team members.\n",
    "\n",
    "- This prediction model may not perfect enough to reflect the true skills that a player owns. It is because we need to include other factors. For instance, the playing styles of players and their cooperation skills. An important playing style usually results in different results of a game. Therefore, the cooperation between players is a key factor to determine whether the team would win."
   ]
  },
  {
   "cell_type": "code",
   "execution_count": null,
   "id": "9a25de52-8361-4b8c-bae2-7616a99fd27b",
   "metadata": {},
   "outputs": [],
   "source": []
  }
 ],
 "metadata": {
  "kernelspec": {
   "display_name": "Python 3 (ipykernel)",
   "language": "python",
   "name": "python3"
  },
  "language_info": {
   "codemirror_mode": {
    "name": "ipython",
    "version": 3
   },
   "file_extension": ".py",
   "mimetype": "text/x-python",
   "name": "python",
   "nbconvert_exporter": "python",
   "pygments_lexer": "ipython3",
   "version": "3.10.8"
  },
  "widgets": {
   "application/vnd.jupyter.widget-state+json": {
    "state": {},
    "version_major": 2,
    "version_minor": 0
   }
  }
 },
 "nbformat": 4,
 "nbformat_minor": 5
}
