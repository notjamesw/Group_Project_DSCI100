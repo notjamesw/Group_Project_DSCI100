{
 "cells": [
  {
   "cell_type": "markdown",
   "id": "7e994e42-a853-42cd-ad15-010a9df82bc7",
   "metadata": {},
   "source": [
    "# NBA Player Career Projection #\n",
    "## _DSCI 100 Group Project_ ##"
   ]
  },
  {
   "cell_type": "markdown",
   "id": "5824c64e-ea02-43b5-9d39-bd15be1546f1",
   "metadata": {},
   "source": [
    "## Introduction ## "
   ]
  },
  {
   "cell_type": "markdown",
   "id": "3e79be31-2ed5-4dc0-a55e-3eda19393380",
   "metadata": {},
   "source": [
    "Prompts: (Section for Raj, delete this markdown section when done)\n",
    "- Provide some relevant background information on the topic so that someone unfamiliar with it will be prepared to understand the rest of your proposal\n",
    "- Clearly state the question you will try to answer with your project\n",
    "- Identify and describe the dataset that will be used to answer the question"
   ]
  },
  {
   "cell_type": "markdown",
   "id": "891a31bb-6501-4077-ad76-0e5176c0fd50",
   "metadata": {},
   "source": [
    "\n",
    "Basketball is a globally renowned sport with a massive following, and the professional leagues are the pinnacle of talent and competition. Understanding player statistics is essential for team management, player evaluation, and fan engagement. The \"all_seasons\" dataset captures data that outlines the performance of basketball players across various seasons. Using this dataset, our predictive question could be, for instance, how a player's attributes relate to their on-court performance? The dataset encompasses several key attributes, including:\n",
    "\n",
    "- player_name\n",
    "- team_abbreviation\n",
    "- age\n",
    "- player_height\n",
    "- player_weight\n",
    "- college\n",
    "- country\n",
    "- draft_year\n",
    "- draft_round\n",
    "- points per game (pts)\n",
    "- rebounds per game (reb)\n",
    "- assists per game (ast)\n",
    "- net_rating\n",
    "- offensive rebound percentage (oreb_pct)\n",
    "- defensive rebound percentage (dreb_pct)\n",
    "- usage percentage (usg_pct)\n",
    "- true shooting percentage (ts_pct)\n",
    "- assist percentage (ast_pct)\n",
    "- season\n",
    "\n",
    "By analyzing this dataset, we aim to draw insights and patterns from player statistics, potentially aiding in the selection, trading, and performance prediction of players in various basketball seasons."
   ]
  },
  {
   "cell_type": "markdown",
   "id": "1a6b78ab-27ba-4a68-ad54-46d1e1bb32ee",
   "metadata": {},
   "source": [
    "## Preliminary exploratory data analysis ##"
   ]
  },
  {
   "cell_type": "markdown",
   "id": "7c982a85-43a6-404d-b868-e7d2ac4361ba",
   "metadata": {},
   "source": [
    "Prompts: (Section for James, delete this markdown section when done)\n",
    "- Demonstrate that the dataset can be read from the web into R \n",
    "- Clean and wrangle your data into a tidy format\n",
    "- Using only training data, summarize the data in at least one table (this is exploratory data analysis). An example of a useful table could be one that reports the number of observations in each class, the means of the predictor variables you plan to use in your analysis and how many rows have missing data. \n",
    "- Using only training data, visualize the data with at least one plot relevant to the analysis you plan to do (this is exploratory data analysis). An example of a useful visualization could be one that compares the distributions of each of the predictor variables you plan to use in your analysis."
   ]
  },
  {
   "cell_type": "markdown",
   "id": "03c6a3a5-3b25-48ea-a01a-1143eebff77e",
   "metadata": {
    "tags": []
   },
   "source": [
    "(Start your response here)"
   ]
  },
  {
   "cell_type": "markdown",
   "id": "ec9ef939-dbce-4edc-a3aa-ac805652f343",
   "metadata": {},
   "source": [
    "## Methods ##"
   ]
  },
  {
   "cell_type": "markdown",
   "id": "260cae79-3e67-474a-b92e-7e2a9e0b6b26",
   "metadata": {},
   "source": [
    "Prompts (Section for Kaichi, delete when done)\n",
    "- Explain how you will conduct either your data analysis and which variables/columns you will use. Note - you do not need to use all variables/columns that exist in the raw data set. In fact, that's often not a good idea. For each variable think: is this a useful variable for prediction?\n",
    "- Describe at least one way that you will visualize the results"
   ]
  },
  {
   "cell_type": "markdown",
   "id": "be2f7f6c-d3ef-4a58-9b9d-27f46bc7a719",
   "metadata": {},
   "source": [
    "(Start your response here)"
   ]
  },
  {
   "cell_type": "markdown",
   "id": "34d1f474-95fa-4d1b-bd43-7a81e279a7cc",
   "metadata": {},
   "source": [
    "## Expected outcomes and significance ##"
   ]
  },
  {
   "cell_type": "markdown",
   "id": "1805f221-8be3-4c55-92e2-b0b3de2992b7",
   "metadata": {
    "tags": []
   },
   "source": [
    "Prompts (Section for Allen, delete when done)\n",
    "- What do you expect to find?\n",
    "\n",
    "- What impact could such findings have?\n",
    "\n",
    "- What future questions could this lead to?\n",
    "\n"
   ]
  },
  {
   "cell_type": "markdown",
   "id": "f9eabae1-f823-47b7-ba3c-35c8c0bad0bb",
   "metadata": {
    "tags": []
   },
   "source": [
    "(Start your response here)\n",
    "\n",
    "-We are trying to find the total score that a player may get at the end of his career based on other players' previous performance including scores, rebounds, assists and their weights. \n",
    "\n",
    "-NBA teams could use this predicted score to identify a player whether he is potential or not. Also, it is a useful index for teams to adjust their team members.\n",
    "\n",
    "-This prediction model may not perfect enough to reflect the true skills that a player owns. It is because we need to include other factors. For instance, the playing styles of players and their cooperation skills. An important playing style usually results in different results of a game. Therefore, the cooperation between players is a key factor to determine whether the team would win."
   ]
  },
  {
   "cell_type": "code",
   "execution_count": null,
   "id": "9a25de52-8361-4b8c-bae2-7616a99fd27b",
   "metadata": {},
   "outputs": [],
   "source": []
  }
 ],
 "metadata": {
  "kernelspec": {
   "display_name": "Python 3 (ipykernel)",
   "language": "python",
   "name": "python3"
  },
  "language_info": {
   "codemirror_mode": {
    "name": "ipython",
    "version": 3
   },
   "file_extension": ".py",
   "mimetype": "text/x-python",
   "name": "python",
   "nbconvert_exporter": "python",
   "pygments_lexer": "ipython3",
   "version": "3.10.8"
  },
  "widgets": {
   "application/vnd.jupyter.widget-state+json": {
    "state": {},
    "version_major": 2,
    "version_minor": 0
   }
  }
 },
 "nbformat": 4,
 "nbformat_minor": 5
}
