{
 "cells": [
  {
   "cell_type": "markdown",
   "id": "7e994e42-a853-42cd-ad15-010a9df82bc7",
   "metadata": {},
   "source": [
    "# NBA Player Career Projection #\n",
    "## _DSCI 100 Group Project_ ##"
   ]
  },
  {
   "cell_type": "markdown",
   "id": "5824c64e-ea02-43b5-9d39-bd15be1546f1",
   "metadata": {},
   "source": [
    "## Introduction ## "
   ]
  },
  {
   "cell_type": "markdown",
   "id": "3e79be31-2ed5-4dc0-a55e-3eda19393380",
   "metadata": {},
   "source": [
    "Prompts: (Section for Raj, delete this markdown section when done)\n",
    "- Provide some relevant background information on the topic so that someone unfamiliar with it will be prepared to understand the rest of your proposal\n",
    "- Clearly state the question you will try to answer with your project\n",
    "- Identify and describe the dataset that will be used to answer the question"
   ]
  },
  {
   "cell_type": "markdown",
   "id": "891a31bb-6501-4077-ad76-0e5176c0fd50",
   "metadata": {},
   "source": [
    "Basketball is a globally renowned sport with a massive following, and the professional leagues are the pinnacle of talent and competition. Understanding player statistics is essential for team management, player evaluation, and fan engagement. The \"all_seasons\" dataset captures data that outlines the performance of basketball players across various seasons (from 1996-1997 season to 2022-2023 season). Using this dataset, our predictive question could be, for instance, how a player's attributes and performance in their rookie seasons relate to their overall career performance. The dataset encompasses several key attributes, including:\n",
    "\n",
    "- player_name\n",
    "- team_abbreviation\n",
    "- age\n",
    "- player_height\n",
    "- player_weight\n",
    "- college\n",
    "- country\n",
    "- draft_year\n",
    "- draft_round\n",
    "- points per game (pts)\n",
    "- rebounds per game (reb)\n",
    "- assists per game (ast)\n",
    "- net_rating\n",
    "- offensive rebound percentage (oreb_pct)\n",
    "- defensive rebound percentage (dreb_pct)\n",
    "- usage percentage (usg_pct)\n",
    "- true shooting percentage (ts_pct)\n",
    "- assist percentage (ast_pct)\n",
    "- season\n",
    "\n",
    "By analyzing this dataset, we aim to draw insights and patterns from past player statistics, potentially aiding in the selection, trading, and performance prediction of rookie players in future basketball seasons by estimating their potential through statistics. "
   ]
  },
  {
   "cell_type": "markdown",
   "id": "1a6b78ab-27ba-4a68-ad54-46d1e1bb32ee",
   "metadata": {},
   "source": [
    "## Preliminary exploratory data analysis ##"
   ]
  },
  {
   "cell_type": "markdown",
   "id": "7c982a85-43a6-404d-b868-e7d2ac4361ba",
   "metadata": {},
   "source": [
    "Prompts: (Section for James, delete this markdown section when done)\n",
    "- Demonstrate that the dataset can be read from the web into R \n",
    "- Clean and wrangle your data into a tidy format\n",
    "- Using only training data, summarize the data in at least one table (this is exploratory data analysis). An example of a useful table could be one that reports the number of observations in each class, the means of the predictor variables you plan to use in your analysis and how many rows have missing data. \n",
    "- Using only training data, visualize the data with at least one plot relevant to the analysis you plan to do (this is exploratory data analysis). An example of a useful visualization could be one that compares the distributions of each of the predictor variables you plan to use in your analysis."
   ]
  },
  {
   "cell_type": "markdown",
   "id": "03c6a3a5-3b25-48ea-a01a-1143eebff77e",
   "metadata": {
    "tags": []
   },
   "source": [
    "The nba data set can be read by downloading the dataset from the website (link: https://www.kaggle.com/datasets/justinas/nba-players-data/) and read into R using read_csv from the tidyverse library."
   ]
  },
  {
   "cell_type": "code",
   "execution_count": 37,
   "id": "e9160efc-ccc9-46ed-89bd-e856a7c942df",
   "metadata": {
    "tags": []
   },
   "outputs": [],
   "source": [
    "# importing the tidyverse library\n",
    "library(tidyverse)"
   ]
  },
  {
   "cell_type": "code",
   "execution_count": 38,
   "id": "c9351116-9649-435d-8081-e8c30fb22c13",
   "metadata": {
    "tags": []
   },
   "outputs": [
    {
     "name": "stderr",
     "output_type": "stream",
     "text": [
      "\u001b[1m\u001b[22mNew names:\n",
      "\u001b[36m•\u001b[39m `` -> `...1`\n",
      "\u001b[1mRows: \u001b[22m\u001b[34m12844\u001b[39m \u001b[1mColumns: \u001b[22m\u001b[34m22\u001b[39m\n",
      "\u001b[36m──\u001b[39m \u001b[1mColumn specification\u001b[22m \u001b[36m────────────────────────────────────────────────────────\u001b[39m\n",
      "\u001b[1mDelimiter:\u001b[22m \",\"\n",
      "\u001b[31mchr\u001b[39m  (8): player_name, team_abbreviation, college, country, draft_year, draf...\n",
      "\u001b[32mdbl\u001b[39m (14): ...1, age, player_height, player_weight, gp, pts, reb, ast, net_ra...\n",
      "\n",
      "\u001b[36mℹ\u001b[39m Use `spec()` to retrieve the full column specification for this data.\n",
      "\u001b[36mℹ\u001b[39m Specify the column types or set `show_col_types = FALSE` to quiet this message.\n"
     ]
    },
    {
     "data": {
      "text/html": [
       "<table class=\"dataframe\">\n",
       "<caption>A tibble: 6 × 22</caption>\n",
       "<thead>\n",
       "\t<tr><th scope=col>...1</th><th scope=col>player_name</th><th scope=col>team_abbreviation</th><th scope=col>age</th><th scope=col>player_height</th><th scope=col>player_weight</th><th scope=col>college</th><th scope=col>country</th><th scope=col>draft_year</th><th scope=col>draft_round</th><th scope=col>⋯</th><th scope=col>pts</th><th scope=col>reb</th><th scope=col>ast</th><th scope=col>net_rating</th><th scope=col>oreb_pct</th><th scope=col>dreb_pct</th><th scope=col>usg_pct</th><th scope=col>ts_pct</th><th scope=col>ast_pct</th><th scope=col>season</th></tr>\n",
       "\t<tr><th scope=col>&lt;dbl&gt;</th><th scope=col>&lt;chr&gt;</th><th scope=col>&lt;chr&gt;</th><th scope=col>&lt;dbl&gt;</th><th scope=col>&lt;dbl&gt;</th><th scope=col>&lt;dbl&gt;</th><th scope=col>&lt;chr&gt;</th><th scope=col>&lt;chr&gt;</th><th scope=col>&lt;chr&gt;</th><th scope=col>&lt;chr&gt;</th><th scope=col>⋯</th><th scope=col>&lt;dbl&gt;</th><th scope=col>&lt;dbl&gt;</th><th scope=col>&lt;dbl&gt;</th><th scope=col>&lt;dbl&gt;</th><th scope=col>&lt;dbl&gt;</th><th scope=col>&lt;dbl&gt;</th><th scope=col>&lt;dbl&gt;</th><th scope=col>&lt;dbl&gt;</th><th scope=col>&lt;dbl&gt;</th><th scope=col>&lt;chr&gt;</th></tr>\n",
       "</thead>\n",
       "<tbody>\n",
       "\t<tr><td>0</td><td>Randy Livingston</td><td>HOU</td><td>22</td><td>193.04</td><td> 94.80073</td><td>Louisiana State      </td><td>USA</td><td>1996</td><td>2</td><td>⋯</td><td> 3.9</td><td>1.5</td><td>2.4</td><td>  0.3</td><td>0.042</td><td>0.071</td><td>0.169</td><td>0.487</td><td>0.248</td><td>1996-97</td></tr>\n",
       "\t<tr><td>1</td><td>Gaylon Nickerson</td><td>WAS</td><td>28</td><td>190.50</td><td> 86.18248</td><td>Northwestern Oklahoma</td><td>USA</td><td>1994</td><td>2</td><td>⋯</td><td> 3.8</td><td>1.3</td><td>0.3</td><td>  8.9</td><td>0.030</td><td>0.111</td><td>0.174</td><td>0.497</td><td>0.043</td><td>1996-97</td></tr>\n",
       "\t<tr><td>2</td><td>George Lynch    </td><td>VAN</td><td>26</td><td>203.20</td><td>103.41898</td><td>North Carolina       </td><td>USA</td><td>1993</td><td>1</td><td>⋯</td><td> 8.3</td><td>6.4</td><td>1.9</td><td> -8.2</td><td>0.106</td><td>0.185</td><td>0.175</td><td>0.512</td><td>0.125</td><td>1996-97</td></tr>\n",
       "\t<tr><td>3</td><td>George McCloud  </td><td>LAL</td><td>30</td><td>203.20</td><td>102.05820</td><td>Florida State        </td><td>USA</td><td>1989</td><td>1</td><td>⋯</td><td>10.2</td><td>2.8</td><td>1.7</td><td> -2.7</td><td>0.027</td><td>0.111</td><td>0.206</td><td>0.527</td><td>0.125</td><td>1996-97</td></tr>\n",
       "\t<tr><td>4</td><td>George Zidek    </td><td>DEN</td><td>23</td><td>213.36</td><td>119.74829</td><td>UCLA                 </td><td>USA</td><td>1995</td><td>1</td><td>⋯</td><td> 2.8</td><td>1.7</td><td>0.3</td><td>-14.1</td><td>0.102</td><td>0.169</td><td>0.195</td><td>0.500</td><td>0.064</td><td>1996-97</td></tr>\n",
       "\t<tr><td>5</td><td>Gerald Wilkins  </td><td>ORL</td><td>33</td><td>198.12</td><td>102.05820</td><td>Tennessee-Chattanooga</td><td>USA</td><td>1985</td><td>2</td><td>⋯</td><td>10.6</td><td>2.2</td><td>2.2</td><td> -5.8</td><td>0.031</td><td>0.064</td><td>0.203</td><td>0.503</td><td>0.143</td><td>1996-97</td></tr>\n",
       "</tbody>\n",
       "</table>\n"
      ],
      "text/latex": [
       "A tibble: 6 × 22\n",
       "\\begin{tabular}{lllllllllllllllllllll}\n",
       " ...1 & player\\_name & team\\_abbreviation & age & player\\_height & player\\_weight & college & country & draft\\_year & draft\\_round & ⋯ & pts & reb & ast & net\\_rating & oreb\\_pct & dreb\\_pct & usg\\_pct & ts\\_pct & ast\\_pct & season\\\\\n",
       " <dbl> & <chr> & <chr> & <dbl> & <dbl> & <dbl> & <chr> & <chr> & <chr> & <chr> & ⋯ & <dbl> & <dbl> & <dbl> & <dbl> & <dbl> & <dbl> & <dbl> & <dbl> & <dbl> & <chr>\\\\\n",
       "\\hline\n",
       "\t 0 & Randy Livingston & HOU & 22 & 193.04 &  94.80073 & Louisiana State       & USA & 1996 & 2 & ⋯ &  3.9 & 1.5 & 2.4 &   0.3 & 0.042 & 0.071 & 0.169 & 0.487 & 0.248 & 1996-97\\\\\n",
       "\t 1 & Gaylon Nickerson & WAS & 28 & 190.50 &  86.18248 & Northwestern Oklahoma & USA & 1994 & 2 & ⋯ &  3.8 & 1.3 & 0.3 &   8.9 & 0.030 & 0.111 & 0.174 & 0.497 & 0.043 & 1996-97\\\\\n",
       "\t 2 & George Lynch     & VAN & 26 & 203.20 & 103.41898 & North Carolina        & USA & 1993 & 1 & ⋯ &  8.3 & 6.4 & 1.9 &  -8.2 & 0.106 & 0.185 & 0.175 & 0.512 & 0.125 & 1996-97\\\\\n",
       "\t 3 & George McCloud   & LAL & 30 & 203.20 & 102.05820 & Florida State         & USA & 1989 & 1 & ⋯ & 10.2 & 2.8 & 1.7 &  -2.7 & 0.027 & 0.111 & 0.206 & 0.527 & 0.125 & 1996-97\\\\\n",
       "\t 4 & George Zidek     & DEN & 23 & 213.36 & 119.74829 & UCLA                  & USA & 1995 & 1 & ⋯ &  2.8 & 1.7 & 0.3 & -14.1 & 0.102 & 0.169 & 0.195 & 0.500 & 0.064 & 1996-97\\\\\n",
       "\t 5 & Gerald Wilkins   & ORL & 33 & 198.12 & 102.05820 & Tennessee-Chattanooga & USA & 1985 & 2 & ⋯ & 10.6 & 2.2 & 2.2 &  -5.8 & 0.031 & 0.064 & 0.203 & 0.503 & 0.143 & 1996-97\\\\\n",
       "\\end{tabular}\n"
      ],
      "text/markdown": [
       "\n",
       "A tibble: 6 × 22\n",
       "\n",
       "| ...1 &lt;dbl&gt; | player_name &lt;chr&gt; | team_abbreviation &lt;chr&gt; | age &lt;dbl&gt; | player_height &lt;dbl&gt; | player_weight &lt;dbl&gt; | college &lt;chr&gt; | country &lt;chr&gt; | draft_year &lt;chr&gt; | draft_round &lt;chr&gt; | ⋯ ⋯ | pts &lt;dbl&gt; | reb &lt;dbl&gt; | ast &lt;dbl&gt; | net_rating &lt;dbl&gt; | oreb_pct &lt;dbl&gt; | dreb_pct &lt;dbl&gt; | usg_pct &lt;dbl&gt; | ts_pct &lt;dbl&gt; | ast_pct &lt;dbl&gt; | season &lt;chr&gt; |\n",
       "|---|---|---|---|---|---|---|---|---|---|---|---|---|---|---|---|---|---|---|---|---|\n",
       "| 0 | Randy Livingston | HOU | 22 | 193.04 |  94.80073 | Louisiana State       | USA | 1996 | 2 | ⋯ |  3.9 | 1.5 | 2.4 |   0.3 | 0.042 | 0.071 | 0.169 | 0.487 | 0.248 | 1996-97 |\n",
       "| 1 | Gaylon Nickerson | WAS | 28 | 190.50 |  86.18248 | Northwestern Oklahoma | USA | 1994 | 2 | ⋯ |  3.8 | 1.3 | 0.3 |   8.9 | 0.030 | 0.111 | 0.174 | 0.497 | 0.043 | 1996-97 |\n",
       "| 2 | George Lynch     | VAN | 26 | 203.20 | 103.41898 | North Carolina        | USA | 1993 | 1 | ⋯ |  8.3 | 6.4 | 1.9 |  -8.2 | 0.106 | 0.185 | 0.175 | 0.512 | 0.125 | 1996-97 |\n",
       "| 3 | George McCloud   | LAL | 30 | 203.20 | 102.05820 | Florida State         | USA | 1989 | 1 | ⋯ | 10.2 | 2.8 | 1.7 |  -2.7 | 0.027 | 0.111 | 0.206 | 0.527 | 0.125 | 1996-97 |\n",
       "| 4 | George Zidek     | DEN | 23 | 213.36 | 119.74829 | UCLA                  | USA | 1995 | 1 | ⋯ |  2.8 | 1.7 | 0.3 | -14.1 | 0.102 | 0.169 | 0.195 | 0.500 | 0.064 | 1996-97 |\n",
       "| 5 | Gerald Wilkins   | ORL | 33 | 198.12 | 102.05820 | Tennessee-Chattanooga | USA | 1985 | 2 | ⋯ | 10.6 | 2.2 | 2.2 |  -5.8 | 0.031 | 0.064 | 0.203 | 0.503 | 0.143 | 1996-97 |\n",
       "\n"
      ],
      "text/plain": [
       "  ...1 player_name      team_abbreviation age player_height player_weight\n",
       "1 0    Randy Livingston HOU               22  193.04         94.80073    \n",
       "2 1    Gaylon Nickerson WAS               28  190.50         86.18248    \n",
       "3 2    George Lynch     VAN               26  203.20        103.41898    \n",
       "4 3    George McCloud   LAL               30  203.20        102.05820    \n",
       "5 4    George Zidek     DEN               23  213.36        119.74829    \n",
       "6 5    Gerald Wilkins   ORL               33  198.12        102.05820    \n",
       "  college               country draft_year draft_round ⋯ pts  reb ast\n",
       "1 Louisiana State       USA     1996       2           ⋯  3.9 1.5 2.4\n",
       "2 Northwestern Oklahoma USA     1994       2           ⋯  3.8 1.3 0.3\n",
       "3 North Carolina        USA     1993       1           ⋯  8.3 6.4 1.9\n",
       "4 Florida State         USA     1989       1           ⋯ 10.2 2.8 1.7\n",
       "5 UCLA                  USA     1995       1           ⋯  2.8 1.7 0.3\n",
       "6 Tennessee-Chattanooga USA     1985       2           ⋯ 10.6 2.2 2.2\n",
       "  net_rating oreb_pct dreb_pct usg_pct ts_pct ast_pct season \n",
       "1   0.3      0.042    0.071    0.169   0.487  0.248   1996-97\n",
       "2   8.9      0.030    0.111    0.174   0.497  0.043   1996-97\n",
       "3  -8.2      0.106    0.185    0.175   0.512  0.125   1996-97\n",
       "4  -2.7      0.027    0.111    0.206   0.527  0.125   1996-97\n",
       "5 -14.1      0.102    0.169    0.195   0.500  0.064   1996-97\n",
       "6  -5.8      0.031    0.064    0.203   0.503  0.143   1996-97"
      ]
     },
     "metadata": {},
     "output_type": "display_data"
    }
   ],
   "source": [
    "# reading the dataset in the data folder\n",
    "nba_data <- read_csv(\"data/all_seasons.csv\")\n",
    "\n",
    "# looking at the the first 6 rows\n",
    "head(nba_data)"
   ]
  },
  {
   "cell_type": "markdown",
   "id": "5e754212-0d03-4870-8ccb-28a5d7f1da4d",
   "metadata": {},
   "source": [
    "### Data tidying ###\n",
    "Looking at the columns, we see that \"draft_year\" and \"draft_round\" are character columns, instead of numeric. Upon investigation into the data we see that this is because some players came into the NBA league undrafted and were picked up by teams through other methods, and thus are marked as \"undrafted\" under the \"draft_year\" and \"draft_round\" columns. Since we want to select and use rookie players who have only played in the 2022 season as our test data, we must filter out players who have played in more than one season and players who have only played in 2022 season. \n",
    "\n",
    "Since college, country and the team that they played for are not important for our data analysis, we will select the rest of the columns during our data processing. Additionally, to make data manipulation easier, we will also change season into a numeric value by only keeping the year the season began (ex. \"1996-1997\" into 1996)."
   ]
  },
  {
   "cell_type": "markdown",
   "id": "ec9ef939-dbce-4edc-a3aa-ac805652f343",
   "metadata": {},
   "source": [
    "## Methods ##"
   ]
  },
  {
   "cell_type": "markdown",
   "id": "260cae79-3e67-474a-b92e-7e2a9e0b6b26",
   "metadata": {},
   "source": [
    "Prompts \n",
    "- Explain how you will conduct either your data analysis and which variables/columns you will use. Note - you do not need to use all variables/columns that exist in the raw data set. In fact, that's often not a good idea. For each variable think: is this a useful variable for prediction?\n",
    "\n",
    "- Describe at least one way that you will visualize the results"
   ]
  },
  {
   "cell_type": "markdown",
   "id": "be2f7f6c-d3ef-4a58-9b9d-27f46bc7a719",
   "metadata": {},
   "source": [
    "Response\n",
    "\n",
    "- To conduct our experiment, we will use the knn regression model using the columns pts (points per game) , gp (games played), height (cm), weight (kg), usg% (usage percentage) and ts% (true shooting percentage) as predictors since these factors are likely to have a significant influence on the total number of points scored over a career. Using these, predictors, we will find the projected number of points a player will score based on the average of its K nearest neighbors where the K value will be determined through evaluation and tuning.\n",
    "\n",
    "- We will use scatter plots, with a regression line to visualize the data and results as it will give a clear view on the K nearest neighbors to the point on a line."
   ]
  },
  {
   "cell_type": "markdown",
   "id": "34d1f474-95fa-4d1b-bd43-7a81e279a7cc",
   "metadata": {},
   "source": [
    "## Expected outcomes and significance ##"
   ]
  },
  {
   "cell_type": "markdown",
   "id": "1805f221-8be3-4c55-92e2-b0b3de2992b7",
   "metadata": {
    "tags": []
   },
   "source": [
    "Prompts (Section for Allen, delete when done)\n",
    "- What do you expect to find?\n",
    "\n",
    "- What impact could such findings have?\n",
    "\n",
    "- What future questions could this lead to?\n",
    "\n"
   ]
  },
  {
   "cell_type": "markdown",
   "id": "f9eabae1-f823-47b7-ba3c-35c8c0bad0bb",
   "metadata": {
    "tags": []
   },
   "source": [
    "(Start your response here)\n",
    "\n",
    "-We are trying to find the total score that a player may get at the end of his career based on other players' previous performance including scores, rebounds, assists and their weights. \n",
    "\n",
    "-NBA teams could use this predicted score to identify a player whether he is potential or not. Also, it is a useful index for teams to adjust their team members.\n",
    "\n",
    "-This prediction model may not perfect enough to reflect the true skills that a player owns. It is because we need to include other factors. For instance, the playing styles of players and their cooperation skills. An important playing style usually results in different results of a game. Therefore, the cooperation between players is a key factor to determine whether the team would win."
   ]
  },
  {
   "cell_type": "code",
   "execution_count": null,
   "id": "9a25de52-8361-4b8c-bae2-7616a99fd27b",
   "metadata": {},
   "outputs": [],
   "source": []
  }
 ],
 "metadata": {
  "kernelspec": {
   "display_name": "Python 3 (ipykernel)",
   "language": "python",
   "name": "python3"
  },
  "language_info": {
   "codemirror_mode": {
    "name": "ipython",
    "version": 3
   },
   "file_extension": ".py",
   "mimetype": "text/x-python",
   "name": "python",
   "nbconvert_exporter": "python",
   "pygments_lexer": "ipython3",
   "version": "3.10.8"
  },
  "widgets": {
   "application/vnd.jupyter.widget-state+json": {
    "state": {},
    "version_major": 2,
    "version_minor": 0
   }
  }
 },
 "nbformat": 4,
 "nbformat_minor": 5
}
