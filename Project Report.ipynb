{
 "cells": [
  {
   "cell_type": "markdown",
   "id": "7e994e42-a853-42cd-ad15-010a9df82bc7",
   "metadata": {},
   "source": [
    "# NBA Player Career Projection #\n",
    "## _DSCI 100 Group Project_ ##"
   ]
  },
  {
   "cell_type": "markdown",
   "id": "5824c64e-ea02-43b5-9d39-bd15be1546f1",
   "metadata": {},
   "source": [
    "## Introduction ## "
   ]
  },
  {
   "cell_type": "markdown",
   "id": "3e79be31-2ed5-4dc0-a55e-3eda19393380",
   "metadata": {},
   "source": [
    "Prompts:\n",
    "- provide some relevant background information on the topic so that someone unfamiliar with it will be prepared to understand the rest of your report\n",
    "- clearly state the question you tried to answer with your project\n",
    "- identify and describe the dataset that was used to answer the question"
   ]
  },
  {
   "cell_type": "markdown",
   "id": "891a31bb-6501-4077-ad76-0e5176c0fd50",
   "metadata": {},
   "source": [
    "Basketball is a globally renowned sport with a massive following, and the professional leagues are the pinnacle of talent and competition. Understanding player statistics is essential for team management, player evaluation, and fan engagement. The `all_seasons` dataset captures data that outlines the performance of basketball players across various seasons (from 1996-1997 season to 2022-2023 season). Using this dataset, our predictive question could be, for instance, how a player's attributes and performance in their rookie seasons relate to their overall career performance. The dataset encompasses several key attributes, including:\n",
    "\n",
    "- `player_name`, name of a NBA player \n",
    "- `team_abbreviation`, abbreviated name of the team they played on\n",
    "- `age`, a player's age\n",
    "- `player_height`, a player's height\n",
    "- `player_weight`, a player's weight \n",
    "- `college`, the college they played for\n",
    "- `country`, their nationality\n",
    "- `draft_year`, the year they were drafted\n",
    "- `draft_round`, the round they were drafted in\n",
    "- `draft_number`, the pick number they were drafted with\n",
    "- `gp`, number of games played in a season\n",
    "- `pts`, average points per game in a season\n",
    "- `reb`, average rebounds per game in a season\n",
    "- `ast`, average assists per game in a season\n",
    "- `net_rating`, average net rating in a season\n",
    "- `oreb_pct`, average offensive rebound percentage in a season\n",
    "- `dreb_pct`, average defensive rebound percentage in a season\n",
    "- `usg_pct`, average usage percentage in a season\n",
    "- `ts_pct`, average true shooting percentage in a season\n",
    "- `ast_pct`, average assist percentage in a season\n",
    "- `season`, the season they played in which these stats were recorded\n",
    "\n",
    "\n",
    "By analyzing this dataset, we aim to draw insights and patterns from past player statistics, potentially aiding in the selection, trading, and performance prediction of rookie players in future basketball seasons by estimating their potential through statistics. \n",
    "\n",
    "### Research question: ###\n",
    "__How does a player's physical attributes and scoring statistics in their rookie year correlate to their total career points?__ We will attempt to answer this question by forming a regression line using physical attributes and scoring statistics of past players, and more specifically: `pts` (points per game), `gp` (games played), `player_height` (cm), `player_weight` (kg), `usg_pct` (usage percentage) and `ts_pct` (true shooting percentage)."
   ]
  },
  {
   "cell_type": "markdown",
   "id": "0907bf56-be5c-4038-8d2a-0671998d99c6",
   "metadata": {},
   "source": [
    "## Methods and results ##"
   ]
  },
  {
   "cell_type": "markdown",
   "id": "8dfc23a2-e571-438b-bbee-a6ed5eae5390",
   "metadata": {},
   "source": [
    "- describe in written English the methods you used to perform your analysis from beginning to end that narrates the code the does the analysis.\n",
    "- your report should include code which:\n",
    "    - loads data from the original source on the web \n",
    "    - wrangles and cleans the data from it's original (downloaded) format to the format necessary for the planned analysis\n",
    "    - performs a summary of the data set that is relevant for exploratory data analysis related to the planned analysis \n",
    "    - creates a visualization of the dataset that is relevant for exploratory data analysis related to the planned analysis\n",
    "    - performs the data analysis\n",
    "    - creates a visualization of the analysis \n",
    "    \n",
    "note: all tables and figure should have a figure/table number and a legend"
   ]
  },
  {
   "cell_type": "markdown",
   "id": "1a6b78ab-27ba-4a68-ad54-46d1e1bb32ee",
   "metadata": {},
   "source": [
    "## Preliminary exploratory data analysis ##"
   ]
  },
  {
   "cell_type": "markdown",
   "id": "6ad6833c-eb12-4818-b793-c0a9f70ca70c",
   "metadata": {},
   "source": [
    "From the preliminary exploratory data analysis completed in our project proposal, we demonstrated that we can read the NBA data set can be read by downloading the dataset from the website (link: https://www.kaggle.com/datasets/justinas/nba-players-data/) and read into R using read_csv from the tidyverse library. We have stored it in the \"data\" folder. \n",
    "\n",
    "In our preliminary exploratory data analysis, we also completed necessary steps to tidy the data to ensure consistency, remove irrelevant information, and maintain the three criteria necessary for tidy data: each column is a variable, each row is a single observation, and each cell is a value. "
   ]
  },
  {
   "cell_type": "code",
   "execution_count": 28,
   "id": "47a578ea-0d56-46ee-be9b-8d4d2c7f3525",
   "metadata": {
    "tags": []
   },
   "outputs": [
    {
     "name": "stderr",
     "output_type": "stream",
     "text": [
      "Updating HTML index of packages in '.Library'\n",
      "\n",
      "Making 'packages.html' ...\n",
      " done\n",
      "\n"
     ]
    }
   ],
   "source": [
    "install.packages(\"kknn\")"
   ]
  },
  {
   "cell_type": "code",
   "execution_count": 31,
   "id": "e9160efc-ccc9-46ed-89bd-e856a7c942df",
   "metadata": {
    "tags": []
   },
   "outputs": [],
   "source": [
    "# importing the tidyverse library\n",
    "library(tidyverse)\n",
    "library(tidymodels)\n",
    "library(repr)\n",
    "library(\"kknn\")"
   ]
  },
  {
   "cell_type": "markdown",
   "id": "396342f1-1389-4b27-9cc0-ba3e1d077aad",
   "metadata": {},
   "source": [
    "Throughout this report, the data set we will work with is named `all_seasons.csv` and it lives in the `/data` directory. Below, we read the dataset using `read_csv` and used `head` to look at the first 6 rows of the dataset to ensure that we have read the correct dataset. "
   ]
  },
  {
   "cell_type": "code",
   "execution_count": 2,
   "id": "c9351116-9649-435d-8081-e8c30fb22c13",
   "metadata": {
    "tags": []
   },
   "outputs": [
    {
     "name": "stderr",
     "output_type": "stream",
     "text": [
      "\u001b[1m\u001b[22mNew names:\n",
      "\u001b[36m•\u001b[39m `` -> `...1`\n",
      "\u001b[1mRows: \u001b[22m\u001b[34m12844\u001b[39m \u001b[1mColumns: \u001b[22m\u001b[34m22\u001b[39m\n",
      "\u001b[36m──\u001b[39m \u001b[1mColumn specification\u001b[22m \u001b[36m────────────────────────────────────────────────────────\u001b[39m\n",
      "\u001b[1mDelimiter:\u001b[22m \",\"\n",
      "\u001b[31mchr\u001b[39m  (8): player_name, team_abbreviation, college, country, draft_year, draf...\n",
      "\u001b[32mdbl\u001b[39m (14): ...1, age, player_height, player_weight, gp, pts, reb, ast, net_ra...\n",
      "\n",
      "\u001b[36mℹ\u001b[39m Use `spec()` to retrieve the full column specification for this data.\n",
      "\u001b[36mℹ\u001b[39m Specify the column types or set `show_col_types = FALSE` to quiet this message.\n"
     ]
    },
    {
     "data": {
      "text/html": [
       "<table class=\"dataframe\">\n",
       "<caption>A tibble: 6 × 22</caption>\n",
       "<thead>\n",
       "\t<tr><th scope=col>...1</th><th scope=col>player_name</th><th scope=col>team_abbreviation</th><th scope=col>age</th><th scope=col>player_height</th><th scope=col>player_weight</th><th scope=col>college</th><th scope=col>country</th><th scope=col>draft_year</th><th scope=col>draft_round</th><th scope=col>⋯</th><th scope=col>pts</th><th scope=col>reb</th><th scope=col>ast</th><th scope=col>net_rating</th><th scope=col>oreb_pct</th><th scope=col>dreb_pct</th><th scope=col>usg_pct</th><th scope=col>ts_pct</th><th scope=col>ast_pct</th><th scope=col>season</th></tr>\n",
       "\t<tr><th scope=col>&lt;dbl&gt;</th><th scope=col>&lt;chr&gt;</th><th scope=col>&lt;chr&gt;</th><th scope=col>&lt;dbl&gt;</th><th scope=col>&lt;dbl&gt;</th><th scope=col>&lt;dbl&gt;</th><th scope=col>&lt;chr&gt;</th><th scope=col>&lt;chr&gt;</th><th scope=col>&lt;chr&gt;</th><th scope=col>&lt;chr&gt;</th><th scope=col>⋯</th><th scope=col>&lt;dbl&gt;</th><th scope=col>&lt;dbl&gt;</th><th scope=col>&lt;dbl&gt;</th><th scope=col>&lt;dbl&gt;</th><th scope=col>&lt;dbl&gt;</th><th scope=col>&lt;dbl&gt;</th><th scope=col>&lt;dbl&gt;</th><th scope=col>&lt;dbl&gt;</th><th scope=col>&lt;dbl&gt;</th><th scope=col>&lt;chr&gt;</th></tr>\n",
       "</thead>\n",
       "<tbody>\n",
       "\t<tr><td>12838</td><td>Joe Wieskamp   </td><td>TOR</td><td>23</td><td>198.12</td><td> 92.98636</td><td>Iowa         </td><td>USA     </td><td>2021     </td><td>2        </td><td>⋯</td><td> 1.0</td><td> 0.4</td><td>0.3</td><td>  1.0</td><td>0.000</td><td>0.068</td><td>0.115</td><td>0.321</td><td>0.083</td><td>2022-23</td></tr>\n",
       "\t<tr><td>12839</td><td>Joel Embiid    </td><td>PHI</td><td>29</td><td>213.36</td><td>127.00576</td><td>Kansas       </td><td>Cameroon</td><td>2014     </td><td>1        </td><td>⋯</td><td>33.1</td><td>10.2</td><td>4.2</td><td>  8.8</td><td>0.057</td><td>0.243</td><td>0.370</td><td>0.655</td><td>0.233</td><td>2022-23</td></tr>\n",
       "\t<tr><td>12840</td><td>John Butler Jr.</td><td>POR</td><td>20</td><td>213.36</td><td> 86.18248</td><td>Florida State</td><td>USA     </td><td>Undrafted</td><td>Undrafted</td><td>⋯</td><td> 2.4</td><td> 0.9</td><td>0.6</td><td>-16.1</td><td>0.012</td><td>0.065</td><td>0.102</td><td>0.411</td><td>0.066</td><td>2022-23</td></tr>\n",
       "\t<tr><td>12841</td><td>John Collins   </td><td>ATL</td><td>25</td><td>205.74</td><td>102.51179</td><td>Wake Forest  </td><td>USA     </td><td>2017     </td><td>1        </td><td>⋯</td><td>13.1</td><td> 6.5</td><td>1.2</td><td> -0.2</td><td>0.035</td><td>0.180</td><td>0.168</td><td>0.593</td><td>0.052</td><td>2022-23</td></tr>\n",
       "\t<tr><td>12842</td><td>Jericho Sims   </td><td>NYK</td><td>24</td><td>208.28</td><td>113.39800</td><td>Texas        </td><td>USA     </td><td>2021     </td><td>2        </td><td>⋯</td><td> 3.4</td><td> 4.7</td><td>0.5</td><td> -6.7</td><td>0.117</td><td>0.175</td><td>0.074</td><td>0.780</td><td>0.044</td><td>2022-23</td></tr>\n",
       "\t<tr><td>12843</td><td>JaMychal Green </td><td>GSW</td><td>33</td><td>205.74</td><td>102.96538</td><td>Alabama      </td><td>USA     </td><td>Undrafted</td><td>Undrafted</td><td>⋯</td><td> 6.4</td><td> 3.6</td><td>0.9</td><td> -8.2</td><td>0.087</td><td>0.164</td><td>0.169</td><td>0.650</td><td>0.094</td><td>2022-23</td></tr>\n",
       "</tbody>\n",
       "</table>\n"
      ],
      "text/latex": [
       "A tibble: 6 × 22\n",
       "\\begin{tabular}{lllllllllllllllllllll}\n",
       " ...1 & player\\_name & team\\_abbreviation & age & player\\_height & player\\_weight & college & country & draft\\_year & draft\\_round & ⋯ & pts & reb & ast & net\\_rating & oreb\\_pct & dreb\\_pct & usg\\_pct & ts\\_pct & ast\\_pct & season\\\\\n",
       " <dbl> & <chr> & <chr> & <dbl> & <dbl> & <dbl> & <chr> & <chr> & <chr> & <chr> & ⋯ & <dbl> & <dbl> & <dbl> & <dbl> & <dbl> & <dbl> & <dbl> & <dbl> & <dbl> & <chr>\\\\\n",
       "\\hline\n",
       "\t 12838 & Joe Wieskamp    & TOR & 23 & 198.12 &  92.98636 & Iowa          & USA      & 2021      & 2         & ⋯ &  1.0 &  0.4 & 0.3 &   1.0 & 0.000 & 0.068 & 0.115 & 0.321 & 0.083 & 2022-23\\\\\n",
       "\t 12839 & Joel Embiid     & PHI & 29 & 213.36 & 127.00576 & Kansas        & Cameroon & 2014      & 1         & ⋯ & 33.1 & 10.2 & 4.2 &   8.8 & 0.057 & 0.243 & 0.370 & 0.655 & 0.233 & 2022-23\\\\\n",
       "\t 12840 & John Butler Jr. & POR & 20 & 213.36 &  86.18248 & Florida State & USA      & Undrafted & Undrafted & ⋯ &  2.4 &  0.9 & 0.6 & -16.1 & 0.012 & 0.065 & 0.102 & 0.411 & 0.066 & 2022-23\\\\\n",
       "\t 12841 & John Collins    & ATL & 25 & 205.74 & 102.51179 & Wake Forest   & USA      & 2017      & 1         & ⋯ & 13.1 &  6.5 & 1.2 &  -0.2 & 0.035 & 0.180 & 0.168 & 0.593 & 0.052 & 2022-23\\\\\n",
       "\t 12842 & Jericho Sims    & NYK & 24 & 208.28 & 113.39800 & Texas         & USA      & 2021      & 2         & ⋯ &  3.4 &  4.7 & 0.5 &  -6.7 & 0.117 & 0.175 & 0.074 & 0.780 & 0.044 & 2022-23\\\\\n",
       "\t 12843 & JaMychal Green  & GSW & 33 & 205.74 & 102.96538 & Alabama       & USA      & Undrafted & Undrafted & ⋯ &  6.4 &  3.6 & 0.9 &  -8.2 & 0.087 & 0.164 & 0.169 & 0.650 & 0.094 & 2022-23\\\\\n",
       "\\end{tabular}\n"
      ],
      "text/markdown": [
       "\n",
       "A tibble: 6 × 22\n",
       "\n",
       "| ...1 &lt;dbl&gt; | player_name &lt;chr&gt; | team_abbreviation &lt;chr&gt; | age &lt;dbl&gt; | player_height &lt;dbl&gt; | player_weight &lt;dbl&gt; | college &lt;chr&gt; | country &lt;chr&gt; | draft_year &lt;chr&gt; | draft_round &lt;chr&gt; | ⋯ ⋯ | pts &lt;dbl&gt; | reb &lt;dbl&gt; | ast &lt;dbl&gt; | net_rating &lt;dbl&gt; | oreb_pct &lt;dbl&gt; | dreb_pct &lt;dbl&gt; | usg_pct &lt;dbl&gt; | ts_pct &lt;dbl&gt; | ast_pct &lt;dbl&gt; | season &lt;chr&gt; |\n",
       "|---|---|---|---|---|---|---|---|---|---|---|---|---|---|---|---|---|---|---|---|---|\n",
       "| 12838 | Joe Wieskamp    | TOR | 23 | 198.12 |  92.98636 | Iowa          | USA      | 2021      | 2         | ⋯ |  1.0 |  0.4 | 0.3 |   1.0 | 0.000 | 0.068 | 0.115 | 0.321 | 0.083 | 2022-23 |\n",
       "| 12839 | Joel Embiid     | PHI | 29 | 213.36 | 127.00576 | Kansas        | Cameroon | 2014      | 1         | ⋯ | 33.1 | 10.2 | 4.2 |   8.8 | 0.057 | 0.243 | 0.370 | 0.655 | 0.233 | 2022-23 |\n",
       "| 12840 | John Butler Jr. | POR | 20 | 213.36 |  86.18248 | Florida State | USA      | Undrafted | Undrafted | ⋯ |  2.4 |  0.9 | 0.6 | -16.1 | 0.012 | 0.065 | 0.102 | 0.411 | 0.066 | 2022-23 |\n",
       "| 12841 | John Collins    | ATL | 25 | 205.74 | 102.51179 | Wake Forest   | USA      | 2017      | 1         | ⋯ | 13.1 |  6.5 | 1.2 |  -0.2 | 0.035 | 0.180 | 0.168 | 0.593 | 0.052 | 2022-23 |\n",
       "| 12842 | Jericho Sims    | NYK | 24 | 208.28 | 113.39800 | Texas         | USA      | 2021      | 2         | ⋯ |  3.4 |  4.7 | 0.5 |  -6.7 | 0.117 | 0.175 | 0.074 | 0.780 | 0.044 | 2022-23 |\n",
       "| 12843 | JaMychal Green  | GSW | 33 | 205.74 | 102.96538 | Alabama       | USA      | Undrafted | Undrafted | ⋯ |  6.4 |  3.6 | 0.9 |  -8.2 | 0.087 | 0.164 | 0.169 | 0.650 | 0.094 | 2022-23 |\n",
       "\n"
      ],
      "text/plain": [
       "  ...1  player_name     team_abbreviation age player_height player_weight\n",
       "1 12838 Joe Wieskamp    TOR               23  198.12         92.98636    \n",
       "2 12839 Joel Embiid     PHI               29  213.36        127.00576    \n",
       "3 12840 John Butler Jr. POR               20  213.36         86.18248    \n",
       "4 12841 John Collins    ATL               25  205.74        102.51179    \n",
       "5 12842 Jericho Sims    NYK               24  208.28        113.39800    \n",
       "6 12843 JaMychal Green  GSW               33  205.74        102.96538    \n",
       "  college       country  draft_year draft_round ⋯ pts  reb  ast net_rating\n",
       "1 Iowa          USA      2021       2           ⋯  1.0  0.4 0.3   1.0     \n",
       "2 Kansas        Cameroon 2014       1           ⋯ 33.1 10.2 4.2   8.8     \n",
       "3 Florida State USA      Undrafted  Undrafted   ⋯  2.4  0.9 0.6 -16.1     \n",
       "4 Wake Forest   USA      2017       1           ⋯ 13.1  6.5 1.2  -0.2     \n",
       "5 Texas         USA      2021       2           ⋯  3.4  4.7 0.5  -6.7     \n",
       "6 Alabama       USA      Undrafted  Undrafted   ⋯  6.4  3.6 0.9  -8.2     \n",
       "  oreb_pct dreb_pct usg_pct ts_pct ast_pct season \n",
       "1 0.000    0.068    0.115   0.321  0.083   2022-23\n",
       "2 0.057    0.243    0.370   0.655  0.233   2022-23\n",
       "3 0.012    0.065    0.102   0.411  0.066   2022-23\n",
       "4 0.035    0.180    0.168   0.593  0.052   2022-23\n",
       "5 0.117    0.175    0.074   0.780  0.044   2022-23\n",
       "6 0.087    0.164    0.169   0.650  0.094   2022-23"
      ]
     },
     "metadata": {},
     "output_type": "display_data"
    }
   ],
   "source": [
    "# reading the dataset in the data folder\n",
    "nba_raw <- read_csv(\"data/all_seasons.csv\")\n",
    "# looking at the the first 6 rows\n",
    "tail(nba_raw)"
   ]
  },
  {
   "cell_type": "markdown",
   "id": "d92e71a1-d084-4e80-ac13-f472733c3424",
   "metadata": {},
   "source": [
    "**Table 1.** Table of the first 6 rows of raw data from all_seasons.csv"
   ]
  },
  {
   "cell_type": "markdown",
   "id": "5e754212-0d03-4870-8ccb-28a5d7f1da4d",
   "metadata": {},
   "source": [
    "### Data tidying ###\n",
    "Looking at the columns, we see that `draft_year` and `draft_round` are character columns, instead of numeric. Upon investigation into the data we see that this is because some players came into the NBA league undrafted and were picked up by teams through other methods, and thus are marked as `undrafted` under the `draft_year` and `draft_round` columns. Since we want to select and use rookie players who have only played in the 2022 season as our test data, we must filter out players who have played in more than one season for training and players who have only played in 2022 season for test data. However, because some players went undrafted, it is difficult to determine what year those players were rookies. (If we say that a player is a rookie in the first season of all the observations we have of them, then what happens if the first season of all the observations we have of them is the first season recorded in this data set and they were undrafted? Since we have no data of earlier seasons we wouldn't know if that season was truly their rookie season.) Thus, to make data manipulation and analysis easier, we will only consider players that were drafted.\n",
    "\n",
    "Since `college`, `country` and the team that they played for (`team_abbreviation`) are completely irrelevant to our data analysis, we will select the rest of the columns during our data processing. Additionally, to make data manipulation easier, we will also change season into a numeric value by only keeping the year the season began (ex. \"1996-1997\" into 1996)."
   ]
  },
  {
   "cell_type": "code",
   "execution_count": 3,
   "id": "1f612545-cfd0-4fdd-82de-484cc0b19791",
   "metadata": {
    "tags": []
   },
   "outputs": [
    {
     "data": {
      "text/html": [
       "<table class=\"dataframe\">\n",
       "<caption>A tibble: 6 × 18</caption>\n",
       "<thead>\n",
       "\t<tr><th scope=col>player_name</th><th scope=col>age</th><th scope=col>player_height</th><th scope=col>player_weight</th><th scope=col>draft_year</th><th scope=col>draft_round</th><th scope=col>draft_number</th><th scope=col>gp</th><th scope=col>pts</th><th scope=col>reb</th><th scope=col>ast</th><th scope=col>net_rating</th><th scope=col>oreb_pct</th><th scope=col>dreb_pct</th><th scope=col>usg_pct</th><th scope=col>ts_pct</th><th scope=col>ast_pct</th><th scope=col>season_start</th></tr>\n",
       "\t<tr><th scope=col>&lt;chr&gt;</th><th scope=col>&lt;dbl&gt;</th><th scope=col>&lt;dbl&gt;</th><th scope=col>&lt;dbl&gt;</th><th scope=col>&lt;dbl&gt;</th><th scope=col>&lt;dbl&gt;</th><th scope=col>&lt;dbl&gt;</th><th scope=col>&lt;dbl&gt;</th><th scope=col>&lt;dbl&gt;</th><th scope=col>&lt;dbl&gt;</th><th scope=col>&lt;dbl&gt;</th><th scope=col>&lt;dbl&gt;</th><th scope=col>&lt;dbl&gt;</th><th scope=col>&lt;dbl&gt;</th><th scope=col>&lt;dbl&gt;</th><th scope=col>&lt;dbl&gt;</th><th scope=col>&lt;dbl&gt;</th><th scope=col>&lt;dbl&gt;</th></tr>\n",
       "</thead>\n",
       "<tbody>\n",
       "\t<tr><td>Randy Livingston</td><td>22</td><td>193.04</td><td> 94.80073</td><td>1996</td><td>2</td><td>42</td><td>64</td><td> 3.9</td><td>1.5</td><td>2.4</td><td>  0.3</td><td>0.042</td><td>0.071</td><td>0.169</td><td>0.487</td><td>0.248</td><td>1996</td></tr>\n",
       "\t<tr><td>Gaylon Nickerson</td><td>28</td><td>190.50</td><td> 86.18248</td><td>1994</td><td>2</td><td>34</td><td> 4</td><td> 3.8</td><td>1.3</td><td>0.3</td><td>  8.9</td><td>0.030</td><td>0.111</td><td>0.174</td><td>0.497</td><td>0.043</td><td>1996</td></tr>\n",
       "\t<tr><td>George Lynch    </td><td>26</td><td>203.20</td><td>103.41898</td><td>1993</td><td>1</td><td>12</td><td>41</td><td> 8.3</td><td>6.4</td><td>1.9</td><td> -8.2</td><td>0.106</td><td>0.185</td><td>0.175</td><td>0.512</td><td>0.125</td><td>1996</td></tr>\n",
       "\t<tr><td>George McCloud  </td><td>30</td><td>203.20</td><td>102.05820</td><td>1989</td><td>1</td><td> 7</td><td>64</td><td>10.2</td><td>2.8</td><td>1.7</td><td> -2.7</td><td>0.027</td><td>0.111</td><td>0.206</td><td>0.527</td><td>0.125</td><td>1996</td></tr>\n",
       "\t<tr><td>George Zidek    </td><td>23</td><td>213.36</td><td>119.74829</td><td>1995</td><td>1</td><td>22</td><td>52</td><td> 2.8</td><td>1.7</td><td>0.3</td><td>-14.1</td><td>0.102</td><td>0.169</td><td>0.195</td><td>0.500</td><td>0.064</td><td>1996</td></tr>\n",
       "\t<tr><td>Gerald Wilkins  </td><td>33</td><td>198.12</td><td>102.05820</td><td>1985</td><td>2</td><td>47</td><td>80</td><td>10.6</td><td>2.2</td><td>2.2</td><td> -5.8</td><td>0.031</td><td>0.064</td><td>0.203</td><td>0.503</td><td>0.143</td><td>1996</td></tr>\n",
       "</tbody>\n",
       "</table>\n"
      ],
      "text/latex": [
       "A tibble: 6 × 18\n",
       "\\begin{tabular}{llllllllllllllllll}\n",
       " player\\_name & age & player\\_height & player\\_weight & draft\\_year & draft\\_round & draft\\_number & gp & pts & reb & ast & net\\_rating & oreb\\_pct & dreb\\_pct & usg\\_pct & ts\\_pct & ast\\_pct & season\\_start\\\\\n",
       " <chr> & <dbl> & <dbl> & <dbl> & <dbl> & <dbl> & <dbl> & <dbl> & <dbl> & <dbl> & <dbl> & <dbl> & <dbl> & <dbl> & <dbl> & <dbl> & <dbl> & <dbl>\\\\\n",
       "\\hline\n",
       "\t Randy Livingston & 22 & 193.04 &  94.80073 & 1996 & 2 & 42 & 64 &  3.9 & 1.5 & 2.4 &   0.3 & 0.042 & 0.071 & 0.169 & 0.487 & 0.248 & 1996\\\\\n",
       "\t Gaylon Nickerson & 28 & 190.50 &  86.18248 & 1994 & 2 & 34 &  4 &  3.8 & 1.3 & 0.3 &   8.9 & 0.030 & 0.111 & 0.174 & 0.497 & 0.043 & 1996\\\\\n",
       "\t George Lynch     & 26 & 203.20 & 103.41898 & 1993 & 1 & 12 & 41 &  8.3 & 6.4 & 1.9 &  -8.2 & 0.106 & 0.185 & 0.175 & 0.512 & 0.125 & 1996\\\\\n",
       "\t George McCloud   & 30 & 203.20 & 102.05820 & 1989 & 1 &  7 & 64 & 10.2 & 2.8 & 1.7 &  -2.7 & 0.027 & 0.111 & 0.206 & 0.527 & 0.125 & 1996\\\\\n",
       "\t George Zidek     & 23 & 213.36 & 119.74829 & 1995 & 1 & 22 & 52 &  2.8 & 1.7 & 0.3 & -14.1 & 0.102 & 0.169 & 0.195 & 0.500 & 0.064 & 1996\\\\\n",
       "\t Gerald Wilkins   & 33 & 198.12 & 102.05820 & 1985 & 2 & 47 & 80 & 10.6 & 2.2 & 2.2 &  -5.8 & 0.031 & 0.064 & 0.203 & 0.503 & 0.143 & 1996\\\\\n",
       "\\end{tabular}\n"
      ],
      "text/markdown": [
       "\n",
       "A tibble: 6 × 18\n",
       "\n",
       "| player_name &lt;chr&gt; | age &lt;dbl&gt; | player_height &lt;dbl&gt; | player_weight &lt;dbl&gt; | draft_year &lt;dbl&gt; | draft_round &lt;dbl&gt; | draft_number &lt;dbl&gt; | gp &lt;dbl&gt; | pts &lt;dbl&gt; | reb &lt;dbl&gt; | ast &lt;dbl&gt; | net_rating &lt;dbl&gt; | oreb_pct &lt;dbl&gt; | dreb_pct &lt;dbl&gt; | usg_pct &lt;dbl&gt; | ts_pct &lt;dbl&gt; | ast_pct &lt;dbl&gt; | season_start &lt;dbl&gt; |\n",
       "|---|---|---|---|---|---|---|---|---|---|---|---|---|---|---|---|---|---|\n",
       "| Randy Livingston | 22 | 193.04 |  94.80073 | 1996 | 2 | 42 | 64 |  3.9 | 1.5 | 2.4 |   0.3 | 0.042 | 0.071 | 0.169 | 0.487 | 0.248 | 1996 |\n",
       "| Gaylon Nickerson | 28 | 190.50 |  86.18248 | 1994 | 2 | 34 |  4 |  3.8 | 1.3 | 0.3 |   8.9 | 0.030 | 0.111 | 0.174 | 0.497 | 0.043 | 1996 |\n",
       "| George Lynch     | 26 | 203.20 | 103.41898 | 1993 | 1 | 12 | 41 |  8.3 | 6.4 | 1.9 |  -8.2 | 0.106 | 0.185 | 0.175 | 0.512 | 0.125 | 1996 |\n",
       "| George McCloud   | 30 | 203.20 | 102.05820 | 1989 | 1 |  7 | 64 | 10.2 | 2.8 | 1.7 |  -2.7 | 0.027 | 0.111 | 0.206 | 0.527 | 0.125 | 1996 |\n",
       "| George Zidek     | 23 | 213.36 | 119.74829 | 1995 | 1 | 22 | 52 |  2.8 | 1.7 | 0.3 | -14.1 | 0.102 | 0.169 | 0.195 | 0.500 | 0.064 | 1996 |\n",
       "| Gerald Wilkins   | 33 | 198.12 | 102.05820 | 1985 | 2 | 47 | 80 | 10.6 | 2.2 | 2.2 |  -5.8 | 0.031 | 0.064 | 0.203 | 0.503 | 0.143 | 1996 |\n",
       "\n"
      ],
      "text/plain": [
       "  player_name      age player_height player_weight draft_year draft_round\n",
       "1 Randy Livingston 22  193.04         94.80073     1996       2          \n",
       "2 Gaylon Nickerson 28  190.50         86.18248     1994       2          \n",
       "3 George Lynch     26  203.20        103.41898     1993       1          \n",
       "4 George McCloud   30  203.20        102.05820     1989       1          \n",
       "5 George Zidek     23  213.36        119.74829     1995       1          \n",
       "6 Gerald Wilkins   33  198.12        102.05820     1985       2          \n",
       "  draft_number gp pts  reb ast net_rating oreb_pct dreb_pct usg_pct ts_pct\n",
       "1 42           64  3.9 1.5 2.4   0.3      0.042    0.071    0.169   0.487 \n",
       "2 34            4  3.8 1.3 0.3   8.9      0.030    0.111    0.174   0.497 \n",
       "3 12           41  8.3 6.4 1.9  -8.2      0.106    0.185    0.175   0.512 \n",
       "4  7           64 10.2 2.8 1.7  -2.7      0.027    0.111    0.206   0.527 \n",
       "5 22           52  2.8 1.7 0.3 -14.1      0.102    0.169    0.195   0.500 \n",
       "6 47           80 10.6 2.2 2.2  -5.8      0.031    0.064    0.203   0.503 \n",
       "  ast_pct season_start\n",
       "1 0.248   1996        \n",
       "2 0.043   1996        \n",
       "3 0.125   1996        \n",
       "4 0.125   1996        \n",
       "5 0.064   1996        \n",
       "6 0.143   1996        "
      ]
     },
     "metadata": {},
     "output_type": "display_data"
    }
   ],
   "source": [
    "nba_data <- nba_raw |>\n",
    "    filter(draft_year != \"Undrafted\" & draft_round != \"Undrafted\" & draft_number != \"Undrafted\") |>\n",
    "    separate(season, into = c(\"season_start\", \"season_end\"), \"-\") |>\n",
    "    mutate(season_start = as.numeric(season_start), draft_year = as.numeric(draft_year), \n",
    "           draft_round = as.numeric(draft_round), draft_number = as.numeric(draft_number)) |>\n",
    "    select(player_name, age:player_weight, draft_year:season_start) \n",
    "# looking at the first 6 rows of tidied data\n",
    "head(nba_data)"
   ]
  },
  {
   "cell_type": "markdown",
   "id": "1fd60cbb-4f68-4df6-98dd-9ac8de74c556",
   "metadata": {},
   "source": [
    "**Table 2.** Table of the first 6 rows of tidied `all_seasons` data"
   ]
  },
  {
   "cell_type": "markdown",
   "id": "7c982a85-43a6-404d-b868-e7d2ac4361ba",
   "metadata": {},
   "source": [
    "Prompts: \n",
    "- Demonstrate that the dataset can be read from the web into R \n",
    "- Clean and wrangle your data into a tidy format\n",
    "- Using only training data, summarize the data in at least one table (this is exploratory data analysis). An example of a useful table could be one that reports the number of observations in each class, the means of the predictor variables you plan to use in your analysis and how many rows have missing data. \n",
    "- Using only training data, visualize the data with at least one plot relevant to the analysis you plan to do (this is exploratory data analysis). An example of a useful visualization could be one that compares the distributions of each of the predictor variables you plan to use in your analysis."
   ]
  },
  {
   "cell_type": "markdown",
   "id": "5537364e-87ac-4c09-b005-1c78ff26188f",
   "metadata": {
    "tags": []
   },
   "source": [
    "## Methods ##"
   ]
  },
  {
   "cell_type": "markdown",
   "id": "1e2bb900-25b6-4196-8acc-e9a2dd9c1238",
   "metadata": {},
   "source": [
    "Prompts \n",
    "- Explain how you will conduct either your data analysis and which variables/columns you will use. Note - you do not need to use all variables/columns that exist in the raw data set. In fact, that's often not a good idea. For each variable think: is this a useful variable for prediction?\n",
    "\n",
    "- Describe at least one way that you will visualize the results"
   ]
  },
  {
   "cell_type": "markdown",
   "id": "be2f7f6c-d3ef-4a58-9b9d-27f46bc7a719",
   "metadata": {},
   "source": [
    "Response\n",
    "\n",
    "- To conduct our experiment, we will use the knn regression model using the columns `pts` (points per game), `gp` (games played), `player_height` (cm), `player_weight` (kg), `usg_pct` (usage percentage) and `ts_pct` (true shooting percentage) as predictors since these factors are likely to have a significant influence on the total number of points scored over a career. Using these, predictors, we will find the projected number of points a player will score based on the average of its K nearest neighbors where the K value will be determined through evaluation and tuning.\n",
    "\n",
    "- We will use scatter plots, with a regression line to visualize the data and results as it will give a clear view on the K nearest neighbors to the point on a line. Futhermore we will make distinctions between amount of seasons played by the player by colors in plots."
   ]
  },
  {
   "cell_type": "markdown",
   "id": "35b5e2fe-e946-4352-b874-cb9cc0e36278",
   "metadata": {
    "tags": []
   },
   "source": [
    "Separating the data into training data and testing data."
   ]
  },
  {
   "cell_type": "code",
   "execution_count": 49,
   "id": "a66ea36e-b5d3-46f0-a3b5-54a2f234b617",
   "metadata": {
    "tags": []
   },
   "outputs": [
    {
     "data": {
      "text/html": [
       "1346"
      ],
      "text/latex": [
       "1346"
      ],
      "text/markdown": [
       "1346"
      ],
      "text/plain": [
       "[1] 1346"
      ]
     },
     "metadata": {},
     "output_type": "display_data"
    },
    {
     "data": {
      "text/html": [
       "<table class=\"dataframe\">\n",
       "<caption>A tibble: 6 × 18</caption>\n",
       "<thead>\n",
       "\t<tr><th scope=col>player_name</th><th scope=col>age</th><th scope=col>player_height</th><th scope=col>player_weight</th><th scope=col>draft_year</th><th scope=col>draft_round</th><th scope=col>draft_number</th><th scope=col>gp</th><th scope=col>pts</th><th scope=col>reb</th><th scope=col>ast</th><th scope=col>net_rating</th><th scope=col>oreb_pct</th><th scope=col>dreb_pct</th><th scope=col>usg_pct</th><th scope=col>ts_pct</th><th scope=col>ast_pct</th><th scope=col>season_start</th></tr>\n",
       "\t<tr><th scope=col>&lt;chr&gt;</th><th scope=col>&lt;dbl&gt;</th><th scope=col>&lt;dbl&gt;</th><th scope=col>&lt;dbl&gt;</th><th scope=col>&lt;dbl&gt;</th><th scope=col>&lt;dbl&gt;</th><th scope=col>&lt;dbl&gt;</th><th scope=col>&lt;dbl&gt;</th><th scope=col>&lt;dbl&gt;</th><th scope=col>&lt;dbl&gt;</th><th scope=col>&lt;dbl&gt;</th><th scope=col>&lt;dbl&gt;</th><th scope=col>&lt;dbl&gt;</th><th scope=col>&lt;dbl&gt;</th><th scope=col>&lt;dbl&gt;</th><th scope=col>&lt;dbl&gt;</th><th scope=col>&lt;dbl&gt;</th><th scope=col>&lt;dbl&gt;</th></tr>\n",
       "</thead>\n",
       "<tbody>\n",
       "\t<tr><td>Randy Livingston</td><td>22</td><td>193.04</td><td> 94.80073</td><td>1996</td><td>2</td><td>42</td><td>64</td><td>3.9</td><td>1.5</td><td>2.4</td><td>  0.3</td><td>0.042</td><td>0.071</td><td>0.169</td><td>0.487</td><td>0.248</td><td>1996</td></tr>\n",
       "\t<tr><td>Erick Dampier   </td><td>21</td><td>210.82</td><td>120.20188</td><td>1996</td><td>1</td><td>10</td><td>72</td><td>5.1</td><td>4.1</td><td>0.6</td><td> -2.0</td><td>0.107</td><td>0.216</td><td>0.218</td><td>0.451</td><td>0.074</td><td>1996</td></tr>\n",
       "\t<tr><td>Jerome Williams </td><td>24</td><td>205.74</td><td> 93.43995</td><td>1996</td><td>1</td><td>26</td><td>33</td><td>1.5</td><td>1.5</td><td>0.2</td><td>  3.0</td><td>0.144</td><td>0.182</td><td>0.181</td><td>0.419</td><td>0.071</td><td>1996</td></tr>\n",
       "\t<tr><td>John Wallace    </td><td>23</td><td>205.74</td><td>102.05820</td><td>1996</td><td>1</td><td>18</td><td>68</td><td>4.8</td><td>2.3</td><td>0.5</td><td>  2.7</td><td>0.080</td><td>0.148</td><td>0.204</td><td>0.571</td><td>0.081</td><td>1996</td></tr>\n",
       "\t<tr><td>Jermaine O'Neal </td><td>18</td><td>210.82</td><td>102.51179</td><td>1996</td><td>1</td><td>17</td><td>45</td><td>4.1</td><td>2.8</td><td>0.2</td><td>  1.3</td><td>0.099</td><td>0.198</td><td>0.199</td><td>0.494</td><td>0.030</td><td>1996</td></tr>\n",
       "\t<tr><td>Jeff McInnis    </td><td>22</td><td>193.04</td><td> 86.18248</td><td>1996</td><td>2</td><td>37</td><td>13</td><td>5.0</td><td>0.5</td><td>1.4</td><td>-17.8</td><td>0.021</td><td>0.040</td><td>0.259</td><td>0.609</td><td>0.327</td><td>1996</td></tr>\n",
       "</tbody>\n",
       "</table>\n"
      ],
      "text/latex": [
       "A tibble: 6 × 18\n",
       "\\begin{tabular}{llllllllllllllllll}\n",
       " player\\_name & age & player\\_height & player\\_weight & draft\\_year & draft\\_round & draft\\_number & gp & pts & reb & ast & net\\_rating & oreb\\_pct & dreb\\_pct & usg\\_pct & ts\\_pct & ast\\_pct & season\\_start\\\\\n",
       " <chr> & <dbl> & <dbl> & <dbl> & <dbl> & <dbl> & <dbl> & <dbl> & <dbl> & <dbl> & <dbl> & <dbl> & <dbl> & <dbl> & <dbl> & <dbl> & <dbl> & <dbl>\\\\\n",
       "\\hline\n",
       "\t Randy Livingston & 22 & 193.04 &  94.80073 & 1996 & 2 & 42 & 64 & 3.9 & 1.5 & 2.4 &   0.3 & 0.042 & 0.071 & 0.169 & 0.487 & 0.248 & 1996\\\\\n",
       "\t Erick Dampier    & 21 & 210.82 & 120.20188 & 1996 & 1 & 10 & 72 & 5.1 & 4.1 & 0.6 &  -2.0 & 0.107 & 0.216 & 0.218 & 0.451 & 0.074 & 1996\\\\\n",
       "\t Jerome Williams  & 24 & 205.74 &  93.43995 & 1996 & 1 & 26 & 33 & 1.5 & 1.5 & 0.2 &   3.0 & 0.144 & 0.182 & 0.181 & 0.419 & 0.071 & 1996\\\\\n",
       "\t John Wallace     & 23 & 205.74 & 102.05820 & 1996 & 1 & 18 & 68 & 4.8 & 2.3 & 0.5 &   2.7 & 0.080 & 0.148 & 0.204 & 0.571 & 0.081 & 1996\\\\\n",
       "\t Jermaine O'Neal  & 18 & 210.82 & 102.51179 & 1996 & 1 & 17 & 45 & 4.1 & 2.8 & 0.2 &   1.3 & 0.099 & 0.198 & 0.199 & 0.494 & 0.030 & 1996\\\\\n",
       "\t Jeff McInnis     & 22 & 193.04 &  86.18248 & 1996 & 2 & 37 & 13 & 5.0 & 0.5 & 1.4 & -17.8 & 0.021 & 0.040 & 0.259 & 0.609 & 0.327 & 1996\\\\\n",
       "\\end{tabular}\n"
      ],
      "text/markdown": [
       "\n",
       "A tibble: 6 × 18\n",
       "\n",
       "| player_name &lt;chr&gt; | age &lt;dbl&gt; | player_height &lt;dbl&gt; | player_weight &lt;dbl&gt; | draft_year &lt;dbl&gt; | draft_round &lt;dbl&gt; | draft_number &lt;dbl&gt; | gp &lt;dbl&gt; | pts &lt;dbl&gt; | reb &lt;dbl&gt; | ast &lt;dbl&gt; | net_rating &lt;dbl&gt; | oreb_pct &lt;dbl&gt; | dreb_pct &lt;dbl&gt; | usg_pct &lt;dbl&gt; | ts_pct &lt;dbl&gt; | ast_pct &lt;dbl&gt; | season_start &lt;dbl&gt; |\n",
       "|---|---|---|---|---|---|---|---|---|---|---|---|---|---|---|---|---|---|\n",
       "| Randy Livingston | 22 | 193.04 |  94.80073 | 1996 | 2 | 42 | 64 | 3.9 | 1.5 | 2.4 |   0.3 | 0.042 | 0.071 | 0.169 | 0.487 | 0.248 | 1996 |\n",
       "| Erick Dampier    | 21 | 210.82 | 120.20188 | 1996 | 1 | 10 | 72 | 5.1 | 4.1 | 0.6 |  -2.0 | 0.107 | 0.216 | 0.218 | 0.451 | 0.074 | 1996 |\n",
       "| Jerome Williams  | 24 | 205.74 |  93.43995 | 1996 | 1 | 26 | 33 | 1.5 | 1.5 | 0.2 |   3.0 | 0.144 | 0.182 | 0.181 | 0.419 | 0.071 | 1996 |\n",
       "| John Wallace     | 23 | 205.74 | 102.05820 | 1996 | 1 | 18 | 68 | 4.8 | 2.3 | 0.5 |   2.7 | 0.080 | 0.148 | 0.204 | 0.571 | 0.081 | 1996 |\n",
       "| Jermaine O'Neal  | 18 | 210.82 | 102.51179 | 1996 | 1 | 17 | 45 | 4.1 | 2.8 | 0.2 |   1.3 | 0.099 | 0.198 | 0.199 | 0.494 | 0.030 | 1996 |\n",
       "| Jeff McInnis     | 22 | 193.04 |  86.18248 | 1996 | 2 | 37 | 13 | 5.0 | 0.5 | 1.4 | -17.8 | 0.021 | 0.040 | 0.259 | 0.609 | 0.327 | 1996 |\n",
       "\n"
      ],
      "text/plain": [
       "  player_name      age player_height player_weight draft_year draft_round\n",
       "1 Randy Livingston 22  193.04         94.80073     1996       2          \n",
       "2 Erick Dampier    21  210.82        120.20188     1996       1          \n",
       "3 Jerome Williams  24  205.74         93.43995     1996       1          \n",
       "4 John Wallace     23  205.74        102.05820     1996       1          \n",
       "5 Jermaine O'Neal  18  210.82        102.51179     1996       1          \n",
       "6 Jeff McInnis     22  193.04         86.18248     1996       2          \n",
       "  draft_number gp pts reb ast net_rating oreb_pct dreb_pct usg_pct ts_pct\n",
       "1 42           64 3.9 1.5 2.4   0.3      0.042    0.071    0.169   0.487 \n",
       "2 10           72 5.1 4.1 0.6  -2.0      0.107    0.216    0.218   0.451 \n",
       "3 26           33 1.5 1.5 0.2   3.0      0.144    0.182    0.181   0.419 \n",
       "4 18           68 4.8 2.3 0.5   2.7      0.080    0.148    0.204   0.571 \n",
       "5 17           45 4.1 2.8 0.2   1.3      0.099    0.198    0.199   0.494 \n",
       "6 37           13 5.0 0.5 1.4 -17.8      0.021    0.040    0.259   0.609 \n",
       "  ast_pct season_start\n",
       "1 0.248   1996        \n",
       "2 0.074   1996        \n",
       "3 0.071   1996        \n",
       "4 0.081   1996        \n",
       "5 0.030   1996        \n",
       "6 0.327   1996        "
      ]
     },
     "metadata": {},
     "output_type": "display_data"
    }
   ],
   "source": [
    "# trying to separate data into training data (excludes rookies) and test data (rookies)\n",
    "# nba_rookie <- nba_data |>\n",
    "#    filter(draft_year == 2022)\n",
    "\n",
    "# nba_non_rookies <- nba_data |>\n",
    "#    filter(draft_year >= 1996, draft_year <= 2021) \n",
    "\n",
    "# nba_training <- nba_non_rookies |>\n",
    "#    filter(draft_year == season_start) |>\n",
    "#    select(player_name) |>\n",
    "#    unique()\n",
    "\n",
    "# the problem is that some players did not play in the season they were drafted, we can see that ray is not counted as a rookie even though he played \n",
    "# his first season in 2022 since he was drafted in 2021. \n",
    "# tail(nba_training)\n",
    "\n",
    "# nba_ray <- nba_data |>\n",
    "#    filter(player_name == \"RaiQuan Gray\")\n",
    "\n",
    "# nba_ray\n",
    "\n",
    "# this can be solved using this:\n",
    "# df1[(df1$name %in% df2$name),] \n",
    "# or:\n",
    "# library(dplyr)\n",
    "# anti_join(df1, df2, by = \"name\")\n",
    "\n",
    "# gets the first season they've played \n",
    "nba_first_season <- nba_data[match(unique(nba_data$player_name), nba_data$player_name),]\n",
    "\n",
    "# first season of rookies (defined as first season is 2022)\n",
    "nba_testing <- nba_first_season |>\n",
    "    filter(season_start == 2022)\n",
    "\n",
    "# first season of non-rookies where draft year is after 1996 and the first season they've played is not 2022\n",
    "nba_training <- nba_first_season |>\n",
    "    filter(draft_year >= 1996, season_start <= 2021)\n",
    "\n",
    "nrow(nba_training)\n",
    "\n",
    "# data of all seasons of non-rookies\n",
    "nba_non_rookies_data <- nba_data[(nba_data$player_name %in% nba_training$player_name),] \n",
    "head(nba_non_rookies_data)"
   ]
  },
  {
   "cell_type": "code",
   "execution_count": 5,
   "id": "1d19f472-cb0a-4fdf-b6ab-8db47a818713",
   "metadata": {
    "tags": []
   },
   "outputs": [
    {
     "data": {
      "text/html": [
       "1346"
      ],
      "text/latex": [
       "1346"
      ],
      "text/markdown": [
       "1346"
      ],
      "text/plain": [
       "[1] 1346"
      ]
     },
     "metadata": {},
     "output_type": "display_data"
    },
    {
     "data": {
      "text/html": [
       "<table class=\"dataframe\">\n",
       "<caption>A tibble: 6 × 18</caption>\n",
       "<thead>\n",
       "\t<tr><th scope=col>player_name</th><th scope=col>age</th><th scope=col>player_height</th><th scope=col>player_weight</th><th scope=col>draft_year</th><th scope=col>draft_round</th><th scope=col>draft_number</th><th scope=col>gp</th><th scope=col>pts</th><th scope=col>reb</th><th scope=col>ast</th><th scope=col>net_rating</th><th scope=col>oreb_pct</th><th scope=col>dreb_pct</th><th scope=col>usg_pct</th><th scope=col>ts_pct</th><th scope=col>ast_pct</th><th scope=col>season_start</th></tr>\n",
       "\t<tr><th scope=col>&lt;chr&gt;</th><th scope=col>&lt;dbl&gt;</th><th scope=col>&lt;dbl&gt;</th><th scope=col>&lt;dbl&gt;</th><th scope=col>&lt;dbl&gt;</th><th scope=col>&lt;dbl&gt;</th><th scope=col>&lt;dbl&gt;</th><th scope=col>&lt;dbl&gt;</th><th scope=col>&lt;dbl&gt;</th><th scope=col>&lt;dbl&gt;</th><th scope=col>&lt;dbl&gt;</th><th scope=col>&lt;dbl&gt;</th><th scope=col>&lt;dbl&gt;</th><th scope=col>&lt;dbl&gt;</th><th scope=col>&lt;dbl&gt;</th><th scope=col>&lt;dbl&gt;</th><th scope=col>&lt;dbl&gt;</th><th scope=col>&lt;dbl&gt;</th></tr>\n",
       "</thead>\n",
       "<tbody>\n",
       "\t<tr><td>A.J. Bramlett</td><td>23</td><td>208.28</td><td>102.96538</td><td>1999</td><td>2</td><td>39</td><td> 8</td><td>1.0</td><td>2.8</td><td>0.0</td><td>-32.6</td><td>0.158</td><td>0.208</td><td>0.146</td><td>0.190</td><td>0.000</td><td>1999</td></tr>\n",
       "\t<tr><td>A.J. Guyton  </td><td>23</td><td>185.42</td><td> 81.64656</td><td>2000</td><td>2</td><td>32</td><td>33</td><td>6.0</td><td>1.1</td><td>1.9</td><td>-12.4</td><td>0.018</td><td>0.053</td><td>0.169</td><td>0.495</td><td>0.198</td><td>2000</td></tr>\n",
       "\t<tr><td>Aaron Brooks </td><td>23</td><td>182.88</td><td> 73.02831</td><td>2007</td><td>1</td><td>26</td><td>51</td><td>5.2</td><td>1.1</td><td>1.7</td><td> -0.5</td><td>0.026</td><td>0.085</td><td>0.224</td><td>0.535</td><td>0.249</td><td>2007</td></tr>\n",
       "\t<tr><td>Aaron Gordon </td><td>19</td><td>205.74</td><td> 99.79024</td><td>2014</td><td>1</td><td> 4</td><td>47</td><td>5.2</td><td>3.6</td><td>0.7</td><td> -5.6</td><td>0.064</td><td>0.171</td><td>0.156</td><td>0.517</td><td>0.064</td><td>2014</td></tr>\n",
       "\t<tr><td>Aaron Gray   </td><td>23</td><td>213.36</td><td>122.46984</td><td>2007</td><td>2</td><td>49</td><td>61</td><td>4.3</td><td>2.8</td><td>0.7</td><td> -1.0</td><td>0.127</td><td>0.188</td><td>0.221</td><td>0.529</td><td>0.113</td><td>2007</td></tr>\n",
       "\t<tr><td>Aaron Holiday</td><td>22</td><td>185.42</td><td> 83.91452</td><td>2018</td><td>1</td><td>23</td><td>50</td><td>5.9</td><td>1.3</td><td>1.7</td><td>  7.0</td><td>0.008</td><td>0.088</td><td>0.206</td><td>0.518</td><td>0.180</td><td>2018</td></tr>\n",
       "</tbody>\n",
       "</table>\n"
      ],
      "text/latex": [
       "A tibble: 6 × 18\n",
       "\\begin{tabular}{llllllllllllllllll}\n",
       " player\\_name & age & player\\_height & player\\_weight & draft\\_year & draft\\_round & draft\\_number & gp & pts & reb & ast & net\\_rating & oreb\\_pct & dreb\\_pct & usg\\_pct & ts\\_pct & ast\\_pct & season\\_start\\\\\n",
       " <chr> & <dbl> & <dbl> & <dbl> & <dbl> & <dbl> & <dbl> & <dbl> & <dbl> & <dbl> & <dbl> & <dbl> & <dbl> & <dbl> & <dbl> & <dbl> & <dbl> & <dbl>\\\\\n",
       "\\hline\n",
       "\t A.J. Bramlett & 23 & 208.28 & 102.96538 & 1999 & 2 & 39 &  8 & 1.0 & 2.8 & 0.0 & -32.6 & 0.158 & 0.208 & 0.146 & 0.190 & 0.000 & 1999\\\\\n",
       "\t A.J. Guyton   & 23 & 185.42 &  81.64656 & 2000 & 2 & 32 & 33 & 6.0 & 1.1 & 1.9 & -12.4 & 0.018 & 0.053 & 0.169 & 0.495 & 0.198 & 2000\\\\\n",
       "\t Aaron Brooks  & 23 & 182.88 &  73.02831 & 2007 & 1 & 26 & 51 & 5.2 & 1.1 & 1.7 &  -0.5 & 0.026 & 0.085 & 0.224 & 0.535 & 0.249 & 2007\\\\\n",
       "\t Aaron Gordon  & 19 & 205.74 &  99.79024 & 2014 & 1 &  4 & 47 & 5.2 & 3.6 & 0.7 &  -5.6 & 0.064 & 0.171 & 0.156 & 0.517 & 0.064 & 2014\\\\\n",
       "\t Aaron Gray    & 23 & 213.36 & 122.46984 & 2007 & 2 & 49 & 61 & 4.3 & 2.8 & 0.7 &  -1.0 & 0.127 & 0.188 & 0.221 & 0.529 & 0.113 & 2007\\\\\n",
       "\t Aaron Holiday & 22 & 185.42 &  83.91452 & 2018 & 1 & 23 & 50 & 5.9 & 1.3 & 1.7 &   7.0 & 0.008 & 0.088 & 0.206 & 0.518 & 0.180 & 2018\\\\\n",
       "\\end{tabular}\n"
      ],
      "text/markdown": [
       "\n",
       "A tibble: 6 × 18\n",
       "\n",
       "| player_name &lt;chr&gt; | age &lt;dbl&gt; | player_height &lt;dbl&gt; | player_weight &lt;dbl&gt; | draft_year &lt;dbl&gt; | draft_round &lt;dbl&gt; | draft_number &lt;dbl&gt; | gp &lt;dbl&gt; | pts &lt;dbl&gt; | reb &lt;dbl&gt; | ast &lt;dbl&gt; | net_rating &lt;dbl&gt; | oreb_pct &lt;dbl&gt; | dreb_pct &lt;dbl&gt; | usg_pct &lt;dbl&gt; | ts_pct &lt;dbl&gt; | ast_pct &lt;dbl&gt; | season_start &lt;dbl&gt; |\n",
       "|---|---|---|---|---|---|---|---|---|---|---|---|---|---|---|---|---|---|\n",
       "| A.J. Bramlett | 23 | 208.28 | 102.96538 | 1999 | 2 | 39 |  8 | 1.0 | 2.8 | 0.0 | -32.6 | 0.158 | 0.208 | 0.146 | 0.190 | 0.000 | 1999 |\n",
       "| A.J. Guyton   | 23 | 185.42 |  81.64656 | 2000 | 2 | 32 | 33 | 6.0 | 1.1 | 1.9 | -12.4 | 0.018 | 0.053 | 0.169 | 0.495 | 0.198 | 2000 |\n",
       "| Aaron Brooks  | 23 | 182.88 |  73.02831 | 2007 | 1 | 26 | 51 | 5.2 | 1.1 | 1.7 |  -0.5 | 0.026 | 0.085 | 0.224 | 0.535 | 0.249 | 2007 |\n",
       "| Aaron Gordon  | 19 | 205.74 |  99.79024 | 2014 | 1 |  4 | 47 | 5.2 | 3.6 | 0.7 |  -5.6 | 0.064 | 0.171 | 0.156 | 0.517 | 0.064 | 2014 |\n",
       "| Aaron Gray    | 23 | 213.36 | 122.46984 | 2007 | 2 | 49 | 61 | 4.3 | 2.8 | 0.7 |  -1.0 | 0.127 | 0.188 | 0.221 | 0.529 | 0.113 | 2007 |\n",
       "| Aaron Holiday | 22 | 185.42 |  83.91452 | 2018 | 1 | 23 | 50 | 5.9 | 1.3 | 1.7 |   7.0 | 0.008 | 0.088 | 0.206 | 0.518 | 0.180 | 2018 |\n",
       "\n"
      ],
      "text/plain": [
       "  player_name   age player_height player_weight draft_year draft_round\n",
       "1 A.J. Bramlett 23  208.28        102.96538     1999       2          \n",
       "2 A.J. Guyton   23  185.42         81.64656     2000       2          \n",
       "3 Aaron Brooks  23  182.88         73.02831     2007       1          \n",
       "4 Aaron Gordon  19  205.74         99.79024     2014       1          \n",
       "5 Aaron Gray    23  213.36        122.46984     2007       2          \n",
       "6 Aaron Holiday 22  185.42         83.91452     2018       1          \n",
       "  draft_number gp pts reb ast net_rating oreb_pct dreb_pct usg_pct ts_pct\n",
       "1 39            8 1.0 2.8 0.0 -32.6      0.158    0.208    0.146   0.190 \n",
       "2 32           33 6.0 1.1 1.9 -12.4      0.018    0.053    0.169   0.495 \n",
       "3 26           51 5.2 1.1 1.7  -0.5      0.026    0.085    0.224   0.535 \n",
       "4  4           47 5.2 3.6 0.7  -5.6      0.064    0.171    0.156   0.517 \n",
       "5 49           61 4.3 2.8 0.7  -1.0      0.127    0.188    0.221   0.529 \n",
       "6 23           50 5.9 1.3 1.7   7.0      0.008    0.088    0.206   0.518 \n",
       "  ast_pct season_start\n",
       "1 0.000   1999        \n",
       "2 0.198   2000        \n",
       "3 0.249   2007        \n",
       "4 0.064   2014        \n",
       "5 0.113   2007        \n",
       "6 0.180   2018        "
      ]
     },
     "metadata": {},
     "output_type": "display_data"
    },
    {
     "data": {
      "text/html": [
       "<table class=\"dataframe\">\n",
       "<caption>A data.frame: 6 × 19</caption>\n",
       "<thead>\n",
       "\t<tr><th></th><th scope=col>player_name</th><th scope=col>age</th><th scope=col>player_height</th><th scope=col>player_weight</th><th scope=col>draft_year</th><th scope=col>draft_round</th><th scope=col>draft_number</th><th scope=col>gp</th><th scope=col>pts</th><th scope=col>reb</th><th scope=col>ast</th><th scope=col>net_rating</th><th scope=col>oreb_pct</th><th scope=col>dreb_pct</th><th scope=col>usg_pct</th><th scope=col>ts_pct</th><th scope=col>ast_pct</th><th scope=col>season_start</th><th scope=col>total_points</th></tr>\n",
       "\t<tr><th></th><th scope=col>&lt;chr&gt;</th><th scope=col>&lt;dbl&gt;</th><th scope=col>&lt;dbl&gt;</th><th scope=col>&lt;dbl&gt;</th><th scope=col>&lt;dbl&gt;</th><th scope=col>&lt;dbl&gt;</th><th scope=col>&lt;dbl&gt;</th><th scope=col>&lt;dbl&gt;</th><th scope=col>&lt;dbl&gt;</th><th scope=col>&lt;dbl&gt;</th><th scope=col>&lt;dbl&gt;</th><th scope=col>&lt;dbl&gt;</th><th scope=col>&lt;dbl&gt;</th><th scope=col>&lt;dbl&gt;</th><th scope=col>&lt;dbl&gt;</th><th scope=col>&lt;dbl&gt;</th><th scope=col>&lt;dbl&gt;</th><th scope=col>&lt;dbl&gt;</th><th scope=col>&lt;dbl&gt;</th></tr>\n",
       "</thead>\n",
       "<tbody>\n",
       "\t<tr><th scope=row>1</th><td>A.J. Bramlett</td><td>23</td><td>208.28</td><td>102.96538</td><td>1999</td><td>2</td><td>39</td><td> 8</td><td>1.0</td><td>2.8</td><td>0.0</td><td>-32.6</td><td>0.158</td><td>0.208</td><td>0.146</td><td>0.190</td><td>0.000</td><td>1999</td><td>   8.0</td></tr>\n",
       "\t<tr><th scope=row>2</th><td>A.J. Guyton  </td><td>23</td><td>185.42</td><td> 81.64656</td><td>2000</td><td>2</td><td>32</td><td>33</td><td>6.0</td><td>1.1</td><td>1.9</td><td>-12.4</td><td>0.018</td><td>0.053</td><td>0.169</td><td>0.495</td><td>0.198</td><td>2000</td><td> 441.0</td></tr>\n",
       "\t<tr><th scope=row>3</th><td>Aaron Brooks </td><td>23</td><td>182.88</td><td> 73.02831</td><td>2007</td><td>1</td><td>26</td><td>51</td><td>5.2</td><td>1.1</td><td>1.7</td><td> -0.5</td><td>0.026</td><td>0.085</td><td>0.224</td><td>0.535</td><td>0.249</td><td>2007</td><td>  48.4</td></tr>\n",
       "\t<tr><th scope=row>4</th><td>Aaron Gordon </td><td>19</td><td>205.74</td><td> 99.79024</td><td>2014</td><td>1</td><td> 4</td><td>47</td><td>5.2</td><td>3.6</td><td>0.7</td><td> -5.6</td><td>0.064</td><td>0.171</td><td>0.156</td><td>0.517</td><td>0.064</td><td>2014</td><td>1521.7</td></tr>\n",
       "\t<tr><th scope=row>5</th><td>Aaron Gray   </td><td>23</td><td>213.36</td><td>122.46984</td><td>2007</td><td>2</td><td>49</td><td>61</td><td>4.3</td><td>2.8</td><td>0.7</td><td> -1.0</td><td>0.127</td><td>0.188</td><td>0.221</td><td>0.529</td><td>0.113</td><td>2007</td><td>6263.7</td></tr>\n",
       "\t<tr><th scope=row>6</th><td>Aaron Holiday</td><td>22</td><td>185.42</td><td> 83.91452</td><td>2018</td><td>1</td><td>23</td><td>50</td><td>5.9</td><td>1.3</td><td>1.7</td><td>  7.0</td><td>0.008</td><td>0.088</td><td>0.206</td><td>0.518</td><td>0.180</td><td>2018</td><td>7993.0</td></tr>\n",
       "</tbody>\n",
       "</table>\n"
      ],
      "text/latex": [
       "A data.frame: 6 × 19\n",
       "\\begin{tabular}{r|lllllllllllllllllll}\n",
       "  & player\\_name & age & player\\_height & player\\_weight & draft\\_year & draft\\_round & draft\\_number & gp & pts & reb & ast & net\\_rating & oreb\\_pct & dreb\\_pct & usg\\_pct & ts\\_pct & ast\\_pct & season\\_start & total\\_points\\\\\n",
       "  & <chr> & <dbl> & <dbl> & <dbl> & <dbl> & <dbl> & <dbl> & <dbl> & <dbl> & <dbl> & <dbl> & <dbl> & <dbl> & <dbl> & <dbl> & <dbl> & <dbl> & <dbl> & <dbl>\\\\\n",
       "\\hline\n",
       "\t1 & A.J. Bramlett & 23 & 208.28 & 102.96538 & 1999 & 2 & 39 &  8 & 1.0 & 2.8 & 0.0 & -32.6 & 0.158 & 0.208 & 0.146 & 0.190 & 0.000 & 1999 &    8.0\\\\\n",
       "\t2 & A.J. Guyton   & 23 & 185.42 &  81.64656 & 2000 & 2 & 32 & 33 & 6.0 & 1.1 & 1.9 & -12.4 & 0.018 & 0.053 & 0.169 & 0.495 & 0.198 & 2000 &  441.0\\\\\n",
       "\t3 & Aaron Brooks  & 23 & 182.88 &  73.02831 & 2007 & 1 & 26 & 51 & 5.2 & 1.1 & 1.7 &  -0.5 & 0.026 & 0.085 & 0.224 & 0.535 & 0.249 & 2007 &   48.4\\\\\n",
       "\t4 & Aaron Gordon  & 19 & 205.74 &  99.79024 & 2014 & 1 &  4 & 47 & 5.2 & 3.6 & 0.7 &  -5.6 & 0.064 & 0.171 & 0.156 & 0.517 & 0.064 & 2014 & 1521.7\\\\\n",
       "\t5 & Aaron Gray    & 23 & 213.36 & 122.46984 & 2007 & 2 & 49 & 61 & 4.3 & 2.8 & 0.7 &  -1.0 & 0.127 & 0.188 & 0.221 & 0.529 & 0.113 & 2007 & 6263.7\\\\\n",
       "\t6 & Aaron Holiday & 22 & 185.42 &  83.91452 & 2018 & 1 & 23 & 50 & 5.9 & 1.3 & 1.7 &   7.0 & 0.008 & 0.088 & 0.206 & 0.518 & 0.180 & 2018 & 7993.0\\\\\n",
       "\\end{tabular}\n"
      ],
      "text/markdown": [
       "\n",
       "A data.frame: 6 × 19\n",
       "\n",
       "| <!--/--> | player_name &lt;chr&gt; | age &lt;dbl&gt; | player_height &lt;dbl&gt; | player_weight &lt;dbl&gt; | draft_year &lt;dbl&gt; | draft_round &lt;dbl&gt; | draft_number &lt;dbl&gt; | gp &lt;dbl&gt; | pts &lt;dbl&gt; | reb &lt;dbl&gt; | ast &lt;dbl&gt; | net_rating &lt;dbl&gt; | oreb_pct &lt;dbl&gt; | dreb_pct &lt;dbl&gt; | usg_pct &lt;dbl&gt; | ts_pct &lt;dbl&gt; | ast_pct &lt;dbl&gt; | season_start &lt;dbl&gt; | total_points &lt;dbl&gt; |\n",
       "|---|---|---|---|---|---|---|---|---|---|---|---|---|---|---|---|---|---|---|---|\n",
       "| 1 | A.J. Bramlett | 23 | 208.28 | 102.96538 | 1999 | 2 | 39 |  8 | 1.0 | 2.8 | 0.0 | -32.6 | 0.158 | 0.208 | 0.146 | 0.190 | 0.000 | 1999 |    8.0 |\n",
       "| 2 | A.J. Guyton   | 23 | 185.42 |  81.64656 | 2000 | 2 | 32 | 33 | 6.0 | 1.1 | 1.9 | -12.4 | 0.018 | 0.053 | 0.169 | 0.495 | 0.198 | 2000 |  441.0 |\n",
       "| 3 | Aaron Brooks  | 23 | 182.88 |  73.02831 | 2007 | 1 | 26 | 51 | 5.2 | 1.1 | 1.7 |  -0.5 | 0.026 | 0.085 | 0.224 | 0.535 | 0.249 | 2007 |   48.4 |\n",
       "| 4 | Aaron Gordon  | 19 | 205.74 |  99.79024 | 2014 | 1 |  4 | 47 | 5.2 | 3.6 | 0.7 |  -5.6 | 0.064 | 0.171 | 0.156 | 0.517 | 0.064 | 2014 | 1521.7 |\n",
       "| 5 | Aaron Gray    | 23 | 213.36 | 122.46984 | 2007 | 2 | 49 | 61 | 4.3 | 2.8 | 0.7 |  -1.0 | 0.127 | 0.188 | 0.221 | 0.529 | 0.113 | 2007 | 6263.7 |\n",
       "| 6 | Aaron Holiday | 22 | 185.42 |  83.91452 | 2018 | 1 | 23 | 50 | 5.9 | 1.3 | 1.7 |   7.0 | 0.008 | 0.088 | 0.206 | 0.518 | 0.180 | 2018 | 7993.0 |\n",
       "\n"
      ],
      "text/plain": [
       "  player_name   age player_height player_weight draft_year draft_round\n",
       "1 A.J. Bramlett 23  208.28        102.96538     1999       2          \n",
       "2 A.J. Guyton   23  185.42         81.64656     2000       2          \n",
       "3 Aaron Brooks  23  182.88         73.02831     2007       1          \n",
       "4 Aaron Gordon  19  205.74         99.79024     2014       1          \n",
       "5 Aaron Gray    23  213.36        122.46984     2007       2          \n",
       "6 Aaron Holiday 22  185.42         83.91452     2018       1          \n",
       "  draft_number gp pts reb ast net_rating oreb_pct dreb_pct usg_pct ts_pct\n",
       "1 39            8 1.0 2.8 0.0 -32.6      0.158    0.208    0.146   0.190 \n",
       "2 32           33 6.0 1.1 1.9 -12.4      0.018    0.053    0.169   0.495 \n",
       "3 26           51 5.2 1.1 1.7  -0.5      0.026    0.085    0.224   0.535 \n",
       "4  4           47 5.2 3.6 0.7  -5.6      0.064    0.171    0.156   0.517 \n",
       "5 49           61 4.3 2.8 0.7  -1.0      0.127    0.188    0.221   0.529 \n",
       "6 23           50 5.9 1.3 1.7   7.0      0.008    0.088    0.206   0.518 \n",
       "  ast_pct season_start total_points\n",
       "1 0.000   1999            8.0      \n",
       "2 0.198   2000          441.0      \n",
       "3 0.249   2007           48.4      \n",
       "4 0.064   2014         1521.7      \n",
       "5 0.113   2007         6263.7      \n",
       "6 0.180   2018         7993.0      "
      ]
     },
     "metadata": {},
     "output_type": "display_data"
    }
   ],
   "source": [
    "# finding career points of nba players drafted between 1996 and 2021 and played their first season before 2022 (inclusive)\n",
    "nba_total_points <- nba_non_rookies_data |>\n",
    "    group_by(player_name) |>\n",
    "    summarize(\"total_points\" = sum(pts*gp)) |>\n",
    "    select(\"total_points\")\n",
    "\n",
    "nrow(nba_total_points)\n",
    "\n",
    "# nba_training_labelled <- cbind(nba_training, nba_total_points)\n",
    "# head(nba_training_labelled)\n",
    "\n",
    "# new problem is that the players are sorted alphabetically in total points but chronologically in nba_training\n",
    "# to solve this issue, we must sort nba_training alphabetically and then cbind\n",
    "\n",
    "nba_training_ordered <- nba_training[order(nba_training$player_name),]\n",
    "head(nba_training_ordered)\n",
    "\n",
    "nba_training_labelled <- cbind(nba_training_ordered, nba_total_points)\n",
    "head(nba_training_labelled)\n"
   ]
  },
  {
   "cell_type": "markdown",
   "id": "2a292b74-838d-4329-8abf-d9c0c0a54132",
   "metadata": {},
   "source": [
    "## Regression ##\n",
    "\n",
    "Performing knn regression by tuning"
   ]
  },
  {
   "cell_type": "code",
   "execution_count": 37,
   "id": "d61115ba-4b03-4f49-bdd6-156efdd8a4d8",
   "metadata": {
    "tags": []
   },
   "outputs": [
    {
     "data": {
      "text/plain": [
       "Recipe\n",
       "\n",
       "Inputs:\n",
       "\n",
       "      role #variables\n",
       "   outcome          1\n",
       " predictor          5\n",
       "\n",
       "Operations:\n",
       "\n",
       "Scaling for all_predictors()\n",
       "Centering for all_predictors()"
      ]
     },
     "metadata": {},
     "output_type": "display_data"
    }
   ],
   "source": [
    "set.seed(1234)\n",
    "nba_spec <- nearest_neighbor(weight_func = \"rectangular\", neighbors = tune()) |> \n",
    "       set_engine(\"kknn\") |>\n",
    "       set_mode(\"regression\") \n",
    "\n",
    "nba_recipe <- recipe(total_points ~ pts + gp + player_height + usg_pct + ts_pct, data = nba_training_labelled) |>\n",
    "       step_scale(all_predictors()) |>\n",
    "       step_center(all_predictors())\n",
    "\n",
    "nba_recipe"
   ]
  },
  {
   "cell_type": "code",
   "execution_count": 38,
   "id": "8102927b-4ccf-4afa-b0cc-6bfaeda0e48c",
   "metadata": {
    "tags": []
   },
   "outputs": [
    {
     "data": {
      "text/plain": [
       "══ Workflow ════════════════════════════════════════════════════════════════════\n",
       "\u001b[3mPreprocessor:\u001b[23m Recipe\n",
       "\u001b[3mModel:\u001b[23m nearest_neighbor()\n",
       "\n",
       "── Preprocessor ────────────────────────────────────────────────────────────────\n",
       "2 Recipe Steps\n",
       "\n",
       "• step_scale()\n",
       "• step_center()\n",
       "\n",
       "── Model ───────────────────────────────────────────────────────────────────────\n",
       "K-Nearest Neighbor Model Specification (regression)\n",
       "\n",
       "Main Arguments:\n",
       "  neighbors = tune()\n",
       "  weight_func = rectangular\n",
       "\n",
       "Computational engine: kknn \n"
      ]
     },
     "metadata": {},
     "output_type": "display_data"
    }
   ],
   "source": [
    "set.seed(1234)\n",
    "nba_vfold <- vfold_cv(nba_training_labelled, v = 5, strata = total_points)\n",
    "nba_workflow <- workflow() |>\n",
    "    add_recipe(nba_recipe) |>\n",
    "    add_model(nba_spec)\n",
    "nba_workflow"
   ]
  },
  {
   "cell_type": "code",
   "execution_count": 44,
   "id": "ffae4477-ee85-4a20-89c0-3ffabdd58c08",
   "metadata": {
    "tags": []
   },
   "outputs": [
    {
     "data": {
      "text/html": [
       "<table class=\"dataframe\">\n",
       "<caption>A tibble: 42 × 7</caption>\n",
       "<thead>\n",
       "\t<tr><th scope=col>neighbors</th><th scope=col>.metric</th><th scope=col>.estimator</th><th scope=col>mean</th><th scope=col>n</th><th scope=col>std_err</th><th scope=col>.config</th></tr>\n",
       "\t<tr><th scope=col>&lt;dbl&gt;</th><th scope=col>&lt;chr&gt;</th><th scope=col>&lt;chr&gt;</th><th scope=col>&lt;dbl&gt;</th><th scope=col>&lt;int&gt;</th><th scope=col>&lt;dbl&gt;</th><th scope=col>&lt;chr&gt;</th></tr>\n",
       "</thead>\n",
       "<tbody>\n",
       "\t<tr><td>  1</td><td>rmse</td><td>standard</td><td>6.890834e+03</td><td>5</td><td>2.234278e+02</td><td>Preprocessor1_Model01</td></tr>\n",
       "\t<tr><td>  1</td><td>rsq </td><td>standard</td><td>6.214469e-03</td><td>5</td><td>3.161514e-03</td><td>Preprocessor1_Model01</td></tr>\n",
       "\t<tr><td> 11</td><td>rmse</td><td>standard</td><td>4.859548e+03</td><td>5</td><td>1.119979e+02</td><td>Preprocessor1_Model02</td></tr>\n",
       "\t<tr><td> 11</td><td>rsq </td><td>standard</td><td>4.186821e-02</td><td>5</td><td>1.140464e-02</td><td>Preprocessor1_Model02</td></tr>\n",
       "\t<tr><td> 21</td><td>rmse</td><td>standard</td><td>4.761157e+03</td><td>5</td><td>1.099117e+02</td><td>Preprocessor1_Model03</td></tr>\n",
       "\t<tr><td> 21</td><td>rsq </td><td>standard</td><td>5.519527e-02</td><td>5</td><td>1.467649e-02</td><td>Preprocessor1_Model03</td></tr>\n",
       "\t<tr><td> 31</td><td>rmse</td><td>standard</td><td>4.701834e+03</td><td>5</td><td>1.187530e+02</td><td>Preprocessor1_Model04</td></tr>\n",
       "\t<tr><td> 31</td><td>rsq </td><td>standard</td><td>6.974384e-02</td><td>5</td><td>1.837465e-02</td><td>Preprocessor1_Model04</td></tr>\n",
       "\t<tr><td> 41</td><td>rmse</td><td>standard</td><td>4.693749e+03</td><td>5</td><td>1.113405e+02</td><td>Preprocessor1_Model05</td></tr>\n",
       "\t<tr><td> 41</td><td>rsq </td><td>standard</td><td>6.938071e-02</td><td>5</td><td>1.374920e-02</td><td>Preprocessor1_Model05</td></tr>\n",
       "\t<tr><td> 51</td><td>rmse</td><td>standard</td><td>4.682601e+03</td><td>5</td><td>1.064363e+02</td><td>Preprocessor1_Model06</td></tr>\n",
       "\t<tr><td> 51</td><td>rsq </td><td>standard</td><td>7.230676e-02</td><td>5</td><td>1.329435e-02</td><td>Preprocessor1_Model06</td></tr>\n",
       "\t<tr><td> 61</td><td>rmse</td><td>standard</td><td>4.677488e+03</td><td>5</td><td>1.060946e+02</td><td>Preprocessor1_Model07</td></tr>\n",
       "\t<tr><td> 61</td><td>rsq </td><td>standard</td><td>7.368008e-02</td><td>5</td><td>1.341979e-02</td><td>Preprocessor1_Model07</td></tr>\n",
       "\t<tr><td> 71</td><td>rmse</td><td>standard</td><td>4.672157e+03</td><td>5</td><td>1.070509e+02</td><td>Preprocessor1_Model08</td></tr>\n",
       "\t<tr><td> 71</td><td>rsq </td><td>standard</td><td>7.582278e-02</td><td>5</td><td>1.385855e-02</td><td>Preprocessor1_Model08</td></tr>\n",
       "\t<tr><td> 81</td><td>rmse</td><td>standard</td><td>4.664314e+03</td><td>5</td><td>1.067673e+02</td><td>Preprocessor1_Model09</td></tr>\n",
       "\t<tr><td> 81</td><td>rsq </td><td>standard</td><td>7.897866e-02</td><td>5</td><td>1.291756e-02</td><td>Preprocessor1_Model09</td></tr>\n",
       "\t<tr><td> 91</td><td>rmse</td><td>standard</td><td>4.661176e+03</td><td>5</td><td>1.090637e+02</td><td>Preprocessor1_Model10</td></tr>\n",
       "\t<tr><td> 91</td><td>rsq </td><td>standard</td><td>8.097855e-02</td><td>5</td><td>1.392240e-02</td><td>Preprocessor1_Model10</td></tr>\n",
       "\t<tr><td>101</td><td>rmse</td><td>standard</td><td>4.661378e+03</td><td>5</td><td>1.106826e+02</td><td>Preprocessor1_Model11</td></tr>\n",
       "\t<tr><td>101</td><td>rsq </td><td>standard</td><td>8.028173e-02</td><td>5</td><td>1.168306e-02</td><td>Preprocessor1_Model11</td></tr>\n",
       "\t<tr><td>111</td><td>rmse</td><td>standard</td><td>4.660142e+03</td><td>5</td><td>1.098917e+02</td><td>Preprocessor1_Model12</td></tr>\n",
       "\t<tr><td>111</td><td>rsq </td><td>standard</td><td>8.091678e-02</td><td>5</td><td>1.168975e-02</td><td>Preprocessor1_Model12</td></tr>\n",
       "\t<tr><td>121</td><td>rmse</td><td>standard</td><td>4.662582e+03</td><td>5</td><td>1.098944e+02</td><td>Preprocessor1_Model13</td></tr>\n",
       "\t<tr><td>121</td><td>rsq </td><td>standard</td><td>7.951573e-02</td><td>5</td><td>1.010229e-02</td><td>Preprocessor1_Model13</td></tr>\n",
       "\t<tr><td>131</td><td>rmse</td><td>standard</td><td>4.663128e+03</td><td>5</td><td>1.107670e+02</td><td>Preprocessor1_Model14</td></tr>\n",
       "\t<tr><td>131</td><td>rsq </td><td>standard</td><td>7.994926e-02</td><td>5</td><td>1.106416e-02</td><td>Preprocessor1_Model14</td></tr>\n",
       "\t<tr><td>141</td><td>rmse</td><td>standard</td><td>4.666219e+03</td><td>5</td><td>1.094003e+02</td><td>Preprocessor1_Model15</td></tr>\n",
       "\t<tr><td>141</td><td>rsq </td><td>standard</td><td>7.901793e-02</td><td>5</td><td>1.120726e-02</td><td>Preprocessor1_Model15</td></tr>\n",
       "\t<tr><td>151</td><td>rmse</td><td>standard</td><td>4.667051e+03</td><td>5</td><td>1.089366e+02</td><td>Preprocessor1_Model16</td></tr>\n",
       "\t<tr><td>151</td><td>rsq </td><td>standard</td><td>7.868772e-02</td><td>5</td><td>1.028004e-02</td><td>Preprocessor1_Model16</td></tr>\n",
       "\t<tr><td>161</td><td>rmse</td><td>standard</td><td>4.664933e+03</td><td>5</td><td>1.100076e+02</td><td>Preprocessor1_Model17</td></tr>\n",
       "\t<tr><td>161</td><td>rsq </td><td>standard</td><td>8.018063e-02</td><td>5</td><td>1.050516e-02</td><td>Preprocessor1_Model17</td></tr>\n",
       "\t<tr><td>171</td><td>rmse</td><td>standard</td><td>4.668760e+03</td><td>5</td><td>1.088659e+02</td><td>Preprocessor1_Model18</td></tr>\n",
       "\t<tr><td>171</td><td>rsq </td><td>standard</td><td>7.897621e-02</td><td>5</td><td>1.053118e-02</td><td>Preprocessor1_Model18</td></tr>\n",
       "\t<tr><td>181</td><td>rmse</td><td>standard</td><td>4.668681e+03</td><td>5</td><td>1.087760e+02</td><td>Preprocessor1_Model19</td></tr>\n",
       "\t<tr><td>181</td><td>rsq </td><td>standard</td><td>7.981352e-02</td><td>5</td><td>1.185013e-02</td><td>Preprocessor1_Model19</td></tr>\n",
       "\t<tr><td>191</td><td>rmse</td><td>standard</td><td>4.668319e+03</td><td>5</td><td>1.098946e+02</td><td>Preprocessor1_Model20</td></tr>\n",
       "\t<tr><td>191</td><td>rsq </td><td>standard</td><td>8.078476e-02</td><td>5</td><td>1.267409e-02</td><td>Preprocessor1_Model20</td></tr>\n",
       "\t<tr><td>201</td><td>rmse</td><td>standard</td><td>4.672545e+03</td><td>5</td><td>1.108228e+02</td><td>Preprocessor1_Model21</td></tr>\n",
       "\t<tr><td>201</td><td>rsq </td><td>standard</td><td>7.919126e-02</td><td>5</td><td>1.219935e-02</td><td>Preprocessor1_Model21</td></tr>\n",
       "</tbody>\n",
       "</table>\n"
      ],
      "text/latex": [
       "A tibble: 42 × 7\n",
       "\\begin{tabular}{lllllll}\n",
       " neighbors & .metric & .estimator & mean & n & std\\_err & .config\\\\\n",
       " <dbl> & <chr> & <chr> & <dbl> & <int> & <dbl> & <chr>\\\\\n",
       "\\hline\n",
       "\t   1 & rmse & standard & 6.890834e+03 & 5 & 2.234278e+02 & Preprocessor1\\_Model01\\\\\n",
       "\t   1 & rsq  & standard & 6.214469e-03 & 5 & 3.161514e-03 & Preprocessor1\\_Model01\\\\\n",
       "\t  11 & rmse & standard & 4.859548e+03 & 5 & 1.119979e+02 & Preprocessor1\\_Model02\\\\\n",
       "\t  11 & rsq  & standard & 4.186821e-02 & 5 & 1.140464e-02 & Preprocessor1\\_Model02\\\\\n",
       "\t  21 & rmse & standard & 4.761157e+03 & 5 & 1.099117e+02 & Preprocessor1\\_Model03\\\\\n",
       "\t  21 & rsq  & standard & 5.519527e-02 & 5 & 1.467649e-02 & Preprocessor1\\_Model03\\\\\n",
       "\t  31 & rmse & standard & 4.701834e+03 & 5 & 1.187530e+02 & Preprocessor1\\_Model04\\\\\n",
       "\t  31 & rsq  & standard & 6.974384e-02 & 5 & 1.837465e-02 & Preprocessor1\\_Model04\\\\\n",
       "\t  41 & rmse & standard & 4.693749e+03 & 5 & 1.113405e+02 & Preprocessor1\\_Model05\\\\\n",
       "\t  41 & rsq  & standard & 6.938071e-02 & 5 & 1.374920e-02 & Preprocessor1\\_Model05\\\\\n",
       "\t  51 & rmse & standard & 4.682601e+03 & 5 & 1.064363e+02 & Preprocessor1\\_Model06\\\\\n",
       "\t  51 & rsq  & standard & 7.230676e-02 & 5 & 1.329435e-02 & Preprocessor1\\_Model06\\\\\n",
       "\t  61 & rmse & standard & 4.677488e+03 & 5 & 1.060946e+02 & Preprocessor1\\_Model07\\\\\n",
       "\t  61 & rsq  & standard & 7.368008e-02 & 5 & 1.341979e-02 & Preprocessor1\\_Model07\\\\\n",
       "\t  71 & rmse & standard & 4.672157e+03 & 5 & 1.070509e+02 & Preprocessor1\\_Model08\\\\\n",
       "\t  71 & rsq  & standard & 7.582278e-02 & 5 & 1.385855e-02 & Preprocessor1\\_Model08\\\\\n",
       "\t  81 & rmse & standard & 4.664314e+03 & 5 & 1.067673e+02 & Preprocessor1\\_Model09\\\\\n",
       "\t  81 & rsq  & standard & 7.897866e-02 & 5 & 1.291756e-02 & Preprocessor1\\_Model09\\\\\n",
       "\t  91 & rmse & standard & 4.661176e+03 & 5 & 1.090637e+02 & Preprocessor1\\_Model10\\\\\n",
       "\t  91 & rsq  & standard & 8.097855e-02 & 5 & 1.392240e-02 & Preprocessor1\\_Model10\\\\\n",
       "\t 101 & rmse & standard & 4.661378e+03 & 5 & 1.106826e+02 & Preprocessor1\\_Model11\\\\\n",
       "\t 101 & rsq  & standard & 8.028173e-02 & 5 & 1.168306e-02 & Preprocessor1\\_Model11\\\\\n",
       "\t 111 & rmse & standard & 4.660142e+03 & 5 & 1.098917e+02 & Preprocessor1\\_Model12\\\\\n",
       "\t 111 & rsq  & standard & 8.091678e-02 & 5 & 1.168975e-02 & Preprocessor1\\_Model12\\\\\n",
       "\t 121 & rmse & standard & 4.662582e+03 & 5 & 1.098944e+02 & Preprocessor1\\_Model13\\\\\n",
       "\t 121 & rsq  & standard & 7.951573e-02 & 5 & 1.010229e-02 & Preprocessor1\\_Model13\\\\\n",
       "\t 131 & rmse & standard & 4.663128e+03 & 5 & 1.107670e+02 & Preprocessor1\\_Model14\\\\\n",
       "\t 131 & rsq  & standard & 7.994926e-02 & 5 & 1.106416e-02 & Preprocessor1\\_Model14\\\\\n",
       "\t 141 & rmse & standard & 4.666219e+03 & 5 & 1.094003e+02 & Preprocessor1\\_Model15\\\\\n",
       "\t 141 & rsq  & standard & 7.901793e-02 & 5 & 1.120726e-02 & Preprocessor1\\_Model15\\\\\n",
       "\t 151 & rmse & standard & 4.667051e+03 & 5 & 1.089366e+02 & Preprocessor1\\_Model16\\\\\n",
       "\t 151 & rsq  & standard & 7.868772e-02 & 5 & 1.028004e-02 & Preprocessor1\\_Model16\\\\\n",
       "\t 161 & rmse & standard & 4.664933e+03 & 5 & 1.100076e+02 & Preprocessor1\\_Model17\\\\\n",
       "\t 161 & rsq  & standard & 8.018063e-02 & 5 & 1.050516e-02 & Preprocessor1\\_Model17\\\\\n",
       "\t 171 & rmse & standard & 4.668760e+03 & 5 & 1.088659e+02 & Preprocessor1\\_Model18\\\\\n",
       "\t 171 & rsq  & standard & 7.897621e-02 & 5 & 1.053118e-02 & Preprocessor1\\_Model18\\\\\n",
       "\t 181 & rmse & standard & 4.668681e+03 & 5 & 1.087760e+02 & Preprocessor1\\_Model19\\\\\n",
       "\t 181 & rsq  & standard & 7.981352e-02 & 5 & 1.185013e-02 & Preprocessor1\\_Model19\\\\\n",
       "\t 191 & rmse & standard & 4.668319e+03 & 5 & 1.098946e+02 & Preprocessor1\\_Model20\\\\\n",
       "\t 191 & rsq  & standard & 8.078476e-02 & 5 & 1.267409e-02 & Preprocessor1\\_Model20\\\\\n",
       "\t 201 & rmse & standard & 4.672545e+03 & 5 & 1.108228e+02 & Preprocessor1\\_Model21\\\\\n",
       "\t 201 & rsq  & standard & 7.919126e-02 & 5 & 1.219935e-02 & Preprocessor1\\_Model21\\\\\n",
       "\\end{tabular}\n"
      ],
      "text/markdown": [
       "\n",
       "A tibble: 42 × 7\n",
       "\n",
       "| neighbors &lt;dbl&gt; | .metric &lt;chr&gt; | .estimator &lt;chr&gt; | mean &lt;dbl&gt; | n &lt;int&gt; | std_err &lt;dbl&gt; | .config &lt;chr&gt; |\n",
       "|---|---|---|---|---|---|---|\n",
       "|   1 | rmse | standard | 6.890834e+03 | 5 | 2.234278e+02 | Preprocessor1_Model01 |\n",
       "|   1 | rsq  | standard | 6.214469e-03 | 5 | 3.161514e-03 | Preprocessor1_Model01 |\n",
       "|  11 | rmse | standard | 4.859548e+03 | 5 | 1.119979e+02 | Preprocessor1_Model02 |\n",
       "|  11 | rsq  | standard | 4.186821e-02 | 5 | 1.140464e-02 | Preprocessor1_Model02 |\n",
       "|  21 | rmse | standard | 4.761157e+03 | 5 | 1.099117e+02 | Preprocessor1_Model03 |\n",
       "|  21 | rsq  | standard | 5.519527e-02 | 5 | 1.467649e-02 | Preprocessor1_Model03 |\n",
       "|  31 | rmse | standard | 4.701834e+03 | 5 | 1.187530e+02 | Preprocessor1_Model04 |\n",
       "|  31 | rsq  | standard | 6.974384e-02 | 5 | 1.837465e-02 | Preprocessor1_Model04 |\n",
       "|  41 | rmse | standard | 4.693749e+03 | 5 | 1.113405e+02 | Preprocessor1_Model05 |\n",
       "|  41 | rsq  | standard | 6.938071e-02 | 5 | 1.374920e-02 | Preprocessor1_Model05 |\n",
       "|  51 | rmse | standard | 4.682601e+03 | 5 | 1.064363e+02 | Preprocessor1_Model06 |\n",
       "|  51 | rsq  | standard | 7.230676e-02 | 5 | 1.329435e-02 | Preprocessor1_Model06 |\n",
       "|  61 | rmse | standard | 4.677488e+03 | 5 | 1.060946e+02 | Preprocessor1_Model07 |\n",
       "|  61 | rsq  | standard | 7.368008e-02 | 5 | 1.341979e-02 | Preprocessor1_Model07 |\n",
       "|  71 | rmse | standard | 4.672157e+03 | 5 | 1.070509e+02 | Preprocessor1_Model08 |\n",
       "|  71 | rsq  | standard | 7.582278e-02 | 5 | 1.385855e-02 | Preprocessor1_Model08 |\n",
       "|  81 | rmse | standard | 4.664314e+03 | 5 | 1.067673e+02 | Preprocessor1_Model09 |\n",
       "|  81 | rsq  | standard | 7.897866e-02 | 5 | 1.291756e-02 | Preprocessor1_Model09 |\n",
       "|  91 | rmse | standard | 4.661176e+03 | 5 | 1.090637e+02 | Preprocessor1_Model10 |\n",
       "|  91 | rsq  | standard | 8.097855e-02 | 5 | 1.392240e-02 | Preprocessor1_Model10 |\n",
       "| 101 | rmse | standard | 4.661378e+03 | 5 | 1.106826e+02 | Preprocessor1_Model11 |\n",
       "| 101 | rsq  | standard | 8.028173e-02 | 5 | 1.168306e-02 | Preprocessor1_Model11 |\n",
       "| 111 | rmse | standard | 4.660142e+03 | 5 | 1.098917e+02 | Preprocessor1_Model12 |\n",
       "| 111 | rsq  | standard | 8.091678e-02 | 5 | 1.168975e-02 | Preprocessor1_Model12 |\n",
       "| 121 | rmse | standard | 4.662582e+03 | 5 | 1.098944e+02 | Preprocessor1_Model13 |\n",
       "| 121 | rsq  | standard | 7.951573e-02 | 5 | 1.010229e-02 | Preprocessor1_Model13 |\n",
       "| 131 | rmse | standard | 4.663128e+03 | 5 | 1.107670e+02 | Preprocessor1_Model14 |\n",
       "| 131 | rsq  | standard | 7.994926e-02 | 5 | 1.106416e-02 | Preprocessor1_Model14 |\n",
       "| 141 | rmse | standard | 4.666219e+03 | 5 | 1.094003e+02 | Preprocessor1_Model15 |\n",
       "| 141 | rsq  | standard | 7.901793e-02 | 5 | 1.120726e-02 | Preprocessor1_Model15 |\n",
       "| 151 | rmse | standard | 4.667051e+03 | 5 | 1.089366e+02 | Preprocessor1_Model16 |\n",
       "| 151 | rsq  | standard | 7.868772e-02 | 5 | 1.028004e-02 | Preprocessor1_Model16 |\n",
       "| 161 | rmse | standard | 4.664933e+03 | 5 | 1.100076e+02 | Preprocessor1_Model17 |\n",
       "| 161 | rsq  | standard | 8.018063e-02 | 5 | 1.050516e-02 | Preprocessor1_Model17 |\n",
       "| 171 | rmse | standard | 4.668760e+03 | 5 | 1.088659e+02 | Preprocessor1_Model18 |\n",
       "| 171 | rsq  | standard | 7.897621e-02 | 5 | 1.053118e-02 | Preprocessor1_Model18 |\n",
       "| 181 | rmse | standard | 4.668681e+03 | 5 | 1.087760e+02 | Preprocessor1_Model19 |\n",
       "| 181 | rsq  | standard | 7.981352e-02 | 5 | 1.185013e-02 | Preprocessor1_Model19 |\n",
       "| 191 | rmse | standard | 4.668319e+03 | 5 | 1.098946e+02 | Preprocessor1_Model20 |\n",
       "| 191 | rsq  | standard | 8.078476e-02 | 5 | 1.267409e-02 | Preprocessor1_Model20 |\n",
       "| 201 | rmse | standard | 4.672545e+03 | 5 | 1.108228e+02 | Preprocessor1_Model21 |\n",
       "| 201 | rsq  | standard | 7.919126e-02 | 5 | 1.219935e-02 | Preprocessor1_Model21 |\n",
       "\n"
      ],
      "text/plain": [
       "   neighbors .metric .estimator mean         n std_err     \n",
       "1    1       rmse    standard   6.890834e+03 5 2.234278e+02\n",
       "2    1       rsq     standard   6.214469e-03 5 3.161514e-03\n",
       "3   11       rmse    standard   4.859548e+03 5 1.119979e+02\n",
       "4   11       rsq     standard   4.186821e-02 5 1.140464e-02\n",
       "5   21       rmse    standard   4.761157e+03 5 1.099117e+02\n",
       "6   21       rsq     standard   5.519527e-02 5 1.467649e-02\n",
       "7   31       rmse    standard   4.701834e+03 5 1.187530e+02\n",
       "8   31       rsq     standard   6.974384e-02 5 1.837465e-02\n",
       "9   41       rmse    standard   4.693749e+03 5 1.113405e+02\n",
       "10  41       rsq     standard   6.938071e-02 5 1.374920e-02\n",
       "11  51       rmse    standard   4.682601e+03 5 1.064363e+02\n",
       "12  51       rsq     standard   7.230676e-02 5 1.329435e-02\n",
       "13  61       rmse    standard   4.677488e+03 5 1.060946e+02\n",
       "14  61       rsq     standard   7.368008e-02 5 1.341979e-02\n",
       "15  71       rmse    standard   4.672157e+03 5 1.070509e+02\n",
       "16  71       rsq     standard   7.582278e-02 5 1.385855e-02\n",
       "17  81       rmse    standard   4.664314e+03 5 1.067673e+02\n",
       "18  81       rsq     standard   7.897866e-02 5 1.291756e-02\n",
       "19  91       rmse    standard   4.661176e+03 5 1.090637e+02\n",
       "20  91       rsq     standard   8.097855e-02 5 1.392240e-02\n",
       "21 101       rmse    standard   4.661378e+03 5 1.106826e+02\n",
       "22 101       rsq     standard   8.028173e-02 5 1.168306e-02\n",
       "23 111       rmse    standard   4.660142e+03 5 1.098917e+02\n",
       "24 111       rsq     standard   8.091678e-02 5 1.168975e-02\n",
       "25 121       rmse    standard   4.662582e+03 5 1.098944e+02\n",
       "26 121       rsq     standard   7.951573e-02 5 1.010229e-02\n",
       "27 131       rmse    standard   4.663128e+03 5 1.107670e+02\n",
       "28 131       rsq     standard   7.994926e-02 5 1.106416e-02\n",
       "29 141       rmse    standard   4.666219e+03 5 1.094003e+02\n",
       "30 141       rsq     standard   7.901793e-02 5 1.120726e-02\n",
       "31 151       rmse    standard   4.667051e+03 5 1.089366e+02\n",
       "32 151       rsq     standard   7.868772e-02 5 1.028004e-02\n",
       "33 161       rmse    standard   4.664933e+03 5 1.100076e+02\n",
       "34 161       rsq     standard   8.018063e-02 5 1.050516e-02\n",
       "35 171       rmse    standard   4.668760e+03 5 1.088659e+02\n",
       "36 171       rsq     standard   7.897621e-02 5 1.053118e-02\n",
       "37 181       rmse    standard   4.668681e+03 5 1.087760e+02\n",
       "38 181       rsq     standard   7.981352e-02 5 1.185013e-02\n",
       "39 191       rmse    standard   4.668319e+03 5 1.098946e+02\n",
       "40 191       rsq     standard   8.078476e-02 5 1.267409e-02\n",
       "41 201       rmse    standard   4.672545e+03 5 1.108228e+02\n",
       "42 201       rsq     standard   7.919126e-02 5 1.219935e-02\n",
       "   .config              \n",
       "1  Preprocessor1_Model01\n",
       "2  Preprocessor1_Model01\n",
       "3  Preprocessor1_Model02\n",
       "4  Preprocessor1_Model02\n",
       "5  Preprocessor1_Model03\n",
       "6  Preprocessor1_Model03\n",
       "7  Preprocessor1_Model04\n",
       "8  Preprocessor1_Model04\n",
       "9  Preprocessor1_Model05\n",
       "10 Preprocessor1_Model05\n",
       "11 Preprocessor1_Model06\n",
       "12 Preprocessor1_Model06\n",
       "13 Preprocessor1_Model07\n",
       "14 Preprocessor1_Model07\n",
       "15 Preprocessor1_Model08\n",
       "16 Preprocessor1_Model08\n",
       "17 Preprocessor1_Model09\n",
       "18 Preprocessor1_Model09\n",
       "19 Preprocessor1_Model10\n",
       "20 Preprocessor1_Model10\n",
       "21 Preprocessor1_Model11\n",
       "22 Preprocessor1_Model11\n",
       "23 Preprocessor1_Model12\n",
       "24 Preprocessor1_Model12\n",
       "25 Preprocessor1_Model13\n",
       "26 Preprocessor1_Model13\n",
       "27 Preprocessor1_Model14\n",
       "28 Preprocessor1_Model14\n",
       "29 Preprocessor1_Model15\n",
       "30 Preprocessor1_Model15\n",
       "31 Preprocessor1_Model16\n",
       "32 Preprocessor1_Model16\n",
       "33 Preprocessor1_Model17\n",
       "34 Preprocessor1_Model17\n",
       "35 Preprocessor1_Model18\n",
       "36 Preprocessor1_Model18\n",
       "37 Preprocessor1_Model19\n",
       "38 Preprocessor1_Model19\n",
       "39 Preprocessor1_Model20\n",
       "40 Preprocessor1_Model20\n",
       "41 Preprocessor1_Model21\n",
       "42 Preprocessor1_Model21"
      ]
     },
     "metadata": {},
     "output_type": "display_data"
    }
   ],
   "source": [
    "set.seed(1234)\n",
    "gridvals <- tibble(neighbors = seq(from = 1, to = 201, by = 10))\n",
    "\n",
    "nba_results <- nba_workflow |>\n",
    "    tune_grid(resamples = nba_vfold, grid = gridvals) |>\n",
    "    collect_metrics() \n",
    "\n",
    "nba_results"
   ]
  },
  {
   "cell_type": "code",
   "execution_count": 45,
   "id": "6d4d4832-72bb-44c6-bcd5-a81e1358c634",
   "metadata": {
    "tags": []
   },
   "outputs": [
    {
     "data": {
      "text/html": [
       "<table class=\"dataframe\">\n",
       "<caption>A tibble: 1 × 7</caption>\n",
       "<thead>\n",
       "\t<tr><th scope=col>neighbors</th><th scope=col>.metric</th><th scope=col>.estimator</th><th scope=col>mean</th><th scope=col>n</th><th scope=col>std_err</th><th scope=col>.config</th></tr>\n",
       "\t<tr><th scope=col>&lt;dbl&gt;</th><th scope=col>&lt;chr&gt;</th><th scope=col>&lt;chr&gt;</th><th scope=col>&lt;dbl&gt;</th><th scope=col>&lt;int&gt;</th><th scope=col>&lt;dbl&gt;</th><th scope=col>&lt;chr&gt;</th></tr>\n",
       "</thead>\n",
       "<tbody>\n",
       "\t<tr><td>111</td><td>rmse</td><td>standard</td><td>4660.142</td><td>5</td><td>109.8917</td><td>Preprocessor1_Model12</td></tr>\n",
       "</tbody>\n",
       "</table>\n"
      ],
      "text/latex": [
       "A tibble: 1 × 7\n",
       "\\begin{tabular}{lllllll}\n",
       " neighbors & .metric & .estimator & mean & n & std\\_err & .config\\\\\n",
       " <dbl> & <chr> & <chr> & <dbl> & <int> & <dbl> & <chr>\\\\\n",
       "\\hline\n",
       "\t 111 & rmse & standard & 4660.142 & 5 & 109.8917 & Preprocessor1\\_Model12\\\\\n",
       "\\end{tabular}\n"
      ],
      "text/markdown": [
       "\n",
       "A tibble: 1 × 7\n",
       "\n",
       "| neighbors &lt;dbl&gt; | .metric &lt;chr&gt; | .estimator &lt;chr&gt; | mean &lt;dbl&gt; | n &lt;int&gt; | std_err &lt;dbl&gt; | .config &lt;chr&gt; |\n",
       "|---|---|---|---|---|---|---|\n",
       "| 111 | rmse | standard | 4660.142 | 5 | 109.8917 | Preprocessor1_Model12 |\n",
       "\n"
      ],
      "text/plain": [
       "  neighbors .metric .estimator mean     n std_err  .config              \n",
       "1 111       rmse    standard   4660.142 5 109.8917 Preprocessor1_Model12"
      ]
     },
     "metadata": {},
     "output_type": "display_data"
    }
   ],
   "source": [
    "results_min <- nba_results |>\n",
    "    filter(.metric == \"rmse\") |>\n",
    "    slice_min(mean, n = 1)\n",
    "results_min"
   ]
  },
  {
   "cell_type": "code",
   "execution_count": 54,
   "id": "e055dfe3-9c55-4fb7-aa8d-c92b3b8ad6cf",
   "metadata": {
    "tags": []
   },
   "outputs": [
    {
     "data": {
      "text/html": [
       "<table class=\"dataframe\">\n",
       "<caption>A tibble: 6 × 19</caption>\n",
       "<thead>\n",
       "\t<tr><th scope=col>.pred</th><th scope=col>player_name</th><th scope=col>age</th><th scope=col>player_height</th><th scope=col>player_weight</th><th scope=col>draft_year</th><th scope=col>draft_round</th><th scope=col>draft_number</th><th scope=col>gp</th><th scope=col>pts</th><th scope=col>reb</th><th scope=col>ast</th><th scope=col>net_rating</th><th scope=col>oreb_pct</th><th scope=col>dreb_pct</th><th scope=col>usg_pct</th><th scope=col>ts_pct</th><th scope=col>ast_pct</th><th scope=col>season_start</th></tr>\n",
       "\t<tr><th scope=col>&lt;dbl&gt;</th><th scope=col>&lt;chr&gt;</th><th scope=col>&lt;dbl&gt;</th><th scope=col>&lt;dbl&gt;</th><th scope=col>&lt;dbl&gt;</th><th scope=col>&lt;dbl&gt;</th><th scope=col>&lt;dbl&gt;</th><th scope=col>&lt;dbl&gt;</th><th scope=col>&lt;dbl&gt;</th><th scope=col>&lt;dbl&gt;</th><th scope=col>&lt;dbl&gt;</th><th scope=col>&lt;dbl&gt;</th><th scope=col>&lt;dbl&gt;</th><th scope=col>&lt;dbl&gt;</th><th scope=col>&lt;dbl&gt;</th><th scope=col>&lt;dbl&gt;</th><th scope=col>&lt;dbl&gt;</th><th scope=col>&lt;dbl&gt;</th><th scope=col>&lt;dbl&gt;</th></tr>\n",
       "</thead>\n",
       "<tbody>\n",
       "\t<tr><td>4817.919</td><td>RaiQuan Gray   </td><td>23</td><td>200.66</td><td>122.01625</td><td>2021</td><td>2</td><td>59</td><td> 1</td><td>16.0</td><td>9.0</td><td>7.0</td><td>-17.5</td><td>0.075</td><td>0.176</td><td>0.205</td><td>0.621</td><td>0.350</td><td>2022</td></tr>\n",
       "\t<tr><td>2925.723</td><td>Peyton Watson  </td><td>20</td><td>200.66</td><td> 90.71840</td><td>2022</td><td>1</td><td>30</td><td>23</td><td> 3.3</td><td>1.6</td><td>0.5</td><td>-12.0</td><td>0.043</td><td>0.139</td><td>0.174</td><td>0.553</td><td>0.087</td><td>2022</td></tr>\n",
       "\t<tr><td>2593.664</td><td>Patrick Baldwin</td><td>20</td><td>205.74</td><td> 99.79024</td><td>2022</td><td>1</td><td>28</td><td>31</td><td> 3.9</td><td>1.3</td><td>0.4</td><td>-12.3</td><td>0.004</td><td>0.188</td><td>0.227</td><td>0.546</td><td>0.083</td><td>2022</td></tr>\n",
       "\t<tr><td>6476.933</td><td>Paolo Banchero </td><td>20</td><td>208.28</td><td>113.39800</td><td>2022</td><td>1</td><td> 1</td><td>72</td><td>20.0</td><td>6.9</td><td>3.7</td><td> -4.2</td><td>0.035</td><td>0.174</td><td>0.272</td><td>0.529</td><td>0.171</td><td>2022</td></tr>\n",
       "\t<tr><td>2586.783</td><td>Ryan Rollins   </td><td>20</td><td>190.50</td><td> 81.64656</td><td>2022</td><td>2</td><td>44</td><td>12</td><td> 1.9</td><td>1.0</td><td>0.5</td><td>-38.1</td><td>0.043</td><td>0.153</td><td>0.260</td><td>0.508</td><td>0.214</td><td>2022</td></tr>\n",
       "\t<tr><td>2202.201</td><td>Moussa Diabate </td><td>21</td><td>208.28</td><td> 95.25432</td><td>2022</td><td>2</td><td>43</td><td>22</td><td> 2.7</td><td>2.3</td><td>0.2</td><td> -3.2</td><td>0.137</td><td>0.106</td><td>0.125</td><td>0.546</td><td>0.029</td><td>2022</td></tr>\n",
       "</tbody>\n",
       "</table>\n"
      ],
      "text/latex": [
       "A tibble: 6 × 19\n",
       "\\begin{tabular}{lllllllllllllllllll}\n",
       " .pred & player\\_name & age & player\\_height & player\\_weight & draft\\_year & draft\\_round & draft\\_number & gp & pts & reb & ast & net\\_rating & oreb\\_pct & dreb\\_pct & usg\\_pct & ts\\_pct & ast\\_pct & season\\_start\\\\\n",
       " <dbl> & <chr> & <dbl> & <dbl> & <dbl> & <dbl> & <dbl> & <dbl> & <dbl> & <dbl> & <dbl> & <dbl> & <dbl> & <dbl> & <dbl> & <dbl> & <dbl> & <dbl> & <dbl>\\\\\n",
       "\\hline\n",
       "\t 4817.919 & RaiQuan Gray    & 23 & 200.66 & 122.01625 & 2021 & 2 & 59 &  1 & 16.0 & 9.0 & 7.0 & -17.5 & 0.075 & 0.176 & 0.205 & 0.621 & 0.350 & 2022\\\\\n",
       "\t 2925.723 & Peyton Watson   & 20 & 200.66 &  90.71840 & 2022 & 1 & 30 & 23 &  3.3 & 1.6 & 0.5 & -12.0 & 0.043 & 0.139 & 0.174 & 0.553 & 0.087 & 2022\\\\\n",
       "\t 2593.664 & Patrick Baldwin & 20 & 205.74 &  99.79024 & 2022 & 1 & 28 & 31 &  3.9 & 1.3 & 0.4 & -12.3 & 0.004 & 0.188 & 0.227 & 0.546 & 0.083 & 2022\\\\\n",
       "\t 6476.933 & Paolo Banchero  & 20 & 208.28 & 113.39800 & 2022 & 1 &  1 & 72 & 20.0 & 6.9 & 3.7 &  -4.2 & 0.035 & 0.174 & 0.272 & 0.529 & 0.171 & 2022\\\\\n",
       "\t 2586.783 & Ryan Rollins    & 20 & 190.50 &  81.64656 & 2022 & 2 & 44 & 12 &  1.9 & 1.0 & 0.5 & -38.1 & 0.043 & 0.153 & 0.260 & 0.508 & 0.214 & 2022\\\\\n",
       "\t 2202.201 & Moussa Diabate  & 21 & 208.28 &  95.25432 & 2022 & 2 & 43 & 22 &  2.7 & 2.3 & 0.2 &  -3.2 & 0.137 & 0.106 & 0.125 & 0.546 & 0.029 & 2022\\\\\n",
       "\\end{tabular}\n"
      ],
      "text/markdown": [
       "\n",
       "A tibble: 6 × 19\n",
       "\n",
       "| .pred &lt;dbl&gt; | player_name &lt;chr&gt; | age &lt;dbl&gt; | player_height &lt;dbl&gt; | player_weight &lt;dbl&gt; | draft_year &lt;dbl&gt; | draft_round &lt;dbl&gt; | draft_number &lt;dbl&gt; | gp &lt;dbl&gt; | pts &lt;dbl&gt; | reb &lt;dbl&gt; | ast &lt;dbl&gt; | net_rating &lt;dbl&gt; | oreb_pct &lt;dbl&gt; | dreb_pct &lt;dbl&gt; | usg_pct &lt;dbl&gt; | ts_pct &lt;dbl&gt; | ast_pct &lt;dbl&gt; | season_start &lt;dbl&gt; |\n",
       "|---|---|---|---|---|---|---|---|---|---|---|---|---|---|---|---|---|---|---|\n",
       "| 4817.919 | RaiQuan Gray    | 23 | 200.66 | 122.01625 | 2021 | 2 | 59 |  1 | 16.0 | 9.0 | 7.0 | -17.5 | 0.075 | 0.176 | 0.205 | 0.621 | 0.350 | 2022 |\n",
       "| 2925.723 | Peyton Watson   | 20 | 200.66 |  90.71840 | 2022 | 1 | 30 | 23 |  3.3 | 1.6 | 0.5 | -12.0 | 0.043 | 0.139 | 0.174 | 0.553 | 0.087 | 2022 |\n",
       "| 2593.664 | Patrick Baldwin | 20 | 205.74 |  99.79024 | 2022 | 1 | 28 | 31 |  3.9 | 1.3 | 0.4 | -12.3 | 0.004 | 0.188 | 0.227 | 0.546 | 0.083 | 2022 |\n",
       "| 6476.933 | Paolo Banchero  | 20 | 208.28 | 113.39800 | 2022 | 1 |  1 | 72 | 20.0 | 6.9 | 3.7 |  -4.2 | 0.035 | 0.174 | 0.272 | 0.529 | 0.171 | 2022 |\n",
       "| 2586.783 | Ryan Rollins    | 20 | 190.50 |  81.64656 | 2022 | 2 | 44 | 12 |  1.9 | 1.0 | 0.5 | -38.1 | 0.043 | 0.153 | 0.260 | 0.508 | 0.214 | 2022 |\n",
       "| 2202.201 | Moussa Diabate  | 21 | 208.28 |  95.25432 | 2022 | 2 | 43 | 22 |  2.7 | 2.3 | 0.2 |  -3.2 | 0.137 | 0.106 | 0.125 | 0.546 | 0.029 | 2022 |\n",
       "\n"
      ],
      "text/plain": [
       "  .pred    player_name     age player_height player_weight draft_year\n",
       "1 4817.919 RaiQuan Gray    23  200.66        122.01625     2021      \n",
       "2 2925.723 Peyton Watson   20  200.66         90.71840     2022      \n",
       "3 2593.664 Patrick Baldwin 20  205.74         99.79024     2022      \n",
       "4 6476.933 Paolo Banchero  20  208.28        113.39800     2022      \n",
       "5 2586.783 Ryan Rollins    20  190.50         81.64656     2022      \n",
       "6 2202.201 Moussa Diabate  21  208.28         95.25432     2022      \n",
       "  draft_round draft_number gp pts  reb ast net_rating oreb_pct dreb_pct usg_pct\n",
       "1 2           59            1 16.0 9.0 7.0 -17.5      0.075    0.176    0.205  \n",
       "2 1           30           23  3.3 1.6 0.5 -12.0      0.043    0.139    0.174  \n",
       "3 1           28           31  3.9 1.3 0.4 -12.3      0.004    0.188    0.227  \n",
       "4 1            1           72 20.0 6.9 3.7  -4.2      0.035    0.174    0.272  \n",
       "5 2           44           12  1.9 1.0 0.5 -38.1      0.043    0.153    0.260  \n",
       "6 2           43           22  2.7 2.3 0.2  -3.2      0.137    0.106    0.125  \n",
       "  ts_pct ast_pct season_start\n",
       "1 0.621  0.350   2022        \n",
       "2 0.553  0.087   2022        \n",
       "3 0.546  0.083   2022        \n",
       "4 0.529  0.171   2022        \n",
       "5 0.508  0.214   2022        \n",
       "6 0.546  0.029   2022        "
      ]
     },
     "metadata": {},
     "output_type": "display_data"
    }
   ],
   "source": [
    "set.seed(1234)\n",
    "k_min <- results_min |>\n",
    "          pull(neighbors)\n",
    "\n",
    "nba_best_spec <- nearest_neighbor(weight_func = \"rectangular\", neighbors = k_min) |>\n",
    "          set_engine(\"kknn\") |>\n",
    "          set_mode(\"regression\")\n",
    "\n",
    "nba_best_fit <- workflow() |>\n",
    "          add_recipe(nba_recipe) |>\n",
    "          add_model(nba_best_spec) |>\n",
    "          fit(data = nba_training_labelled)\n",
    "\n",
    "#nba_summary <- nba_best_fit |>\n",
    "#           predict(nba_training_labelled) |>\n",
    "#           bind_cols(nba_training_labelled) |>\n",
    "#           metrics(truth = total_points, estimate = .pred)\n",
    "\n",
    "#nba_summary\n",
    "nba_preds <- nba_best_fit |>\n",
    "  predict(nba_testing) |>\n",
    "  bind_cols(nba_testing)\n",
    "head(nba_preds)"
   ]
  },
  {
   "cell_type": "code",
   "execution_count": 53,
   "id": "d45cf6a6-53af-4fa1-b42a-ee6099fd9a9a",
   "metadata": {
    "tags": []
   },
   "outputs": [
    {
     "data": {
      "text/html": [
       "<table class=\"dataframe\">\n",
       "<caption>A tibble: 6 × 19</caption>\n",
       "<thead>\n",
       "\t<tr><th scope=col>.pred</th><th scope=col>player_name</th><th scope=col>age</th><th scope=col>player_height</th><th scope=col>player_weight</th><th scope=col>draft_year</th><th scope=col>draft_round</th><th scope=col>draft_number</th><th scope=col>gp</th><th scope=col>pts</th><th scope=col>reb</th><th scope=col>ast</th><th scope=col>net_rating</th><th scope=col>oreb_pct</th><th scope=col>dreb_pct</th><th scope=col>usg_pct</th><th scope=col>ts_pct</th><th scope=col>ast_pct</th><th scope=col>season_start</th></tr>\n",
       "\t<tr><th scope=col>&lt;dbl&gt;</th><th scope=col>&lt;chr&gt;</th><th scope=col>&lt;dbl&gt;</th><th scope=col>&lt;dbl&gt;</th><th scope=col>&lt;dbl&gt;</th><th scope=col>&lt;dbl&gt;</th><th scope=col>&lt;dbl&gt;</th><th scope=col>&lt;dbl&gt;</th><th scope=col>&lt;dbl&gt;</th><th scope=col>&lt;dbl&gt;</th><th scope=col>&lt;dbl&gt;</th><th scope=col>&lt;dbl&gt;</th><th scope=col>&lt;dbl&gt;</th><th scope=col>&lt;dbl&gt;</th><th scope=col>&lt;dbl&gt;</th><th scope=col>&lt;dbl&gt;</th><th scope=col>&lt;dbl&gt;</th><th scope=col>&lt;dbl&gt;</th><th scope=col>&lt;dbl&gt;</th></tr>\n",
       "</thead>\n",
       "<tbody>\n",
       "\t<tr><td>2015.914</td><td>Vince Williams Jr.</td><td>22</td><td>193.04</td><td> 92.98636</td><td>2022</td><td>2</td><td>47</td><td>15</td><td>2.0</td><td>1.0</td><td>0.3</td><td>-14.8</td><td>0.030</td><td>0.120</td><td>0.176</td><td>0.367</td><td>0.062</td><td>2022</td></tr>\n",
       "\t<tr><td>2098.589</td><td>Tyrese Martin     </td><td>24</td><td>198.12</td><td> 97.52228</td><td>2022</td><td>2</td><td>51</td><td>16</td><td>1.3</td><td>0.8</td><td>0.1</td><td>  2.3</td><td>0.065</td><td>0.109</td><td>0.164</td><td>0.440</td><td>0.044</td><td>2022</td></tr>\n",
       "\t<tr><td>2127.867</td><td>Trevor Keels      </td><td>19</td><td>193.04</td><td>100.24383</td><td>2022</td><td>2</td><td>42</td><td> 3</td><td>1.0</td><td>0.7</td><td>0.0</td><td>-94.7</td><td>0.000</td><td>0.250</td><td>0.211</td><td>0.375</td><td>0.000</td><td>2022</td></tr>\n",
       "\t<tr><td>2194.584</td><td>Kendall Brown     </td><td>20</td><td>200.66</td><td> 92.98636</td><td>2022</td><td>2</td><td>48</td><td> 6</td><td>1.5</td><td>1.0</td><td>0.5</td><td>  8.2</td><td>0.051</td><td>0.089</td><td>0.093</td><td>0.571</td><td>0.091</td><td>2022</td></tr>\n",
       "\t<tr><td>2202.201</td><td>Moussa Diabate    </td><td>21</td><td>208.28</td><td> 95.25432</td><td>2022</td><td>2</td><td>43</td><td>22</td><td>2.7</td><td>2.3</td><td>0.2</td><td> -3.2</td><td>0.137</td><td>0.106</td><td>0.125</td><td>0.546</td><td>0.029</td><td>2022</td></tr>\n",
       "\t<tr><td>2204.736</td><td>Jake LaRavia      </td><td>21</td><td>200.66</td><td>106.59412</td><td>2022</td><td>1</td><td>19</td><td>35</td><td>3.0</td><td>1.8</td><td>0.6</td><td> -7.6</td><td>0.044</td><td>0.100</td><td>0.117</td><td>0.531</td><td>0.068</td><td>2022</td></tr>\n",
       "</tbody>\n",
       "</table>\n"
      ],
      "text/latex": [
       "A tibble: 6 × 19\n",
       "\\begin{tabular}{lllllllllllllllllll}\n",
       " .pred & player\\_name & age & player\\_height & player\\_weight & draft\\_year & draft\\_round & draft\\_number & gp & pts & reb & ast & net\\_rating & oreb\\_pct & dreb\\_pct & usg\\_pct & ts\\_pct & ast\\_pct & season\\_start\\\\\n",
       " <dbl> & <chr> & <dbl> & <dbl> & <dbl> & <dbl> & <dbl> & <dbl> & <dbl> & <dbl> & <dbl> & <dbl> & <dbl> & <dbl> & <dbl> & <dbl> & <dbl> & <dbl> & <dbl>\\\\\n",
       "\\hline\n",
       "\t 2015.914 & Vince Williams Jr. & 22 & 193.04 &  92.98636 & 2022 & 2 & 47 & 15 & 2.0 & 1.0 & 0.3 & -14.8 & 0.030 & 0.120 & 0.176 & 0.367 & 0.062 & 2022\\\\\n",
       "\t 2098.589 & Tyrese Martin      & 24 & 198.12 &  97.52228 & 2022 & 2 & 51 & 16 & 1.3 & 0.8 & 0.1 &   2.3 & 0.065 & 0.109 & 0.164 & 0.440 & 0.044 & 2022\\\\\n",
       "\t 2127.867 & Trevor Keels       & 19 & 193.04 & 100.24383 & 2022 & 2 & 42 &  3 & 1.0 & 0.7 & 0.0 & -94.7 & 0.000 & 0.250 & 0.211 & 0.375 & 0.000 & 2022\\\\\n",
       "\t 2194.584 & Kendall Brown      & 20 & 200.66 &  92.98636 & 2022 & 2 & 48 &  6 & 1.5 & 1.0 & 0.5 &   8.2 & 0.051 & 0.089 & 0.093 & 0.571 & 0.091 & 2022\\\\\n",
       "\t 2202.201 & Moussa Diabate     & 21 & 208.28 &  95.25432 & 2022 & 2 & 43 & 22 & 2.7 & 2.3 & 0.2 &  -3.2 & 0.137 & 0.106 & 0.125 & 0.546 & 0.029 & 2022\\\\\n",
       "\t 2204.736 & Jake LaRavia       & 21 & 200.66 & 106.59412 & 2022 & 1 & 19 & 35 & 3.0 & 1.8 & 0.6 &  -7.6 & 0.044 & 0.100 & 0.117 & 0.531 & 0.068 & 2022\\\\\n",
       "\\end{tabular}\n"
      ],
      "text/markdown": [
       "\n",
       "A tibble: 6 × 19\n",
       "\n",
       "| .pred &lt;dbl&gt; | player_name &lt;chr&gt; | age &lt;dbl&gt; | player_height &lt;dbl&gt; | player_weight &lt;dbl&gt; | draft_year &lt;dbl&gt; | draft_round &lt;dbl&gt; | draft_number &lt;dbl&gt; | gp &lt;dbl&gt; | pts &lt;dbl&gt; | reb &lt;dbl&gt; | ast &lt;dbl&gt; | net_rating &lt;dbl&gt; | oreb_pct &lt;dbl&gt; | dreb_pct &lt;dbl&gt; | usg_pct &lt;dbl&gt; | ts_pct &lt;dbl&gt; | ast_pct &lt;dbl&gt; | season_start &lt;dbl&gt; |\n",
       "|---|---|---|---|---|---|---|---|---|---|---|---|---|---|---|---|---|---|---|\n",
       "| 2015.914 | Vince Williams Jr. | 22 | 193.04 |  92.98636 | 2022 | 2 | 47 | 15 | 2.0 | 1.0 | 0.3 | -14.8 | 0.030 | 0.120 | 0.176 | 0.367 | 0.062 | 2022 |\n",
       "| 2098.589 | Tyrese Martin      | 24 | 198.12 |  97.52228 | 2022 | 2 | 51 | 16 | 1.3 | 0.8 | 0.1 |   2.3 | 0.065 | 0.109 | 0.164 | 0.440 | 0.044 | 2022 |\n",
       "| 2127.867 | Trevor Keels       | 19 | 193.04 | 100.24383 | 2022 | 2 | 42 |  3 | 1.0 | 0.7 | 0.0 | -94.7 | 0.000 | 0.250 | 0.211 | 0.375 | 0.000 | 2022 |\n",
       "| 2194.584 | Kendall Brown      | 20 | 200.66 |  92.98636 | 2022 | 2 | 48 |  6 | 1.5 | 1.0 | 0.5 |   8.2 | 0.051 | 0.089 | 0.093 | 0.571 | 0.091 | 2022 |\n",
       "| 2202.201 | Moussa Diabate     | 21 | 208.28 |  95.25432 | 2022 | 2 | 43 | 22 | 2.7 | 2.3 | 0.2 |  -3.2 | 0.137 | 0.106 | 0.125 | 0.546 | 0.029 | 2022 |\n",
       "| 2204.736 | Jake LaRavia       | 21 | 200.66 | 106.59412 | 2022 | 1 | 19 | 35 | 3.0 | 1.8 | 0.6 |  -7.6 | 0.044 | 0.100 | 0.117 | 0.531 | 0.068 | 2022 |\n",
       "\n"
      ],
      "text/plain": [
       "  .pred    player_name        age player_height player_weight draft_year\n",
       "1 2015.914 Vince Williams Jr. 22  193.04         92.98636     2022      \n",
       "2 2098.589 Tyrese Martin      24  198.12         97.52228     2022      \n",
       "3 2127.867 Trevor Keels       19  193.04        100.24383     2022      \n",
       "4 2194.584 Kendall Brown      20  200.66         92.98636     2022      \n",
       "5 2202.201 Moussa Diabate     21  208.28         95.25432     2022      \n",
       "6 2204.736 Jake LaRavia       21  200.66        106.59412     2022      \n",
       "  draft_round draft_number gp pts reb ast net_rating oreb_pct dreb_pct usg_pct\n",
       "1 2           47           15 2.0 1.0 0.3 -14.8      0.030    0.120    0.176  \n",
       "2 2           51           16 1.3 0.8 0.1   2.3      0.065    0.109    0.164  \n",
       "3 2           42            3 1.0 0.7 0.0 -94.7      0.000    0.250    0.211  \n",
       "4 2           48            6 1.5 1.0 0.5   8.2      0.051    0.089    0.093  \n",
       "5 2           43           22 2.7 2.3 0.2  -3.2      0.137    0.106    0.125  \n",
       "6 1           19           35 3.0 1.8 0.6  -7.6      0.044    0.100    0.117  \n",
       "  ts_pct ast_pct season_start\n",
       "1 0.367  0.062   2022        \n",
       "2 0.440  0.044   2022        \n",
       "3 0.375  0.000   2022        \n",
       "4 0.571  0.091   2022        \n",
       "5 0.546  0.029   2022        \n",
       "6 0.531  0.068   2022        "
      ]
     },
     "metadata": {},
     "output_type": "display_data"
    },
    {
     "data": {
      "text/html": [
       "<table class=\"dataframe\">\n",
       "<caption>A tibble: 6 × 19</caption>\n",
       "<thead>\n",
       "\t<tr><th scope=col>.pred</th><th scope=col>player_name</th><th scope=col>age</th><th scope=col>player_height</th><th scope=col>player_weight</th><th scope=col>draft_year</th><th scope=col>draft_round</th><th scope=col>draft_number</th><th scope=col>gp</th><th scope=col>pts</th><th scope=col>reb</th><th scope=col>ast</th><th scope=col>net_rating</th><th scope=col>oreb_pct</th><th scope=col>dreb_pct</th><th scope=col>usg_pct</th><th scope=col>ts_pct</th><th scope=col>ast_pct</th><th scope=col>season_start</th></tr>\n",
       "\t<tr><th scope=col>&lt;dbl&gt;</th><th scope=col>&lt;chr&gt;</th><th scope=col>&lt;dbl&gt;</th><th scope=col>&lt;dbl&gt;</th><th scope=col>&lt;dbl&gt;</th><th scope=col>&lt;dbl&gt;</th><th scope=col>&lt;dbl&gt;</th><th scope=col>&lt;dbl&gt;</th><th scope=col>&lt;dbl&gt;</th><th scope=col>&lt;dbl&gt;</th><th scope=col>&lt;dbl&gt;</th><th scope=col>&lt;dbl&gt;</th><th scope=col>&lt;dbl&gt;</th><th scope=col>&lt;dbl&gt;</th><th scope=col>&lt;dbl&gt;</th><th scope=col>&lt;dbl&gt;</th><th scope=col>&lt;dbl&gt;</th><th scope=col>&lt;dbl&gt;</th><th scope=col>&lt;dbl&gt;</th></tr>\n",
       "</thead>\n",
       "<tbody>\n",
       "\t<tr><td>5637.878</td><td>Jeremy Sochan     </td><td>20</td><td>203.20</td><td>104.32616</td><td>2022</td><td>1</td><td> 9</td><td>56</td><td>11.0</td><td>5.3</td><td>2.5</td><td> -7.0</td><td>0.060</td><td>0.140</td><td>0.195</td><td>0.509</td><td>0.132</td><td>2022</td></tr>\n",
       "\t<tr><td>5740.239</td><td>Jalen Williams    </td><td>22</td><td>195.58</td><td> 95.70791</td><td>2022</td><td>1</td><td>12</td><td>75</td><td>14.1</td><td>4.5</td><td>3.3</td><td> -1.0</td><td>0.035</td><td>0.109</td><td>0.180</td><td>0.601</td><td>0.152</td><td>2022</td></tr>\n",
       "\t<tr><td>5904.447</td><td>Jaden Ivey        </td><td>21</td><td>193.04</td><td> 88.45044</td><td>2022</td><td>1</td><td> 5</td><td>74</td><td>16.3</td><td>3.9</td><td>5.2</td><td>-13.0</td><td>0.030</td><td>0.094</td><td>0.251</td><td>0.528</td><td>0.269</td><td>2022</td></tr>\n",
       "\t<tr><td>5983.108</td><td>O.G. Anunoby      </td><td>25</td><td>200.66</td><td>105.23334</td><td>2017</td><td>1</td><td>23</td><td>67</td><td>16.8</td><td>5.0</td><td>2.0</td><td>  3.0</td><td>0.037</td><td>0.110</td><td>0.192</td><td>0.586</td><td>0.080</td><td>2022</td></tr>\n",
       "\t<tr><td>6183.923</td><td>Bennedict Mathurin</td><td>21</td><td>195.58</td><td> 95.25432</td><td>2022</td><td>1</td><td> 6</td><td>78</td><td>16.7</td><td>4.1</td><td>1.5</td><td> -4.3</td><td>0.037</td><td>0.103</td><td>0.235</td><td>0.566</td><td>0.078</td><td>2022</td></tr>\n",
       "\t<tr><td>6476.933</td><td>Paolo Banchero    </td><td>20</td><td>208.28</td><td>113.39800</td><td>2022</td><td>1</td><td> 1</td><td>72</td><td>20.0</td><td>6.9</td><td>3.7</td><td> -4.2</td><td>0.035</td><td>0.174</td><td>0.272</td><td>0.529</td><td>0.171</td><td>2022</td></tr>\n",
       "</tbody>\n",
       "</table>\n"
      ],
      "text/latex": [
       "A tibble: 6 × 19\n",
       "\\begin{tabular}{lllllllllllllllllll}\n",
       " .pred & player\\_name & age & player\\_height & player\\_weight & draft\\_year & draft\\_round & draft\\_number & gp & pts & reb & ast & net\\_rating & oreb\\_pct & dreb\\_pct & usg\\_pct & ts\\_pct & ast\\_pct & season\\_start\\\\\n",
       " <dbl> & <chr> & <dbl> & <dbl> & <dbl> & <dbl> & <dbl> & <dbl> & <dbl> & <dbl> & <dbl> & <dbl> & <dbl> & <dbl> & <dbl> & <dbl> & <dbl> & <dbl> & <dbl>\\\\\n",
       "\\hline\n",
       "\t 5637.878 & Jeremy Sochan      & 20 & 203.20 & 104.32616 & 2022 & 1 &  9 & 56 & 11.0 & 5.3 & 2.5 &  -7.0 & 0.060 & 0.140 & 0.195 & 0.509 & 0.132 & 2022\\\\\n",
       "\t 5740.239 & Jalen Williams     & 22 & 195.58 &  95.70791 & 2022 & 1 & 12 & 75 & 14.1 & 4.5 & 3.3 &  -1.0 & 0.035 & 0.109 & 0.180 & 0.601 & 0.152 & 2022\\\\\n",
       "\t 5904.447 & Jaden Ivey         & 21 & 193.04 &  88.45044 & 2022 & 1 &  5 & 74 & 16.3 & 3.9 & 5.2 & -13.0 & 0.030 & 0.094 & 0.251 & 0.528 & 0.269 & 2022\\\\\n",
       "\t 5983.108 & O.G. Anunoby       & 25 & 200.66 & 105.23334 & 2017 & 1 & 23 & 67 & 16.8 & 5.0 & 2.0 &   3.0 & 0.037 & 0.110 & 0.192 & 0.586 & 0.080 & 2022\\\\\n",
       "\t 6183.923 & Bennedict Mathurin & 21 & 195.58 &  95.25432 & 2022 & 1 &  6 & 78 & 16.7 & 4.1 & 1.5 &  -4.3 & 0.037 & 0.103 & 0.235 & 0.566 & 0.078 & 2022\\\\\n",
       "\t 6476.933 & Paolo Banchero     & 20 & 208.28 & 113.39800 & 2022 & 1 &  1 & 72 & 20.0 & 6.9 & 3.7 &  -4.2 & 0.035 & 0.174 & 0.272 & 0.529 & 0.171 & 2022\\\\\n",
       "\\end{tabular}\n"
      ],
      "text/markdown": [
       "\n",
       "A tibble: 6 × 19\n",
       "\n",
       "| .pred &lt;dbl&gt; | player_name &lt;chr&gt; | age &lt;dbl&gt; | player_height &lt;dbl&gt; | player_weight &lt;dbl&gt; | draft_year &lt;dbl&gt; | draft_round &lt;dbl&gt; | draft_number &lt;dbl&gt; | gp &lt;dbl&gt; | pts &lt;dbl&gt; | reb &lt;dbl&gt; | ast &lt;dbl&gt; | net_rating &lt;dbl&gt; | oreb_pct &lt;dbl&gt; | dreb_pct &lt;dbl&gt; | usg_pct &lt;dbl&gt; | ts_pct &lt;dbl&gt; | ast_pct &lt;dbl&gt; | season_start &lt;dbl&gt; |\n",
       "|---|---|---|---|---|---|---|---|---|---|---|---|---|---|---|---|---|---|---|\n",
       "| 5637.878 | Jeremy Sochan      | 20 | 203.20 | 104.32616 | 2022 | 1 |  9 | 56 | 11.0 | 5.3 | 2.5 |  -7.0 | 0.060 | 0.140 | 0.195 | 0.509 | 0.132 | 2022 |\n",
       "| 5740.239 | Jalen Williams     | 22 | 195.58 |  95.70791 | 2022 | 1 | 12 | 75 | 14.1 | 4.5 | 3.3 |  -1.0 | 0.035 | 0.109 | 0.180 | 0.601 | 0.152 | 2022 |\n",
       "| 5904.447 | Jaden Ivey         | 21 | 193.04 |  88.45044 | 2022 | 1 |  5 | 74 | 16.3 | 3.9 | 5.2 | -13.0 | 0.030 | 0.094 | 0.251 | 0.528 | 0.269 | 2022 |\n",
       "| 5983.108 | O.G. Anunoby       | 25 | 200.66 | 105.23334 | 2017 | 1 | 23 | 67 | 16.8 | 5.0 | 2.0 |   3.0 | 0.037 | 0.110 | 0.192 | 0.586 | 0.080 | 2022 |\n",
       "| 6183.923 | Bennedict Mathurin | 21 | 195.58 |  95.25432 | 2022 | 1 |  6 | 78 | 16.7 | 4.1 | 1.5 |  -4.3 | 0.037 | 0.103 | 0.235 | 0.566 | 0.078 | 2022 |\n",
       "| 6476.933 | Paolo Banchero     | 20 | 208.28 | 113.39800 | 2022 | 1 |  1 | 72 | 20.0 | 6.9 | 3.7 |  -4.2 | 0.035 | 0.174 | 0.272 | 0.529 | 0.171 | 2022 |\n",
       "\n"
      ],
      "text/plain": [
       "  .pred    player_name        age player_height player_weight draft_year\n",
       "1 5637.878 Jeremy Sochan      20  203.20        104.32616     2022      \n",
       "2 5740.239 Jalen Williams     22  195.58         95.70791     2022      \n",
       "3 5904.447 Jaden Ivey         21  193.04         88.45044     2022      \n",
       "4 5983.108 O.G. Anunoby       25  200.66        105.23334     2017      \n",
       "5 6183.923 Bennedict Mathurin 21  195.58         95.25432     2022      \n",
       "6 6476.933 Paolo Banchero     20  208.28        113.39800     2022      \n",
       "  draft_round draft_number gp pts  reb ast net_rating oreb_pct dreb_pct usg_pct\n",
       "1 1            9           56 11.0 5.3 2.5  -7.0      0.060    0.140    0.195  \n",
       "2 1           12           75 14.1 4.5 3.3  -1.0      0.035    0.109    0.180  \n",
       "3 1            5           74 16.3 3.9 5.2 -13.0      0.030    0.094    0.251  \n",
       "4 1           23           67 16.8 5.0 2.0   3.0      0.037    0.110    0.192  \n",
       "5 1            6           78 16.7 4.1 1.5  -4.3      0.037    0.103    0.235  \n",
       "6 1            1           72 20.0 6.9 3.7  -4.2      0.035    0.174    0.272  \n",
       "  ts_pct ast_pct season_start\n",
       "1 0.509  0.132   2022        \n",
       "2 0.601  0.152   2022        \n",
       "3 0.528  0.269   2022        \n",
       "4 0.586  0.080   2022        \n",
       "5 0.566  0.078   2022        \n",
       "6 0.529  0.171   2022        "
      ]
     },
     "metadata": {},
     "output_type": "display_data"
    }
   ],
   "source": [
    "sorted_rookies <- nba_preds[order(nba_preds$.pred),]\n",
    "head(sorted_rookies)\n",
    "tail(sorted_rookies)"
   ]
  },
  {
   "cell_type": "markdown",
   "id": "32c615fa-e589-4c2e-b508-1a3c173482cb",
   "metadata": {
    "tags": []
   },
   "source": [
    "## Discussion ##\n",
    "Prompts\n",
    "- summarize what you found\n",
    "- discuss whether this is what you expected to find?\n",
    "- discuss what impact could such findings have?\n",
    "- discuss what future questions could this lead to?"
   ]
  },
  {
   "cell_type": "markdown",
   "id": "f9eabae1-f823-47b7-ba3c-35c8c0bad0bb",
   "metadata": {
    "tags": []
   },
   "source": [
    "Response from expected outcomes and significance in project proposal\n",
    "- We are trying to find the total points that a player may score at the end of his career based on other players' previous performance including points per game, games played, heights, weights, true shooting percentage and their usage percentage. \n",
    "\n",
    "- NBA teams could use this predicted score to identify whether a rookie player has potential or not. Also, it may be a useful index to determine a player's future trajectory. \n",
    "\n",
    "- This prediction model does not account for injuries and other factors. The player could improve significantly over the years and thus their rookie year statistics may not be helpful in predicting how they will perform in the future. Future questions we can also explore would be how their attributes and rookie statistics can predict other measures of performance such as assists, rebounds, etc. This way we can have a better description and prediction of their future career, not just in terms of points."
   ]
  },
  {
   "cell_type": "markdown",
   "id": "376849d5-6f03-4d3b-9e3e-2809ec7deda6",
   "metadata": {},
   "source": [
    "## References ##\n"
   ]
  },
  {
   "cell_type": "markdown",
   "id": "4546217a-c380-4502-8cf2-4a48a9a12117",
   "metadata": {},
   "source": []
  }
 ],
 "metadata": {
  "kernelspec": {
   "display_name": "R",
   "language": "R",
   "name": "ir"
  },
  "language_info": {
   "codemirror_mode": "r",
   "file_extension": ".r",
   "mimetype": "text/x-r-source",
   "name": "R",
   "pygments_lexer": "r",
   "version": "4.2.2"
  },
  "widgets": {
   "application/vnd.jupyter.widget-state+json": {
    "state": {},
    "version_major": 2,
    "version_minor": 0
   }
  }
 },
 "nbformat": 4,
 "nbformat_minor": 5
}
