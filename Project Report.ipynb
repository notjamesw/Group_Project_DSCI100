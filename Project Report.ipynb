{
 "cells": [
  {
   "cell_type": "markdown",
   "id": "7e994e42-a853-42cd-ad15-010a9df82bc7",
   "metadata": {},
   "source": [
    "# NBA Player Career Projection #\n",
    "## _DSCI 100 Group Project_ ##"
   ]
  },
  {
   "cell_type": "markdown",
   "id": "5824c64e-ea02-43b5-9d39-bd15be1546f1",
   "metadata": {},
   "source": [
    "## Introduction ## "
   ]
  },
  {
   "cell_type": "markdown",
   "id": "3e79be31-2ed5-4dc0-a55e-3eda19393380",
   "metadata": {},
   "source": [
    "Prompts:\n",
    "- provide some relevant background information on the topic so that someone unfamiliar with it will be prepared to understand the rest of your report\n",
    "- clearly state the question you tried to answer with your project\n",
    "- identify and describe the dataset that was used to answer the question"
   ]
  },
  {
   "cell_type": "markdown",
   "id": "891a31bb-6501-4077-ad76-0e5176c0fd50",
   "metadata": {},
   "source": [
    "Basketball is a globally renowned sport with a massive following, and the professional leagues are the pinnacle of talent and competition. Understanding player statistics is essential for team management, player evaluation, and fan engagement. The `all_seasons` dataset captures data that outlines the performance of basketball players across various seasons (from 1996-1997 season to 2022-2023 season). Using this dataset, our predictive question could be, for instance, how a player's attributes and performance in their rookie seasons relate to their overall career performance. The dataset encompasses several key attributes, including:\n",
    "\n",
    "- `player_name`, name of a NBA player \n",
    "- `team_abbreviation`, abbreviated name of the team they played on\n",
    "- `age`, a player's age\n",
    "- `player_height`, a player's height\n",
    "- `player_weight`, a player's weight \n",
    "- `college`, the college they played for\n",
    "- `country`, their nationality\n",
    "- `draft_year`, the year they were drafted\n",
    "- `draft_round`, the round they were drafted in\n",
    "- `draft_number`, the pick number they were drafted with\n",
    "- `gp`, number of games played in a season\n",
    "- `pts`, average points per game in a season\n",
    "- `reb`, average rebounds per game in a season\n",
    "- `ast`, average assists per game in a season\n",
    "- `net_rating`, average net rating in a season\n",
    "- `oreb_pct`, average offensive rebound percentage in a season\n",
    "- `dreb_pct`, average defensive rebound percentage in a season\n",
    "- `usg_pct`, average usage percentage in a season\n",
    "- `ts_pct`, average true shooting percentage in a season\n",
    "- `ast_pct`, average assist percentage in a season\n",
    "- `season`, the season they played in which these stats were recorded\n",
    "\n",
    "\n",
    "By analyzing this dataset, we aim to draw insights and patterns from past player statistics, potentially aiding in the selection, trading, and performance prediction of rookie players in future basketball seasons by estimating their potential through statistics. \n",
    "\n",
    "### Research question: ###\n",
    "__How does a player's physical attributes and scoring statistics in their rookie year correlate to their total career points?__ We will attempt to answer this question by forming a regression line using physical attributes and scoring statistics of past players, and more specifically: `pts` (points per game), `gp` (games played), `player_height` (cm), `player_weight` (kg), `usg_pct` (usage percentage) and `ts_pct` (true shooting percentage)."
   ]
  },
  {
   "cell_type": "markdown",
   "id": "0907bf56-be5c-4038-8d2a-0671998d99c6",
   "metadata": {},
   "source": [
    "## Methods and results ##"
   ]
  },
  {
   "cell_type": "markdown",
   "id": "8dfc23a2-e571-438b-bbee-a6ed5eae5390",
   "metadata": {},
   "source": [
    "- describe in written English the methods you used to perform your analysis from beginning to end that narrates the code the does the analysis.\n",
    "- your report should include code which:\n",
    "    - loads data from the original source on the web \n",
    "    - wrangles and cleans the data from it's original (downloaded) format to the format necessary for the planned analysis\n",
    "    - performs a summary of the data set that is relevant for exploratory data analysis related to the planned analysis \n",
    "    - creates a visualization of the dataset that is relevant for exploratory data analysis related to the planned analysis\n",
    "    - performs the data analysis\n",
    "    - creates a visualization of the analysis \n",
    "    \n",
    "note: all tables and figure should have a figure/table number and a legend"
   ]
  },
  {
   "cell_type": "markdown",
   "id": "1a6b78ab-27ba-4a68-ad54-46d1e1bb32ee",
   "metadata": {},
   "source": [
    "## Preliminary exploratory data analysis ##"
   ]
  },
  {
   "cell_type": "markdown",
   "id": "6ad6833c-eb12-4818-b793-c0a9f70ca70c",
   "metadata": {},
   "source": [
    "From the preliminary exploratory data analysis completed in our project proposal, we demonstrated that we can read the NBA data set can be read by downloading the dataset from the website (link: https://www.kaggle.com/datasets/justinas/nba-players-data/) and read into R using read_csv from the tidyverse library. We have stored it in the \"data\" folder. \n",
    "\n",
    "In our preliminary exploratory data analysis, we also completed necessary steps to tidy the data to ensure consistency, remove irrelevant information, and maintain the three criteria necessary for tidy data: each column is a variable, each row is a single observation, and each cell is a value. "
   ]
  },
  {
   "cell_type": "code",
   "execution_count": 10,
   "id": "e9160efc-ccc9-46ed-89bd-e856a7c942df",
   "metadata": {
    "tags": []
   },
   "outputs": [],
   "source": [
    "# importing the tidyverse library\n",
    "library(tidyverse)"
   ]
  },
  {
   "cell_type": "markdown",
   "id": "396342f1-1389-4b27-9cc0-ba3e1d077aad",
   "metadata": {},
   "source": [
    "Throughout this report, the data set we will work with is named `all_seasons.csv` and it lives in the `/data` directory. Below, we read the dataset using `read_csv` and used `head` to look at the first 6 rows of the dataset to ensure that we have read the correct dataset. "
   ]
  },
  {
   "cell_type": "code",
   "execution_count": 51,
   "id": "c9351116-9649-435d-8081-e8c30fb22c13",
   "metadata": {
    "tags": []
   },
   "outputs": [
    {
     "name": "stderr",
     "output_type": "stream",
     "text": [
      "\u001b[1m\u001b[22mNew names:\n",
      "\u001b[36m•\u001b[39m `` -> `...1`\n",
      "\u001b[1mRows: \u001b[22m\u001b[34m12844\u001b[39m \u001b[1mColumns: \u001b[22m\u001b[34m22\u001b[39m\n",
      "\u001b[36m──\u001b[39m \u001b[1mColumn specification\u001b[22m \u001b[36m────────────────────────────────────────────────────────\u001b[39m\n",
      "\u001b[1mDelimiter:\u001b[22m \",\"\n",
      "\u001b[31mchr\u001b[39m  (8): player_name, team_abbreviation, college, country, draft_year, draf...\n",
      "\u001b[32mdbl\u001b[39m (14): ...1, age, player_height, player_weight, gp, pts, reb, ast, net_ra...\n",
      "\n",
      "\u001b[36mℹ\u001b[39m Use `spec()` to retrieve the full column specification for this data.\n",
      "\u001b[36mℹ\u001b[39m Specify the column types or set `show_col_types = FALSE` to quiet this message.\n"
     ]
    },
    {
     "data": {
      "text/html": [
       "<table class=\"dataframe\">\n",
       "<caption>A tibble: 6 × 22</caption>\n",
       "<thead>\n",
       "\t<tr><th scope=col>...1</th><th scope=col>player_name</th><th scope=col>team_abbreviation</th><th scope=col>age</th><th scope=col>player_height</th><th scope=col>player_weight</th><th scope=col>college</th><th scope=col>country</th><th scope=col>draft_year</th><th scope=col>draft_round</th><th scope=col>⋯</th><th scope=col>pts</th><th scope=col>reb</th><th scope=col>ast</th><th scope=col>net_rating</th><th scope=col>oreb_pct</th><th scope=col>dreb_pct</th><th scope=col>usg_pct</th><th scope=col>ts_pct</th><th scope=col>ast_pct</th><th scope=col>season</th></tr>\n",
       "\t<tr><th scope=col>&lt;dbl&gt;</th><th scope=col>&lt;chr&gt;</th><th scope=col>&lt;chr&gt;</th><th scope=col>&lt;dbl&gt;</th><th scope=col>&lt;dbl&gt;</th><th scope=col>&lt;dbl&gt;</th><th scope=col>&lt;chr&gt;</th><th scope=col>&lt;chr&gt;</th><th scope=col>&lt;chr&gt;</th><th scope=col>&lt;chr&gt;</th><th scope=col>⋯</th><th scope=col>&lt;dbl&gt;</th><th scope=col>&lt;dbl&gt;</th><th scope=col>&lt;dbl&gt;</th><th scope=col>&lt;dbl&gt;</th><th scope=col>&lt;dbl&gt;</th><th scope=col>&lt;dbl&gt;</th><th scope=col>&lt;dbl&gt;</th><th scope=col>&lt;dbl&gt;</th><th scope=col>&lt;dbl&gt;</th><th scope=col>&lt;chr&gt;</th></tr>\n",
       "</thead>\n",
       "<tbody>\n",
       "\t<tr><td>12838</td><td>Joe Wieskamp   </td><td>TOR</td><td>23</td><td>198.12</td><td> 92.98636</td><td>Iowa         </td><td>USA     </td><td>2021     </td><td>2        </td><td>⋯</td><td> 1.0</td><td> 0.4</td><td>0.3</td><td>  1.0</td><td>0.000</td><td>0.068</td><td>0.115</td><td>0.321</td><td>0.083</td><td>2022-23</td></tr>\n",
       "\t<tr><td>12839</td><td>Joel Embiid    </td><td>PHI</td><td>29</td><td>213.36</td><td>127.00576</td><td>Kansas       </td><td>Cameroon</td><td>2014     </td><td>1        </td><td>⋯</td><td>33.1</td><td>10.2</td><td>4.2</td><td>  8.8</td><td>0.057</td><td>0.243</td><td>0.370</td><td>0.655</td><td>0.233</td><td>2022-23</td></tr>\n",
       "\t<tr><td>12840</td><td>John Butler Jr.</td><td>POR</td><td>20</td><td>213.36</td><td> 86.18248</td><td>Florida State</td><td>USA     </td><td>Undrafted</td><td>Undrafted</td><td>⋯</td><td> 2.4</td><td> 0.9</td><td>0.6</td><td>-16.1</td><td>0.012</td><td>0.065</td><td>0.102</td><td>0.411</td><td>0.066</td><td>2022-23</td></tr>\n",
       "\t<tr><td>12841</td><td>John Collins   </td><td>ATL</td><td>25</td><td>205.74</td><td>102.51179</td><td>Wake Forest  </td><td>USA     </td><td>2017     </td><td>1        </td><td>⋯</td><td>13.1</td><td> 6.5</td><td>1.2</td><td> -0.2</td><td>0.035</td><td>0.180</td><td>0.168</td><td>0.593</td><td>0.052</td><td>2022-23</td></tr>\n",
       "\t<tr><td>12842</td><td>Jericho Sims   </td><td>NYK</td><td>24</td><td>208.28</td><td>113.39800</td><td>Texas        </td><td>USA     </td><td>2021     </td><td>2        </td><td>⋯</td><td> 3.4</td><td> 4.7</td><td>0.5</td><td> -6.7</td><td>0.117</td><td>0.175</td><td>0.074</td><td>0.780</td><td>0.044</td><td>2022-23</td></tr>\n",
       "\t<tr><td>12843</td><td>JaMychal Green </td><td>GSW</td><td>33</td><td>205.74</td><td>102.96538</td><td>Alabama      </td><td>USA     </td><td>Undrafted</td><td>Undrafted</td><td>⋯</td><td> 6.4</td><td> 3.6</td><td>0.9</td><td> -8.2</td><td>0.087</td><td>0.164</td><td>0.169</td><td>0.650</td><td>0.094</td><td>2022-23</td></tr>\n",
       "</tbody>\n",
       "</table>\n"
      ],
      "text/latex": [
       "A tibble: 6 × 22\n",
       "\\begin{tabular}{lllllllllllllllllllll}\n",
       " ...1 & player\\_name & team\\_abbreviation & age & player\\_height & player\\_weight & college & country & draft\\_year & draft\\_round & ⋯ & pts & reb & ast & net\\_rating & oreb\\_pct & dreb\\_pct & usg\\_pct & ts\\_pct & ast\\_pct & season\\\\\n",
       " <dbl> & <chr> & <chr> & <dbl> & <dbl> & <dbl> & <chr> & <chr> & <chr> & <chr> & ⋯ & <dbl> & <dbl> & <dbl> & <dbl> & <dbl> & <dbl> & <dbl> & <dbl> & <dbl> & <chr>\\\\\n",
       "\\hline\n",
       "\t 12838 & Joe Wieskamp    & TOR & 23 & 198.12 &  92.98636 & Iowa          & USA      & 2021      & 2         & ⋯ &  1.0 &  0.4 & 0.3 &   1.0 & 0.000 & 0.068 & 0.115 & 0.321 & 0.083 & 2022-23\\\\\n",
       "\t 12839 & Joel Embiid     & PHI & 29 & 213.36 & 127.00576 & Kansas        & Cameroon & 2014      & 1         & ⋯ & 33.1 & 10.2 & 4.2 &   8.8 & 0.057 & 0.243 & 0.370 & 0.655 & 0.233 & 2022-23\\\\\n",
       "\t 12840 & John Butler Jr. & POR & 20 & 213.36 &  86.18248 & Florida State & USA      & Undrafted & Undrafted & ⋯ &  2.4 &  0.9 & 0.6 & -16.1 & 0.012 & 0.065 & 0.102 & 0.411 & 0.066 & 2022-23\\\\\n",
       "\t 12841 & John Collins    & ATL & 25 & 205.74 & 102.51179 & Wake Forest   & USA      & 2017      & 1         & ⋯ & 13.1 &  6.5 & 1.2 &  -0.2 & 0.035 & 0.180 & 0.168 & 0.593 & 0.052 & 2022-23\\\\\n",
       "\t 12842 & Jericho Sims    & NYK & 24 & 208.28 & 113.39800 & Texas         & USA      & 2021      & 2         & ⋯ &  3.4 &  4.7 & 0.5 &  -6.7 & 0.117 & 0.175 & 0.074 & 0.780 & 0.044 & 2022-23\\\\\n",
       "\t 12843 & JaMychal Green  & GSW & 33 & 205.74 & 102.96538 & Alabama       & USA      & Undrafted & Undrafted & ⋯ &  6.4 &  3.6 & 0.9 &  -8.2 & 0.087 & 0.164 & 0.169 & 0.650 & 0.094 & 2022-23\\\\\n",
       "\\end{tabular}\n"
      ],
      "text/markdown": [
       "\n",
       "A tibble: 6 × 22\n",
       "\n",
       "| ...1 &lt;dbl&gt; | player_name &lt;chr&gt; | team_abbreviation &lt;chr&gt; | age &lt;dbl&gt; | player_height &lt;dbl&gt; | player_weight &lt;dbl&gt; | college &lt;chr&gt; | country &lt;chr&gt; | draft_year &lt;chr&gt; | draft_round &lt;chr&gt; | ⋯ ⋯ | pts &lt;dbl&gt; | reb &lt;dbl&gt; | ast &lt;dbl&gt; | net_rating &lt;dbl&gt; | oreb_pct &lt;dbl&gt; | dreb_pct &lt;dbl&gt; | usg_pct &lt;dbl&gt; | ts_pct &lt;dbl&gt; | ast_pct &lt;dbl&gt; | season &lt;chr&gt; |\n",
       "|---|---|---|---|---|---|---|---|---|---|---|---|---|---|---|---|---|---|---|---|---|\n",
       "| 12838 | Joe Wieskamp    | TOR | 23 | 198.12 |  92.98636 | Iowa          | USA      | 2021      | 2         | ⋯ |  1.0 |  0.4 | 0.3 |   1.0 | 0.000 | 0.068 | 0.115 | 0.321 | 0.083 | 2022-23 |\n",
       "| 12839 | Joel Embiid     | PHI | 29 | 213.36 | 127.00576 | Kansas        | Cameroon | 2014      | 1         | ⋯ | 33.1 | 10.2 | 4.2 |   8.8 | 0.057 | 0.243 | 0.370 | 0.655 | 0.233 | 2022-23 |\n",
       "| 12840 | John Butler Jr. | POR | 20 | 213.36 |  86.18248 | Florida State | USA      | Undrafted | Undrafted | ⋯ |  2.4 |  0.9 | 0.6 | -16.1 | 0.012 | 0.065 | 0.102 | 0.411 | 0.066 | 2022-23 |\n",
       "| 12841 | John Collins    | ATL | 25 | 205.74 | 102.51179 | Wake Forest   | USA      | 2017      | 1         | ⋯ | 13.1 |  6.5 | 1.2 |  -0.2 | 0.035 | 0.180 | 0.168 | 0.593 | 0.052 | 2022-23 |\n",
       "| 12842 | Jericho Sims    | NYK | 24 | 208.28 | 113.39800 | Texas         | USA      | 2021      | 2         | ⋯ |  3.4 |  4.7 | 0.5 |  -6.7 | 0.117 | 0.175 | 0.074 | 0.780 | 0.044 | 2022-23 |\n",
       "| 12843 | JaMychal Green  | GSW | 33 | 205.74 | 102.96538 | Alabama       | USA      | Undrafted | Undrafted | ⋯ |  6.4 |  3.6 | 0.9 |  -8.2 | 0.087 | 0.164 | 0.169 | 0.650 | 0.094 | 2022-23 |\n",
       "\n"
      ],
      "text/plain": [
       "  ...1  player_name     team_abbreviation age player_height player_weight\n",
       "1 12838 Joe Wieskamp    TOR               23  198.12         92.98636    \n",
       "2 12839 Joel Embiid     PHI               29  213.36        127.00576    \n",
       "3 12840 John Butler Jr. POR               20  213.36         86.18248    \n",
       "4 12841 John Collins    ATL               25  205.74        102.51179    \n",
       "5 12842 Jericho Sims    NYK               24  208.28        113.39800    \n",
       "6 12843 JaMychal Green  GSW               33  205.74        102.96538    \n",
       "  college       country  draft_year draft_round ⋯ pts  reb  ast net_rating\n",
       "1 Iowa          USA      2021       2           ⋯  1.0  0.4 0.3   1.0     \n",
       "2 Kansas        Cameroon 2014       1           ⋯ 33.1 10.2 4.2   8.8     \n",
       "3 Florida State USA      Undrafted  Undrafted   ⋯  2.4  0.9 0.6 -16.1     \n",
       "4 Wake Forest   USA      2017       1           ⋯ 13.1  6.5 1.2  -0.2     \n",
       "5 Texas         USA      2021       2           ⋯  3.4  4.7 0.5  -6.7     \n",
       "6 Alabama       USA      Undrafted  Undrafted   ⋯  6.4  3.6 0.9  -8.2     \n",
       "  oreb_pct dreb_pct usg_pct ts_pct ast_pct season \n",
       "1 0.000    0.068    0.115   0.321  0.083   2022-23\n",
       "2 0.057    0.243    0.370   0.655  0.233   2022-23\n",
       "3 0.012    0.065    0.102   0.411  0.066   2022-23\n",
       "4 0.035    0.180    0.168   0.593  0.052   2022-23\n",
       "5 0.117    0.175    0.074   0.780  0.044   2022-23\n",
       "6 0.087    0.164    0.169   0.650  0.094   2022-23"
      ]
     },
     "metadata": {},
     "output_type": "display_data"
    }
   ],
   "source": [
    "# reading the dataset in the data folder\n",
    "nba_raw <- read_csv(\"data/all_seasons.csv\")\n",
    "# looking at the the first 6 rows\n",
    "tail(nba_raw)"
   ]
  },
  {
   "cell_type": "markdown",
   "id": "d92e71a1-d084-4e80-ac13-f472733c3424",
   "metadata": {},
   "source": [
    "**Table 1.** Table of the first 6 rows of raw data from all_seasons.csv"
   ]
  },
  {
   "cell_type": "markdown",
   "id": "5e754212-0d03-4870-8ccb-28a5d7f1da4d",
   "metadata": {},
   "source": [
    "### Data tidying ###\n",
    "Looking at the columns, we see that \"draft_year\" and \"draft_round\" are character columns, instead of numeric. Upon investigation into the data we see that this is because some players came into the NBA league undrafted and were picked up by teams through other methods, and thus are marked as \"undrafted\" under the \"draft_year\" and \"draft_round\" columns. Since we want to select and use rookie players who have only played in the 2022 season as our test data, we must filter out players who have played in more than one season for training and players who have only played in 2022 season for test data. However, because some players went undrafted, it is difficult to determine what year those players were rookies. (If we say that a player is a rookie in the first season of all the observations we have of them, then what happens if the first season of all the observations we have of them is the first season recorded in this data set and they were undrafted? Since we have no data of earlier seasons we wouldn't know if that season was truly their rookie season.) Thus, to make data manipulation and analysis easier, we will only consider players that were drafted \n",
    "\n",
    "Since college, country and the team that they played for are not important for our data analysis, we will select the rest of the columns during our data processing. Additionally, to make data manipulation easier, we will also change season into a numeric value by only keeping the year the season began (ex. \"1996-1997\" into 1996)."
   ]
  },
  {
   "cell_type": "code",
   "execution_count": 16,
   "id": "1f612545-cfd0-4fdd-82de-484cc0b19791",
   "metadata": {
    "tags": []
   },
   "outputs": [
    {
     "data": {
      "text/html": [
       "<table class=\"dataframe\">\n",
       "<caption>A tibble: 6 × 18</caption>\n",
       "<thead>\n",
       "\t<tr><th scope=col>player_name</th><th scope=col>age</th><th scope=col>player_height</th><th scope=col>player_weight</th><th scope=col>draft_year</th><th scope=col>draft_round</th><th scope=col>draft_number</th><th scope=col>gp</th><th scope=col>pts</th><th scope=col>reb</th><th scope=col>ast</th><th scope=col>net_rating</th><th scope=col>oreb_pct</th><th scope=col>dreb_pct</th><th scope=col>usg_pct</th><th scope=col>ts_pct</th><th scope=col>ast_pct</th><th scope=col>season_start</th></tr>\n",
       "\t<tr><th scope=col>&lt;chr&gt;</th><th scope=col>&lt;dbl&gt;</th><th scope=col>&lt;dbl&gt;</th><th scope=col>&lt;dbl&gt;</th><th scope=col>&lt;dbl&gt;</th><th scope=col>&lt;dbl&gt;</th><th scope=col>&lt;dbl&gt;</th><th scope=col>&lt;dbl&gt;</th><th scope=col>&lt;dbl&gt;</th><th scope=col>&lt;dbl&gt;</th><th scope=col>&lt;dbl&gt;</th><th scope=col>&lt;dbl&gt;</th><th scope=col>&lt;dbl&gt;</th><th scope=col>&lt;dbl&gt;</th><th scope=col>&lt;dbl&gt;</th><th scope=col>&lt;dbl&gt;</th><th scope=col>&lt;dbl&gt;</th><th scope=col>&lt;dbl&gt;</th></tr>\n",
       "</thead>\n",
       "<tbody>\n",
       "\t<tr><td>Randy Livingston</td><td>22</td><td>193.04</td><td> 94.80073</td><td>1996</td><td>2</td><td>42</td><td>64</td><td> 3.9</td><td>1.5</td><td>2.4</td><td>  0.3</td><td>0.042</td><td>0.071</td><td>0.169</td><td>0.487</td><td>0.248</td><td>1996</td></tr>\n",
       "\t<tr><td>Gaylon Nickerson</td><td>28</td><td>190.50</td><td> 86.18248</td><td>1994</td><td>2</td><td>34</td><td> 4</td><td> 3.8</td><td>1.3</td><td>0.3</td><td>  8.9</td><td>0.030</td><td>0.111</td><td>0.174</td><td>0.497</td><td>0.043</td><td>1996</td></tr>\n",
       "\t<tr><td>George Lynch    </td><td>26</td><td>203.20</td><td>103.41898</td><td>1993</td><td>1</td><td>12</td><td>41</td><td> 8.3</td><td>6.4</td><td>1.9</td><td> -8.2</td><td>0.106</td><td>0.185</td><td>0.175</td><td>0.512</td><td>0.125</td><td>1996</td></tr>\n",
       "\t<tr><td>George McCloud  </td><td>30</td><td>203.20</td><td>102.05820</td><td>1989</td><td>1</td><td> 7</td><td>64</td><td>10.2</td><td>2.8</td><td>1.7</td><td> -2.7</td><td>0.027</td><td>0.111</td><td>0.206</td><td>0.527</td><td>0.125</td><td>1996</td></tr>\n",
       "\t<tr><td>George Zidek    </td><td>23</td><td>213.36</td><td>119.74829</td><td>1995</td><td>1</td><td>22</td><td>52</td><td> 2.8</td><td>1.7</td><td>0.3</td><td>-14.1</td><td>0.102</td><td>0.169</td><td>0.195</td><td>0.500</td><td>0.064</td><td>1996</td></tr>\n",
       "\t<tr><td>Gerald Wilkins  </td><td>33</td><td>198.12</td><td>102.05820</td><td>1985</td><td>2</td><td>47</td><td>80</td><td>10.6</td><td>2.2</td><td>2.2</td><td> -5.8</td><td>0.031</td><td>0.064</td><td>0.203</td><td>0.503</td><td>0.143</td><td>1996</td></tr>\n",
       "</tbody>\n",
       "</table>\n"
      ],
      "text/latex": [
       "A tibble: 6 × 18\n",
       "\\begin{tabular}{llllllllllllllllll}\n",
       " player\\_name & age & player\\_height & player\\_weight & draft\\_year & draft\\_round & draft\\_number & gp & pts & reb & ast & net\\_rating & oreb\\_pct & dreb\\_pct & usg\\_pct & ts\\_pct & ast\\_pct & season\\_start\\\\\n",
       " <chr> & <dbl> & <dbl> & <dbl> & <dbl> & <dbl> & <dbl> & <dbl> & <dbl> & <dbl> & <dbl> & <dbl> & <dbl> & <dbl> & <dbl> & <dbl> & <dbl> & <dbl>\\\\\n",
       "\\hline\n",
       "\t Randy Livingston & 22 & 193.04 &  94.80073 & 1996 & 2 & 42 & 64 &  3.9 & 1.5 & 2.4 &   0.3 & 0.042 & 0.071 & 0.169 & 0.487 & 0.248 & 1996\\\\\n",
       "\t Gaylon Nickerson & 28 & 190.50 &  86.18248 & 1994 & 2 & 34 &  4 &  3.8 & 1.3 & 0.3 &   8.9 & 0.030 & 0.111 & 0.174 & 0.497 & 0.043 & 1996\\\\\n",
       "\t George Lynch     & 26 & 203.20 & 103.41898 & 1993 & 1 & 12 & 41 &  8.3 & 6.4 & 1.9 &  -8.2 & 0.106 & 0.185 & 0.175 & 0.512 & 0.125 & 1996\\\\\n",
       "\t George McCloud   & 30 & 203.20 & 102.05820 & 1989 & 1 &  7 & 64 & 10.2 & 2.8 & 1.7 &  -2.7 & 0.027 & 0.111 & 0.206 & 0.527 & 0.125 & 1996\\\\\n",
       "\t George Zidek     & 23 & 213.36 & 119.74829 & 1995 & 1 & 22 & 52 &  2.8 & 1.7 & 0.3 & -14.1 & 0.102 & 0.169 & 0.195 & 0.500 & 0.064 & 1996\\\\\n",
       "\t Gerald Wilkins   & 33 & 198.12 & 102.05820 & 1985 & 2 & 47 & 80 & 10.6 & 2.2 & 2.2 &  -5.8 & 0.031 & 0.064 & 0.203 & 0.503 & 0.143 & 1996\\\\\n",
       "\\end{tabular}\n"
      ],
      "text/markdown": [
       "\n",
       "A tibble: 6 × 18\n",
       "\n",
       "| player_name &lt;chr&gt; | age &lt;dbl&gt; | player_height &lt;dbl&gt; | player_weight &lt;dbl&gt; | draft_year &lt;dbl&gt; | draft_round &lt;dbl&gt; | draft_number &lt;dbl&gt; | gp &lt;dbl&gt; | pts &lt;dbl&gt; | reb &lt;dbl&gt; | ast &lt;dbl&gt; | net_rating &lt;dbl&gt; | oreb_pct &lt;dbl&gt; | dreb_pct &lt;dbl&gt; | usg_pct &lt;dbl&gt; | ts_pct &lt;dbl&gt; | ast_pct &lt;dbl&gt; | season_start &lt;dbl&gt; |\n",
       "|---|---|---|---|---|---|---|---|---|---|---|---|---|---|---|---|---|---|\n",
       "| Randy Livingston | 22 | 193.04 |  94.80073 | 1996 | 2 | 42 | 64 |  3.9 | 1.5 | 2.4 |   0.3 | 0.042 | 0.071 | 0.169 | 0.487 | 0.248 | 1996 |\n",
       "| Gaylon Nickerson | 28 | 190.50 |  86.18248 | 1994 | 2 | 34 |  4 |  3.8 | 1.3 | 0.3 |   8.9 | 0.030 | 0.111 | 0.174 | 0.497 | 0.043 | 1996 |\n",
       "| George Lynch     | 26 | 203.20 | 103.41898 | 1993 | 1 | 12 | 41 |  8.3 | 6.4 | 1.9 |  -8.2 | 0.106 | 0.185 | 0.175 | 0.512 | 0.125 | 1996 |\n",
       "| George McCloud   | 30 | 203.20 | 102.05820 | 1989 | 1 |  7 | 64 | 10.2 | 2.8 | 1.7 |  -2.7 | 0.027 | 0.111 | 0.206 | 0.527 | 0.125 | 1996 |\n",
       "| George Zidek     | 23 | 213.36 | 119.74829 | 1995 | 1 | 22 | 52 |  2.8 | 1.7 | 0.3 | -14.1 | 0.102 | 0.169 | 0.195 | 0.500 | 0.064 | 1996 |\n",
       "| Gerald Wilkins   | 33 | 198.12 | 102.05820 | 1985 | 2 | 47 | 80 | 10.6 | 2.2 | 2.2 |  -5.8 | 0.031 | 0.064 | 0.203 | 0.503 | 0.143 | 1996 |\n",
       "\n"
      ],
      "text/plain": [
       "  player_name      age player_height player_weight draft_year draft_round\n",
       "1 Randy Livingston 22  193.04         94.80073     1996       2          \n",
       "2 Gaylon Nickerson 28  190.50         86.18248     1994       2          \n",
       "3 George Lynch     26  203.20        103.41898     1993       1          \n",
       "4 George McCloud   30  203.20        102.05820     1989       1          \n",
       "5 George Zidek     23  213.36        119.74829     1995       1          \n",
       "6 Gerald Wilkins   33  198.12        102.05820     1985       2          \n",
       "  draft_number gp pts  reb ast net_rating oreb_pct dreb_pct usg_pct ts_pct\n",
       "1 42           64  3.9 1.5 2.4   0.3      0.042    0.071    0.169   0.487 \n",
       "2 34            4  3.8 1.3 0.3   8.9      0.030    0.111    0.174   0.497 \n",
       "3 12           41  8.3 6.4 1.9  -8.2      0.106    0.185    0.175   0.512 \n",
       "4  7           64 10.2 2.8 1.7  -2.7      0.027    0.111    0.206   0.527 \n",
       "5 22           52  2.8 1.7 0.3 -14.1      0.102    0.169    0.195   0.500 \n",
       "6 47           80 10.6 2.2 2.2  -5.8      0.031    0.064    0.203   0.503 \n",
       "  ast_pct season_start\n",
       "1 0.248   1996        \n",
       "2 0.043   1996        \n",
       "3 0.125   1996        \n",
       "4 0.125   1996        \n",
       "5 0.064   1996        \n",
       "6 0.143   1996        "
      ]
     },
     "metadata": {},
     "output_type": "display_data"
    }
   ],
   "source": [
    "nba_data <- nba_raw |>\n",
    "    filter(draft_year != \"Undrafted\" & draft_round != \"Undrafted\" & draft_number != \"Undrafted\") |>\n",
    "    separate(season, into = c(\"season_start\", \"season_end\"), \"-\") |>\n",
    "    mutate(season_start = as.numeric(season_start), draft_year = as.numeric(draft_year), \n",
    "           draft_round = as.numeric(draft_round), draft_number = as.numeric(draft_number)) |>\n",
    "    select(player_name, age:player_weight, draft_year:season_start) \n",
    "# looking at the first 6 rows of tidied data\n",
    "head(nba_data)"
   ]
  },
  {
   "cell_type": "markdown",
   "id": "1fd60cbb-4f68-4df6-98dd-9ac8de74c556",
   "metadata": {},
   "source": [
    "**Table 2.** Table of the first 6 rows of tidied `all_seasons` data"
   ]
  },
  {
   "cell_type": "markdown",
   "id": "7c982a85-43a6-404d-b868-e7d2ac4361ba",
   "metadata": {},
   "source": [
    "Prompts: \n",
    "- Demonstrate that the dataset can be read from the web into R \n",
    "- Clean and wrangle your data into a tidy format\n",
    "- Using only training data, summarize the data in at least one table (this is exploratory data analysis). An example of a useful table could be one that reports the number of observations in each class, the means of the predictor variables you plan to use in your analysis and how many rows have missing data. \n",
    "- Using only training data, visualize the data with at least one plot relevant to the analysis you plan to do (this is exploratory data analysis). An example of a useful visualization could be one that compares the distributions of each of the predictor variables you plan to use in your analysis."
   ]
  },
  {
   "cell_type": "markdown",
   "id": "5537364e-87ac-4c09-b005-1c78ff26188f",
   "metadata": {
    "tags": []
   },
   "source": [
    "## Methods ##"
   ]
  },
  {
   "cell_type": "markdown",
   "id": "1e2bb900-25b6-4196-8acc-e9a2dd9c1238",
   "metadata": {},
   "source": [
    "Prompts \n",
    "- Explain how you will conduct either your data analysis and which variables/columns you will use. Note - you do not need to use all variables/columns that exist in the raw data set. In fact, that's often not a good idea. For each variable think: is this a useful variable for prediction?\n",
    "\n",
    "- Describe at least one way that you will visualize the results"
   ]
  },
  {
   "cell_type": "markdown",
   "id": "be2f7f6c-d3ef-4a58-9b9d-27f46bc7a719",
   "metadata": {},
   "source": [
    "Response\n",
    "\n",
    "- To conduct our experiment, we will use the knn regression model using the columns `pts` (points per game), `gp` (games played), `player_height` (cm), `player_weight` (kg), `usg_pct` (usage percentage) and `ts_pct` (true shooting percentage) as predictors since these factors are likely to have a significant influence on the total number of points scored over a career. Using these, predictors, we will find the projected number of points a player will score based on the average of its K nearest neighbors where the K value will be determined through evaluation and tuning.\n",
    "\n",
    "- We will use scatter plots, with a regression line to visualize the data and results as it will give a clear view on the K nearest neighbors to the point on a line. Futhermore we will make distinctions between amount of seasons played by the player by colors in plots."
   ]
  },
  {
   "cell_type": "markdown",
   "id": "35b5e2fe-e946-4352-b874-cb9cc0e36278",
   "metadata": {
    "tags": []
   },
   "source": [
    "Separating the data into training data and testing data."
   ]
  },
  {
   "cell_type": "code",
   "execution_count": 2,
   "id": "a66ea36e-b5d3-46f0-a3b5-54a2f234b617",
   "metadata": {
    "tags": []
   },
   "outputs": [
    {
     "ename": "ERROR",
     "evalue": "Error in as.ts(x): object 'nba_data' not found\n",
     "output_type": "error",
     "traceback": [
      "Error in as.ts(x): object 'nba_data' not found\nTraceback:\n",
      "1. filter(nba_data, draft_year == 2022)",
      "2. as.ts(x)"
     ]
    }
   ],
   "source": [
    "# trying to separate data into training data (excludes rookies) and test data (rookies)\n",
    "nba_rookie <- nba_data |>\n",
    "    filter(draft_year == 2022)\n",
    "\n",
    "nba_non_rookies <- nba_data |>\n",
    "    filter(draft_year >= 1996, draft_year <= 2021) \n",
    "\n",
    "# gets the first season they've played \n",
    "nba_first_season <- nba_data[match(unique(nba_data$player_name), nba_data$player_name),]\n",
    "\n",
    "nba_test <- nba_first_season |>\n",
    "    filter(season_start == 2022)\n",
    "\n",
    "nba_training <- nba_non_rookies |>\n",
    "    filter(draft_year == season_start) |>\n",
    "    select(player_name) |>\n",
    "    unique()\n",
    "\n",
    "# the problem is that some players did not play in the season they were drafted\n",
    "tail(nba_training)\n",
    "\n",
    "nba_ray <- nba_data |>\n",
    "    filter(player_name == \"RaiQuan Gray\")\n",
    "\n",
    "nba_ray\n",
    "\n",
    "\n",
    "# this can be solved using this:\n",
    "# df1[!(df1$name %in% df2$name),] \n",
    "# or:\n",
    "# library(dplyr)\n",
    "# anti_join(df1, df2, by = \"name\")"
   ]
  },
  {
   "cell_type": "code",
   "execution_count": 32,
   "id": "1d19f472-cb0a-4fdf-b6ab-8db47a818713",
   "metadata": {
    "tags": []
   },
   "outputs": [
    {
     "data": {
      "text/html": [
       "<table class=\"dataframe\">\n",
       "<caption>A tibble: 1354 × 2</caption>\n",
       "<thead>\n",
       "\t<tr><th scope=col>player_name</th><th scope=col>total_points</th></tr>\n",
       "\t<tr><th scope=col>&lt;chr&gt;</th><th scope=col>&lt;dbl&gt;</th></tr>\n",
       "</thead>\n",
       "<tbody>\n",
       "\t<tr><td>A.J. Bramlett       </td><td>    8.0</td></tr>\n",
       "\t<tr><td>A.J. Guyton         </td><td>  441.0</td></tr>\n",
       "\t<tr><td>AJ Hammons          </td><td>   48.4</td></tr>\n",
       "\t<tr><td>AJ Price            </td><td> 1521.7</td></tr>\n",
       "\t<tr><td>Aaron Brooks        </td><td> 6263.7</td></tr>\n",
       "\t<tr><td>Aaron Gordon        </td><td> 7993.0</td></tr>\n",
       "\t<tr><td>Aaron Gray          </td><td> 1066.3</td></tr>\n",
       "\t<tr><td>Aaron Holiday       </td><td> 2039.8</td></tr>\n",
       "\t<tr><td>Aaron Nesmith       </td><td> 1151.1</td></tr>\n",
       "\t<tr><td>Aaron Wiggins       </td><td>  891.0</td></tr>\n",
       "\t<tr><td>Abdel Nader         </td><td>  928.9</td></tr>\n",
       "\t<tr><td>Acie Law            </td><td>  720.7</td></tr>\n",
       "\t<tr><td>Adam Morrison       </td><td> 1202.8</td></tr>\n",
       "\t<tr><td>Admiral Schofield   </td><td>  398.8</td></tr>\n",
       "\t<tr><td>Adonal Foyle        </td><td> 2987.1</td></tr>\n",
       "\t<tr><td>Adreian Payne       </td><td>  428.4</td></tr>\n",
       "\t<tr><td>Al Harrington       </td><td>13236.2</td></tr>\n",
       "\t<tr><td>Al Horford          </td><td>13603.6</td></tr>\n",
       "\t<tr><td>Al Jefferson        </td><td>14328.2</td></tr>\n",
       "\t<tr><td>Al Thornton         </td><td> 3524.0</td></tr>\n",
       "\t<tr><td>Al-Farouq Aminu     </td><td> 5343.6</td></tr>\n",
       "\t<tr><td>Alando Tucker       </td><td>  211.2</td></tr>\n",
       "\t<tr><td>Alec Burks          </td><td> 7302.6</td></tr>\n",
       "\t<tr><td>Alec Peters         </td><td>   82.0</td></tr>\n",
       "\t<tr><td>Alekesej Pokusevski </td><td>  463.6</td></tr>\n",
       "\t<tr><td>Aleksandar Radojevic</td><td>   26.1</td></tr>\n",
       "\t<tr><td>Aleksej Pokusevski  </td><td>  644.4</td></tr>\n",
       "\t<tr><td>Alen Smailagic      </td><td>   87.3</td></tr>\n",
       "\t<tr><td>Alex Abrines        </td><td>  924.8</td></tr>\n",
       "\t<tr><td>Alex Acker          </td><td>   81.5</td></tr>\n",
       "\t<tr><td>⋮</td><td>⋮</td></tr>\n",
       "\t<tr><td>Wendell Carter Jr. </td><td> 3340.3</td></tr>\n",
       "\t<tr><td>Wes Iwundu         </td><td>  991.3</td></tr>\n",
       "\t<tr><td>Wesley Johnson     </td><td> 4236.7</td></tr>\n",
       "\t<tr><td>Will Barton        </td><td> 7630.9</td></tr>\n",
       "\t<tr><td>Will Blalock       </td><td>   25.2</td></tr>\n",
       "\t<tr><td>Will Solomon       </td><td>  587.4</td></tr>\n",
       "\t<tr><td>William Avery      </td><td>  377.4</td></tr>\n",
       "\t<tr><td>Willie Cauley-Stein</td><td> 3671.5</td></tr>\n",
       "\t<tr><td>Willie Green       </td><td> 6060.1</td></tr>\n",
       "\t<tr><td>Willie Warren      </td><td>   36.1</td></tr>\n",
       "\t<tr><td>Willy Hernangomez  </td><td> 2531.5</td></tr>\n",
       "\t<tr><td>Wilson Chandler    </td><td> 8461.2</td></tr>\n",
       "\t<tr><td>Xavier Henry       </td><td> 1046.7</td></tr>\n",
       "\t<tr><td>Xavier Tillman     </td><td>  816.4</td></tr>\n",
       "\t<tr><td>Xavier Tillman Sr. </td><td>  254.4</td></tr>\n",
       "\t<tr><td>Yao Ming           </td><td> 9255.0</td></tr>\n",
       "\t<tr><td>Yaroslav Korolev   </td><td>   38.4</td></tr>\n",
       "\t<tr><td>Yi Jianlian        </td><td> 2147.0</td></tr>\n",
       "\t<tr><td>Zach Collins       </td><td> 1824.8</td></tr>\n",
       "\t<tr><td>Zach LaVine        </td><td>11371.5</td></tr>\n",
       "\t<tr><td>Zach Randolph      </td><td>18580.7</td></tr>\n",
       "\t<tr><td>Zarko Cabarkapa    </td><td>  642.2</td></tr>\n",
       "\t<tr><td>Zaza Pachulia      </td><td> 7418.9</td></tr>\n",
       "\t<tr><td>Zeke Nnaji         </td><td>  680.6</td></tr>\n",
       "\t<tr><td>Zhaire Smith       </td><td>   47.9</td></tr>\n",
       "\t<tr><td>Zhou Qi            </td><td>   23.6</td></tr>\n",
       "\t<tr><td>Ziaire Williams    </td><td>  713.1</td></tr>\n",
       "\t<tr><td>Zion Williamson    </td><td> 2941.0</td></tr>\n",
       "\t<tr><td>Zoran Planinic     </td><td>  557.3</td></tr>\n",
       "\t<tr><td>Zydrunas Ilgauskas </td><td>10981.9</td></tr>\n",
       "</tbody>\n",
       "</table>\n"
      ],
      "text/latex": [
       "A tibble: 1354 × 2\n",
       "\\begin{tabular}{ll}\n",
       " player\\_name & total\\_points\\\\\n",
       " <chr> & <dbl>\\\\\n",
       "\\hline\n",
       "\t A.J. Bramlett        &     8.0\\\\\n",
       "\t A.J. Guyton          &   441.0\\\\\n",
       "\t AJ Hammons           &    48.4\\\\\n",
       "\t AJ Price             &  1521.7\\\\\n",
       "\t Aaron Brooks         &  6263.7\\\\\n",
       "\t Aaron Gordon         &  7993.0\\\\\n",
       "\t Aaron Gray           &  1066.3\\\\\n",
       "\t Aaron Holiday        &  2039.8\\\\\n",
       "\t Aaron Nesmith        &  1151.1\\\\\n",
       "\t Aaron Wiggins        &   891.0\\\\\n",
       "\t Abdel Nader          &   928.9\\\\\n",
       "\t Acie Law             &   720.7\\\\\n",
       "\t Adam Morrison        &  1202.8\\\\\n",
       "\t Admiral Schofield    &   398.8\\\\\n",
       "\t Adonal Foyle         &  2987.1\\\\\n",
       "\t Adreian Payne        &   428.4\\\\\n",
       "\t Al Harrington        & 13236.2\\\\\n",
       "\t Al Horford           & 13603.6\\\\\n",
       "\t Al Jefferson         & 14328.2\\\\\n",
       "\t Al Thornton          &  3524.0\\\\\n",
       "\t Al-Farouq Aminu      &  5343.6\\\\\n",
       "\t Alando Tucker        &   211.2\\\\\n",
       "\t Alec Burks           &  7302.6\\\\\n",
       "\t Alec Peters          &    82.0\\\\\n",
       "\t Alekesej Pokusevski  &   463.6\\\\\n",
       "\t Aleksandar Radojevic &    26.1\\\\\n",
       "\t Aleksej Pokusevski   &   644.4\\\\\n",
       "\t Alen Smailagic       &    87.3\\\\\n",
       "\t Alex Abrines         &   924.8\\\\\n",
       "\t Alex Acker           &    81.5\\\\\n",
       "\t ⋮ & ⋮\\\\\n",
       "\t Wendell Carter Jr.  &  3340.3\\\\\n",
       "\t Wes Iwundu          &   991.3\\\\\n",
       "\t Wesley Johnson      &  4236.7\\\\\n",
       "\t Will Barton         &  7630.9\\\\\n",
       "\t Will Blalock        &    25.2\\\\\n",
       "\t Will Solomon        &   587.4\\\\\n",
       "\t William Avery       &   377.4\\\\\n",
       "\t Willie Cauley-Stein &  3671.5\\\\\n",
       "\t Willie Green        &  6060.1\\\\\n",
       "\t Willie Warren       &    36.1\\\\\n",
       "\t Willy Hernangomez   &  2531.5\\\\\n",
       "\t Wilson Chandler     &  8461.2\\\\\n",
       "\t Xavier Henry        &  1046.7\\\\\n",
       "\t Xavier Tillman      &   816.4\\\\\n",
       "\t Xavier Tillman Sr.  &   254.4\\\\\n",
       "\t Yao Ming            &  9255.0\\\\\n",
       "\t Yaroslav Korolev    &    38.4\\\\\n",
       "\t Yi Jianlian         &  2147.0\\\\\n",
       "\t Zach Collins        &  1824.8\\\\\n",
       "\t Zach LaVine         & 11371.5\\\\\n",
       "\t Zach Randolph       & 18580.7\\\\\n",
       "\t Zarko Cabarkapa     &   642.2\\\\\n",
       "\t Zaza Pachulia       &  7418.9\\\\\n",
       "\t Zeke Nnaji          &   680.6\\\\\n",
       "\t Zhaire Smith        &    47.9\\\\\n",
       "\t Zhou Qi             &    23.6\\\\\n",
       "\t Ziaire Williams     &   713.1\\\\\n",
       "\t Zion Williamson     &  2941.0\\\\\n",
       "\t Zoran Planinic      &   557.3\\\\\n",
       "\t Zydrunas Ilgauskas  & 10981.9\\\\\n",
       "\\end{tabular}\n"
      ],
      "text/markdown": [
       "\n",
       "A tibble: 1354 × 2\n",
       "\n",
       "| player_name &lt;chr&gt; | total_points &lt;dbl&gt; |\n",
       "|---|---|\n",
       "| A.J. Bramlett        |     8.0 |\n",
       "| A.J. Guyton          |   441.0 |\n",
       "| AJ Hammons           |    48.4 |\n",
       "| AJ Price             |  1521.7 |\n",
       "| Aaron Brooks         |  6263.7 |\n",
       "| Aaron Gordon         |  7993.0 |\n",
       "| Aaron Gray           |  1066.3 |\n",
       "| Aaron Holiday        |  2039.8 |\n",
       "| Aaron Nesmith        |  1151.1 |\n",
       "| Aaron Wiggins        |   891.0 |\n",
       "| Abdel Nader          |   928.9 |\n",
       "| Acie Law             |   720.7 |\n",
       "| Adam Morrison        |  1202.8 |\n",
       "| Admiral Schofield    |   398.8 |\n",
       "| Adonal Foyle         |  2987.1 |\n",
       "| Adreian Payne        |   428.4 |\n",
       "| Al Harrington        | 13236.2 |\n",
       "| Al Horford           | 13603.6 |\n",
       "| Al Jefferson         | 14328.2 |\n",
       "| Al Thornton          |  3524.0 |\n",
       "| Al-Farouq Aminu      |  5343.6 |\n",
       "| Alando Tucker        |   211.2 |\n",
       "| Alec Burks           |  7302.6 |\n",
       "| Alec Peters          |    82.0 |\n",
       "| Alekesej Pokusevski  |   463.6 |\n",
       "| Aleksandar Radojevic |    26.1 |\n",
       "| Aleksej Pokusevski   |   644.4 |\n",
       "| Alen Smailagic       |    87.3 |\n",
       "| Alex Abrines         |   924.8 |\n",
       "| Alex Acker           |    81.5 |\n",
       "| ⋮ | ⋮ |\n",
       "| Wendell Carter Jr.  |  3340.3 |\n",
       "| Wes Iwundu          |   991.3 |\n",
       "| Wesley Johnson      |  4236.7 |\n",
       "| Will Barton         |  7630.9 |\n",
       "| Will Blalock        |    25.2 |\n",
       "| Will Solomon        |   587.4 |\n",
       "| William Avery       |   377.4 |\n",
       "| Willie Cauley-Stein |  3671.5 |\n",
       "| Willie Green        |  6060.1 |\n",
       "| Willie Warren       |    36.1 |\n",
       "| Willy Hernangomez   |  2531.5 |\n",
       "| Wilson Chandler     |  8461.2 |\n",
       "| Xavier Henry        |  1046.7 |\n",
       "| Xavier Tillman      |   816.4 |\n",
       "| Xavier Tillman Sr.  |   254.4 |\n",
       "| Yao Ming            |  9255.0 |\n",
       "| Yaroslav Korolev    |    38.4 |\n",
       "| Yi Jianlian         |  2147.0 |\n",
       "| Zach Collins        |  1824.8 |\n",
       "| Zach LaVine         | 11371.5 |\n",
       "| Zach Randolph       | 18580.7 |\n",
       "| Zarko Cabarkapa     |   642.2 |\n",
       "| Zaza Pachulia       |  7418.9 |\n",
       "| Zeke Nnaji          |   680.6 |\n",
       "| Zhaire Smith        |    47.9 |\n",
       "| Zhou Qi             |    23.6 |\n",
       "| Ziaire Williams     |   713.1 |\n",
       "| Zion Williamson     |  2941.0 |\n",
       "| Zoran Planinic      |   557.3 |\n",
       "| Zydrunas Ilgauskas  | 10981.9 |\n",
       "\n"
      ],
      "text/plain": [
       "     player_name          total_points\n",
       "1    A.J. Bramlett            8.0     \n",
       "2    A.J. Guyton            441.0     \n",
       "3    AJ Hammons              48.4     \n",
       "4    AJ Price              1521.7     \n",
       "5    Aaron Brooks          6263.7     \n",
       "6    Aaron Gordon          7993.0     \n",
       "7    Aaron Gray            1066.3     \n",
       "8    Aaron Holiday         2039.8     \n",
       "9    Aaron Nesmith         1151.1     \n",
       "10   Aaron Wiggins          891.0     \n",
       "11   Abdel Nader            928.9     \n",
       "12   Acie Law               720.7     \n",
       "13   Adam Morrison         1202.8     \n",
       "14   Admiral Schofield      398.8     \n",
       "15   Adonal Foyle          2987.1     \n",
       "16   Adreian Payne          428.4     \n",
       "17   Al Harrington        13236.2     \n",
       "18   Al Horford           13603.6     \n",
       "19   Al Jefferson         14328.2     \n",
       "20   Al Thornton           3524.0     \n",
       "21   Al-Farouq Aminu       5343.6     \n",
       "22   Alando Tucker          211.2     \n",
       "23   Alec Burks            7302.6     \n",
       "24   Alec Peters             82.0     \n",
       "25   Alekesej Pokusevski    463.6     \n",
       "26   Aleksandar Radojevic    26.1     \n",
       "27   Aleksej Pokusevski     644.4     \n",
       "28   Alen Smailagic          87.3     \n",
       "29   Alex Abrines           924.8     \n",
       "30   Alex Acker              81.5     \n",
       "⋮    ⋮                    ⋮           \n",
       "1325 Wendell Carter Jr.    3340.3     \n",
       "1326 Wes Iwundu             991.3     \n",
       "1327 Wesley Johnson        4236.7     \n",
       "1328 Will Barton           7630.9     \n",
       "1329 Will Blalock            25.2     \n",
       "1330 Will Solomon           587.4     \n",
       "1331 William Avery          377.4     \n",
       "1332 Willie Cauley-Stein   3671.5     \n",
       "1333 Willie Green          6060.1     \n",
       "1334 Willie Warren           36.1     \n",
       "1335 Willy Hernangomez     2531.5     \n",
       "1336 Wilson Chandler       8461.2     \n",
       "1337 Xavier Henry          1046.7     \n",
       "1338 Xavier Tillman         816.4     \n",
       "1339 Xavier Tillman Sr.     254.4     \n",
       "1340 Yao Ming              9255.0     \n",
       "1341 Yaroslav Korolev        38.4     \n",
       "1342 Yi Jianlian           2147.0     \n",
       "1343 Zach Collins          1824.8     \n",
       "1344 Zach LaVine          11371.5     \n",
       "1345 Zach Randolph        18580.7     \n",
       "1346 Zarko Cabarkapa        642.2     \n",
       "1347 Zaza Pachulia         7418.9     \n",
       "1348 Zeke Nnaji             680.6     \n",
       "1349 Zhaire Smith            47.9     \n",
       "1350 Zhou Qi                 23.6     \n",
       "1351 Ziaire Williams        713.1     \n",
       "1352 Zion Williamson       2941.0     \n",
       "1353 Zoran Planinic         557.3     \n",
       "1354 Zydrunas Ilgauskas   10981.9     "
      ]
     },
     "metadata": {},
     "output_type": "display_data"
    }
   ],
   "source": [
    "# finding career points of nba players drafted between 1996 and 2021 (inclusive)\n",
    "nba_total_points <- nba_non_rookies |>\n",
    "    group_by(player_name) |>\n",
    "    summarize(\"total_points\" = sum(pts*gp))\n",
    "\n",
    "nba_total_points\n",
    "#nba_training <- rbind(nba_training, nba_total_points)\n",
    "\n",
    "options(repr.plot.width = 10, repr.plot.height = 8)\n",
    "\n",
    "# plotting total points vs avg weight\n",
    "nba_plot <- nba_summary |>\n",
    "    ggplot(aes(x = avg_weight, y = total_points)) +\n",
    "    geom_point() +\n",
    "    labs(x = \"Average weight (kg)\", y = \"Total Career Points\", title = \"Average weight (kg) vs. Total career points of NBA players\") + \n",
    "    theme(text = element_text(size = 20))"
   ]
  },
  {
   "cell_type": "markdown",
   "id": "32c615fa-e589-4c2e-b508-1a3c173482cb",
   "metadata": {
    "tags": []
   },
   "source": [
    "## Discussion ##\n",
    "Prompts\n",
    "- summarize what you found\n",
    "- discuss whether this is what you expected to find?\n",
    "- discuss what impact could such findings have?\n",
    "- discuss what future questions could this lead to?"
   ]
  },
  {
   "cell_type": "markdown",
   "id": "f9eabae1-f823-47b7-ba3c-35c8c0bad0bb",
   "metadata": {
    "tags": []
   },
   "source": [
    "Response from expected outcomes and significance in project proposal\n",
    "- We are trying to find the total points that a player may score at the end of his career based on other players' previous performance including points per game, games played, heights, weights, true shooting percentage and their usage percentage. \n",
    "\n",
    "- NBA teams could use this predicted score to identify whether a rookie player has potential or not. Also, it may be a useful index to determine a player's future trajectory. \n",
    "\n",
    "- This prediction model does not account for injuries and other factors. The player could improve significantly over the years and thus their rookie year statistics may not be helpful in predicting how they will perform in the future. Future questions we can also explore would be how their attributes and rookie statistics can predict other measures of performance such as assists, rebounds, etc. This way we can have a better description and prediction of their future career, not just in terms of points."
   ]
  },
  {
   "cell_type": "markdown",
   "id": "376849d5-6f03-4d3b-9e3e-2809ec7deda6",
   "metadata": {},
   "source": [
    "## References ##\n"
   ]
  },
  {
   "cell_type": "markdown",
   "id": "4546217a-c380-4502-8cf2-4a48a9a12117",
   "metadata": {},
   "source": []
  }
 ],
 "metadata": {
  "kernelspec": {
   "display_name": "R",
   "language": "R",
   "name": "ir"
  },
  "language_info": {
   "codemirror_mode": "r",
   "file_extension": ".r",
   "mimetype": "text/x-r-source",
   "name": "R",
   "pygments_lexer": "r",
   "version": "4.2.2"
  },
  "widgets": {
   "application/vnd.jupyter.widget-state+json": {
    "state": {},
    "version_major": 2,
    "version_minor": 0
   }
  }
 },
 "nbformat": 4,
 "nbformat_minor": 5
}
