{
 "cells": [
  {
   "cell_type": "markdown",
   "id": "7e994e42-a853-42cd-ad15-010a9df82bc7",
   "metadata": {},
   "source": [
    "# NBA Player Career Projection #\n",
    "## _DSCI 100 Group Project_ ##"
   ]
  },
  {
   "cell_type": "markdown",
   "id": "5824c64e-ea02-43b5-9d39-bd15be1546f1",
   "metadata": {},
   "source": [
    "## Introduction ## "
   ]
  },
  {
   "cell_type": "markdown",
   "id": "3e79be31-2ed5-4dc0-a55e-3eda19393380",
   "metadata": {},
   "source": [
    "Prompts:\n",
    "- provide some relevant background information on the topic so that someone unfamiliar with it will be prepared to understand the rest of your report\n",
    "- clearly state the question you tried to answer with your project\n",
    "- identify and describe the dataset that was used to answer the question"
   ]
  },
  {
   "cell_type": "markdown",
   "id": "891a31bb-6501-4077-ad76-0e5176c0fd50",
   "metadata": {},
   "source": [
    "Basketball is a globally renowned sport with a massive following, and the professional leagues are the pinnacle of talent and competition. Understanding player statistics is essential for team management, player evaluation, and fan engagement. The `all_seasons` dataset captures data that outlines the performance of basketball players across various seasons (from 1996-1997 season to 2022-2023 season). Using this dataset, our predictive question could be, for instance, how a player's attributes and performance in their rookie seasons relate to their overall career performance. The dataset encompasses several key attributes, including:\n",
    "\n",
    "- `player_name`, name of a NBA player \n",
    "- `team_abbreviation`, abbreviated name of the team they played on\n",
    "- `age`, a player's age\n",
    "- `player_height`, a player's height\n",
    "- `player_weight`, a player's weight \n",
    "- `college`, the college they played for\n",
    "- `country`, their nationality\n",
    "- `draft_year`, the year they were drafted\n",
    "- `draft_round`, the round they were drafted in\n",
    "- `draft_number`, the pick number they were drafted with\n",
    "- `gp`, number of games played in a season\n",
    "- `pts`, average points per game in a season\n",
    "- `reb`, average rebounds per game in a season\n",
    "- `ast`, average assists per game in a season\n",
    "- `net_rating`, average net rating in a season\n",
    "- `oreb_pct`, average offensive rebound percentage in a season\n",
    "- `dreb_pct`, average defensive rebound percentage in a season\n",
    "- `usg_pct`, average usage percentage in a season\n",
    "- `ts_pct`, average true shooting percentage in a season\n",
    "- `ast_pct`, average assist percentage in a season\n",
    "- `season`, the season they played in which these stats were recorded\n",
    "\n",
    "\n",
    "By analyzing this dataset, we aim to draw insights and patterns from past player statistics, potentially aiding in the selection, trading, and performance prediction of rookie players in future basketball seasons by estimating their potential through statistics. \n",
    "\n",
    "### Research question: ###\n",
    "__How does a player's physical attributes and scoring statistics in their rookie year correlate to their total career points?__ We will attempt to answer this question by forming a regression line using physical attributes and scoring statistics of past players, and more specifically: `pts` (points per game), `gp` (games played), `player_height` (cm), `player_weight` (kg), `usg_pct` (usage percentage) and `ts_pct` (true shooting percentage)."
   ]
  },
  {
   "cell_type": "markdown",
   "id": "0907bf56-be5c-4038-8d2a-0671998d99c6",
   "metadata": {},
   "source": [
    "## Methods and results ##"
   ]
  },
  {
   "cell_type": "markdown",
   "id": "8dfc23a2-e571-438b-bbee-a6ed5eae5390",
   "metadata": {},
   "source": [
    "- describe in written English the methods you used to perform your analysis from beginning to end that narrates the code the does the analysis.\n",
    "- your report should include code which:\n",
    "    - loads data from the original source on the web \n",
    "    - wrangles and cleans the data from it's original (downloaded) format to the format necessary for the planned analysis\n",
    "    - performs a summary of the data set that is relevant for exploratory data analysis related to the planned analysis \n",
    "    - creates a visualization of the dataset that is relevant for exploratory data analysis related to the planned analysis\n",
    "    - performs the data analysis\n",
    "    - creates a visualization of the analysis \n",
    "    \n",
    "note: all tables and figure should have a figure/table number and a legend"
   ]
  },
  {
   "cell_type": "markdown",
   "id": "1a6b78ab-27ba-4a68-ad54-46d1e1bb32ee",
   "metadata": {},
   "source": [
    "## Preliminary exploratory data analysis ##"
   ]
  },
  {
   "cell_type": "markdown",
   "id": "6ad6833c-eb12-4818-b793-c0a9f70ca70c",
   "metadata": {},
   "source": [
    "From the preliminary exploratory data analysis completed in our project proposal, we demonstrated that we can read the NBA data set can be read by downloading the dataset from the website (link: https://www.kaggle.com/datasets/justinas/nba-players-data/) and read into R using read_csv from the tidyverse library. We have stored it in the \"data\" folder. \n",
    "\n",
    "In our preliminary exploratory data analysis, we also completed necessary steps to tidy the data to ensure consistency, remove irrelevant information, and maintain the three criteria necessary for tidy data: each column is a variable, each row is a single observation, and each cell is a value. "
   ]
  },
  {
   "cell_type": "code",
   "execution_count": 4,
   "id": "e9160efc-ccc9-46ed-89bd-e856a7c942df",
   "metadata": {
    "tags": []
   },
   "outputs": [
    {
     "name": "stderr",
     "output_type": "stream",
     "text": [
      "── \u001b[1mAttaching packages\u001b[22m ─────────────────────────────────────── tidyverse 1.3.2 ──\n",
      "\u001b[32m✔\u001b[39m \u001b[34mggplot2\u001b[39m 3.4.2     \u001b[32m✔\u001b[39m \u001b[34mpurrr  \u001b[39m 1.0.1\n",
      "\u001b[32m✔\u001b[39m \u001b[34mtibble \u001b[39m 3.2.1     \u001b[32m✔\u001b[39m \u001b[34mdplyr  \u001b[39m 1.1.1\n",
      "\u001b[32m✔\u001b[39m \u001b[34mtidyr  \u001b[39m 1.3.0     \u001b[32m✔\u001b[39m \u001b[34mstringr\u001b[39m 1.5.0\n",
      "\u001b[32m✔\u001b[39m \u001b[34mreadr  \u001b[39m 2.1.3     \u001b[32m✔\u001b[39m \u001b[34mforcats\u001b[39m 0.5.2\n",
      "── \u001b[1mConflicts\u001b[22m ────────────────────────────────────────── tidyverse_conflicts() ──\n",
      "\u001b[31m✖\u001b[39m \u001b[34mdplyr\u001b[39m::\u001b[32mfilter()\u001b[39m masks \u001b[34mstats\u001b[39m::filter()\n",
      "\u001b[31m✖\u001b[39m \u001b[34mdplyr\u001b[39m::\u001b[32mlag()\u001b[39m    masks \u001b[34mstats\u001b[39m::lag()\n"
     ]
    }
   ],
   "source": [
    "# importing the tidyverse library\n",
    "library(tidyverse)"
   ]
  },
  {
   "cell_type": "markdown",
   "id": "396342f1-1389-4b27-9cc0-ba3e1d077aad",
   "metadata": {},
   "source": [
    "Throughout this report, the data set we will work with is named `all_seasons.csv` and it lives in the `/data` directory. Below, we read the dataset using `read_csv` and used `head` to look at the first 6 rows of the dataset to ensure that we have read the correct dataset. "
   ]
  },
  {
   "cell_type": "code",
   "execution_count": 5,
   "id": "c9351116-9649-435d-8081-e8c30fb22c13",
   "metadata": {
    "tags": []
   },
   "outputs": [
    {
     "name": "stderr",
     "output_type": "stream",
     "text": [
      "\u001b[1m\u001b[22mNew names:\n",
      "\u001b[36m•\u001b[39m `` -> `...1`\n",
      "\u001b[1mRows: \u001b[22m\u001b[34m12844\u001b[39m \u001b[1mColumns: \u001b[22m\u001b[34m22\u001b[39m\n",
      "\u001b[36m──\u001b[39m \u001b[1mColumn specification\u001b[22m \u001b[36m────────────────────────────────────────────────────────\u001b[39m\n",
      "\u001b[1mDelimiter:\u001b[22m \",\"\n",
      "\u001b[31mchr\u001b[39m  (8): player_name, team_abbreviation, college, country, draft_year, draf...\n",
      "\u001b[32mdbl\u001b[39m (14): ...1, age, player_height, player_weight, gp, pts, reb, ast, net_ra...\n",
      "\n",
      "\u001b[36mℹ\u001b[39m Use `spec()` to retrieve the full column specification for this data.\n",
      "\u001b[36mℹ\u001b[39m Specify the column types or set `show_col_types = FALSE` to quiet this message.\n"
     ]
    },
    {
     "data": {
      "text/html": [
       "<table class=\"dataframe\">\n",
       "<caption>A tibble: 6 × 22</caption>\n",
       "<thead>\n",
       "\t<tr><th scope=col>...1</th><th scope=col>player_name</th><th scope=col>team_abbreviation</th><th scope=col>age</th><th scope=col>player_height</th><th scope=col>player_weight</th><th scope=col>college</th><th scope=col>country</th><th scope=col>draft_year</th><th scope=col>draft_round</th><th scope=col>⋯</th><th scope=col>pts</th><th scope=col>reb</th><th scope=col>ast</th><th scope=col>net_rating</th><th scope=col>oreb_pct</th><th scope=col>dreb_pct</th><th scope=col>usg_pct</th><th scope=col>ts_pct</th><th scope=col>ast_pct</th><th scope=col>season</th></tr>\n",
       "\t<tr><th scope=col>&lt;dbl&gt;</th><th scope=col>&lt;chr&gt;</th><th scope=col>&lt;chr&gt;</th><th scope=col>&lt;dbl&gt;</th><th scope=col>&lt;dbl&gt;</th><th scope=col>&lt;dbl&gt;</th><th scope=col>&lt;chr&gt;</th><th scope=col>&lt;chr&gt;</th><th scope=col>&lt;chr&gt;</th><th scope=col>&lt;chr&gt;</th><th scope=col>⋯</th><th scope=col>&lt;dbl&gt;</th><th scope=col>&lt;dbl&gt;</th><th scope=col>&lt;dbl&gt;</th><th scope=col>&lt;dbl&gt;</th><th scope=col>&lt;dbl&gt;</th><th scope=col>&lt;dbl&gt;</th><th scope=col>&lt;dbl&gt;</th><th scope=col>&lt;dbl&gt;</th><th scope=col>&lt;dbl&gt;</th><th scope=col>&lt;chr&gt;</th></tr>\n",
       "</thead>\n",
       "<tbody>\n",
       "\t<tr><td>12838</td><td>Joe Wieskamp   </td><td>TOR</td><td>23</td><td>198.12</td><td> 92.98636</td><td>Iowa         </td><td>USA     </td><td>2021     </td><td>2        </td><td>⋯</td><td> 1.0</td><td> 0.4</td><td>0.3</td><td>  1.0</td><td>0.000</td><td>0.068</td><td>0.115</td><td>0.321</td><td>0.083</td><td>2022-23</td></tr>\n",
       "\t<tr><td>12839</td><td>Joel Embiid    </td><td>PHI</td><td>29</td><td>213.36</td><td>127.00576</td><td>Kansas       </td><td>Cameroon</td><td>2014     </td><td>1        </td><td>⋯</td><td>33.1</td><td>10.2</td><td>4.2</td><td>  8.8</td><td>0.057</td><td>0.243</td><td>0.370</td><td>0.655</td><td>0.233</td><td>2022-23</td></tr>\n",
       "\t<tr><td>12840</td><td>John Butler Jr.</td><td>POR</td><td>20</td><td>213.36</td><td> 86.18248</td><td>Florida State</td><td>USA     </td><td>Undrafted</td><td>Undrafted</td><td>⋯</td><td> 2.4</td><td> 0.9</td><td>0.6</td><td>-16.1</td><td>0.012</td><td>0.065</td><td>0.102</td><td>0.411</td><td>0.066</td><td>2022-23</td></tr>\n",
       "\t<tr><td>12841</td><td>John Collins   </td><td>ATL</td><td>25</td><td>205.74</td><td>102.51179</td><td>Wake Forest  </td><td>USA     </td><td>2017     </td><td>1        </td><td>⋯</td><td>13.1</td><td> 6.5</td><td>1.2</td><td> -0.2</td><td>0.035</td><td>0.180</td><td>0.168</td><td>0.593</td><td>0.052</td><td>2022-23</td></tr>\n",
       "\t<tr><td>12842</td><td>Jericho Sims   </td><td>NYK</td><td>24</td><td>208.28</td><td>113.39800</td><td>Texas        </td><td>USA     </td><td>2021     </td><td>2        </td><td>⋯</td><td> 3.4</td><td> 4.7</td><td>0.5</td><td> -6.7</td><td>0.117</td><td>0.175</td><td>0.074</td><td>0.780</td><td>0.044</td><td>2022-23</td></tr>\n",
       "\t<tr><td>12843</td><td>JaMychal Green </td><td>GSW</td><td>33</td><td>205.74</td><td>102.96538</td><td>Alabama      </td><td>USA     </td><td>Undrafted</td><td>Undrafted</td><td>⋯</td><td> 6.4</td><td> 3.6</td><td>0.9</td><td> -8.2</td><td>0.087</td><td>0.164</td><td>0.169</td><td>0.650</td><td>0.094</td><td>2022-23</td></tr>\n",
       "</tbody>\n",
       "</table>\n"
      ],
      "text/latex": [
       "A tibble: 6 × 22\n",
       "\\begin{tabular}{lllllllllllllllllllll}\n",
       " ...1 & player\\_name & team\\_abbreviation & age & player\\_height & player\\_weight & college & country & draft\\_year & draft\\_round & ⋯ & pts & reb & ast & net\\_rating & oreb\\_pct & dreb\\_pct & usg\\_pct & ts\\_pct & ast\\_pct & season\\\\\n",
       " <dbl> & <chr> & <chr> & <dbl> & <dbl> & <dbl> & <chr> & <chr> & <chr> & <chr> & ⋯ & <dbl> & <dbl> & <dbl> & <dbl> & <dbl> & <dbl> & <dbl> & <dbl> & <dbl> & <chr>\\\\\n",
       "\\hline\n",
       "\t 12838 & Joe Wieskamp    & TOR & 23 & 198.12 &  92.98636 & Iowa          & USA      & 2021      & 2         & ⋯ &  1.0 &  0.4 & 0.3 &   1.0 & 0.000 & 0.068 & 0.115 & 0.321 & 0.083 & 2022-23\\\\\n",
       "\t 12839 & Joel Embiid     & PHI & 29 & 213.36 & 127.00576 & Kansas        & Cameroon & 2014      & 1         & ⋯ & 33.1 & 10.2 & 4.2 &   8.8 & 0.057 & 0.243 & 0.370 & 0.655 & 0.233 & 2022-23\\\\\n",
       "\t 12840 & John Butler Jr. & POR & 20 & 213.36 &  86.18248 & Florida State & USA      & Undrafted & Undrafted & ⋯ &  2.4 &  0.9 & 0.6 & -16.1 & 0.012 & 0.065 & 0.102 & 0.411 & 0.066 & 2022-23\\\\\n",
       "\t 12841 & John Collins    & ATL & 25 & 205.74 & 102.51179 & Wake Forest   & USA      & 2017      & 1         & ⋯ & 13.1 &  6.5 & 1.2 &  -0.2 & 0.035 & 0.180 & 0.168 & 0.593 & 0.052 & 2022-23\\\\\n",
       "\t 12842 & Jericho Sims    & NYK & 24 & 208.28 & 113.39800 & Texas         & USA      & 2021      & 2         & ⋯ &  3.4 &  4.7 & 0.5 &  -6.7 & 0.117 & 0.175 & 0.074 & 0.780 & 0.044 & 2022-23\\\\\n",
       "\t 12843 & JaMychal Green  & GSW & 33 & 205.74 & 102.96538 & Alabama       & USA      & Undrafted & Undrafted & ⋯ &  6.4 &  3.6 & 0.9 &  -8.2 & 0.087 & 0.164 & 0.169 & 0.650 & 0.094 & 2022-23\\\\\n",
       "\\end{tabular}\n"
      ],
      "text/markdown": [
       "\n",
       "A tibble: 6 × 22\n",
       "\n",
       "| ...1 &lt;dbl&gt; | player_name &lt;chr&gt; | team_abbreviation &lt;chr&gt; | age &lt;dbl&gt; | player_height &lt;dbl&gt; | player_weight &lt;dbl&gt; | college &lt;chr&gt; | country &lt;chr&gt; | draft_year &lt;chr&gt; | draft_round &lt;chr&gt; | ⋯ ⋯ | pts &lt;dbl&gt; | reb &lt;dbl&gt; | ast &lt;dbl&gt; | net_rating &lt;dbl&gt; | oreb_pct &lt;dbl&gt; | dreb_pct &lt;dbl&gt; | usg_pct &lt;dbl&gt; | ts_pct &lt;dbl&gt; | ast_pct &lt;dbl&gt; | season &lt;chr&gt; |\n",
       "|---|---|---|---|---|---|---|---|---|---|---|---|---|---|---|---|---|---|---|---|---|\n",
       "| 12838 | Joe Wieskamp    | TOR | 23 | 198.12 |  92.98636 | Iowa          | USA      | 2021      | 2         | ⋯ |  1.0 |  0.4 | 0.3 |   1.0 | 0.000 | 0.068 | 0.115 | 0.321 | 0.083 | 2022-23 |\n",
       "| 12839 | Joel Embiid     | PHI | 29 | 213.36 | 127.00576 | Kansas        | Cameroon | 2014      | 1         | ⋯ | 33.1 | 10.2 | 4.2 |   8.8 | 0.057 | 0.243 | 0.370 | 0.655 | 0.233 | 2022-23 |\n",
       "| 12840 | John Butler Jr. | POR | 20 | 213.36 |  86.18248 | Florida State | USA      | Undrafted | Undrafted | ⋯ |  2.4 |  0.9 | 0.6 | -16.1 | 0.012 | 0.065 | 0.102 | 0.411 | 0.066 | 2022-23 |\n",
       "| 12841 | John Collins    | ATL | 25 | 205.74 | 102.51179 | Wake Forest   | USA      | 2017      | 1         | ⋯ | 13.1 |  6.5 | 1.2 |  -0.2 | 0.035 | 0.180 | 0.168 | 0.593 | 0.052 | 2022-23 |\n",
       "| 12842 | Jericho Sims    | NYK | 24 | 208.28 | 113.39800 | Texas         | USA      | 2021      | 2         | ⋯ |  3.4 |  4.7 | 0.5 |  -6.7 | 0.117 | 0.175 | 0.074 | 0.780 | 0.044 | 2022-23 |\n",
       "| 12843 | JaMychal Green  | GSW | 33 | 205.74 | 102.96538 | Alabama       | USA      | Undrafted | Undrafted | ⋯ |  6.4 |  3.6 | 0.9 |  -8.2 | 0.087 | 0.164 | 0.169 | 0.650 | 0.094 | 2022-23 |\n",
       "\n"
      ],
      "text/plain": [
       "  ...1  player_name     team_abbreviation age player_height player_weight\n",
       "1 12838 Joe Wieskamp    TOR               23  198.12         92.98636    \n",
       "2 12839 Joel Embiid     PHI               29  213.36        127.00576    \n",
       "3 12840 John Butler Jr. POR               20  213.36         86.18248    \n",
       "4 12841 John Collins    ATL               25  205.74        102.51179    \n",
       "5 12842 Jericho Sims    NYK               24  208.28        113.39800    \n",
       "6 12843 JaMychal Green  GSW               33  205.74        102.96538    \n",
       "  college       country  draft_year draft_round ⋯ pts  reb  ast net_rating\n",
       "1 Iowa          USA      2021       2           ⋯  1.0  0.4 0.3   1.0     \n",
       "2 Kansas        Cameroon 2014       1           ⋯ 33.1 10.2 4.2   8.8     \n",
       "3 Florida State USA      Undrafted  Undrafted   ⋯  2.4  0.9 0.6 -16.1     \n",
       "4 Wake Forest   USA      2017       1           ⋯ 13.1  6.5 1.2  -0.2     \n",
       "5 Texas         USA      2021       2           ⋯  3.4  4.7 0.5  -6.7     \n",
       "6 Alabama       USA      Undrafted  Undrafted   ⋯  6.4  3.6 0.9  -8.2     \n",
       "  oreb_pct dreb_pct usg_pct ts_pct ast_pct season \n",
       "1 0.000    0.068    0.115   0.321  0.083   2022-23\n",
       "2 0.057    0.243    0.370   0.655  0.233   2022-23\n",
       "3 0.012    0.065    0.102   0.411  0.066   2022-23\n",
       "4 0.035    0.180    0.168   0.593  0.052   2022-23\n",
       "5 0.117    0.175    0.074   0.780  0.044   2022-23\n",
       "6 0.087    0.164    0.169   0.650  0.094   2022-23"
      ]
     },
     "metadata": {},
     "output_type": "display_data"
    }
   ],
   "source": [
    "# reading the dataset in the data folder\n",
    "nba_raw <- read_csv(\"data/all_seasons.csv\")\n",
    "# looking at the the first 6 rows\n",
    "tail(nba_raw)"
   ]
  },
  {
   "cell_type": "markdown",
   "id": "d92e71a1-d084-4e80-ac13-f472733c3424",
   "metadata": {},
   "source": [
    "**Table 1.** Table of the first 6 rows of raw data from all_seasons.csv"
   ]
  },
  {
   "cell_type": "markdown",
   "id": "5e754212-0d03-4870-8ccb-28a5d7f1da4d",
   "metadata": {},
   "source": [
    "### Data tidying ###\n",
    "Looking at the columns, we see that \"draft_year\" and \"draft_round\" are character columns, instead of numeric. Upon investigation into the data we see that this is because some players came into the NBA league undrafted and were picked up by teams through other methods, and thus are marked as \"undrafted\" under the \"draft_year\" and \"draft_round\" columns. Since we want to select and use rookie players who have only played in the 2022 season as our test data, we must filter out players who have played in more than one season for training and players who have only played in 2022 season for test data. However, because some players went undrafted, it is difficult to determine what year those players were rookies. (If we say that a player is a rookie in the first season of all the observations we have of them, then what happens if the first season of all the observations we have of them is the first season recorded in this data set and they were undrafted? Since we have no data of earlier seasons we wouldn't know if that season was truly their rookie season.) Thus, to make data manipulation and analysis easier, we will only consider players that were drafted \n",
    "\n",
    "Since college, country and the team that they played for are not important for our data analysis, we will select the rest of the columns during our data processing. Additionally, to make data manipulation easier, we will also change season into a numeric value by only keeping the year the season began (ex. \"1996-1997\" into 1996)."
   ]
  },
  {
   "cell_type": "code",
   "execution_count": 6,
   "id": "1f612545-cfd0-4fdd-82de-484cc0b19791",
   "metadata": {
    "tags": []
   },
   "outputs": [
    {
     "data": {
      "text/html": [
       "<table class=\"dataframe\">\n",
       "<caption>A tibble: 6 × 18</caption>\n",
       "<thead>\n",
       "\t<tr><th scope=col>player_name</th><th scope=col>age</th><th scope=col>player_height</th><th scope=col>player_weight</th><th scope=col>draft_year</th><th scope=col>draft_round</th><th scope=col>draft_number</th><th scope=col>gp</th><th scope=col>pts</th><th scope=col>reb</th><th scope=col>ast</th><th scope=col>net_rating</th><th scope=col>oreb_pct</th><th scope=col>dreb_pct</th><th scope=col>usg_pct</th><th scope=col>ts_pct</th><th scope=col>ast_pct</th><th scope=col>season_start</th></tr>\n",
       "\t<tr><th scope=col>&lt;chr&gt;</th><th scope=col>&lt;dbl&gt;</th><th scope=col>&lt;dbl&gt;</th><th scope=col>&lt;dbl&gt;</th><th scope=col>&lt;dbl&gt;</th><th scope=col>&lt;dbl&gt;</th><th scope=col>&lt;dbl&gt;</th><th scope=col>&lt;dbl&gt;</th><th scope=col>&lt;dbl&gt;</th><th scope=col>&lt;dbl&gt;</th><th scope=col>&lt;dbl&gt;</th><th scope=col>&lt;dbl&gt;</th><th scope=col>&lt;dbl&gt;</th><th scope=col>&lt;dbl&gt;</th><th scope=col>&lt;dbl&gt;</th><th scope=col>&lt;dbl&gt;</th><th scope=col>&lt;dbl&gt;</th><th scope=col>&lt;dbl&gt;</th></tr>\n",
       "</thead>\n",
       "<tbody>\n",
       "\t<tr><td>Randy Livingston</td><td>22</td><td>193.04</td><td> 94.80073</td><td>1996</td><td>2</td><td>42</td><td>64</td><td> 3.9</td><td>1.5</td><td>2.4</td><td>  0.3</td><td>0.042</td><td>0.071</td><td>0.169</td><td>0.487</td><td>0.248</td><td>1996</td></tr>\n",
       "\t<tr><td>Gaylon Nickerson</td><td>28</td><td>190.50</td><td> 86.18248</td><td>1994</td><td>2</td><td>34</td><td> 4</td><td> 3.8</td><td>1.3</td><td>0.3</td><td>  8.9</td><td>0.030</td><td>0.111</td><td>0.174</td><td>0.497</td><td>0.043</td><td>1996</td></tr>\n",
       "\t<tr><td>George Lynch    </td><td>26</td><td>203.20</td><td>103.41898</td><td>1993</td><td>1</td><td>12</td><td>41</td><td> 8.3</td><td>6.4</td><td>1.9</td><td> -8.2</td><td>0.106</td><td>0.185</td><td>0.175</td><td>0.512</td><td>0.125</td><td>1996</td></tr>\n",
       "\t<tr><td>George McCloud  </td><td>30</td><td>203.20</td><td>102.05820</td><td>1989</td><td>1</td><td> 7</td><td>64</td><td>10.2</td><td>2.8</td><td>1.7</td><td> -2.7</td><td>0.027</td><td>0.111</td><td>0.206</td><td>0.527</td><td>0.125</td><td>1996</td></tr>\n",
       "\t<tr><td>George Zidek    </td><td>23</td><td>213.36</td><td>119.74829</td><td>1995</td><td>1</td><td>22</td><td>52</td><td> 2.8</td><td>1.7</td><td>0.3</td><td>-14.1</td><td>0.102</td><td>0.169</td><td>0.195</td><td>0.500</td><td>0.064</td><td>1996</td></tr>\n",
       "\t<tr><td>Gerald Wilkins  </td><td>33</td><td>198.12</td><td>102.05820</td><td>1985</td><td>2</td><td>47</td><td>80</td><td>10.6</td><td>2.2</td><td>2.2</td><td> -5.8</td><td>0.031</td><td>0.064</td><td>0.203</td><td>0.503</td><td>0.143</td><td>1996</td></tr>\n",
       "</tbody>\n",
       "</table>\n"
      ],
      "text/latex": [
       "A tibble: 6 × 18\n",
       "\\begin{tabular}{llllllllllllllllll}\n",
       " player\\_name & age & player\\_height & player\\_weight & draft\\_year & draft\\_round & draft\\_number & gp & pts & reb & ast & net\\_rating & oreb\\_pct & dreb\\_pct & usg\\_pct & ts\\_pct & ast\\_pct & season\\_start\\\\\n",
       " <chr> & <dbl> & <dbl> & <dbl> & <dbl> & <dbl> & <dbl> & <dbl> & <dbl> & <dbl> & <dbl> & <dbl> & <dbl> & <dbl> & <dbl> & <dbl> & <dbl> & <dbl>\\\\\n",
       "\\hline\n",
       "\t Randy Livingston & 22 & 193.04 &  94.80073 & 1996 & 2 & 42 & 64 &  3.9 & 1.5 & 2.4 &   0.3 & 0.042 & 0.071 & 0.169 & 0.487 & 0.248 & 1996\\\\\n",
       "\t Gaylon Nickerson & 28 & 190.50 &  86.18248 & 1994 & 2 & 34 &  4 &  3.8 & 1.3 & 0.3 &   8.9 & 0.030 & 0.111 & 0.174 & 0.497 & 0.043 & 1996\\\\\n",
       "\t George Lynch     & 26 & 203.20 & 103.41898 & 1993 & 1 & 12 & 41 &  8.3 & 6.4 & 1.9 &  -8.2 & 0.106 & 0.185 & 0.175 & 0.512 & 0.125 & 1996\\\\\n",
       "\t George McCloud   & 30 & 203.20 & 102.05820 & 1989 & 1 &  7 & 64 & 10.2 & 2.8 & 1.7 &  -2.7 & 0.027 & 0.111 & 0.206 & 0.527 & 0.125 & 1996\\\\\n",
       "\t George Zidek     & 23 & 213.36 & 119.74829 & 1995 & 1 & 22 & 52 &  2.8 & 1.7 & 0.3 & -14.1 & 0.102 & 0.169 & 0.195 & 0.500 & 0.064 & 1996\\\\\n",
       "\t Gerald Wilkins   & 33 & 198.12 & 102.05820 & 1985 & 2 & 47 & 80 & 10.6 & 2.2 & 2.2 &  -5.8 & 0.031 & 0.064 & 0.203 & 0.503 & 0.143 & 1996\\\\\n",
       "\\end{tabular}\n"
      ],
      "text/markdown": [
       "\n",
       "A tibble: 6 × 18\n",
       "\n",
       "| player_name &lt;chr&gt; | age &lt;dbl&gt; | player_height &lt;dbl&gt; | player_weight &lt;dbl&gt; | draft_year &lt;dbl&gt; | draft_round &lt;dbl&gt; | draft_number &lt;dbl&gt; | gp &lt;dbl&gt; | pts &lt;dbl&gt; | reb &lt;dbl&gt; | ast &lt;dbl&gt; | net_rating &lt;dbl&gt; | oreb_pct &lt;dbl&gt; | dreb_pct &lt;dbl&gt; | usg_pct &lt;dbl&gt; | ts_pct &lt;dbl&gt; | ast_pct &lt;dbl&gt; | season_start &lt;dbl&gt; |\n",
       "|---|---|---|---|---|---|---|---|---|---|---|---|---|---|---|---|---|---|\n",
       "| Randy Livingston | 22 | 193.04 |  94.80073 | 1996 | 2 | 42 | 64 |  3.9 | 1.5 | 2.4 |   0.3 | 0.042 | 0.071 | 0.169 | 0.487 | 0.248 | 1996 |\n",
       "| Gaylon Nickerson | 28 | 190.50 |  86.18248 | 1994 | 2 | 34 |  4 |  3.8 | 1.3 | 0.3 |   8.9 | 0.030 | 0.111 | 0.174 | 0.497 | 0.043 | 1996 |\n",
       "| George Lynch     | 26 | 203.20 | 103.41898 | 1993 | 1 | 12 | 41 |  8.3 | 6.4 | 1.9 |  -8.2 | 0.106 | 0.185 | 0.175 | 0.512 | 0.125 | 1996 |\n",
       "| George McCloud   | 30 | 203.20 | 102.05820 | 1989 | 1 |  7 | 64 | 10.2 | 2.8 | 1.7 |  -2.7 | 0.027 | 0.111 | 0.206 | 0.527 | 0.125 | 1996 |\n",
       "| George Zidek     | 23 | 213.36 | 119.74829 | 1995 | 1 | 22 | 52 |  2.8 | 1.7 | 0.3 | -14.1 | 0.102 | 0.169 | 0.195 | 0.500 | 0.064 | 1996 |\n",
       "| Gerald Wilkins   | 33 | 198.12 | 102.05820 | 1985 | 2 | 47 | 80 | 10.6 | 2.2 | 2.2 |  -5.8 | 0.031 | 0.064 | 0.203 | 0.503 | 0.143 | 1996 |\n",
       "\n"
      ],
      "text/plain": [
       "  player_name      age player_height player_weight draft_year draft_round\n",
       "1 Randy Livingston 22  193.04         94.80073     1996       2          \n",
       "2 Gaylon Nickerson 28  190.50         86.18248     1994       2          \n",
       "3 George Lynch     26  203.20        103.41898     1993       1          \n",
       "4 George McCloud   30  203.20        102.05820     1989       1          \n",
       "5 George Zidek     23  213.36        119.74829     1995       1          \n",
       "6 Gerald Wilkins   33  198.12        102.05820     1985       2          \n",
       "  draft_number gp pts  reb ast net_rating oreb_pct dreb_pct usg_pct ts_pct\n",
       "1 42           64  3.9 1.5 2.4   0.3      0.042    0.071    0.169   0.487 \n",
       "2 34            4  3.8 1.3 0.3   8.9      0.030    0.111    0.174   0.497 \n",
       "3 12           41  8.3 6.4 1.9  -8.2      0.106    0.185    0.175   0.512 \n",
       "4  7           64 10.2 2.8 1.7  -2.7      0.027    0.111    0.206   0.527 \n",
       "5 22           52  2.8 1.7 0.3 -14.1      0.102    0.169    0.195   0.500 \n",
       "6 47           80 10.6 2.2 2.2  -5.8      0.031    0.064    0.203   0.503 \n",
       "  ast_pct season_start\n",
       "1 0.248   1996        \n",
       "2 0.043   1996        \n",
       "3 0.125   1996        \n",
       "4 0.125   1996        \n",
       "5 0.064   1996        \n",
       "6 0.143   1996        "
      ]
     },
     "metadata": {},
     "output_type": "display_data"
    }
   ],
   "source": [
    "nba_data <- nba_raw |>\n",
    "    filter(draft_year != \"Undrafted\" & draft_round != \"Undrafted\" & draft_number != \"Undrafted\") |>\n",
    "    separate(season, into = c(\"season_start\", \"season_end\"), \"-\") |>\n",
    "    mutate(season_start = as.numeric(season_start), draft_year = as.numeric(draft_year), \n",
    "           draft_round = as.numeric(draft_round), draft_number = as.numeric(draft_number)) |>\n",
    "    select(player_name, age:player_weight, draft_year:season_start) \n",
    "# looking at the first 6 rows of tidied data\n",
    "head(nba_data)"
   ]
  },
  {
   "cell_type": "markdown",
   "id": "1fd60cbb-4f68-4df6-98dd-9ac8de74c556",
   "metadata": {},
   "source": [
    "**Table 2.** Table of the first 6 rows of tidied `all_seasons` data"
   ]
  },
  {
   "cell_type": "markdown",
   "id": "7c982a85-43a6-404d-b868-e7d2ac4361ba",
   "metadata": {},
   "source": [
    "Prompts: \n",
    "- Demonstrate that the dataset can be read from the web into R \n",
    "- Clean and wrangle your data into a tidy format\n",
    "- Using only training data, summarize the data in at least one table (this is exploratory data analysis). An example of a useful table could be one that reports the number of observations in each class, the means of the predictor variables you plan to use in your analysis and how many rows have missing data. \n",
    "- Using only training data, visualize the data with at least one plot relevant to the analysis you plan to do (this is exploratory data analysis). An example of a useful visualization could be one that compares the distributions of each of the predictor variables you plan to use in your analysis."
   ]
  },
  {
   "cell_type": "markdown",
   "id": "5537364e-87ac-4c09-b005-1c78ff26188f",
   "metadata": {
    "tags": []
   },
   "source": [
    "## Methods ##"
   ]
  },
  {
   "cell_type": "markdown",
   "id": "1e2bb900-25b6-4196-8acc-e9a2dd9c1238",
   "metadata": {},
   "source": [
    "Prompts \n",
    "- Explain how you will conduct either your data analysis and which variables/columns you will use. Note - you do not need to use all variables/columns that exist in the raw data set. In fact, that's often not a good idea. For each variable think: is this a useful variable for prediction?\n",
    "\n",
    "- Describe at least one way that you will visualize the results"
   ]
  },
  {
   "cell_type": "markdown",
   "id": "be2f7f6c-d3ef-4a58-9b9d-27f46bc7a719",
   "metadata": {},
   "source": [
    "Response\n",
    "\n",
    "- To conduct our experiment, we will use the knn regression model using the columns `pts` (points per game), `gp` (games played), `player_height` (cm), `player_weight` (kg), `usg_pct` (usage percentage) and `ts_pct` (true shooting percentage) as predictors since these factors are likely to have a significant influence on the total number of points scored over a career. Using these, predictors, we will find the projected number of points a player will score based on the average of its K nearest neighbors where the K value will be determined through evaluation and tuning.\n",
    "\n",
    "- We will use scatter plots, with a regression line to visualize the data and results as it will give a clear view on the K nearest neighbors to the point on a line. Futhermore we will make distinctions between amount of seasons played by the player by colors in plots."
   ]
  },
  {
   "cell_type": "markdown",
   "id": "35b5e2fe-e946-4352-b874-cb9cc0e36278",
   "metadata": {
    "tags": []
   },
   "source": [
    "Separating the data into training data and testing data."
   ]
  },
  {
   "cell_type": "code",
   "execution_count": 26,
   "id": "a66ea36e-b5d3-46f0-a3b5-54a2f234b617",
   "metadata": {
    "tags": []
   },
   "outputs": [
    {
     "data": {
      "text/html": [
       "1346"
      ],
      "text/latex": [
       "1346"
      ],
      "text/markdown": [
       "1346"
      ],
      "text/plain": [
       "[1] 1346"
      ]
     },
     "metadata": {},
     "output_type": "display_data"
    },
    {
     "data": {
      "text/html": [
       "<table class=\"dataframe\">\n",
       "<caption>A tibble: 6 × 18</caption>\n",
       "<thead>\n",
       "\t<tr><th scope=col>player_name</th><th scope=col>age</th><th scope=col>player_height</th><th scope=col>player_weight</th><th scope=col>draft_year</th><th scope=col>draft_round</th><th scope=col>draft_number</th><th scope=col>gp</th><th scope=col>pts</th><th scope=col>reb</th><th scope=col>ast</th><th scope=col>net_rating</th><th scope=col>oreb_pct</th><th scope=col>dreb_pct</th><th scope=col>usg_pct</th><th scope=col>ts_pct</th><th scope=col>ast_pct</th><th scope=col>season_start</th></tr>\n",
       "\t<tr><th scope=col>&lt;chr&gt;</th><th scope=col>&lt;dbl&gt;</th><th scope=col>&lt;dbl&gt;</th><th scope=col>&lt;dbl&gt;</th><th scope=col>&lt;dbl&gt;</th><th scope=col>&lt;dbl&gt;</th><th scope=col>&lt;dbl&gt;</th><th scope=col>&lt;dbl&gt;</th><th scope=col>&lt;dbl&gt;</th><th scope=col>&lt;dbl&gt;</th><th scope=col>&lt;dbl&gt;</th><th scope=col>&lt;dbl&gt;</th><th scope=col>&lt;dbl&gt;</th><th scope=col>&lt;dbl&gt;</th><th scope=col>&lt;dbl&gt;</th><th scope=col>&lt;dbl&gt;</th><th scope=col>&lt;dbl&gt;</th><th scope=col>&lt;dbl&gt;</th></tr>\n",
       "</thead>\n",
       "<tbody>\n",
       "\t<tr><td>Randy Livingston</td><td>22</td><td>193.04</td><td> 94.80073</td><td>1996</td><td>2</td><td>42</td><td>64</td><td>3.9</td><td>1.5</td><td>2.4</td><td>  0.3</td><td>0.042</td><td>0.071</td><td>0.169</td><td>0.487</td><td>0.248</td><td>1996</td></tr>\n",
       "\t<tr><td>Erick Dampier   </td><td>21</td><td>210.82</td><td>120.20188</td><td>1996</td><td>1</td><td>10</td><td>72</td><td>5.1</td><td>4.1</td><td>0.6</td><td> -2.0</td><td>0.107</td><td>0.216</td><td>0.218</td><td>0.451</td><td>0.074</td><td>1996</td></tr>\n",
       "\t<tr><td>Jerome Williams </td><td>24</td><td>205.74</td><td> 93.43995</td><td>1996</td><td>1</td><td>26</td><td>33</td><td>1.5</td><td>1.5</td><td>0.2</td><td>  3.0</td><td>0.144</td><td>0.182</td><td>0.181</td><td>0.419</td><td>0.071</td><td>1996</td></tr>\n",
       "\t<tr><td>John Wallace    </td><td>23</td><td>205.74</td><td>102.05820</td><td>1996</td><td>1</td><td>18</td><td>68</td><td>4.8</td><td>2.3</td><td>0.5</td><td>  2.7</td><td>0.080</td><td>0.148</td><td>0.204</td><td>0.571</td><td>0.081</td><td>1996</td></tr>\n",
       "\t<tr><td>Jermaine O'Neal </td><td>18</td><td>210.82</td><td>102.51179</td><td>1996</td><td>1</td><td>17</td><td>45</td><td>4.1</td><td>2.8</td><td>0.2</td><td>  1.3</td><td>0.099</td><td>0.198</td><td>0.199</td><td>0.494</td><td>0.030</td><td>1996</td></tr>\n",
       "\t<tr><td>Jeff McInnis    </td><td>22</td><td>193.04</td><td> 86.18248</td><td>1996</td><td>2</td><td>37</td><td>13</td><td>5.0</td><td>0.5</td><td>1.4</td><td>-17.8</td><td>0.021</td><td>0.040</td><td>0.259</td><td>0.609</td><td>0.327</td><td>1996</td></tr>\n",
       "</tbody>\n",
       "</table>\n"
      ],
      "text/latex": [
       "A tibble: 6 × 18\n",
       "\\begin{tabular}{llllllllllllllllll}\n",
       " player\\_name & age & player\\_height & player\\_weight & draft\\_year & draft\\_round & draft\\_number & gp & pts & reb & ast & net\\_rating & oreb\\_pct & dreb\\_pct & usg\\_pct & ts\\_pct & ast\\_pct & season\\_start\\\\\n",
       " <chr> & <dbl> & <dbl> & <dbl> & <dbl> & <dbl> & <dbl> & <dbl> & <dbl> & <dbl> & <dbl> & <dbl> & <dbl> & <dbl> & <dbl> & <dbl> & <dbl> & <dbl>\\\\\n",
       "\\hline\n",
       "\t Randy Livingston & 22 & 193.04 &  94.80073 & 1996 & 2 & 42 & 64 & 3.9 & 1.5 & 2.4 &   0.3 & 0.042 & 0.071 & 0.169 & 0.487 & 0.248 & 1996\\\\\n",
       "\t Erick Dampier    & 21 & 210.82 & 120.20188 & 1996 & 1 & 10 & 72 & 5.1 & 4.1 & 0.6 &  -2.0 & 0.107 & 0.216 & 0.218 & 0.451 & 0.074 & 1996\\\\\n",
       "\t Jerome Williams  & 24 & 205.74 &  93.43995 & 1996 & 1 & 26 & 33 & 1.5 & 1.5 & 0.2 &   3.0 & 0.144 & 0.182 & 0.181 & 0.419 & 0.071 & 1996\\\\\n",
       "\t John Wallace     & 23 & 205.74 & 102.05820 & 1996 & 1 & 18 & 68 & 4.8 & 2.3 & 0.5 &   2.7 & 0.080 & 0.148 & 0.204 & 0.571 & 0.081 & 1996\\\\\n",
       "\t Jermaine O'Neal  & 18 & 210.82 & 102.51179 & 1996 & 1 & 17 & 45 & 4.1 & 2.8 & 0.2 &   1.3 & 0.099 & 0.198 & 0.199 & 0.494 & 0.030 & 1996\\\\\n",
       "\t Jeff McInnis     & 22 & 193.04 &  86.18248 & 1996 & 2 & 37 & 13 & 5.0 & 0.5 & 1.4 & -17.8 & 0.021 & 0.040 & 0.259 & 0.609 & 0.327 & 1996\\\\\n",
       "\\end{tabular}\n"
      ],
      "text/markdown": [
       "\n",
       "A tibble: 6 × 18\n",
       "\n",
       "| player_name &lt;chr&gt; | age &lt;dbl&gt; | player_height &lt;dbl&gt; | player_weight &lt;dbl&gt; | draft_year &lt;dbl&gt; | draft_round &lt;dbl&gt; | draft_number &lt;dbl&gt; | gp &lt;dbl&gt; | pts &lt;dbl&gt; | reb &lt;dbl&gt; | ast &lt;dbl&gt; | net_rating &lt;dbl&gt; | oreb_pct &lt;dbl&gt; | dreb_pct &lt;dbl&gt; | usg_pct &lt;dbl&gt; | ts_pct &lt;dbl&gt; | ast_pct &lt;dbl&gt; | season_start &lt;dbl&gt; |\n",
       "|---|---|---|---|---|---|---|---|---|---|---|---|---|---|---|---|---|---|\n",
       "| Randy Livingston | 22 | 193.04 |  94.80073 | 1996 | 2 | 42 | 64 | 3.9 | 1.5 | 2.4 |   0.3 | 0.042 | 0.071 | 0.169 | 0.487 | 0.248 | 1996 |\n",
       "| Erick Dampier    | 21 | 210.82 | 120.20188 | 1996 | 1 | 10 | 72 | 5.1 | 4.1 | 0.6 |  -2.0 | 0.107 | 0.216 | 0.218 | 0.451 | 0.074 | 1996 |\n",
       "| Jerome Williams  | 24 | 205.74 |  93.43995 | 1996 | 1 | 26 | 33 | 1.5 | 1.5 | 0.2 |   3.0 | 0.144 | 0.182 | 0.181 | 0.419 | 0.071 | 1996 |\n",
       "| John Wallace     | 23 | 205.74 | 102.05820 | 1996 | 1 | 18 | 68 | 4.8 | 2.3 | 0.5 |   2.7 | 0.080 | 0.148 | 0.204 | 0.571 | 0.081 | 1996 |\n",
       "| Jermaine O'Neal  | 18 | 210.82 | 102.51179 | 1996 | 1 | 17 | 45 | 4.1 | 2.8 | 0.2 |   1.3 | 0.099 | 0.198 | 0.199 | 0.494 | 0.030 | 1996 |\n",
       "| Jeff McInnis     | 22 | 193.04 |  86.18248 | 1996 | 2 | 37 | 13 | 5.0 | 0.5 | 1.4 | -17.8 | 0.021 | 0.040 | 0.259 | 0.609 | 0.327 | 1996 |\n",
       "\n"
      ],
      "text/plain": [
       "  player_name      age player_height player_weight draft_year draft_round\n",
       "1 Randy Livingston 22  193.04         94.80073     1996       2          \n",
       "2 Erick Dampier    21  210.82        120.20188     1996       1          \n",
       "3 Jerome Williams  24  205.74         93.43995     1996       1          \n",
       "4 John Wallace     23  205.74        102.05820     1996       1          \n",
       "5 Jermaine O'Neal  18  210.82        102.51179     1996       1          \n",
       "6 Jeff McInnis     22  193.04         86.18248     1996       2          \n",
       "  draft_number gp pts reb ast net_rating oreb_pct dreb_pct usg_pct ts_pct\n",
       "1 42           64 3.9 1.5 2.4   0.3      0.042    0.071    0.169   0.487 \n",
       "2 10           72 5.1 4.1 0.6  -2.0      0.107    0.216    0.218   0.451 \n",
       "3 26           33 1.5 1.5 0.2   3.0      0.144    0.182    0.181   0.419 \n",
       "4 18           68 4.8 2.3 0.5   2.7      0.080    0.148    0.204   0.571 \n",
       "5 17           45 4.1 2.8 0.2   1.3      0.099    0.198    0.199   0.494 \n",
       "6 37           13 5.0 0.5 1.4 -17.8      0.021    0.040    0.259   0.609 \n",
       "  ast_pct season_start\n",
       "1 0.248   1996        \n",
       "2 0.074   1996        \n",
       "3 0.071   1996        \n",
       "4 0.081   1996        \n",
       "5 0.030   1996        \n",
       "6 0.327   1996        "
      ]
     },
     "metadata": {},
     "output_type": "display_data"
    }
   ],
   "source": [
    "# trying to separate data into training data (excludes rookies) and test data (rookies)\n",
    "nba_rookie <- nba_data |>\n",
    "    filter(draft_year == 2022)\n",
    "\n",
    "nba_non_rookies <- nba_data |>\n",
    "    filter(draft_year >= 1996, draft_year <= 2021) \n",
    "\n",
    "# gets the first season they've played \n",
    "nba_first_season <- nba_data[match(unique(nba_data$player_name), nba_data$player_name),]\n",
    "\n",
    "# first season of rookies (defined as first season is 2022)\n",
    "nba_test <- nba_first_season |>\n",
    "    filter(season_start == 2022)\n",
    "\n",
    "# first season of non-rookies where draft year is after 1996 and the first season they've played is not 2022\n",
    "nba_training <- nba_first_season |>\n",
    "    filter(draft_year >= 1996, season_start <= 2021)\n",
    "\n",
    "nrow(nba_training)\n",
    "\n",
    "# nba_training <- nba_non_rookies |>\n",
    "#    filter(draft_year == season_start) |>\n",
    "#    select(player_name) |>\n",
    "#    unique()\n",
    "\n",
    "# the problem is that some players did not play in the season they were drafted, we can see that ray is not counted as a rookie even though he played \n",
    "# his first season in 2022 since he was drafted in 2021. \n",
    "# tail(nba_training)\n",
    "\n",
    "# nba_ray <- nba_data |>\n",
    "#    filter(player_name == \"RaiQuan Gray\")\n",
    "\n",
    "# nba_ray\n",
    "\n",
    "# this can be solved using this:\n",
    "# df1[(df1$name %in% df2$name),] \n",
    "# or:\n",
    "# library(dplyr)\n",
    "# anti_join(df1, df2, by = \"name\")\n",
    "\n",
    "# data of all seasons of non-rookies\n",
    "nba_non_rookies_data <- nba_data[(nba_data$player_name %in% nba_training$player_name),] \n",
    "head(nba_non_rookies_data)"
   ]
  },
  {
   "cell_type": "code",
   "execution_count": 28,
   "id": "1d19f472-cb0a-4fdf-b6ab-8db47a818713",
   "metadata": {
    "tags": []
   },
   "outputs": [
    {
     "data": {
      "text/html": [
       "1346"
      ],
      "text/latex": [
       "1346"
      ],
      "text/markdown": [
       "1346"
      ],
      "text/plain": [
       "[1] 1346"
      ]
     },
     "metadata": {},
     "output_type": "display_data"
    },
    {
     "data": {
      "text/html": [
       "<table class=\"dataframe\">\n",
       "<caption>A data.frame: 1346 × 20</caption>\n",
       "<thead>\n",
       "\t<tr><th scope=col>player_name</th><th scope=col>age</th><th scope=col>player_height</th><th scope=col>player_weight</th><th scope=col>draft_year</th><th scope=col>draft_round</th><th scope=col>draft_number</th><th scope=col>gp</th><th scope=col>pts</th><th scope=col>reb</th><th scope=col>ast</th><th scope=col>net_rating</th><th scope=col>oreb_pct</th><th scope=col>dreb_pct</th><th scope=col>usg_pct</th><th scope=col>ts_pct</th><th scope=col>ast_pct</th><th scope=col>season_start</th><th scope=col>player_name</th><th scope=col>total_points</th></tr>\n",
       "\t<tr><th scope=col>&lt;chr&gt;</th><th scope=col>&lt;dbl&gt;</th><th scope=col>&lt;dbl&gt;</th><th scope=col>&lt;dbl&gt;</th><th scope=col>&lt;dbl&gt;</th><th scope=col>&lt;dbl&gt;</th><th scope=col>&lt;dbl&gt;</th><th scope=col>&lt;dbl&gt;</th><th scope=col>&lt;dbl&gt;</th><th scope=col>&lt;dbl&gt;</th><th scope=col>&lt;dbl&gt;</th><th scope=col>&lt;dbl&gt;</th><th scope=col>&lt;dbl&gt;</th><th scope=col>&lt;dbl&gt;</th><th scope=col>&lt;dbl&gt;</th><th scope=col>&lt;dbl&gt;</th><th scope=col>&lt;dbl&gt;</th><th scope=col>&lt;dbl&gt;</th><th scope=col>&lt;chr&gt;</th><th scope=col>&lt;dbl&gt;</th></tr>\n",
       "</thead>\n",
       "<tbody>\n",
       "\t<tr><td>Randy Livingston   </td><td>22</td><td>193.04</td><td> 94.80073</td><td>1996</td><td>2</td><td>42</td><td>64</td><td> 3.9</td><td>1.5</td><td>2.4</td><td>  0.3</td><td>0.042</td><td>0.071</td><td>0.169</td><td>0.487</td><td>0.248</td><td>1996</td><td>A.J. Bramlett       </td><td>    8.0</td></tr>\n",
       "\t<tr><td>Erick Dampier      </td><td>21</td><td>210.82</td><td>120.20188</td><td>1996</td><td>1</td><td>10</td><td>72</td><td> 5.1</td><td>4.1</td><td>0.6</td><td> -2.0</td><td>0.107</td><td>0.216</td><td>0.218</td><td>0.451</td><td>0.074</td><td>1996</td><td>A.J. Guyton         </td><td>  441.0</td></tr>\n",
       "\t<tr><td>Jerome Williams    </td><td>24</td><td>205.74</td><td> 93.43995</td><td>1996</td><td>1</td><td>26</td><td>33</td><td> 1.5</td><td>1.5</td><td>0.2</td><td>  3.0</td><td>0.144</td><td>0.182</td><td>0.181</td><td>0.419</td><td>0.071</td><td>1996</td><td>AJ Hammons          </td><td>   48.4</td></tr>\n",
       "\t<tr><td>John Wallace       </td><td>23</td><td>205.74</td><td>102.05820</td><td>1996</td><td>1</td><td>18</td><td>68</td><td> 4.8</td><td>2.3</td><td>0.5</td><td>  2.7</td><td>0.080</td><td>0.148</td><td>0.204</td><td>0.571</td><td>0.081</td><td>1996</td><td>AJ Price            </td><td> 1521.7</td></tr>\n",
       "\t<tr><td>Jermaine O'Neal    </td><td>18</td><td>210.82</td><td>102.51179</td><td>1996</td><td>1</td><td>17</td><td>45</td><td> 4.1</td><td>2.8</td><td>0.2</td><td>  1.3</td><td>0.099</td><td>0.198</td><td>0.199</td><td>0.494</td><td>0.030</td><td>1996</td><td>Aaron Brooks        </td><td> 6263.7</td></tr>\n",
       "\t<tr><td>Jeff McInnis       </td><td>22</td><td>193.04</td><td> 86.18248</td><td>1996</td><td>2</td><td>37</td><td>13</td><td> 5.0</td><td>0.5</td><td>1.4</td><td>-17.8</td><td>0.021</td><td>0.040</td><td>0.259</td><td>0.609</td><td>0.327</td><td>1996</td><td>Aaron Gordon        </td><td> 7993.0</td></tr>\n",
       "\t<tr><td>Jamie Feick        </td><td>22</td><td>203.20</td><td>115.66596</td><td>1996</td><td>2</td><td>48</td><td>41</td><td> 3.7</td><td>5.2</td><td>0.6</td><td>-12.2</td><td>0.133</td><td>0.253</td><td>0.150</td><td>0.405</td><td>0.065</td><td>1996</td><td>Aaron Gray          </td><td> 1066.3</td></tr>\n",
       "\t<tr><td>Jason Sasser       </td><td>23</td><td>200.66</td><td>102.05820</td><td>1996</td><td>2</td><td>41</td><td> 8</td><td> 2.4</td><td>1.0</td><td>0.3</td><td>-24.2</td><td>0.018</td><td>0.140</td><td>0.172</td><td>0.413</td><td>0.067</td><td>1996</td><td>Aaron Holiday       </td><td> 2039.8</td></tr>\n",
       "\t<tr><td>Chris Robinson     </td><td>23</td><td>195.58</td><td> 90.71840</td><td>1996</td><td>2</td><td>51</td><td>41</td><td> 4.6</td><td>1.7</td><td>1.6</td><td>-11.4</td><td>0.039</td><td>0.088</td><td>0.155</td><td>0.486</td><td>0.156</td><td>1996</td><td>Aaron Nesmith       </td><td> 1151.1</td></tr>\n",
       "\t<tr><td>Brian Evans        </td><td>23</td><td>203.20</td><td> 99.79024</td><td>1996</td><td>1</td><td>27</td><td>14</td><td> 1.4</td><td>0.6</td><td>0.5</td><td>-12.5</td><td>0.017</td><td>0.121</td><td>0.168</td><td>0.455</td><td>0.194</td><td>1996</td><td>Aaron Wiggins       </td><td>  891.0</td></tr>\n",
       "\t<tr><td>Derek Fisher       </td><td>22</td><td>185.42</td><td> 90.71840</td><td>1996</td><td>1</td><td>24</td><td>80</td><td> 3.9</td><td>1.2</td><td>1.5</td><td>  5.1</td><td>0.031</td><td>0.087</td><td>0.186</td><td>0.491</td><td>0.223</td><td>1996</td><td>Abdel Nader         </td><td>  928.9</td></tr>\n",
       "\t<tr><td>Shandon Anderson   </td><td>23</td><td>198.12</td><td> 94.34714</td><td>1996</td><td>2</td><td>54</td><td>65</td><td> 5.9</td><td>2.8</td><td>0.8</td><td>  2.5</td><td>0.065</td><td>0.139</td><td>0.193</td><td>0.534</td><td>0.074</td><td>1996</td><td>Acie Law            </td><td>  720.7</td></tr>\n",
       "\t<tr><td>Shareef Abdur-Rahim</td><td>20</td><td>205.74</td><td>104.32616</td><td>1996</td><td>1</td><td> 3</td><td>80</td><td>18.7</td><td>6.9</td><td>2.2</td><td>-12.3</td><td>0.089</td><td>0.142</td><td>0.275</td><td>0.518</td><td>0.120</td><td>1996</td><td>Adam Morrison       </td><td> 1202.8</td></tr>\n",
       "\t<tr><td>Samaki Walker      </td><td>21</td><td>205.74</td><td>108.86208</td><td>1996</td><td>1</td><td> 9</td><td>43</td><td> 4.9</td><td>3.4</td><td>0.4</td><td>-12.6</td><td>0.094</td><td>0.198</td><td>0.201</td><td>0.485</td><td>0.050</td><td>1996</td><td>Admiral Schofield   </td><td>  398.8</td></tr>\n",
       "\t<tr><td>Roy Rogers         </td><td>23</td><td>208.28</td><td>106.59412</td><td>1996</td><td>1</td><td>22</td><td>82</td><td> 6.6</td><td>4.7</td><td>0.6</td><td>-13.6</td><td>0.088</td><td>0.155</td><td>0.154</td><td>0.518</td><td>0.042</td><td>1996</td><td>Adonal Foyle        </td><td> 2987.1</td></tr>\n",
       "\t<tr><td>Stephon Marbury    </td><td>20</td><td>187.96</td><td> 81.64656</td><td>1996</td><td>1</td><td> 4</td><td>67</td><td>15.8</td><td>2.7</td><td>7.8</td><td> -3.1</td><td>0.028</td><td>0.066</td><td>0.244</td><td>0.519</td><td>0.373</td><td>1996</td><td>Adreian Payne       </td><td>  428.4</td></tr>\n",
       "\t<tr><td>Steve Hamer        </td><td>23</td><td>213.36</td><td>111.13004</td><td>1996</td><td>2</td><td>38</td><td>35</td><td> 2.2</td><td>1.7</td><td>0.2</td><td> -3.1</td><td>0.065</td><td>0.181</td><td>0.126</td><td>0.545</td><td>0.037</td><td>1996</td><td>Al Harrington       </td><td>13236.2</td></tr>\n",
       "\t<tr><td>Steve Nash         </td><td>23</td><td>190.50</td><td> 88.45044</td><td>1996</td><td>1</td><td>15</td><td>65</td><td> 3.3</td><td>1.0</td><td>2.1</td><td> -8.5</td><td>0.026</td><td>0.083</td><td>0.170</td><td>0.539</td><td>0.301</td><td>1996</td><td>Al Horford          </td><td>13603.6</td></tr>\n",
       "\t<tr><td>Walter McCarty     </td><td>23</td><td>208.28</td><td>104.32616</td><td>1996</td><td>1</td><td>19</td><td>35</td><td> 1.8</td><td>0.7</td><td>0.4</td><td>  3.2</td><td>0.056</td><td>0.080</td><td>0.217</td><td>0.431</td><td>0.116</td><td>1996</td><td>Al Jefferson        </td><td>14328.2</td></tr>\n",
       "\t<tr><td>Vitaly Potapenko   </td><td>22</td><td>208.28</td><td>127.00576</td><td>1996</td><td>1</td><td>12</td><td>80</td><td> 5.8</td><td>2.7</td><td>0.5</td><td> -0.2</td><td>0.106</td><td>0.119</td><td>0.234</td><td>0.486</td><td>0.064</td><td>1996</td><td>Al Thornton         </td><td> 3524.0</td></tr>\n",
       "\t<tr><td>Travis Knight      </td><td>22</td><td>213.36</td><td>106.59412</td><td>1996</td><td>1</td><td>29</td><td>71</td><td> 4.8</td><td>4.5</td><td>0.5</td><td>  6.2</td><td>0.127</td><td>0.182</td><td>0.142</td><td>0.536</td><td>0.052</td><td>1996</td><td>Al-Farouq Aminu     </td><td> 5343.6</td></tr>\n",
       "\t<tr><td>Todd Fuller        </td><td>22</td><td>210.82</td><td>115.66596</td><td>1996</td><td>1</td><td>11</td><td>75</td><td> 4.0</td><td>3.3</td><td>0.3</td><td> -8.6</td><td>0.127</td><td>0.171</td><td>0.166</td><td>0.480</td><td>0.040</td><td>1996</td><td>Alando Tucker       </td><td>  211.2</td></tr>\n",
       "\t<tr><td>Tony Delk          </td><td>23</td><td>187.96</td><td> 85.72889</td><td>1996</td><td>1</td><td>16</td><td>61</td><td> 5.4</td><td>1.6</td><td>1.6</td><td>  0.9</td><td>0.044</td><td>0.090</td><td>0.182</td><td>0.596</td><td>0.187</td><td>1996</td><td>Alec Burks          </td><td> 7302.6</td></tr>\n",
       "\t<tr><td>Lorenzen Wright    </td><td>21</td><td>210.82</td><td>108.86208</td><td>1996</td><td>1</td><td> 7</td><td>77</td><td> 7.3</td><td>6.1</td><td>0.6</td><td> -3.7</td><td>0.120</td><td>0.168</td><td>0.146</td><td>0.503</td><td>0.039</td><td>1996</td><td>Alec Peters         </td><td>   82.0</td></tr>\n",
       "\t<tr><td>Malik Rose         </td><td>22</td><td>200.66</td><td>113.39800</td><td>1996</td><td>2</td><td>44</td><td>54</td><td> 3.0</td><td>3.0</td><td>0.6</td><td>  1.3</td><td>0.169</td><td>0.219</td><td>0.161</td><td>0.515</td><td>0.089</td><td>1996</td><td>Alekesej Pokusevski </td><td>  463.6</td></tr>\n",
       "\t<tr><td>Marcus Brown       </td><td>23</td><td>190.50</td><td> 83.91452</td><td>1996</td><td>2</td><td>46</td><td>21</td><td> 3.9</td><td>0.7</td><td>1.0</td><td>  4.0</td><td>0.027</td><td>0.070</td><td>0.221</td><td>0.523</td><td>0.169</td><td>1996</td><td>Aleksandar Radojevic</td><td>   26.1</td></tr>\n",
       "\t<tr><td>Marcus Camby       </td><td>23</td><td>210.82</td><td> 99.79024</td><td>1996</td><td>1</td><td> 2</td><td>63</td><td>14.8</td><td>6.3</td><td>1.5</td><td> -1.5</td><td>0.079</td><td>0.165</td><td>0.241</td><td>0.523</td><td>0.092</td><td>1996</td><td>Aleksej Pokusevski  </td><td>  644.4</td></tr>\n",
       "\t<tr><td>Kerry Kittles      </td><td>23</td><td>195.58</td><td> 81.19297</td><td>1996</td><td>1</td><td> 8</td><td>82</td><td>16.4</td><td>3.9</td><td>3.0</td><td> -5.2</td><td>0.035</td><td>0.082</td><td>0.199</td><td>0.523</td><td>0.139</td><td>1996</td><td>Alen Smailagic      </td><td>   87.3</td></tr>\n",
       "\t<tr><td>Kobe Bryant        </td><td>18</td><td>200.66</td><td> 90.71840</td><td>1996</td><td>1</td><td>13</td><td>71</td><td> 7.6</td><td>1.9</td><td>1.3</td><td>  2.2</td><td>0.048</td><td>0.084</td><td>0.244</td><td>0.544</td><td>0.144</td><td>1996</td><td>Alex Abrines        </td><td>  924.8</td></tr>\n",
       "\t<tr><td>Mark Hendrickson   </td><td>23</td><td>205.74</td><td> 99.79024</td><td>1996</td><td>2</td><td>31</td><td>29</td><td> 2.9</td><td>3.2</td><td>0.1</td><td> -5.1</td><td>0.113</td><td>0.201</td><td>0.133</td><td>0.481</td><td>0.014</td><td>1996</td><td>Alex Acker          </td><td>   81.5</td></tr>\n",
       "\t<tr><td>⋮</td><td>⋮</td><td>⋮</td><td>⋮</td><td>⋮</td><td>⋮</td><td>⋮</td><td>⋮</td><td>⋮</td><td>⋮</td><td>⋮</td><td>⋮</td><td>⋮</td><td>⋮</td><td>⋮</td><td>⋮</td><td>⋮</td><td>⋮</td><td>⋮</td><td>⋮</td></tr>\n",
       "\t<tr><td>Alekesej Pokusevski   </td><td>20</td><td>213.36</td><td> 86.18248</td><td>2020</td><td>1</td><td>17</td><td>61</td><td> 7.6</td><td>5.2</td><td>2.1</td><td>  -2.5</td><td>0.054</td><td>0.189</td><td>0.195</td><td>0.485</td><td>0.161</td><td>2021</td><td>Wendell Carter Jr. </td><td> 3340.3</td></tr>\n",
       "\t<tr><td>Arnoldas Kulboka      </td><td>24</td><td>208.28</td><td> 94.80073</td><td>2018</td><td>2</td><td>55</td><td> 2</td><td> 0.0</td><td>0.0</td><td>0.0</td><td>-100.0</td><td>0.000</td><td>0.000</td><td>0.071</td><td>0.000</td><td>0.000</td><td>2021</td><td>Wes Iwundu         </td><td>  991.3</td></tr>\n",
       "\t<tr><td>Alperen Sengun        </td><td>19</td><td>208.28</td><td>110.22286</td><td>2021</td><td>1</td><td>16</td><td>72</td><td> 9.6</td><td>5.5</td><td>2.6</td><td> -10.2</td><td>0.089</td><td>0.174</td><td>0.214</td><td>0.552</td><td>0.193</td><td>2021</td><td>Wesley Johnson     </td><td> 4236.7</td></tr>\n",
       "\t<tr><td>Nic Claxton           </td><td>23</td><td>210.82</td><td> 97.52228</td><td>2019</td><td>2</td><td>31</td><td>47</td><td> 8.7</td><td>5.6</td><td>0.9</td><td>  -0.4</td><td>0.098</td><td>0.157</td><td>0.150</td><td>0.672</td><td>0.066</td><td>2021</td><td>Will Barton        </td><td> 7630.9</td></tr>\n",
       "\t<tr><td>Moses Moody           </td><td>20</td><td>195.58</td><td> 95.70791</td><td>2021</td><td>1</td><td>14</td><td>52</td><td> 4.4</td><td>1.5</td><td>0.4</td><td>  -4.0</td><td>0.028</td><td>0.098</td><td>0.148</td><td>0.573</td><td>0.056</td><td>2021</td><td>Will Blalock       </td><td>   25.2</td></tr>\n",
       "\t<tr><td>Neemias Queta         </td><td>22</td><td>213.36</td><td>112.49082</td><td>2021</td><td>2</td><td>39</td><td>15</td><td> 3.0</td><td>2.1</td><td>0.4</td><td>  -4.1</td><td>0.104</td><td>0.144</td><td>0.176</td><td>0.495</td><td>0.076</td><td>2021</td><td>Will Solomon       </td><td>  587.4</td></tr>\n",
       "\t<tr><td>Petr Cornelie         </td><td>26</td><td>210.82</td><td> 99.79024</td><td>2016</td><td>2</td><td>53</td><td>13</td><td> 1.1</td><td>1.1</td><td>0.2</td><td>   5.8</td><td>0.159</td><td>0.219</td><td>0.208</td><td>0.418</td><td>0.115</td><td>2021</td><td>William Avery      </td><td>  377.4</td></tr>\n",
       "\t<tr><td>Quentin Grimes        </td><td>22</td><td>193.04</td><td> 95.25432</td><td>2021</td><td>1</td><td>25</td><td>46</td><td> 6.0</td><td>2.0</td><td>1.0</td><td>  -3.0</td><td>0.028</td><td>0.085</td><td>0.149</td><td>0.565</td><td>0.095</td><td>2021</td><td>Willie Cauley-Stein</td><td> 3671.5</td></tr>\n",
       "\t<tr><td>Luka Garza            </td><td>23</td><td>208.28</td><td>110.22286</td><td>2021</td><td>2</td><td>52</td><td>32</td><td> 5.8</td><td>3.1</td><td>0.6</td><td>  -6.3</td><td>0.130</td><td>0.116</td><td>0.195</td><td>0.535</td><td>0.086</td><td>2021</td><td>Willie Green       </td><td> 6060.1</td></tr>\n",
       "\t<tr><td>Leandro Bolmaro       </td><td>21</td><td>198.12</td><td> 90.71840</td><td>2020</td><td>1</td><td>23</td><td>35</td><td> 1.4</td><td>1.2</td><td>0.6</td><td>   0.2</td><td>0.062</td><td>0.107</td><td>0.122</td><td>0.419</td><td>0.118</td><td>2021</td><td>Willie Warren      </td><td>   36.1</td></tr>\n",
       "\t<tr><td>Jeremiah Robinson-Earl</td><td>21</td><td>203.20</td><td>109.76926</td><td>2021</td><td>2</td><td>32</td><td>49</td><td> 7.5</td><td>5.6</td><td>1.0</td><td>  -9.8</td><td>0.061</td><td>0.172</td><td>0.152</td><td>0.526</td><td>0.069</td><td>2021</td><td>Willy Hernangomez  </td><td> 2531.5</td></tr>\n",
       "\t<tr><td>Miles McBride         </td><td>21</td><td>185.42</td><td> 88.45044</td><td>2021</td><td>2</td><td>36</td><td>40</td><td> 2.2</td><td>1.1</td><td>1.0</td><td>  13.0</td><td>0.011</td><td>0.097</td><td>0.137</td><td>0.393</td><td>0.159</td><td>2021</td><td>Wilson Chandler    </td><td> 8461.2</td></tr>\n",
       "\t<tr><td>Marko Simonovic       </td><td>22</td><td>210.82</td><td> 99.79024</td><td>2020</td><td>2</td><td>44</td><td> 9</td><td> 1.9</td><td>1.1</td><td>0.0</td><td>   1.2</td><td>0.122</td><td>0.119</td><td>0.247</td><td>0.428</td><td>0.000</td><td>2021</td><td>Xavier Henry       </td><td> 1046.7</td></tr>\n",
       "\t<tr><td>Kai Jones             </td><td>21</td><td>208.28</td><td>100.24383</td><td>2021</td><td>1</td><td>19</td><td>21</td><td> 1.0</td><td>0.5</td><td>0.2</td><td> -11.1</td><td>0.045</td><td>0.114</td><td>0.150</td><td>0.628</td><td>0.103</td><td>2021</td><td>Xavier Tillman     </td><td>  816.4</td></tr>\n",
       "\t<tr><td>Keon Johnson          </td><td>20</td><td>193.04</td><td> 83.91452</td><td>2021</td><td>1</td><td>21</td><td>37</td><td> 7.2</td><td>2.2</td><td>2.1</td><td> -19.0</td><td>0.031</td><td>0.083</td><td>0.207</td><td>0.453</td><td>0.174</td><td>2021</td><td>Xavier Tillman Sr. </td><td>  254.4</td></tr>\n",
       "\t<tr><td>Kessler Edwards       </td><td>21</td><td>200.66</td><td> 92.07918</td><td>2021</td><td>2</td><td>44</td><td>48</td><td> 5.9</td><td>3.6</td><td>0.6</td><td>  -3.3</td><td>0.043</td><td>0.124</td><td>0.132</td><td>0.516</td><td>0.040</td><td>2021</td><td>Yao Ming           </td><td> 9255.0</td></tr>\n",
       "\t<tr><td>Joe Wieskamp          </td><td>22</td><td>198.12</td><td> 92.98636</td><td>2021</td><td>2</td><td>41</td><td>29</td><td> 2.1</td><td>0.5</td><td>0.3</td><td>   1.5</td><td>0.017</td><td>0.045</td><td>0.129</td><td>0.494</td><td>0.065</td><td>2021</td><td>Yaroslav Korolev   </td><td>   38.4</td></tr>\n",
       "\t<tr><td>Jericho Sims          </td><td>23</td><td>205.74</td><td>113.39800</td><td>2021</td><td>2</td><td>58</td><td>41</td><td> 2.2</td><td>4.1</td><td>0.5</td><td>   6.5</td><td>0.108</td><td>0.187</td><td>0.068</td><td>0.674</td><td>0.054</td><td>2021</td><td>Yi Jianlian        </td><td> 2147.0</td></tr>\n",
       "\t<tr><td>Jonathan Kuminga      </td><td>19</td><td>200.66</td><td>102.05820</td><td>2021</td><td>1</td><td> 7</td><td>70</td><td> 9.3</td><td>3.3</td><td>0.9</td><td>   1.9</td><td>0.047</td><td>0.139</td><td>0.227</td><td>0.600</td><td>0.087</td><td>2021</td><td>Zach Collins       </td><td> 1824.8</td></tr>\n",
       "\t<tr><td>Josh Giddey           </td><td>19</td><td>203.20</td><td> 92.98636</td><td>2021</td><td>1</td><td> 6</td><td>54</td><td>12.5</td><td>7.8</td><td>6.4</td><td>  -8.3</td><td>0.052</td><td>0.175</td><td>0.218</td><td>0.478</td><td>0.325</td><td>2021</td><td>Zach LaVine        </td><td>11371.5</td></tr>\n",
       "\t<tr><td>Josh Christopher      </td><td>20</td><td>190.50</td><td> 97.52228</td><td>2021</td><td>1</td><td>24</td><td>74</td><td> 7.9</td><td>2.5</td><td>2.0</td><td>  -9.2</td><td>0.037</td><td>0.103</td><td>0.205</td><td>0.534</td><td>0.170</td><td>2021</td><td>Zach Randolph      </td><td>18580.7</td></tr>\n",
       "\t<tr><td>Joshua Primo          </td><td>19</td><td>193.04</td><td> 85.72889</td><td>2021</td><td>1</td><td>12</td><td>50</td><td> 5.8</td><td>2.3</td><td>1.6</td><td>  -3.3</td><td>0.031</td><td>0.079</td><td>0.152</td><td>0.487</td><td>0.111</td><td>2021</td><td>Zarko Cabarkapa    </td><td>  642.2</td></tr>\n",
       "\t<tr><td>Sharife Cooper        </td><td>21</td><td>185.42</td><td> 79.83219</td><td>2021</td><td>2</td><td>48</td><td>13</td><td> 0.5</td><td>0.4</td><td>0.4</td><td> -43.9</td><td>0.000</td><td>0.147</td><td>0.202</td><td>0.250</td><td>0.313</td><td>2021</td><td>Zaza Pachulia      </td><td> 7418.9</td></tr>\n",
       "\t<tr><td>Sandro Mamukelashvili </td><td>23</td><td>205.74</td><td>108.86208</td><td>2021</td><td>2</td><td>54</td><td>41</td><td> 3.8</td><td>2.0</td><td>0.5</td><td> -17.6</td><td>0.079</td><td>0.116</td><td>0.142</td><td>0.618</td><td>0.084</td><td>2021</td><td>Zeke Nnaji         </td><td>  680.6</td></tr>\n",
       "\t<tr><td>Santi Aldama          </td><td>21</td><td>210.82</td><td> 97.52228</td><td>2021</td><td>1</td><td>30</td><td>32</td><td> 4.1</td><td>2.7</td><td>0.7</td><td>   1.3</td><td>0.077</td><td>0.150</td><td>0.174</td><td>0.452</td><td>0.080</td><td>2021</td><td>Zhaire Smith       </td><td>   47.9</td></tr>\n",
       "\t<tr><td>Scottie Barnes        </td><td>20</td><td>200.66</td><td>102.05820</td><td>2021</td><td>1</td><td> 4</td><td>74</td><td>15.3</td><td>7.5</td><td>3.5</td><td>   1.8</td><td>0.068</td><td>0.141</td><td>0.187</td><td>0.552</td><td>0.150</td><td>2021</td><td>Zhou Qi            </td><td>   23.6</td></tr>\n",
       "\t<tr><td>Scottie Lewis         </td><td>22</td><td>195.58</td><td> 83.91452</td><td>2021</td><td>2</td><td>56</td><td> 2</td><td> 0.5</td><td>0.0</td><td>0.5</td><td> -11.8</td><td>0.000</td><td>0.000</td><td>0.059</td><td>0.568</td><td>0.200</td><td>2021</td><td>Ziaire Williams    </td><td>  713.1</td></tr>\n",
       "\t<tr><td>Scotty Hopson         </td><td>32</td><td>200.66</td><td> 92.53277</td><td>2011</td><td>0</td><td> 0</td><td> 1</td><td> 4.0</td><td>1.0</td><td>1.0</td><td> -18.4</td><td>0.000</td><td>0.043</td><td>0.143</td><td>0.500</td><td>0.091</td><td>2021</td><td>Zion Williamson    </td><td> 2941.0</td></tr>\n",
       "\t<tr><td>Tre Mann              </td><td>21</td><td>190.50</td><td> 80.73938</td><td>2021</td><td>1</td><td>18</td><td>60</td><td>10.4</td><td>2.9</td><td>1.5</td><td> -10.3</td><td>0.017</td><td>0.101</td><td>0.213</td><td>0.501</td><td>0.108</td><td>2021</td><td>Zoran Planinic     </td><td>  557.3</td></tr>\n",
       "\t<tr><td>Trey Murphy III       </td><td>22</td><td>203.20</td><td> 93.43995</td><td>2021</td><td>1</td><td>17</td><td>62</td><td> 5.4</td><td>2.4</td><td>0.6</td><td>   0.3</td><td>0.049</td><td>0.122</td><td>0.147</td><td>0.558</td><td>0.065</td><td>2021</td><td>Zydrunas Ilgauskas </td><td>10981.9</td></tr>\n",
       "</tbody>\n",
       "</table>\n"
      ],
      "text/latex": [
       "A data.frame: 1346 × 20\n",
       "\\begin{tabular}{llllllllllllllllllll}\n",
       " player\\_name & age & player\\_height & player\\_weight & draft\\_year & draft\\_round & draft\\_number & gp & pts & reb & ast & net\\_rating & oreb\\_pct & dreb\\_pct & usg\\_pct & ts\\_pct & ast\\_pct & season\\_start & player\\_name & total\\_points\\\\\n",
       " <chr> & <dbl> & <dbl> & <dbl> & <dbl> & <dbl> & <dbl> & <dbl> & <dbl> & <dbl> & <dbl> & <dbl> & <dbl> & <dbl> & <dbl> & <dbl> & <dbl> & <dbl> & <chr> & <dbl>\\\\\n",
       "\\hline\n",
       "\t Randy Livingston    & 22 & 193.04 &  94.80073 & 1996 & 2 & 42 & 64 &  3.9 & 1.5 & 2.4 &   0.3 & 0.042 & 0.071 & 0.169 & 0.487 & 0.248 & 1996 & A.J. Bramlett        &     8.0\\\\\n",
       "\t Erick Dampier       & 21 & 210.82 & 120.20188 & 1996 & 1 & 10 & 72 &  5.1 & 4.1 & 0.6 &  -2.0 & 0.107 & 0.216 & 0.218 & 0.451 & 0.074 & 1996 & A.J. Guyton          &   441.0\\\\\n",
       "\t Jerome Williams     & 24 & 205.74 &  93.43995 & 1996 & 1 & 26 & 33 &  1.5 & 1.5 & 0.2 &   3.0 & 0.144 & 0.182 & 0.181 & 0.419 & 0.071 & 1996 & AJ Hammons           &    48.4\\\\\n",
       "\t John Wallace        & 23 & 205.74 & 102.05820 & 1996 & 1 & 18 & 68 &  4.8 & 2.3 & 0.5 &   2.7 & 0.080 & 0.148 & 0.204 & 0.571 & 0.081 & 1996 & AJ Price             &  1521.7\\\\\n",
       "\t Jermaine O'Neal     & 18 & 210.82 & 102.51179 & 1996 & 1 & 17 & 45 &  4.1 & 2.8 & 0.2 &   1.3 & 0.099 & 0.198 & 0.199 & 0.494 & 0.030 & 1996 & Aaron Brooks         &  6263.7\\\\\n",
       "\t Jeff McInnis        & 22 & 193.04 &  86.18248 & 1996 & 2 & 37 & 13 &  5.0 & 0.5 & 1.4 & -17.8 & 0.021 & 0.040 & 0.259 & 0.609 & 0.327 & 1996 & Aaron Gordon         &  7993.0\\\\\n",
       "\t Jamie Feick         & 22 & 203.20 & 115.66596 & 1996 & 2 & 48 & 41 &  3.7 & 5.2 & 0.6 & -12.2 & 0.133 & 0.253 & 0.150 & 0.405 & 0.065 & 1996 & Aaron Gray           &  1066.3\\\\\n",
       "\t Jason Sasser        & 23 & 200.66 & 102.05820 & 1996 & 2 & 41 &  8 &  2.4 & 1.0 & 0.3 & -24.2 & 0.018 & 0.140 & 0.172 & 0.413 & 0.067 & 1996 & Aaron Holiday        &  2039.8\\\\\n",
       "\t Chris Robinson      & 23 & 195.58 &  90.71840 & 1996 & 2 & 51 & 41 &  4.6 & 1.7 & 1.6 & -11.4 & 0.039 & 0.088 & 0.155 & 0.486 & 0.156 & 1996 & Aaron Nesmith        &  1151.1\\\\\n",
       "\t Brian Evans         & 23 & 203.20 &  99.79024 & 1996 & 1 & 27 & 14 &  1.4 & 0.6 & 0.5 & -12.5 & 0.017 & 0.121 & 0.168 & 0.455 & 0.194 & 1996 & Aaron Wiggins        &   891.0\\\\\n",
       "\t Derek Fisher        & 22 & 185.42 &  90.71840 & 1996 & 1 & 24 & 80 &  3.9 & 1.2 & 1.5 &   5.1 & 0.031 & 0.087 & 0.186 & 0.491 & 0.223 & 1996 & Abdel Nader          &   928.9\\\\\n",
       "\t Shandon Anderson    & 23 & 198.12 &  94.34714 & 1996 & 2 & 54 & 65 &  5.9 & 2.8 & 0.8 &   2.5 & 0.065 & 0.139 & 0.193 & 0.534 & 0.074 & 1996 & Acie Law             &   720.7\\\\\n",
       "\t Shareef Abdur-Rahim & 20 & 205.74 & 104.32616 & 1996 & 1 &  3 & 80 & 18.7 & 6.9 & 2.2 & -12.3 & 0.089 & 0.142 & 0.275 & 0.518 & 0.120 & 1996 & Adam Morrison        &  1202.8\\\\\n",
       "\t Samaki Walker       & 21 & 205.74 & 108.86208 & 1996 & 1 &  9 & 43 &  4.9 & 3.4 & 0.4 & -12.6 & 0.094 & 0.198 & 0.201 & 0.485 & 0.050 & 1996 & Admiral Schofield    &   398.8\\\\\n",
       "\t Roy Rogers          & 23 & 208.28 & 106.59412 & 1996 & 1 & 22 & 82 &  6.6 & 4.7 & 0.6 & -13.6 & 0.088 & 0.155 & 0.154 & 0.518 & 0.042 & 1996 & Adonal Foyle         &  2987.1\\\\\n",
       "\t Stephon Marbury     & 20 & 187.96 &  81.64656 & 1996 & 1 &  4 & 67 & 15.8 & 2.7 & 7.8 &  -3.1 & 0.028 & 0.066 & 0.244 & 0.519 & 0.373 & 1996 & Adreian Payne        &   428.4\\\\\n",
       "\t Steve Hamer         & 23 & 213.36 & 111.13004 & 1996 & 2 & 38 & 35 &  2.2 & 1.7 & 0.2 &  -3.1 & 0.065 & 0.181 & 0.126 & 0.545 & 0.037 & 1996 & Al Harrington        & 13236.2\\\\\n",
       "\t Steve Nash          & 23 & 190.50 &  88.45044 & 1996 & 1 & 15 & 65 &  3.3 & 1.0 & 2.1 &  -8.5 & 0.026 & 0.083 & 0.170 & 0.539 & 0.301 & 1996 & Al Horford           & 13603.6\\\\\n",
       "\t Walter McCarty      & 23 & 208.28 & 104.32616 & 1996 & 1 & 19 & 35 &  1.8 & 0.7 & 0.4 &   3.2 & 0.056 & 0.080 & 0.217 & 0.431 & 0.116 & 1996 & Al Jefferson         & 14328.2\\\\\n",
       "\t Vitaly Potapenko    & 22 & 208.28 & 127.00576 & 1996 & 1 & 12 & 80 &  5.8 & 2.7 & 0.5 &  -0.2 & 0.106 & 0.119 & 0.234 & 0.486 & 0.064 & 1996 & Al Thornton          &  3524.0\\\\\n",
       "\t Travis Knight       & 22 & 213.36 & 106.59412 & 1996 & 1 & 29 & 71 &  4.8 & 4.5 & 0.5 &   6.2 & 0.127 & 0.182 & 0.142 & 0.536 & 0.052 & 1996 & Al-Farouq Aminu      &  5343.6\\\\\n",
       "\t Todd Fuller         & 22 & 210.82 & 115.66596 & 1996 & 1 & 11 & 75 &  4.0 & 3.3 & 0.3 &  -8.6 & 0.127 & 0.171 & 0.166 & 0.480 & 0.040 & 1996 & Alando Tucker        &   211.2\\\\\n",
       "\t Tony Delk           & 23 & 187.96 &  85.72889 & 1996 & 1 & 16 & 61 &  5.4 & 1.6 & 1.6 &   0.9 & 0.044 & 0.090 & 0.182 & 0.596 & 0.187 & 1996 & Alec Burks           &  7302.6\\\\\n",
       "\t Lorenzen Wright     & 21 & 210.82 & 108.86208 & 1996 & 1 &  7 & 77 &  7.3 & 6.1 & 0.6 &  -3.7 & 0.120 & 0.168 & 0.146 & 0.503 & 0.039 & 1996 & Alec Peters          &    82.0\\\\\n",
       "\t Malik Rose          & 22 & 200.66 & 113.39800 & 1996 & 2 & 44 & 54 &  3.0 & 3.0 & 0.6 &   1.3 & 0.169 & 0.219 & 0.161 & 0.515 & 0.089 & 1996 & Alekesej Pokusevski  &   463.6\\\\\n",
       "\t Marcus Brown        & 23 & 190.50 &  83.91452 & 1996 & 2 & 46 & 21 &  3.9 & 0.7 & 1.0 &   4.0 & 0.027 & 0.070 & 0.221 & 0.523 & 0.169 & 1996 & Aleksandar Radojevic &    26.1\\\\\n",
       "\t Marcus Camby        & 23 & 210.82 &  99.79024 & 1996 & 1 &  2 & 63 & 14.8 & 6.3 & 1.5 &  -1.5 & 0.079 & 0.165 & 0.241 & 0.523 & 0.092 & 1996 & Aleksej Pokusevski   &   644.4\\\\\n",
       "\t Kerry Kittles       & 23 & 195.58 &  81.19297 & 1996 & 1 &  8 & 82 & 16.4 & 3.9 & 3.0 &  -5.2 & 0.035 & 0.082 & 0.199 & 0.523 & 0.139 & 1996 & Alen Smailagic       &    87.3\\\\\n",
       "\t Kobe Bryant         & 18 & 200.66 &  90.71840 & 1996 & 1 & 13 & 71 &  7.6 & 1.9 & 1.3 &   2.2 & 0.048 & 0.084 & 0.244 & 0.544 & 0.144 & 1996 & Alex Abrines         &   924.8\\\\\n",
       "\t Mark Hendrickson    & 23 & 205.74 &  99.79024 & 1996 & 2 & 31 & 29 &  2.9 & 3.2 & 0.1 &  -5.1 & 0.113 & 0.201 & 0.133 & 0.481 & 0.014 & 1996 & Alex Acker           &    81.5\\\\\n",
       "\t ⋮ & ⋮ & ⋮ & ⋮ & ⋮ & ⋮ & ⋮ & ⋮ & ⋮ & ⋮ & ⋮ & ⋮ & ⋮ & ⋮ & ⋮ & ⋮ & ⋮ & ⋮ & ⋮ & ⋮\\\\\n",
       "\t Alekesej Pokusevski    & 20 & 213.36 &  86.18248 & 2020 & 1 & 17 & 61 &  7.6 & 5.2 & 2.1 &   -2.5 & 0.054 & 0.189 & 0.195 & 0.485 & 0.161 & 2021 & Wendell Carter Jr.  &  3340.3\\\\\n",
       "\t Arnoldas Kulboka       & 24 & 208.28 &  94.80073 & 2018 & 2 & 55 &  2 &  0.0 & 0.0 & 0.0 & -100.0 & 0.000 & 0.000 & 0.071 & 0.000 & 0.000 & 2021 & Wes Iwundu          &   991.3\\\\\n",
       "\t Alperen Sengun         & 19 & 208.28 & 110.22286 & 2021 & 1 & 16 & 72 &  9.6 & 5.5 & 2.6 &  -10.2 & 0.089 & 0.174 & 0.214 & 0.552 & 0.193 & 2021 & Wesley Johnson      &  4236.7\\\\\n",
       "\t Nic Claxton            & 23 & 210.82 &  97.52228 & 2019 & 2 & 31 & 47 &  8.7 & 5.6 & 0.9 &   -0.4 & 0.098 & 0.157 & 0.150 & 0.672 & 0.066 & 2021 & Will Barton         &  7630.9\\\\\n",
       "\t Moses Moody            & 20 & 195.58 &  95.70791 & 2021 & 1 & 14 & 52 &  4.4 & 1.5 & 0.4 &   -4.0 & 0.028 & 0.098 & 0.148 & 0.573 & 0.056 & 2021 & Will Blalock        &    25.2\\\\\n",
       "\t Neemias Queta          & 22 & 213.36 & 112.49082 & 2021 & 2 & 39 & 15 &  3.0 & 2.1 & 0.4 &   -4.1 & 0.104 & 0.144 & 0.176 & 0.495 & 0.076 & 2021 & Will Solomon        &   587.4\\\\\n",
       "\t Petr Cornelie          & 26 & 210.82 &  99.79024 & 2016 & 2 & 53 & 13 &  1.1 & 1.1 & 0.2 &    5.8 & 0.159 & 0.219 & 0.208 & 0.418 & 0.115 & 2021 & William Avery       &   377.4\\\\\n",
       "\t Quentin Grimes         & 22 & 193.04 &  95.25432 & 2021 & 1 & 25 & 46 &  6.0 & 2.0 & 1.0 &   -3.0 & 0.028 & 0.085 & 0.149 & 0.565 & 0.095 & 2021 & Willie Cauley-Stein &  3671.5\\\\\n",
       "\t Luka Garza             & 23 & 208.28 & 110.22286 & 2021 & 2 & 52 & 32 &  5.8 & 3.1 & 0.6 &   -6.3 & 0.130 & 0.116 & 0.195 & 0.535 & 0.086 & 2021 & Willie Green        &  6060.1\\\\\n",
       "\t Leandro Bolmaro        & 21 & 198.12 &  90.71840 & 2020 & 1 & 23 & 35 &  1.4 & 1.2 & 0.6 &    0.2 & 0.062 & 0.107 & 0.122 & 0.419 & 0.118 & 2021 & Willie Warren       &    36.1\\\\\n",
       "\t Jeremiah Robinson-Earl & 21 & 203.20 & 109.76926 & 2021 & 2 & 32 & 49 &  7.5 & 5.6 & 1.0 &   -9.8 & 0.061 & 0.172 & 0.152 & 0.526 & 0.069 & 2021 & Willy Hernangomez   &  2531.5\\\\\n",
       "\t Miles McBride          & 21 & 185.42 &  88.45044 & 2021 & 2 & 36 & 40 &  2.2 & 1.1 & 1.0 &   13.0 & 0.011 & 0.097 & 0.137 & 0.393 & 0.159 & 2021 & Wilson Chandler     &  8461.2\\\\\n",
       "\t Marko Simonovic        & 22 & 210.82 &  99.79024 & 2020 & 2 & 44 &  9 &  1.9 & 1.1 & 0.0 &    1.2 & 0.122 & 0.119 & 0.247 & 0.428 & 0.000 & 2021 & Xavier Henry        &  1046.7\\\\\n",
       "\t Kai Jones              & 21 & 208.28 & 100.24383 & 2021 & 1 & 19 & 21 &  1.0 & 0.5 & 0.2 &  -11.1 & 0.045 & 0.114 & 0.150 & 0.628 & 0.103 & 2021 & Xavier Tillman      &   816.4\\\\\n",
       "\t Keon Johnson           & 20 & 193.04 &  83.91452 & 2021 & 1 & 21 & 37 &  7.2 & 2.2 & 2.1 &  -19.0 & 0.031 & 0.083 & 0.207 & 0.453 & 0.174 & 2021 & Xavier Tillman Sr.  &   254.4\\\\\n",
       "\t Kessler Edwards        & 21 & 200.66 &  92.07918 & 2021 & 2 & 44 & 48 &  5.9 & 3.6 & 0.6 &   -3.3 & 0.043 & 0.124 & 0.132 & 0.516 & 0.040 & 2021 & Yao Ming            &  9255.0\\\\\n",
       "\t Joe Wieskamp           & 22 & 198.12 &  92.98636 & 2021 & 2 & 41 & 29 &  2.1 & 0.5 & 0.3 &    1.5 & 0.017 & 0.045 & 0.129 & 0.494 & 0.065 & 2021 & Yaroslav Korolev    &    38.4\\\\\n",
       "\t Jericho Sims           & 23 & 205.74 & 113.39800 & 2021 & 2 & 58 & 41 &  2.2 & 4.1 & 0.5 &    6.5 & 0.108 & 0.187 & 0.068 & 0.674 & 0.054 & 2021 & Yi Jianlian         &  2147.0\\\\\n",
       "\t Jonathan Kuminga       & 19 & 200.66 & 102.05820 & 2021 & 1 &  7 & 70 &  9.3 & 3.3 & 0.9 &    1.9 & 0.047 & 0.139 & 0.227 & 0.600 & 0.087 & 2021 & Zach Collins        &  1824.8\\\\\n",
       "\t Josh Giddey            & 19 & 203.20 &  92.98636 & 2021 & 1 &  6 & 54 & 12.5 & 7.8 & 6.4 &   -8.3 & 0.052 & 0.175 & 0.218 & 0.478 & 0.325 & 2021 & Zach LaVine         & 11371.5\\\\\n",
       "\t Josh Christopher       & 20 & 190.50 &  97.52228 & 2021 & 1 & 24 & 74 &  7.9 & 2.5 & 2.0 &   -9.2 & 0.037 & 0.103 & 0.205 & 0.534 & 0.170 & 2021 & Zach Randolph       & 18580.7\\\\\n",
       "\t Joshua Primo           & 19 & 193.04 &  85.72889 & 2021 & 1 & 12 & 50 &  5.8 & 2.3 & 1.6 &   -3.3 & 0.031 & 0.079 & 0.152 & 0.487 & 0.111 & 2021 & Zarko Cabarkapa     &   642.2\\\\\n",
       "\t Sharife Cooper         & 21 & 185.42 &  79.83219 & 2021 & 2 & 48 & 13 &  0.5 & 0.4 & 0.4 &  -43.9 & 0.000 & 0.147 & 0.202 & 0.250 & 0.313 & 2021 & Zaza Pachulia       &  7418.9\\\\\n",
       "\t Sandro Mamukelashvili  & 23 & 205.74 & 108.86208 & 2021 & 2 & 54 & 41 &  3.8 & 2.0 & 0.5 &  -17.6 & 0.079 & 0.116 & 0.142 & 0.618 & 0.084 & 2021 & Zeke Nnaji          &   680.6\\\\\n",
       "\t Santi Aldama           & 21 & 210.82 &  97.52228 & 2021 & 1 & 30 & 32 &  4.1 & 2.7 & 0.7 &    1.3 & 0.077 & 0.150 & 0.174 & 0.452 & 0.080 & 2021 & Zhaire Smith        &    47.9\\\\\n",
       "\t Scottie Barnes         & 20 & 200.66 & 102.05820 & 2021 & 1 &  4 & 74 & 15.3 & 7.5 & 3.5 &    1.8 & 0.068 & 0.141 & 0.187 & 0.552 & 0.150 & 2021 & Zhou Qi             &    23.6\\\\\n",
       "\t Scottie Lewis          & 22 & 195.58 &  83.91452 & 2021 & 2 & 56 &  2 &  0.5 & 0.0 & 0.5 &  -11.8 & 0.000 & 0.000 & 0.059 & 0.568 & 0.200 & 2021 & Ziaire Williams     &   713.1\\\\\n",
       "\t Scotty Hopson          & 32 & 200.66 &  92.53277 & 2011 & 0 &  0 &  1 &  4.0 & 1.0 & 1.0 &  -18.4 & 0.000 & 0.043 & 0.143 & 0.500 & 0.091 & 2021 & Zion Williamson     &  2941.0\\\\\n",
       "\t Tre Mann               & 21 & 190.50 &  80.73938 & 2021 & 1 & 18 & 60 & 10.4 & 2.9 & 1.5 &  -10.3 & 0.017 & 0.101 & 0.213 & 0.501 & 0.108 & 2021 & Zoran Planinic      &   557.3\\\\\n",
       "\t Trey Murphy III        & 22 & 203.20 &  93.43995 & 2021 & 1 & 17 & 62 &  5.4 & 2.4 & 0.6 &    0.3 & 0.049 & 0.122 & 0.147 & 0.558 & 0.065 & 2021 & Zydrunas Ilgauskas  & 10981.9\\\\\n",
       "\\end{tabular}\n"
      ],
      "text/markdown": [
       "\n",
       "A data.frame: 1346 × 20\n",
       "\n",
       "| player_name &lt;chr&gt; | age &lt;dbl&gt; | player_height &lt;dbl&gt; | player_weight &lt;dbl&gt; | draft_year &lt;dbl&gt; | draft_round &lt;dbl&gt; | draft_number &lt;dbl&gt; | gp &lt;dbl&gt; | pts &lt;dbl&gt; | reb &lt;dbl&gt; | ast &lt;dbl&gt; | net_rating &lt;dbl&gt; | oreb_pct &lt;dbl&gt; | dreb_pct &lt;dbl&gt; | usg_pct &lt;dbl&gt; | ts_pct &lt;dbl&gt; | ast_pct &lt;dbl&gt; | season_start &lt;dbl&gt; | player_name &lt;chr&gt; | total_points &lt;dbl&gt; |\n",
       "|---|---|---|---|---|---|---|---|---|---|---|---|---|---|---|---|---|---|---|---|\n",
       "| Randy Livingston    | 22 | 193.04 |  94.80073 | 1996 | 2 | 42 | 64 |  3.9 | 1.5 | 2.4 |   0.3 | 0.042 | 0.071 | 0.169 | 0.487 | 0.248 | 1996 | A.J. Bramlett        |     8.0 |\n",
       "| Erick Dampier       | 21 | 210.82 | 120.20188 | 1996 | 1 | 10 | 72 |  5.1 | 4.1 | 0.6 |  -2.0 | 0.107 | 0.216 | 0.218 | 0.451 | 0.074 | 1996 | A.J. Guyton          |   441.0 |\n",
       "| Jerome Williams     | 24 | 205.74 |  93.43995 | 1996 | 1 | 26 | 33 |  1.5 | 1.5 | 0.2 |   3.0 | 0.144 | 0.182 | 0.181 | 0.419 | 0.071 | 1996 | AJ Hammons           |    48.4 |\n",
       "| John Wallace        | 23 | 205.74 | 102.05820 | 1996 | 1 | 18 | 68 |  4.8 | 2.3 | 0.5 |   2.7 | 0.080 | 0.148 | 0.204 | 0.571 | 0.081 | 1996 | AJ Price             |  1521.7 |\n",
       "| Jermaine O'Neal     | 18 | 210.82 | 102.51179 | 1996 | 1 | 17 | 45 |  4.1 | 2.8 | 0.2 |   1.3 | 0.099 | 0.198 | 0.199 | 0.494 | 0.030 | 1996 | Aaron Brooks         |  6263.7 |\n",
       "| Jeff McInnis        | 22 | 193.04 |  86.18248 | 1996 | 2 | 37 | 13 |  5.0 | 0.5 | 1.4 | -17.8 | 0.021 | 0.040 | 0.259 | 0.609 | 0.327 | 1996 | Aaron Gordon         |  7993.0 |\n",
       "| Jamie Feick         | 22 | 203.20 | 115.66596 | 1996 | 2 | 48 | 41 |  3.7 | 5.2 | 0.6 | -12.2 | 0.133 | 0.253 | 0.150 | 0.405 | 0.065 | 1996 | Aaron Gray           |  1066.3 |\n",
       "| Jason Sasser        | 23 | 200.66 | 102.05820 | 1996 | 2 | 41 |  8 |  2.4 | 1.0 | 0.3 | -24.2 | 0.018 | 0.140 | 0.172 | 0.413 | 0.067 | 1996 | Aaron Holiday        |  2039.8 |\n",
       "| Chris Robinson      | 23 | 195.58 |  90.71840 | 1996 | 2 | 51 | 41 |  4.6 | 1.7 | 1.6 | -11.4 | 0.039 | 0.088 | 0.155 | 0.486 | 0.156 | 1996 | Aaron Nesmith        |  1151.1 |\n",
       "| Brian Evans         | 23 | 203.20 |  99.79024 | 1996 | 1 | 27 | 14 |  1.4 | 0.6 | 0.5 | -12.5 | 0.017 | 0.121 | 0.168 | 0.455 | 0.194 | 1996 | Aaron Wiggins        |   891.0 |\n",
       "| Derek Fisher        | 22 | 185.42 |  90.71840 | 1996 | 1 | 24 | 80 |  3.9 | 1.2 | 1.5 |   5.1 | 0.031 | 0.087 | 0.186 | 0.491 | 0.223 | 1996 | Abdel Nader          |   928.9 |\n",
       "| Shandon Anderson    | 23 | 198.12 |  94.34714 | 1996 | 2 | 54 | 65 |  5.9 | 2.8 | 0.8 |   2.5 | 0.065 | 0.139 | 0.193 | 0.534 | 0.074 | 1996 | Acie Law             |   720.7 |\n",
       "| Shareef Abdur-Rahim | 20 | 205.74 | 104.32616 | 1996 | 1 |  3 | 80 | 18.7 | 6.9 | 2.2 | -12.3 | 0.089 | 0.142 | 0.275 | 0.518 | 0.120 | 1996 | Adam Morrison        |  1202.8 |\n",
       "| Samaki Walker       | 21 | 205.74 | 108.86208 | 1996 | 1 |  9 | 43 |  4.9 | 3.4 | 0.4 | -12.6 | 0.094 | 0.198 | 0.201 | 0.485 | 0.050 | 1996 | Admiral Schofield    |   398.8 |\n",
       "| Roy Rogers          | 23 | 208.28 | 106.59412 | 1996 | 1 | 22 | 82 |  6.6 | 4.7 | 0.6 | -13.6 | 0.088 | 0.155 | 0.154 | 0.518 | 0.042 | 1996 | Adonal Foyle         |  2987.1 |\n",
       "| Stephon Marbury     | 20 | 187.96 |  81.64656 | 1996 | 1 |  4 | 67 | 15.8 | 2.7 | 7.8 |  -3.1 | 0.028 | 0.066 | 0.244 | 0.519 | 0.373 | 1996 | Adreian Payne        |   428.4 |\n",
       "| Steve Hamer         | 23 | 213.36 | 111.13004 | 1996 | 2 | 38 | 35 |  2.2 | 1.7 | 0.2 |  -3.1 | 0.065 | 0.181 | 0.126 | 0.545 | 0.037 | 1996 | Al Harrington        | 13236.2 |\n",
       "| Steve Nash          | 23 | 190.50 |  88.45044 | 1996 | 1 | 15 | 65 |  3.3 | 1.0 | 2.1 |  -8.5 | 0.026 | 0.083 | 0.170 | 0.539 | 0.301 | 1996 | Al Horford           | 13603.6 |\n",
       "| Walter McCarty      | 23 | 208.28 | 104.32616 | 1996 | 1 | 19 | 35 |  1.8 | 0.7 | 0.4 |   3.2 | 0.056 | 0.080 | 0.217 | 0.431 | 0.116 | 1996 | Al Jefferson         | 14328.2 |\n",
       "| Vitaly Potapenko    | 22 | 208.28 | 127.00576 | 1996 | 1 | 12 | 80 |  5.8 | 2.7 | 0.5 |  -0.2 | 0.106 | 0.119 | 0.234 | 0.486 | 0.064 | 1996 | Al Thornton          |  3524.0 |\n",
       "| Travis Knight       | 22 | 213.36 | 106.59412 | 1996 | 1 | 29 | 71 |  4.8 | 4.5 | 0.5 |   6.2 | 0.127 | 0.182 | 0.142 | 0.536 | 0.052 | 1996 | Al-Farouq Aminu      |  5343.6 |\n",
       "| Todd Fuller         | 22 | 210.82 | 115.66596 | 1996 | 1 | 11 | 75 |  4.0 | 3.3 | 0.3 |  -8.6 | 0.127 | 0.171 | 0.166 | 0.480 | 0.040 | 1996 | Alando Tucker        |   211.2 |\n",
       "| Tony Delk           | 23 | 187.96 |  85.72889 | 1996 | 1 | 16 | 61 |  5.4 | 1.6 | 1.6 |   0.9 | 0.044 | 0.090 | 0.182 | 0.596 | 0.187 | 1996 | Alec Burks           |  7302.6 |\n",
       "| Lorenzen Wright     | 21 | 210.82 | 108.86208 | 1996 | 1 |  7 | 77 |  7.3 | 6.1 | 0.6 |  -3.7 | 0.120 | 0.168 | 0.146 | 0.503 | 0.039 | 1996 | Alec Peters          |    82.0 |\n",
       "| Malik Rose          | 22 | 200.66 | 113.39800 | 1996 | 2 | 44 | 54 |  3.0 | 3.0 | 0.6 |   1.3 | 0.169 | 0.219 | 0.161 | 0.515 | 0.089 | 1996 | Alekesej Pokusevski  |   463.6 |\n",
       "| Marcus Brown        | 23 | 190.50 |  83.91452 | 1996 | 2 | 46 | 21 |  3.9 | 0.7 | 1.0 |   4.0 | 0.027 | 0.070 | 0.221 | 0.523 | 0.169 | 1996 | Aleksandar Radojevic |    26.1 |\n",
       "| Marcus Camby        | 23 | 210.82 |  99.79024 | 1996 | 1 |  2 | 63 | 14.8 | 6.3 | 1.5 |  -1.5 | 0.079 | 0.165 | 0.241 | 0.523 | 0.092 | 1996 | Aleksej Pokusevski   |   644.4 |\n",
       "| Kerry Kittles       | 23 | 195.58 |  81.19297 | 1996 | 1 |  8 | 82 | 16.4 | 3.9 | 3.0 |  -5.2 | 0.035 | 0.082 | 0.199 | 0.523 | 0.139 | 1996 | Alen Smailagic       |    87.3 |\n",
       "| Kobe Bryant         | 18 | 200.66 |  90.71840 | 1996 | 1 | 13 | 71 |  7.6 | 1.9 | 1.3 |   2.2 | 0.048 | 0.084 | 0.244 | 0.544 | 0.144 | 1996 | Alex Abrines         |   924.8 |\n",
       "| Mark Hendrickson    | 23 | 205.74 |  99.79024 | 1996 | 2 | 31 | 29 |  2.9 | 3.2 | 0.1 |  -5.1 | 0.113 | 0.201 | 0.133 | 0.481 | 0.014 | 1996 | Alex Acker           |    81.5 |\n",
       "| ⋮ | ⋮ | ⋮ | ⋮ | ⋮ | ⋮ | ⋮ | ⋮ | ⋮ | ⋮ | ⋮ | ⋮ | ⋮ | ⋮ | ⋮ | ⋮ | ⋮ | ⋮ | ⋮ | ⋮ |\n",
       "| Alekesej Pokusevski    | 20 | 213.36 |  86.18248 | 2020 | 1 | 17 | 61 |  7.6 | 5.2 | 2.1 |   -2.5 | 0.054 | 0.189 | 0.195 | 0.485 | 0.161 | 2021 | Wendell Carter Jr.  |  3340.3 |\n",
       "| Arnoldas Kulboka       | 24 | 208.28 |  94.80073 | 2018 | 2 | 55 |  2 |  0.0 | 0.0 | 0.0 | -100.0 | 0.000 | 0.000 | 0.071 | 0.000 | 0.000 | 2021 | Wes Iwundu          |   991.3 |\n",
       "| Alperen Sengun         | 19 | 208.28 | 110.22286 | 2021 | 1 | 16 | 72 |  9.6 | 5.5 | 2.6 |  -10.2 | 0.089 | 0.174 | 0.214 | 0.552 | 0.193 | 2021 | Wesley Johnson      |  4236.7 |\n",
       "| Nic Claxton            | 23 | 210.82 |  97.52228 | 2019 | 2 | 31 | 47 |  8.7 | 5.6 | 0.9 |   -0.4 | 0.098 | 0.157 | 0.150 | 0.672 | 0.066 | 2021 | Will Barton         |  7630.9 |\n",
       "| Moses Moody            | 20 | 195.58 |  95.70791 | 2021 | 1 | 14 | 52 |  4.4 | 1.5 | 0.4 |   -4.0 | 0.028 | 0.098 | 0.148 | 0.573 | 0.056 | 2021 | Will Blalock        |    25.2 |\n",
       "| Neemias Queta          | 22 | 213.36 | 112.49082 | 2021 | 2 | 39 | 15 |  3.0 | 2.1 | 0.4 |   -4.1 | 0.104 | 0.144 | 0.176 | 0.495 | 0.076 | 2021 | Will Solomon        |   587.4 |\n",
       "| Petr Cornelie          | 26 | 210.82 |  99.79024 | 2016 | 2 | 53 | 13 |  1.1 | 1.1 | 0.2 |    5.8 | 0.159 | 0.219 | 0.208 | 0.418 | 0.115 | 2021 | William Avery       |   377.4 |\n",
       "| Quentin Grimes         | 22 | 193.04 |  95.25432 | 2021 | 1 | 25 | 46 |  6.0 | 2.0 | 1.0 |   -3.0 | 0.028 | 0.085 | 0.149 | 0.565 | 0.095 | 2021 | Willie Cauley-Stein |  3671.5 |\n",
       "| Luka Garza             | 23 | 208.28 | 110.22286 | 2021 | 2 | 52 | 32 |  5.8 | 3.1 | 0.6 |   -6.3 | 0.130 | 0.116 | 0.195 | 0.535 | 0.086 | 2021 | Willie Green        |  6060.1 |\n",
       "| Leandro Bolmaro        | 21 | 198.12 |  90.71840 | 2020 | 1 | 23 | 35 |  1.4 | 1.2 | 0.6 |    0.2 | 0.062 | 0.107 | 0.122 | 0.419 | 0.118 | 2021 | Willie Warren       |    36.1 |\n",
       "| Jeremiah Robinson-Earl | 21 | 203.20 | 109.76926 | 2021 | 2 | 32 | 49 |  7.5 | 5.6 | 1.0 |   -9.8 | 0.061 | 0.172 | 0.152 | 0.526 | 0.069 | 2021 | Willy Hernangomez   |  2531.5 |\n",
       "| Miles McBride          | 21 | 185.42 |  88.45044 | 2021 | 2 | 36 | 40 |  2.2 | 1.1 | 1.0 |   13.0 | 0.011 | 0.097 | 0.137 | 0.393 | 0.159 | 2021 | Wilson Chandler     |  8461.2 |\n",
       "| Marko Simonovic        | 22 | 210.82 |  99.79024 | 2020 | 2 | 44 |  9 |  1.9 | 1.1 | 0.0 |    1.2 | 0.122 | 0.119 | 0.247 | 0.428 | 0.000 | 2021 | Xavier Henry        |  1046.7 |\n",
       "| Kai Jones              | 21 | 208.28 | 100.24383 | 2021 | 1 | 19 | 21 |  1.0 | 0.5 | 0.2 |  -11.1 | 0.045 | 0.114 | 0.150 | 0.628 | 0.103 | 2021 | Xavier Tillman      |   816.4 |\n",
       "| Keon Johnson           | 20 | 193.04 |  83.91452 | 2021 | 1 | 21 | 37 |  7.2 | 2.2 | 2.1 |  -19.0 | 0.031 | 0.083 | 0.207 | 0.453 | 0.174 | 2021 | Xavier Tillman Sr.  |   254.4 |\n",
       "| Kessler Edwards        | 21 | 200.66 |  92.07918 | 2021 | 2 | 44 | 48 |  5.9 | 3.6 | 0.6 |   -3.3 | 0.043 | 0.124 | 0.132 | 0.516 | 0.040 | 2021 | Yao Ming            |  9255.0 |\n",
       "| Joe Wieskamp           | 22 | 198.12 |  92.98636 | 2021 | 2 | 41 | 29 |  2.1 | 0.5 | 0.3 |    1.5 | 0.017 | 0.045 | 0.129 | 0.494 | 0.065 | 2021 | Yaroslav Korolev    |    38.4 |\n",
       "| Jericho Sims           | 23 | 205.74 | 113.39800 | 2021 | 2 | 58 | 41 |  2.2 | 4.1 | 0.5 |    6.5 | 0.108 | 0.187 | 0.068 | 0.674 | 0.054 | 2021 | Yi Jianlian         |  2147.0 |\n",
       "| Jonathan Kuminga       | 19 | 200.66 | 102.05820 | 2021 | 1 |  7 | 70 |  9.3 | 3.3 | 0.9 |    1.9 | 0.047 | 0.139 | 0.227 | 0.600 | 0.087 | 2021 | Zach Collins        |  1824.8 |\n",
       "| Josh Giddey            | 19 | 203.20 |  92.98636 | 2021 | 1 |  6 | 54 | 12.5 | 7.8 | 6.4 |   -8.3 | 0.052 | 0.175 | 0.218 | 0.478 | 0.325 | 2021 | Zach LaVine         | 11371.5 |\n",
       "| Josh Christopher       | 20 | 190.50 |  97.52228 | 2021 | 1 | 24 | 74 |  7.9 | 2.5 | 2.0 |   -9.2 | 0.037 | 0.103 | 0.205 | 0.534 | 0.170 | 2021 | Zach Randolph       | 18580.7 |\n",
       "| Joshua Primo           | 19 | 193.04 |  85.72889 | 2021 | 1 | 12 | 50 |  5.8 | 2.3 | 1.6 |   -3.3 | 0.031 | 0.079 | 0.152 | 0.487 | 0.111 | 2021 | Zarko Cabarkapa     |   642.2 |\n",
       "| Sharife Cooper         | 21 | 185.42 |  79.83219 | 2021 | 2 | 48 | 13 |  0.5 | 0.4 | 0.4 |  -43.9 | 0.000 | 0.147 | 0.202 | 0.250 | 0.313 | 2021 | Zaza Pachulia       |  7418.9 |\n",
       "| Sandro Mamukelashvili  | 23 | 205.74 | 108.86208 | 2021 | 2 | 54 | 41 |  3.8 | 2.0 | 0.5 |  -17.6 | 0.079 | 0.116 | 0.142 | 0.618 | 0.084 | 2021 | Zeke Nnaji          |   680.6 |\n",
       "| Santi Aldama           | 21 | 210.82 |  97.52228 | 2021 | 1 | 30 | 32 |  4.1 | 2.7 | 0.7 |    1.3 | 0.077 | 0.150 | 0.174 | 0.452 | 0.080 | 2021 | Zhaire Smith        |    47.9 |\n",
       "| Scottie Barnes         | 20 | 200.66 | 102.05820 | 2021 | 1 |  4 | 74 | 15.3 | 7.5 | 3.5 |    1.8 | 0.068 | 0.141 | 0.187 | 0.552 | 0.150 | 2021 | Zhou Qi             |    23.6 |\n",
       "| Scottie Lewis          | 22 | 195.58 |  83.91452 | 2021 | 2 | 56 |  2 |  0.5 | 0.0 | 0.5 |  -11.8 | 0.000 | 0.000 | 0.059 | 0.568 | 0.200 | 2021 | Ziaire Williams     |   713.1 |\n",
       "| Scotty Hopson          | 32 | 200.66 |  92.53277 | 2011 | 0 |  0 |  1 |  4.0 | 1.0 | 1.0 |  -18.4 | 0.000 | 0.043 | 0.143 | 0.500 | 0.091 | 2021 | Zion Williamson     |  2941.0 |\n",
       "| Tre Mann               | 21 | 190.50 |  80.73938 | 2021 | 1 | 18 | 60 | 10.4 | 2.9 | 1.5 |  -10.3 | 0.017 | 0.101 | 0.213 | 0.501 | 0.108 | 2021 | Zoran Planinic      |   557.3 |\n",
       "| Trey Murphy III        | 22 | 203.20 |  93.43995 | 2021 | 1 | 17 | 62 |  5.4 | 2.4 | 0.6 |    0.3 | 0.049 | 0.122 | 0.147 | 0.558 | 0.065 | 2021 | Zydrunas Ilgauskas  | 10981.9 |\n",
       "\n"
      ],
      "text/plain": [
       "     player_name            age player_height player_weight draft_year\n",
       "1    Randy Livingston       22  193.04         94.80073     1996      \n",
       "2    Erick Dampier          21  210.82        120.20188     1996      \n",
       "3    Jerome Williams        24  205.74         93.43995     1996      \n",
       "4    John Wallace           23  205.74        102.05820     1996      \n",
       "5    Jermaine O'Neal        18  210.82        102.51179     1996      \n",
       "6    Jeff McInnis           22  193.04         86.18248     1996      \n",
       "7    Jamie Feick            22  203.20        115.66596     1996      \n",
       "8    Jason Sasser           23  200.66        102.05820     1996      \n",
       "9    Chris Robinson         23  195.58         90.71840     1996      \n",
       "10   Brian Evans            23  203.20         99.79024     1996      \n",
       "11   Derek Fisher           22  185.42         90.71840     1996      \n",
       "12   Shandon Anderson       23  198.12         94.34714     1996      \n",
       "13   Shareef Abdur-Rahim    20  205.74        104.32616     1996      \n",
       "14   Samaki Walker          21  205.74        108.86208     1996      \n",
       "15   Roy Rogers             23  208.28        106.59412     1996      \n",
       "16   Stephon Marbury        20  187.96         81.64656     1996      \n",
       "17   Steve Hamer            23  213.36        111.13004     1996      \n",
       "18   Steve Nash             23  190.50         88.45044     1996      \n",
       "19   Walter McCarty         23  208.28        104.32616     1996      \n",
       "20   Vitaly Potapenko       22  208.28        127.00576     1996      \n",
       "21   Travis Knight          22  213.36        106.59412     1996      \n",
       "22   Todd Fuller            22  210.82        115.66596     1996      \n",
       "23   Tony Delk              23  187.96         85.72889     1996      \n",
       "24   Lorenzen Wright        21  210.82        108.86208     1996      \n",
       "25   Malik Rose             22  200.66        113.39800     1996      \n",
       "26   Marcus Brown           23  190.50         83.91452     1996      \n",
       "27   Marcus Camby           23  210.82         99.79024     1996      \n",
       "28   Kerry Kittles          23  195.58         81.19297     1996      \n",
       "29   Kobe Bryant            18  200.66         90.71840     1996      \n",
       "30   Mark Hendrickson       23  205.74         99.79024     1996      \n",
       "⋮    ⋮                      ⋮   ⋮             ⋮             ⋮         \n",
       "1317 Alekesej Pokusevski    20  213.36         86.18248     2020      \n",
       "1318 Arnoldas Kulboka       24  208.28         94.80073     2018      \n",
       "1319 Alperen Sengun         19  208.28        110.22286     2021      \n",
       "1320 Nic Claxton            23  210.82         97.52228     2019      \n",
       "1321 Moses Moody            20  195.58         95.70791     2021      \n",
       "1322 Neemias Queta          22  213.36        112.49082     2021      \n",
       "1323 Petr Cornelie          26  210.82         99.79024     2016      \n",
       "1324 Quentin Grimes         22  193.04         95.25432     2021      \n",
       "1325 Luka Garza             23  208.28        110.22286     2021      \n",
       "1326 Leandro Bolmaro        21  198.12         90.71840     2020      \n",
       "1327 Jeremiah Robinson-Earl 21  203.20        109.76926     2021      \n",
       "1328 Miles McBride          21  185.42         88.45044     2021      \n",
       "1329 Marko Simonovic        22  210.82         99.79024     2020      \n",
       "1330 Kai Jones              21  208.28        100.24383     2021      \n",
       "1331 Keon Johnson           20  193.04         83.91452     2021      \n",
       "1332 Kessler Edwards        21  200.66         92.07918     2021      \n",
       "1333 Joe Wieskamp           22  198.12         92.98636     2021      \n",
       "1334 Jericho Sims           23  205.74        113.39800     2021      \n",
       "1335 Jonathan Kuminga       19  200.66        102.05820     2021      \n",
       "1336 Josh Giddey            19  203.20         92.98636     2021      \n",
       "1337 Josh Christopher       20  190.50         97.52228     2021      \n",
       "1338 Joshua Primo           19  193.04         85.72889     2021      \n",
       "1339 Sharife Cooper         21  185.42         79.83219     2021      \n",
       "1340 Sandro Mamukelashvili  23  205.74        108.86208     2021      \n",
       "1341 Santi Aldama           21  210.82         97.52228     2021      \n",
       "1342 Scottie Barnes         20  200.66        102.05820     2021      \n",
       "1343 Scottie Lewis          22  195.58         83.91452     2021      \n",
       "1344 Scotty Hopson          32  200.66         92.53277     2011      \n",
       "1345 Tre Mann               21  190.50         80.73938     2021      \n",
       "1346 Trey Murphy III        22  203.20         93.43995     2021      \n",
       "     draft_round draft_number gp pts  reb ast net_rating oreb_pct dreb_pct\n",
       "1    2           42           64  3.9 1.5 2.4   0.3      0.042    0.071   \n",
       "2    1           10           72  5.1 4.1 0.6  -2.0      0.107    0.216   \n",
       "3    1           26           33  1.5 1.5 0.2   3.0      0.144    0.182   \n",
       "4    1           18           68  4.8 2.3 0.5   2.7      0.080    0.148   \n",
       "5    1           17           45  4.1 2.8 0.2   1.3      0.099    0.198   \n",
       "6    2           37           13  5.0 0.5 1.4 -17.8      0.021    0.040   \n",
       "7    2           48           41  3.7 5.2 0.6 -12.2      0.133    0.253   \n",
       "8    2           41            8  2.4 1.0 0.3 -24.2      0.018    0.140   \n",
       "9    2           51           41  4.6 1.7 1.6 -11.4      0.039    0.088   \n",
       "10   1           27           14  1.4 0.6 0.5 -12.5      0.017    0.121   \n",
       "11   1           24           80  3.9 1.2 1.5   5.1      0.031    0.087   \n",
       "12   2           54           65  5.9 2.8 0.8   2.5      0.065    0.139   \n",
       "13   1            3           80 18.7 6.9 2.2 -12.3      0.089    0.142   \n",
       "14   1            9           43  4.9 3.4 0.4 -12.6      0.094    0.198   \n",
       "15   1           22           82  6.6 4.7 0.6 -13.6      0.088    0.155   \n",
       "16   1            4           67 15.8 2.7 7.8  -3.1      0.028    0.066   \n",
       "17   2           38           35  2.2 1.7 0.2  -3.1      0.065    0.181   \n",
       "18   1           15           65  3.3 1.0 2.1  -8.5      0.026    0.083   \n",
       "19   1           19           35  1.8 0.7 0.4   3.2      0.056    0.080   \n",
       "20   1           12           80  5.8 2.7 0.5  -0.2      0.106    0.119   \n",
       "21   1           29           71  4.8 4.5 0.5   6.2      0.127    0.182   \n",
       "22   1           11           75  4.0 3.3 0.3  -8.6      0.127    0.171   \n",
       "23   1           16           61  5.4 1.6 1.6   0.9      0.044    0.090   \n",
       "24   1            7           77  7.3 6.1 0.6  -3.7      0.120    0.168   \n",
       "25   2           44           54  3.0 3.0 0.6   1.3      0.169    0.219   \n",
       "26   2           46           21  3.9 0.7 1.0   4.0      0.027    0.070   \n",
       "27   1            2           63 14.8 6.3 1.5  -1.5      0.079    0.165   \n",
       "28   1            8           82 16.4 3.9 3.0  -5.2      0.035    0.082   \n",
       "29   1           13           71  7.6 1.9 1.3   2.2      0.048    0.084   \n",
       "30   2           31           29  2.9 3.2 0.1  -5.1      0.113    0.201   \n",
       "⋮    ⋮           ⋮            ⋮  ⋮    ⋮   ⋮   ⋮          ⋮        ⋮       \n",
       "1317 1           17           61  7.6 5.2 2.1   -2.5     0.054    0.189   \n",
       "1318 2           55            2  0.0 0.0 0.0 -100.0     0.000    0.000   \n",
       "1319 1           16           72  9.6 5.5 2.6  -10.2     0.089    0.174   \n",
       "1320 2           31           47  8.7 5.6 0.9   -0.4     0.098    0.157   \n",
       "1321 1           14           52  4.4 1.5 0.4   -4.0     0.028    0.098   \n",
       "1322 2           39           15  3.0 2.1 0.4   -4.1     0.104    0.144   \n",
       "1323 2           53           13  1.1 1.1 0.2    5.8     0.159    0.219   \n",
       "1324 1           25           46  6.0 2.0 1.0   -3.0     0.028    0.085   \n",
       "1325 2           52           32  5.8 3.1 0.6   -6.3     0.130    0.116   \n",
       "1326 1           23           35  1.4 1.2 0.6    0.2     0.062    0.107   \n",
       "1327 2           32           49  7.5 5.6 1.0   -9.8     0.061    0.172   \n",
       "1328 2           36           40  2.2 1.1 1.0   13.0     0.011    0.097   \n",
       "1329 2           44            9  1.9 1.1 0.0    1.2     0.122    0.119   \n",
       "1330 1           19           21  1.0 0.5 0.2  -11.1     0.045    0.114   \n",
       "1331 1           21           37  7.2 2.2 2.1  -19.0     0.031    0.083   \n",
       "1332 2           44           48  5.9 3.6 0.6   -3.3     0.043    0.124   \n",
       "1333 2           41           29  2.1 0.5 0.3    1.5     0.017    0.045   \n",
       "1334 2           58           41  2.2 4.1 0.5    6.5     0.108    0.187   \n",
       "1335 1            7           70  9.3 3.3 0.9    1.9     0.047    0.139   \n",
       "1336 1            6           54 12.5 7.8 6.4   -8.3     0.052    0.175   \n",
       "1337 1           24           74  7.9 2.5 2.0   -9.2     0.037    0.103   \n",
       "1338 1           12           50  5.8 2.3 1.6   -3.3     0.031    0.079   \n",
       "1339 2           48           13  0.5 0.4 0.4  -43.9     0.000    0.147   \n",
       "1340 2           54           41  3.8 2.0 0.5  -17.6     0.079    0.116   \n",
       "1341 1           30           32  4.1 2.7 0.7    1.3     0.077    0.150   \n",
       "1342 1            4           74 15.3 7.5 3.5    1.8     0.068    0.141   \n",
       "1343 2           56            2  0.5 0.0 0.5  -11.8     0.000    0.000   \n",
       "1344 0            0            1  4.0 1.0 1.0  -18.4     0.000    0.043   \n",
       "1345 1           18           60 10.4 2.9 1.5  -10.3     0.017    0.101   \n",
       "1346 1           17           62  5.4 2.4 0.6    0.3     0.049    0.122   \n",
       "     usg_pct ts_pct ast_pct season_start player_name          total_points\n",
       "1    0.169   0.487  0.248   1996         A.J. Bramlett            8.0     \n",
       "2    0.218   0.451  0.074   1996         A.J. Guyton            441.0     \n",
       "3    0.181   0.419  0.071   1996         AJ Hammons              48.4     \n",
       "4    0.204   0.571  0.081   1996         AJ Price              1521.7     \n",
       "5    0.199   0.494  0.030   1996         Aaron Brooks          6263.7     \n",
       "6    0.259   0.609  0.327   1996         Aaron Gordon          7993.0     \n",
       "7    0.150   0.405  0.065   1996         Aaron Gray            1066.3     \n",
       "8    0.172   0.413  0.067   1996         Aaron Holiday         2039.8     \n",
       "9    0.155   0.486  0.156   1996         Aaron Nesmith         1151.1     \n",
       "10   0.168   0.455  0.194   1996         Aaron Wiggins          891.0     \n",
       "11   0.186   0.491  0.223   1996         Abdel Nader            928.9     \n",
       "12   0.193   0.534  0.074   1996         Acie Law               720.7     \n",
       "13   0.275   0.518  0.120   1996         Adam Morrison         1202.8     \n",
       "14   0.201   0.485  0.050   1996         Admiral Schofield      398.8     \n",
       "15   0.154   0.518  0.042   1996         Adonal Foyle          2987.1     \n",
       "16   0.244   0.519  0.373   1996         Adreian Payne          428.4     \n",
       "17   0.126   0.545  0.037   1996         Al Harrington        13236.2     \n",
       "18   0.170   0.539  0.301   1996         Al Horford           13603.6     \n",
       "19   0.217   0.431  0.116   1996         Al Jefferson         14328.2     \n",
       "20   0.234   0.486  0.064   1996         Al Thornton           3524.0     \n",
       "21   0.142   0.536  0.052   1996         Al-Farouq Aminu       5343.6     \n",
       "22   0.166   0.480  0.040   1996         Alando Tucker          211.2     \n",
       "23   0.182   0.596  0.187   1996         Alec Burks            7302.6     \n",
       "24   0.146   0.503  0.039   1996         Alec Peters             82.0     \n",
       "25   0.161   0.515  0.089   1996         Alekesej Pokusevski    463.6     \n",
       "26   0.221   0.523  0.169   1996         Aleksandar Radojevic    26.1     \n",
       "27   0.241   0.523  0.092   1996         Aleksej Pokusevski     644.4     \n",
       "28   0.199   0.523  0.139   1996         Alen Smailagic          87.3     \n",
       "29   0.244   0.544  0.144   1996         Alex Abrines           924.8     \n",
       "30   0.133   0.481  0.014   1996         Alex Acker              81.5     \n",
       "⋮    ⋮       ⋮      ⋮       ⋮            ⋮                    ⋮           \n",
       "1317 0.195   0.485  0.161   2021         Wendell Carter Jr.    3340.3     \n",
       "1318 0.071   0.000  0.000   2021         Wes Iwundu             991.3     \n",
       "1319 0.214   0.552  0.193   2021         Wesley Johnson        4236.7     \n",
       "1320 0.150   0.672  0.066   2021         Will Barton           7630.9     \n",
       "1321 0.148   0.573  0.056   2021         Will Blalock            25.2     \n",
       "1322 0.176   0.495  0.076   2021         Will Solomon           587.4     \n",
       "1323 0.208   0.418  0.115   2021         William Avery          377.4     \n",
       "1324 0.149   0.565  0.095   2021         Willie Cauley-Stein   3671.5     \n",
       "1325 0.195   0.535  0.086   2021         Willie Green          6060.1     \n",
       "1326 0.122   0.419  0.118   2021         Willie Warren           36.1     \n",
       "1327 0.152   0.526  0.069   2021         Willy Hernangomez     2531.5     \n",
       "1328 0.137   0.393  0.159   2021         Wilson Chandler       8461.2     \n",
       "1329 0.247   0.428  0.000   2021         Xavier Henry          1046.7     \n",
       "1330 0.150   0.628  0.103   2021         Xavier Tillman         816.4     \n",
       "1331 0.207   0.453  0.174   2021         Xavier Tillman Sr.     254.4     \n",
       "1332 0.132   0.516  0.040   2021         Yao Ming              9255.0     \n",
       "1333 0.129   0.494  0.065   2021         Yaroslav Korolev        38.4     \n",
       "1334 0.068   0.674  0.054   2021         Yi Jianlian           2147.0     \n",
       "1335 0.227   0.600  0.087   2021         Zach Collins          1824.8     \n",
       "1336 0.218   0.478  0.325   2021         Zach LaVine          11371.5     \n",
       "1337 0.205   0.534  0.170   2021         Zach Randolph        18580.7     \n",
       "1338 0.152   0.487  0.111   2021         Zarko Cabarkapa        642.2     \n",
       "1339 0.202   0.250  0.313   2021         Zaza Pachulia         7418.9     \n",
       "1340 0.142   0.618  0.084   2021         Zeke Nnaji             680.6     \n",
       "1341 0.174   0.452  0.080   2021         Zhaire Smith            47.9     \n",
       "1342 0.187   0.552  0.150   2021         Zhou Qi                 23.6     \n",
       "1343 0.059   0.568  0.200   2021         Ziaire Williams        713.1     \n",
       "1344 0.143   0.500  0.091   2021         Zion Williamson       2941.0     \n",
       "1345 0.213   0.501  0.108   2021         Zoran Planinic         557.3     \n",
       "1346 0.147   0.558  0.065   2021         Zydrunas Ilgauskas   10981.9     "
      ]
     },
     "metadata": {},
     "output_type": "display_data"
    }
   ],
   "source": [
    "# finding career points of nba players drafted between 1996 and 2021 (inclusive)\n",
    "nba_total_points <- nba_non_rookies_data |>\n",
    "    group_by(player_name) |>\n",
    "    summarize(\"total_points\" = sum(pts*gp))\n",
    "\n",
    "nrow(nba_total_points)\n",
    "nba_training_labelled <- cbind(nba_training, nba_total_points)\n",
    "nba_training_labelled\n",
    "\n",
    "# new problem is that the players are sorted alphabetically in total points but chronologically in nba_training\n",
    "# to solve this issue, we must sort nba_training alphabetically and then cbind\n",
    "options(repr.plot.width = 10, repr.plot.height = 8)"
   ]
  },
  {
   "cell_type": "markdown",
   "id": "32c615fa-e589-4c2e-b508-1a3c173482cb",
   "metadata": {
    "tags": []
   },
   "source": [
    "## Discussion ##\n",
    "Prompts\n",
    "- summarize what you found\n",
    "- discuss whether this is what you expected to find?\n",
    "- discuss what impact could such findings have?\n",
    "- discuss what future questions could this lead to?"
   ]
  },
  {
   "cell_type": "markdown",
   "id": "f9eabae1-f823-47b7-ba3c-35c8c0bad0bb",
   "metadata": {
    "tags": []
   },
   "source": [
    "Response from expected outcomes and significance in project proposal\n",
    "- We are trying to find the total points that a player may score at the end of his career based on other players' previous performance including points per game, games played, heights, weights, true shooting percentage and their usage percentage. \n",
    "\n",
    "- NBA teams could use this predicted score to identify whether a rookie player has potential or not. Also, it may be a useful index to determine a player's future trajectory. \n",
    "\n",
    "- This prediction model does not account for injuries and other factors. The player could improve significantly over the years and thus their rookie year statistics may not be helpful in predicting how they will perform in the future. Future questions we can also explore would be how their attributes and rookie statistics can predict other measures of performance such as assists, rebounds, etc. This way we can have a better description and prediction of their future career, not just in terms of points."
   ]
  },
  {
   "cell_type": "markdown",
   "id": "376849d5-6f03-4d3b-9e3e-2809ec7deda6",
   "metadata": {},
   "source": [
    "## References ##\n"
   ]
  },
  {
   "cell_type": "markdown",
   "id": "4546217a-c380-4502-8cf2-4a48a9a12117",
   "metadata": {},
   "source": []
  }
 ],
 "metadata": {
  "kernelspec": {
   "display_name": "R",
   "language": "R",
   "name": "ir"
  },
  "language_info": {
   "codemirror_mode": "r",
   "file_extension": ".r",
   "mimetype": "text/x-r-source",
   "name": "R",
   "pygments_lexer": "r",
   "version": "4.2.2"
  },
  "widgets": {
   "application/vnd.jupyter.widget-state+json": {
    "state": {},
    "version_major": 2,
    "version_minor": 0
   }
  }
 },
 "nbformat": 4,
 "nbformat_minor": 5
}
